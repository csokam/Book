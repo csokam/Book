{
 "cells": [
  {
   "cell_type": "markdown",
   "metadata": {},
   "source": [
    "# Fokozatos kitöltés\n",
    "\n",
    "Véletlen számokat sokféleképp lehet használni. Ebben az esetben <code>random.random()</code> segítségével 0,1 közötti számot fogunk generálni és azt egy változóhoz viszonyítani, aminek az értékét fokozatosan növeljük.\n",
    "\n",
    "<b>Forrás: </b>{cite:p}`reas`"
   ]
  },
  {
   "cell_type": "code",
   "execution_count": 32,
   "metadata": {},
   "outputs": [],
   "source": [
    "from PIL import Image, ImageDraw\n",
    "import random"
   ]
  },
  {
   "cell_type": "code",
   "execution_count": 33,
   "metadata": {},
   "outputs": [],
   "source": [
    "image_width = 800\n",
    "image_height = 500\n",
    "tile = 10\n",
    "\n",
    "image = Image.new(\"RGB\", (image_width, image_height))\n",
    "draw = ImageDraw.Draw(image)"
   ]
  },
  {
   "cell_type": "code",
   "execution_count": 34,
   "metadata": {},
   "outputs": [],
   "source": [
    "def resetImage(width, height, bg):\n",
    "    draw.rectangle([0,0,width,height],fill=bg)"
   ]
  },
  {
   "cell_type": "code",
   "execution_count": 35,
   "metadata": {},
   "outputs": [
    {
     "data": {
      "image/png": "[encoded data removed]",
      "text/plain": [
       "<PIL.Image.Image image mode=RGB size=800x500>"
      ]
     },
     "metadata": {},
     "output_type": "display_data"
    }
   ],
   "source": [
    "resetImage(image_width,image_height,\"white\")\n",
    "\n",
    "threshold = 0.01\n",
    "\n",
    "for i in range (0,image_width,tile):\n",
    "    for j in range (0,image_height, tile):\n",
    "        r = random.random()        \n",
    "        if r < threshold:\n",
    "            draw.rectangle([i,j,i+tile,j+tile],fill=\"red\")\n",
    "        else:\n",
    "            draw.rectangle([i,j,i+tile,j+tile],fill=\"white\")\n",
    "    threshold+=0.01\n",
    "\n",
    "display(image)"
   ]
  }
 ],
 "metadata": {
  "kernelspec": {
   "display_name": "Python 3",
   "language": "python",
   "name": "python3"
  },
  "language_info": {
   "codemirror_mode": {
    "name": "ipython",
    "version": 3
   },
   "file_extension": ".py",
   "mimetype": "text/x-python",
   "name": "python",
   "nbconvert_exporter": "python",
   "pygments_lexer": "ipython3",
   "version": "3.10.6"
  }
 },
 "nbformat": 4,
 "nbformat_minor": 2
}
