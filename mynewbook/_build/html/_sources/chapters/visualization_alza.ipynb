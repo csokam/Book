{
 "cells": [
  {
   "cell_type": "markdown",
   "metadata": {},
   "source": [
    "# Webshop termékeinek vizualizálása\n",
    "\n",
    "Ebbe a fejezetben a választott webshopból korábban begyűjtött adatokat fogjuk elemezni."
   ]
  },
  {
   "cell_type": "markdown",
   "metadata": {},
   "source": [
    "## Szükséges könyvtárak letöltése, importálása"
   ]
  },
  {
   "cell_type": "code",
   "execution_count": 1,
   "metadata": {},
   "outputs": [],
   "source": [
    "# %pip install pandas\n",
    "# %pip install matplotlib\n",
    "# %pip install plotly\n",
    "# %pip install kaleido==0.1.0post1"
   ]
  },
  {
   "cell_type": "code",
   "execution_count": 2,
   "metadata": {},
   "outputs": [],
   "source": [
    "import pandas as pd\n",
    "import matplotlib.pyplot as plt\n",
    "import plotly.express as px\n",
    "from IPython.display import Image"
   ]
  },
  {
   "cell_type": "markdown",
   "metadata": {},
   "source": [
    "## Adatok betöltése"
   ]
  },
  {
   "cell_type": "code",
   "execution_count": 3,
   "metadata": {},
   "outputs": [
    {
     "data": {
      "text/html": [
       "<div>\n",
       "<style scoped>\n",
       "    .dataframe tbody tr th:only-of-type {\n",
       "        vertical-align: middle;\n",
       "    }\n",
       "\n",
       "    .dataframe tbody tr th {\n",
       "        vertical-align: top;\n",
       "    }\n",
       "\n",
       "    .dataframe thead th {\n",
       "        text-align: right;\n",
       "    }\n",
       "</style>\n",
       "<table border=\"1\" class=\"dataframe\">\n",
       "  <thead>\n",
       "    <tr style=\"text-align: right;\">\n",
       "      <th></th>\n",
       "      <th>item</th>\n",
       "      <th>url</th>\n",
       "      <th>description</th>\n",
       "      <th>price</th>\n",
       "    </tr>\n",
       "  </thead>\n",
       "  <tbody>\n",
       "    <tr>\n",
       "      <th>0</th>\n",
       "      <td>23,8\" Rapture VIDE IFF24144</td>\n",
       "      <td>https://www.alza.sk/23-8-rapture-vide-iff24144...</td>\n",
       "      <td>LCD monitor - uhlopriečka 23,8“ (60,45 cm), Fu...</td>\n",
       "      <td>143,89 €</td>\n",
       "    </tr>\n",
       "    <tr>\n",
       "      <th>1</th>\n",
       "      <td>34\" AOC CU34G2X/BK Gaming</td>\n",
       "      <td>https://www.alza.sk/34-aoc-cu34g2x-bk-gaming-d...</td>\n",
       "      <td>LCD monitor prehnutý, Ultra Wide QHD 3440 × 14...</td>\n",
       "      <td>351,16 €</td>\n",
       "    </tr>\n",
       "    <tr>\n",
       "      <th>2</th>\n",
       "      <td>34\" Philips 346P1CRH</td>\n",
       "      <td>https://www.alza.sk/34-philips-346p1crh-d61333...</td>\n",
       "      <td>LCD monitor prehnutý, Ultra Wide QHD 3440 × 14...</td>\n",
       "      <td>597,40 €</td>\n",
       "    </tr>\n",
       "    <tr>\n",
       "      <th>3</th>\n",
       "      <td>49\" Philips 499P9H</td>\n",
       "      <td>https://www.alza.sk/49-philips-499p9h-d5547590...</td>\n",
       "      <td>LCD monitor prehnutý, Dual QHD 5120 × 1440, VA...</td>\n",
       "      <td>915,62 €</td>\n",
       "    </tr>\n",
       "    <tr>\n",
       "      <th>4</th>\n",
       "      <td>24\" Philips 243V7QJABF</td>\n",
       "      <td>https://www.alza.sk/24-philips-243v7qdjabf-d51...</td>\n",
       "      <td>LCD monitor Full HD 1920×1080, IPS, 16:9 širok...</td>\n",
       "      <td>86,90 €</td>\n",
       "    </tr>\n",
       "    <tr>\n",
       "      <th>5</th>\n",
       "      <td>27\" AOC C27G2ZE/BK Gaming</td>\n",
       "      <td>https://www.alza.sk/27-aoc-c27g2zebk-gaming-d6...</td>\n",
       "      <td>LCD monitor prehnutý, Full HD 1920×1080, VA, 1...</td>\n",
       "      <td>196,90 €</td>\n",
       "    </tr>\n",
       "    <tr>\n",
       "      <th>6</th>\n",
       "      <td>24\" BenQ GW2480</td>\n",
       "      <td>https://www.alza.sk/24-benq-gw2480-d5100547.htm</td>\n",
       "      <td>LCD monitor Full HD 1920×1080, IPS, 5 ms, 60Hz...</td>\n",
       "      <td>109,76 €</td>\n",
       "    </tr>\n",
       "    <tr>\n",
       "      <th>7</th>\n",
       "      <td>28\" Samsung U28R550</td>\n",
       "      <td>https://www.alza.sk/28-samsung-u28r550-d573077...</td>\n",
       "      <td>LCD monitor 4K 3840 × 2160, IPS, 16:9 širokouh...</td>\n",
       "      <td>239,90 €</td>\n",
       "    </tr>\n",
       "    <tr>\n",
       "      <th>8</th>\n",
       "      <td>27\" GIGABYTE M27Q</td>\n",
       "      <td>https://www.alza.sk/27-gigabyte-m27q-d6237997.htm</td>\n",
       "      <td>LCD monitor Quad HD 2560×1440, IPS, 16:9 širok...</td>\n",
       "      <td>309 €</td>\n",
       "    </tr>\n",
       "    <tr>\n",
       "      <th>9</th>\n",
       "      <td>27\" Dell S2721HN Style</td>\n",
       "      <td>https://www.alza.sk/27-dell-s2721hn-d6153043.htm</td>\n",
       "      <td>LCD monitor Full HD 1920×1080, IPS, 16:9 širok...</td>\n",
       "      <td>119,90 €</td>\n",
       "    </tr>\n",
       "    <tr>\n",
       "      <th>10</th>\n",
       "      <td>ASUS ProArt PA329C</td>\n",
       "      <td>https://www.alza.sk/asus-proart-pa329c-d568409...</td>\n",
       "      <td>LCD monitor 4K 3840 × 2160, IPS, 16:9 širokouh...</td>\n",
       "      <td>769 €</td>\n",
       "    </tr>\n",
       "    <tr>\n",
       "      <th>11</th>\n",
       "      <td>27\" Dell S2721H Style</td>\n",
       "      <td>https://www.alza.sk/27-dell-s2721h-d6158324.htm</td>\n",
       "      <td>LCD monitor Full HD 1920×1080, IPS, 16:9 širok...</td>\n",
       "      <td>155,90 €</td>\n",
       "    </tr>\n",
       "    <tr>\n",
       "      <th>12</th>\n",
       "      <td>23,8\" Dell S2421H Style</td>\n",
       "      <td>https://www.alza.sk/23-8-dell-s2421h-d6158322.htm</td>\n",
       "      <td>LCD monitor Full HD 1920×1080, IPS, 16:9 širok...</td>\n",
       "      <td>122,90 €</td>\n",
       "    </tr>\n",
       "    <tr>\n",
       "      <th>13</th>\n",
       "      <td>24\" AOC C24G2AE/BK Gaming</td>\n",
       "      <td>https://www.alza.sk/24-aoc-c24g2aebk-gaming-d6...</td>\n",
       "      <td>LCD monitor prehnutý, Full HD 1920×1080, VA, 1...</td>\n",
       "      <td>147,85 €</td>\n",
       "    </tr>\n",
       "    <tr>\n",
       "      <th>14</th>\n",
       "      <td>32\" AOC C32G2ZE/BK Gaming</td>\n",
       "      <td>https://www.alza.sk/32-aoc-c32g2zebk-gaming-d6...</td>\n",
       "      <td>LCD monitor prehnutý, Full HD 1920×1080, VA, 1...</td>\n",
       "      <td>233 €</td>\n",
       "    </tr>\n",
       "    <tr>\n",
       "      <th>15</th>\n",
       "      <td>27\" ASUS VG279QM Gaming HDR</td>\n",
       "      <td>https://www.alza.sk/27-asus-vg279qm-gaming-hdr...</td>\n",
       "      <td>LCD monitor Full HD 1920×1080, IPS, 16:9 širok...</td>\n",
       "      <td>276,90 €</td>\n",
       "    </tr>\n",
       "    <tr>\n",
       "      <th>16</th>\n",
       "      <td>32\" AOC U32E2N</td>\n",
       "      <td>https://www.alza.sk/32-aoc-u32e2n-d6217876.htm</td>\n",
       "      <td>LCD monitor 4K 3840 × 2160, VA, 16:9 širokouhl...</td>\n",
       "      <td>326,63 €</td>\n",
       "    </tr>\n",
       "    <tr>\n",
       "      <th>17</th>\n",
       "      <td>27\" Philips 273V7QDSB</td>\n",
       "      <td>https://www.alza.sk/27-philips-273v7qdsb-d5077...</td>\n",
       "      <td>LCD monitor Full HD 1920×1080, IPS, 16:9 širok...</td>\n",
       "      <td>104,90 €</td>\n",
       "    </tr>\n",
       "    <tr>\n",
       "      <th>18</th>\n",
       "      <td>34\" Philips 345B1C</td>\n",
       "      <td>https://www.alza.sk/34-philips-345b1c-d5800564...</td>\n",
       "      <td>LCD monitor prehnutý, Ultra Wide QHD 3440 × 14...</td>\n",
       "      <td>352,78 €</td>\n",
       "    </tr>\n",
       "    <tr>\n",
       "      <th>19</th>\n",
       "      <td>32\" Samsung U32R590</td>\n",
       "      <td>https://www.alza.sk/32-samsung-u32r590cw-d5597...</td>\n",
       "      <td>LCD monitor prehnutý, 4K 3840 × 2160, VA, 16:9...</td>\n",
       "      <td>369,96 €</td>\n",
       "    </tr>\n",
       "    <tr>\n",
       "      <th>20</th>\n",
       "      <td>27\" BenQ GW2780</td>\n",
       "      <td>https://www.alza.sk/27-benq-gw2780-d5100553.htm</td>\n",
       "      <td>LCD monitor Full HD 1920×1080, IPS, 5 ms, 60Hz...</td>\n",
       "      <td>149,90 €</td>\n",
       "    </tr>\n",
       "    <tr>\n",
       "      <th>21</th>\n",
       "      <td>27\" ASUS ProArt PA278QV</td>\n",
       "      <td>https://www.alza.sk/27-asus-proart-pa278qv-d58...</td>\n",
       "      <td>LCD monitor Quad HD 2560×1440, IPS, 16:9 širok...</td>\n",
       "      <td>296,26 €</td>\n",
       "    </tr>\n",
       "    <tr>\n",
       "      <th>22</th>\n",
       "      <td>27\" ASUS TUF Gaming VG27AQL1A</td>\n",
       "      <td>https://www.alza.sk/27-asus-tuf-gaming-vg27aql...</td>\n",
       "      <td>LCD monitor Quad HD 2560×1440, IPS, 16:9 širok...</td>\n",
       "      <td>329,96 €</td>\n",
       "    </tr>\n",
       "    <tr>\n",
       "      <th>23</th>\n",
       "      <td>ASUS TUF Gaming VG27AQ</td>\n",
       "      <td>https://www.alza.sk/asus-tuf-gaming-vg27aq-d56...</td>\n",
       "      <td>LCD monitor Quad HD 2560×1440, IPS, 16:9 širok...</td>\n",
       "      <td>269 €</td>\n",
       "    </tr>\n",
       "  </tbody>\n",
       "</table>\n",
       "</div>"
      ],
      "text/plain": [
       "                             item  \\\n",
       "0     23,8\" Rapture VIDE IFF24144   \n",
       "1       34\" AOC CU34G2X/BK Gaming   \n",
       "2            34\" Philips 346P1CRH   \n",
       "3              49\" Philips 499P9H   \n",
       "4          24\" Philips 243V7QJABF   \n",
       "5       27\" AOC C27G2ZE/BK Gaming   \n",
       "6                 24\" BenQ GW2480   \n",
       "7             28\" Samsung U28R550   \n",
       "8               27\" GIGABYTE M27Q   \n",
       "9          27\" Dell S2721HN Style   \n",
       "10             ASUS ProArt PA329C   \n",
       "11          27\" Dell S2721H Style   \n",
       "12        23,8\" Dell S2421H Style   \n",
       "13      24\" AOC C24G2AE/BK Gaming   \n",
       "14      32\" AOC C32G2ZE/BK Gaming   \n",
       "15    27\" ASUS VG279QM Gaming HDR   \n",
       "16                 32\" AOC U32E2N   \n",
       "17          27\" Philips 273V7QDSB   \n",
       "18             34\" Philips 345B1C   \n",
       "19            32\" Samsung U32R590   \n",
       "20                27\" BenQ GW2780   \n",
       "21        27\" ASUS ProArt PA278QV   \n",
       "22  27\" ASUS TUF Gaming VG27AQL1A   \n",
       "23         ASUS TUF Gaming VG27AQ   \n",
       "\n",
       "                                                  url  \\\n",
       "0   https://www.alza.sk/23-8-rapture-vide-iff24144...   \n",
       "1   https://www.alza.sk/34-aoc-cu34g2x-bk-gaming-d...   \n",
       "2   https://www.alza.sk/34-philips-346p1crh-d61333...   \n",
       "3   https://www.alza.sk/49-philips-499p9h-d5547590...   \n",
       "4   https://www.alza.sk/24-philips-243v7qdjabf-d51...   \n",
       "5   https://www.alza.sk/27-aoc-c27g2zebk-gaming-d6...   \n",
       "6     https://www.alza.sk/24-benq-gw2480-d5100547.htm   \n",
       "7   https://www.alza.sk/28-samsung-u28r550-d573077...   \n",
       "8   https://www.alza.sk/27-gigabyte-m27q-d6237997.htm   \n",
       "9    https://www.alza.sk/27-dell-s2721hn-d6153043.htm   \n",
       "10  https://www.alza.sk/asus-proart-pa329c-d568409...   \n",
       "11    https://www.alza.sk/27-dell-s2721h-d6158324.htm   \n",
       "12  https://www.alza.sk/23-8-dell-s2421h-d6158322.htm   \n",
       "13  https://www.alza.sk/24-aoc-c24g2aebk-gaming-d6...   \n",
       "14  https://www.alza.sk/32-aoc-c32g2zebk-gaming-d6...   \n",
       "15  https://www.alza.sk/27-asus-vg279qm-gaming-hdr...   \n",
       "16     https://www.alza.sk/32-aoc-u32e2n-d6217876.htm   \n",
       "17  https://www.alza.sk/27-philips-273v7qdsb-d5077...   \n",
       "18  https://www.alza.sk/34-philips-345b1c-d5800564...   \n",
       "19  https://www.alza.sk/32-samsung-u32r590cw-d5597...   \n",
       "20    https://www.alza.sk/27-benq-gw2780-d5100553.htm   \n",
       "21  https://www.alza.sk/27-asus-proart-pa278qv-d58...   \n",
       "22  https://www.alza.sk/27-asus-tuf-gaming-vg27aql...   \n",
       "23  https://www.alza.sk/asus-tuf-gaming-vg27aq-d56...   \n",
       "\n",
       "                                          description     price  \n",
       "0   LCD monitor - uhlopriečka 23,8“ (60,45 cm), Fu...  143,89 €  \n",
       "1   LCD monitor prehnutý, Ultra Wide QHD 3440 × 14...  351,16 €  \n",
       "2   LCD monitor prehnutý, Ultra Wide QHD 3440 × 14...  597,40 €  \n",
       "3   LCD monitor prehnutý, Dual QHD 5120 × 1440, VA...  915,62 €  \n",
       "4   LCD monitor Full HD 1920×1080, IPS, 16:9 širok...   86,90 €  \n",
       "5   LCD monitor prehnutý, Full HD 1920×1080, VA, 1...  196,90 €  \n",
       "6   LCD monitor Full HD 1920×1080, IPS, 5 ms, 60Hz...  109,76 €  \n",
       "7   LCD monitor 4K 3840 × 2160, IPS, 16:9 širokouh...  239,90 €  \n",
       "8   LCD monitor Quad HD 2560×1440, IPS, 16:9 širok...     309 €  \n",
       "9   LCD monitor Full HD 1920×1080, IPS, 16:9 širok...  119,90 €  \n",
       "10  LCD monitor 4K 3840 × 2160, IPS, 16:9 širokouh...     769 €  \n",
       "11  LCD monitor Full HD 1920×1080, IPS, 16:9 širok...  155,90 €  \n",
       "12  LCD monitor Full HD 1920×1080, IPS, 16:9 širok...  122,90 €  \n",
       "13  LCD monitor prehnutý, Full HD 1920×1080, VA, 1...  147,85 €  \n",
       "14  LCD monitor prehnutý, Full HD 1920×1080, VA, 1...     233 €  \n",
       "15  LCD monitor Full HD 1920×1080, IPS, 16:9 širok...  276,90 €  \n",
       "16  LCD monitor 4K 3840 × 2160, VA, 16:9 širokouhl...  326,63 €  \n",
       "17  LCD monitor Full HD 1920×1080, IPS, 16:9 širok...  104,90 €  \n",
       "18  LCD monitor prehnutý, Ultra Wide QHD 3440 × 14...  352,78 €  \n",
       "19  LCD monitor prehnutý, 4K 3840 × 2160, VA, 16:9...  369,96 €  \n",
       "20  LCD monitor Full HD 1920×1080, IPS, 5 ms, 60Hz...  149,90 €  \n",
       "21  LCD monitor Quad HD 2560×1440, IPS, 16:9 širok...  296,26 €  \n",
       "22  LCD monitor Quad HD 2560×1440, IPS, 16:9 širok...  329,96 €  \n",
       "23  LCD monitor Quad HD 2560×1440, IPS, 16:9 širok...     269 €  "
      ]
     },
     "execution_count": 3,
     "metadata": {},
     "output_type": "execute_result"
    }
   ],
   "source": [
    "df = pd.read_csv(\"output_alza.csv\", delimiter=\",\", header=0)\n",
    "df.head(50)"
   ]
  },
  {
   "cell_type": "markdown",
   "metadata": {},
   "source": [
    "## Gyártó meghatározása külön oszlopba"
   ]
  },
  {
   "cell_type": "code",
   "execution_count": 4,
   "metadata": {},
   "outputs": [
    {
     "data": {
      "text/html": [
       "<div>\n",
       "<style scoped>\n",
       "    .dataframe tbody tr th:only-of-type {\n",
       "        vertical-align: middle;\n",
       "    }\n",
       "\n",
       "    .dataframe tbody tr th {\n",
       "        vertical-align: top;\n",
       "    }\n",
       "\n",
       "    .dataframe thead th {\n",
       "        text-align: right;\n",
       "    }\n",
       "</style>\n",
       "<table border=\"1\" class=\"dataframe\">\n",
       "  <thead>\n",
       "    <tr style=\"text-align: right;\">\n",
       "      <th></th>\n",
       "      <th>item</th>\n",
       "      <th>url</th>\n",
       "      <th>description</th>\n",
       "      <th>price</th>\n",
       "      <th>brand</th>\n",
       "    </tr>\n",
       "  </thead>\n",
       "  <tbody>\n",
       "    <tr>\n",
       "      <th>0</th>\n",
       "      <td>23,8\" Rapture VIDE IFF24144</td>\n",
       "      <td>https://www.alza.sk/23-8-rapture-vide-iff24144...</td>\n",
       "      <td>LCD monitor - uhlopriečka 23,8“ (60,45 cm), Fu...</td>\n",
       "      <td>143,89 €</td>\n",
       "      <td>Rapture</td>\n",
       "    </tr>\n",
       "    <tr>\n",
       "      <th>1</th>\n",
       "      <td>34\" AOC CU34G2X/BK Gaming</td>\n",
       "      <td>https://www.alza.sk/34-aoc-cu34g2x-bk-gaming-d...</td>\n",
       "      <td>LCD monitor prehnutý, Ultra Wide QHD 3440 × 14...</td>\n",
       "      <td>351,16 €</td>\n",
       "      <td>AOC</td>\n",
       "    </tr>\n",
       "    <tr>\n",
       "      <th>2</th>\n",
       "      <td>34\" Philips 346P1CRH</td>\n",
       "      <td>https://www.alza.sk/34-philips-346p1crh-d61333...</td>\n",
       "      <td>LCD monitor prehnutý, Ultra Wide QHD 3440 × 14...</td>\n",
       "      <td>597,40 €</td>\n",
       "      <td>Philips</td>\n",
       "    </tr>\n",
       "    <tr>\n",
       "      <th>3</th>\n",
       "      <td>49\" Philips 499P9H</td>\n",
       "      <td>https://www.alza.sk/49-philips-499p9h-d5547590...</td>\n",
       "      <td>LCD monitor prehnutý, Dual QHD 5120 × 1440, VA...</td>\n",
       "      <td>915,62 €</td>\n",
       "      <td>Philips</td>\n",
       "    </tr>\n",
       "    <tr>\n",
       "      <th>4</th>\n",
       "      <td>24\" Philips 243V7QJABF</td>\n",
       "      <td>https://www.alza.sk/24-philips-243v7qdjabf-d51...</td>\n",
       "      <td>LCD monitor Full HD 1920×1080, IPS, 16:9 širok...</td>\n",
       "      <td>86,90 €</td>\n",
       "      <td>Philips</td>\n",
       "    </tr>\n",
       "  </tbody>\n",
       "</table>\n",
       "</div>"
      ],
      "text/plain": [
       "                          item  \\\n",
       "0  23,8\" Rapture VIDE IFF24144   \n",
       "1    34\" AOC CU34G2X/BK Gaming   \n",
       "2         34\" Philips 346P1CRH   \n",
       "3           49\" Philips 499P9H   \n",
       "4       24\" Philips 243V7QJABF   \n",
       "\n",
       "                                                 url  \\\n",
       "0  https://www.alza.sk/23-8-rapture-vide-iff24144...   \n",
       "1  https://www.alza.sk/34-aoc-cu34g2x-bk-gaming-d...   \n",
       "2  https://www.alza.sk/34-philips-346p1crh-d61333...   \n",
       "3  https://www.alza.sk/49-philips-499p9h-d5547590...   \n",
       "4  https://www.alza.sk/24-philips-243v7qdjabf-d51...   \n",
       "\n",
       "                                         description     price    brand  \n",
       "0  LCD monitor - uhlopriečka 23,8“ (60,45 cm), Fu...  143,89 €  Rapture  \n",
       "1  LCD monitor prehnutý, Ultra Wide QHD 3440 × 14...  351,16 €      AOC  \n",
       "2  LCD monitor prehnutý, Ultra Wide QHD 3440 × 14...  597,40 €  Philips  \n",
       "3  LCD monitor prehnutý, Dual QHD 5120 × 1440, VA...  915,62 €  Philips  \n",
       "4  LCD monitor Full HD 1920×1080, IPS, 16:9 širok...   86,90 €  Philips  "
      ]
     },
     "execution_count": 4,
     "metadata": {},
     "output_type": "execute_result"
    }
   ],
   "source": [
    "brands = [\n",
    "    \"Rapture\",\n",
    "    \"AOC\",\n",
    "    \"Philips\",\n",
    "    \"Dell\",\n",
    "    \"HP\",\n",
    "    \"ASUS\",\n",
    "    \"Samsung\",\n",
    "    \"BenQ\",\n",
    "    \"GIGABYTE\",\n",
    "]\n",
    "\n",
    "\n",
    "def find_brand(text):\n",
    "    for brand in brands:\n",
    "        if brand in text:\n",
    "            return brand\n",
    "    return \"\"\n",
    "\n",
    "\n",
    "df[\"brand\"] = df[\"item\"].apply(find_brand)\n",
    "\n",
    "df.head(5)"
   ]
  },
  {
   "cell_type": "markdown",
   "metadata": {},
   "source": [
    "## Árak számértékké konvertálása"
   ]
  },
  {
   "cell_type": "code",
   "execution_count": 5,
   "metadata": {},
   "outputs": [
    {
     "data": {
      "text/html": [
       "<div>\n",
       "<style scoped>\n",
       "    .dataframe tbody tr th:only-of-type {\n",
       "        vertical-align: middle;\n",
       "    }\n",
       "\n",
       "    .dataframe tbody tr th {\n",
       "        vertical-align: top;\n",
       "    }\n",
       "\n",
       "    .dataframe thead th {\n",
       "        text-align: right;\n",
       "    }\n",
       "</style>\n",
       "<table border=\"1\" class=\"dataframe\">\n",
       "  <thead>\n",
       "    <tr style=\"text-align: right;\">\n",
       "      <th></th>\n",
       "      <th>item</th>\n",
       "      <th>url</th>\n",
       "      <th>description</th>\n",
       "      <th>price</th>\n",
       "      <th>brand</th>\n",
       "    </tr>\n",
       "  </thead>\n",
       "  <tbody>\n",
       "    <tr>\n",
       "      <th>0</th>\n",
       "      <td>23,8\" Rapture VIDE IFF24144</td>\n",
       "      <td>https://www.alza.sk/23-8-rapture-vide-iff24144...</td>\n",
       "      <td>LCD monitor - uhlopriečka 23,8“ (60,45 cm), Fu...</td>\n",
       "      <td>143.89</td>\n",
       "      <td>Rapture</td>\n",
       "    </tr>\n",
       "    <tr>\n",
       "      <th>1</th>\n",
       "      <td>34\" AOC CU34G2X/BK Gaming</td>\n",
       "      <td>https://www.alza.sk/34-aoc-cu34g2x-bk-gaming-d...</td>\n",
       "      <td>LCD monitor prehnutý, Ultra Wide QHD 3440 × 14...</td>\n",
       "      <td>351.16</td>\n",
       "      <td>AOC</td>\n",
       "    </tr>\n",
       "    <tr>\n",
       "      <th>2</th>\n",
       "      <td>34\" Philips 346P1CRH</td>\n",
       "      <td>https://www.alza.sk/34-philips-346p1crh-d61333...</td>\n",
       "      <td>LCD monitor prehnutý, Ultra Wide QHD 3440 × 14...</td>\n",
       "      <td>597.40</td>\n",
       "      <td>Philips</td>\n",
       "    </tr>\n",
       "    <tr>\n",
       "      <th>3</th>\n",
       "      <td>49\" Philips 499P9H</td>\n",
       "      <td>https://www.alza.sk/49-philips-499p9h-d5547590...</td>\n",
       "      <td>LCD monitor prehnutý, Dual QHD 5120 × 1440, VA...</td>\n",
       "      <td>915.62</td>\n",
       "      <td>Philips</td>\n",
       "    </tr>\n",
       "    <tr>\n",
       "      <th>4</th>\n",
       "      <td>24\" Philips 243V7QJABF</td>\n",
       "      <td>https://www.alza.sk/24-philips-243v7qdjabf-d51...</td>\n",
       "      <td>LCD monitor Full HD 1920×1080, IPS, 16:9 širok...</td>\n",
       "      <td>86.90</td>\n",
       "      <td>Philips</td>\n",
       "    </tr>\n",
       "  </tbody>\n",
       "</table>\n",
       "</div>"
      ],
      "text/plain": [
       "                          item  \\\n",
       "0  23,8\" Rapture VIDE IFF24144   \n",
       "1    34\" AOC CU34G2X/BK Gaming   \n",
       "2         34\" Philips 346P1CRH   \n",
       "3           49\" Philips 499P9H   \n",
       "4       24\" Philips 243V7QJABF   \n",
       "\n",
       "                                                 url  \\\n",
       "0  https://www.alza.sk/23-8-rapture-vide-iff24144...   \n",
       "1  https://www.alza.sk/34-aoc-cu34g2x-bk-gaming-d...   \n",
       "2  https://www.alza.sk/34-philips-346p1crh-d61333...   \n",
       "3  https://www.alza.sk/49-philips-499p9h-d5547590...   \n",
       "4  https://www.alza.sk/24-philips-243v7qdjabf-d51...   \n",
       "\n",
       "                                         description   price    brand  \n",
       "0  LCD monitor - uhlopriečka 23,8“ (60,45 cm), Fu...  143.89  Rapture  \n",
       "1  LCD monitor prehnutý, Ultra Wide QHD 3440 × 14...  351.16      AOC  \n",
       "2  LCD monitor prehnutý, Ultra Wide QHD 3440 × 14...  597.40  Philips  \n",
       "3  LCD monitor prehnutý, Dual QHD 5120 × 1440, VA...  915.62  Philips  \n",
       "4  LCD monitor Full HD 1920×1080, IPS, 16:9 širok...   86.90  Philips  "
      ]
     },
     "execution_count": 5,
     "metadata": {},
     "output_type": "execute_result"
    }
   ],
   "source": [
    "def convert_price(price):\n",
    "    if type(price) != float:\n",
    "        price = price.replace(\" €\", \"\").strip()\n",
    "        price = price.replace(\",\", \".\")\n",
    "        price = float(price)\n",
    "    return price\n",
    "\n",
    "\n",
    "df[\"price\"] = df[\"price\"].apply(convert_price)\n",
    "\n",
    "df.head(5)"
   ]
  },
  {
   "cell_type": "markdown",
   "metadata": {},
   "source": [
    "## Képátló meghatározása külön oszlopba"
   ]
  },
  {
   "cell_type": "code",
   "execution_count": 6,
   "metadata": {},
   "outputs": [
    {
     "data": {
      "text/html": [
       "<div>\n",
       "<style scoped>\n",
       "    .dataframe tbody tr th:only-of-type {\n",
       "        vertical-align: middle;\n",
       "    }\n",
       "\n",
       "    .dataframe tbody tr th {\n",
       "        vertical-align: top;\n",
       "    }\n",
       "\n",
       "    .dataframe thead th {\n",
       "        text-align: right;\n",
       "    }\n",
       "</style>\n",
       "<table border=\"1\" class=\"dataframe\">\n",
       "  <thead>\n",
       "    <tr style=\"text-align: right;\">\n",
       "      <th></th>\n",
       "      <th>item</th>\n",
       "      <th>url</th>\n",
       "      <th>description</th>\n",
       "      <th>price</th>\n",
       "      <th>brand</th>\n",
       "      <th>size</th>\n",
       "    </tr>\n",
       "  </thead>\n",
       "  <tbody>\n",
       "    <tr>\n",
       "      <th>0</th>\n",
       "      <td>23,8\" Rapture VIDE IFF24144</td>\n",
       "      <td>https://www.alza.sk/23-8-rapture-vide-iff24144...</td>\n",
       "      <td>LCD monitor - uhlopriečka 23,8“ (60,45 cm), Fu...</td>\n",
       "      <td>143.89</td>\n",
       "      <td>Rapture</td>\n",
       "      <td>23.8</td>\n",
       "    </tr>\n",
       "    <tr>\n",
       "      <th>1</th>\n",
       "      <td>34\" AOC CU34G2X/BK Gaming</td>\n",
       "      <td>https://www.alza.sk/34-aoc-cu34g2x-bk-gaming-d...</td>\n",
       "      <td>LCD monitor prehnutý, Ultra Wide QHD 3440 × 14...</td>\n",
       "      <td>351.16</td>\n",
       "      <td>AOC</td>\n",
       "      <td>34.0</td>\n",
       "    </tr>\n",
       "    <tr>\n",
       "      <th>2</th>\n",
       "      <td>34\" Philips 346P1CRH</td>\n",
       "      <td>https://www.alza.sk/34-philips-346p1crh-d61333...</td>\n",
       "      <td>LCD monitor prehnutý, Ultra Wide QHD 3440 × 14...</td>\n",
       "      <td>597.40</td>\n",
       "      <td>Philips</td>\n",
       "      <td>34.0</td>\n",
       "    </tr>\n",
       "    <tr>\n",
       "      <th>3</th>\n",
       "      <td>49\" Philips 499P9H</td>\n",
       "      <td>https://www.alza.sk/49-philips-499p9h-d5547590...</td>\n",
       "      <td>LCD monitor prehnutý, Dual QHD 5120 × 1440, VA...</td>\n",
       "      <td>915.62</td>\n",
       "      <td>Philips</td>\n",
       "      <td>49.0</td>\n",
       "    </tr>\n",
       "    <tr>\n",
       "      <th>4</th>\n",
       "      <td>24\" Philips 243V7QJABF</td>\n",
       "      <td>https://www.alza.sk/24-philips-243v7qdjabf-d51...</td>\n",
       "      <td>LCD monitor Full HD 1920×1080, IPS, 16:9 širok...</td>\n",
       "      <td>86.90</td>\n",
       "      <td>Philips</td>\n",
       "      <td>24.0</td>\n",
       "    </tr>\n",
       "  </tbody>\n",
       "</table>\n",
       "</div>"
      ],
      "text/plain": [
       "                          item  \\\n",
       "0  23,8\" Rapture VIDE IFF24144   \n",
       "1    34\" AOC CU34G2X/BK Gaming   \n",
       "2         34\" Philips 346P1CRH   \n",
       "3           49\" Philips 499P9H   \n",
       "4       24\" Philips 243V7QJABF   \n",
       "\n",
       "                                                 url  \\\n",
       "0  https://www.alza.sk/23-8-rapture-vide-iff24144...   \n",
       "1  https://www.alza.sk/34-aoc-cu34g2x-bk-gaming-d...   \n",
       "2  https://www.alza.sk/34-philips-346p1crh-d61333...   \n",
       "3  https://www.alza.sk/49-philips-499p9h-d5547590...   \n",
       "4  https://www.alza.sk/24-philips-243v7qdjabf-d51...   \n",
       "\n",
       "                                         description   price    brand  size  \n",
       "0  LCD monitor - uhlopriečka 23,8“ (60,45 cm), Fu...  143.89  Rapture  23.8  \n",
       "1  LCD monitor prehnutý, Ultra Wide QHD 3440 × 14...  351.16      AOC  34.0  \n",
       "2  LCD monitor prehnutý, Ultra Wide QHD 3440 × 14...  597.40  Philips  34.0  \n",
       "3  LCD monitor prehnutý, Dual QHD 5120 × 1440, VA...  915.62  Philips  49.0  \n",
       "4  LCD monitor Full HD 1920×1080, IPS, 16:9 širok...   86.90  Philips  24.0  "
      ]
     },
     "execution_count": 6,
     "metadata": {},
     "output_type": "execute_result"
    }
   ],
   "source": [
    "def find_screensize(item):\n",
    "    for word in item.split():\n",
    "        if '\"' in word:\n",
    "            size = word.replace('\"', \"\").replace(\",\", \".\")\n",
    "            try:\n",
    "                return float(size)\n",
    "            except ValueError:\n",
    "                return \"\"\n",
    "\n",
    "\n",
    "df[\"size\"] = df[\"item\"].apply(find_screensize)\n",
    "\n",
    "df.head()"
   ]
  },
  {
   "cell_type": "markdown",
   "metadata": {},
   "source": [
    "## Kördiagram készítése"
   ]
  },
  {
   "cell_type": "code",
   "execution_count": 7,
   "metadata": {},
   "outputs": [
    {
     "data": {
      "image/png": "[encoded data removed]",
      "text/plain": [
       "<Figure size 800x800 with 1 Axes>"
      ]
     },
     "metadata": {},
     "output_type": "display_data"
    }
   ],
   "source": [
    "brand_counts = df[\"brand\"].value_counts()\n",
    "\n",
    "plt.figure(figsize=(8, 8))\n",
    "plt.pie(brand_counts, labels=brand_counts.index, autopct=\"%1.1f%%\", startangle=140)\n",
    "plt.title(\"Termékek darabszáma gyártónként\")\n",
    "plt.show()"
   ]
  },
  {
   "cell_type": "markdown",
   "metadata": {},
   "source": [
    "## Pont XY diagram készítése"
   ]
  },
  {
   "cell_type": "code",
   "execution_count": 8,
   "metadata": {},
   "outputs": [
    {
     "data": {
      "application/vnd.plotly.v1+json": {
       "config": {
        "plotlyServerURL": "https://plot.ly"
       },
       "data": [
        {
         "customdata": [
          [
           "23,8\" Rapture VIDE IFF24144"
          ]
         ],
         "hovertemplate": "brand=Rapture<br>size=%{x}<br>price=%{y}<br>item=%{customdata[0]}<extra></extra>",
         "legendgroup": "Rapture",
         "marker": {
          "color": "#636efa",
          "symbol": "circle"
         },
         "mode": "markers",
         "name": "Rapture",
         "orientation": "v",
         "showlegend": true,
         "type": "scatter",
         "x": [
          23.8
         ],
         "xaxis": "x",
         "y": [
          143.89
         ],
         "yaxis": "y"
        },
        {
         "customdata": [
          [
           "34\" AOC CU34G2X/BK Gaming"
          ],
          [
           "27\" AOC C27G2ZE/BK Gaming"
          ],
          [
           "24\" AOC C24G2AE/BK Gaming"
          ],
          [
           "32\" AOC C32G2ZE/BK Gaming"
          ],
          [
           "32\" AOC U32E2N"
          ]
         ],
         "hovertemplate": "brand=AOC<br>size=%{x}<br>price=%{y}<br>item=%{customdata[0]}<extra></extra>",
         "legendgroup": "AOC",
         "marker": {
          "color": "#EF553B",
          "symbol": "diamond"
         },
         "mode": "markers",
         "name": "AOC",
         "orientation": "v",
         "showlegend": true,
         "type": "scatter",
         "x": [
          34,
          27,
          24,
          32,
          32
         ],
         "xaxis": "x",
         "y": [
          351.16,
          196.9,
          147.85,
          233,
          326.63
         ],
         "yaxis": "y"
        },
        {
         "customdata": [
          [
           "34\" Philips 346P1CRH"
          ],
          [
           "49\" Philips 499P9H"
          ],
          [
           "24\" Philips 243V7QJABF"
          ],
          [
           "27\" Philips 273V7QDSB"
          ],
          [
           "34\" Philips 345B1C"
          ]
         ],
         "hovertemplate": "brand=Philips<br>size=%{x}<br>price=%{y}<br>item=%{customdata[0]}<extra></extra>",
         "legendgroup": "Philips",
         "marker": {
          "color": "#00cc96",
          "symbol": "square"
         },
         "mode": "markers",
         "name": "Philips",
         "orientation": "v",
         "showlegend": true,
         "type": "scatter",
         "x": [
          34,
          49,
          24,
          27,
          34
         ],
         "xaxis": "x",
         "y": [
          597.4,
          915.62,
          86.9,
          104.9,
          352.78
         ],
         "yaxis": "y"
        },
        {
         "customdata": [
          [
           "24\" BenQ GW2480"
          ],
          [
           "27\" BenQ GW2780"
          ]
         ],
         "hovertemplate": "brand=BenQ<br>size=%{x}<br>price=%{y}<br>item=%{customdata[0]}<extra></extra>",
         "legendgroup": "BenQ",
         "marker": {
          "color": "#ab63fa",
          "symbol": "x"
         },
         "mode": "markers",
         "name": "BenQ",
         "orientation": "v",
         "showlegend": true,
         "type": "scatter",
         "x": [
          24,
          27
         ],
         "xaxis": "x",
         "y": [
          109.76,
          149.9
         ],
         "yaxis": "y"
        },
        {
         "customdata": [
          [
           "28\" Samsung U28R550"
          ],
          [
           "32\" Samsung U32R590"
          ]
         ],
         "hovertemplate": "brand=Samsung<br>size=%{x}<br>price=%{y}<br>item=%{customdata[0]}<extra></extra>",
         "legendgroup": "Samsung",
         "marker": {
          "color": "#FFA15A",
          "symbol": "cross"
         },
         "mode": "markers",
         "name": "Samsung",
         "orientation": "v",
         "showlegend": true,
         "type": "scatter",
         "x": [
          28,
          32
         ],
         "xaxis": "x",
         "y": [
          239.9,
          369.96
         ],
         "yaxis": "y"
        },
        {
         "customdata": [
          [
           "27\" GIGABYTE M27Q"
          ]
         ],
         "hovertemplate": "brand=GIGABYTE<br>size=%{x}<br>price=%{y}<br>item=%{customdata[0]}<extra></extra>",
         "legendgroup": "GIGABYTE",
         "marker": {
          "color": "#19d3f3",
          "symbol": "circle"
         },
         "mode": "markers",
         "name": "GIGABYTE",
         "orientation": "v",
         "showlegend": true,
         "type": "scatter",
         "x": [
          27
         ],
         "xaxis": "x",
         "y": [
          309
         ],
         "yaxis": "y"
        },
        {
         "customdata": [
          [
           "27\" Dell S2721HN Style"
          ],
          [
           "27\" Dell S2721H Style"
          ],
          [
           "23,8\" Dell S2421H Style"
          ]
         ],
         "hovertemplate": "brand=Dell<br>size=%{x}<br>price=%{y}<br>item=%{customdata[0]}<extra></extra>",
         "legendgroup": "Dell",
         "marker": {
          "color": "#FF6692",
          "symbol": "diamond"
         },
         "mode": "markers",
         "name": "Dell",
         "orientation": "v",
         "showlegend": true,
         "type": "scatter",
         "x": [
          27,
          27,
          23.8
         ],
         "xaxis": "x",
         "y": [
          119.9,
          155.9,
          122.9
         ],
         "yaxis": "y"
        },
        {
         "customdata": [
          [
           "ASUS ProArt PA329C"
          ],
          [
           "27\" ASUS VG279QM Gaming HDR"
          ],
          [
           "27\" ASUS ProArt PA278QV"
          ],
          [
           "27\" ASUS TUF Gaming VG27AQL1A"
          ],
          [
           "ASUS TUF Gaming VG27AQ"
          ]
         ],
         "hovertemplate": "brand=ASUS<br>size=%{x}<br>price=%{y}<br>item=%{customdata[0]}<extra></extra>",
         "legendgroup": "ASUS",
         "marker": {
          "color": "#B6E880",
          "symbol": "square"
         },
         "mode": "markers",
         "name": "ASUS",
         "orientation": "v",
         "showlegend": true,
         "type": "scatter",
         "x": [
          null,
          27,
          27,
          27,
          null
         ],
         "xaxis": "x",
         "y": [
          769,
          276.9,
          296.26,
          329.96,
          269
         ],
         "yaxis": "y"
        }
       ],
       "layout": {
        "legend": {
         "title": {
          "text": "brand"
         },
         "tracegroupgap": 0
        },
        "margin": {
         "t": 60
        },
        "template": {
         "data": {
          "bar": [
           {
            "error_x": {
             "color": "#2a3f5f"
            },
            "error_y": {
             "color": "#2a3f5f"
            },
            "marker": {
             "line": {
              "color": "#E5ECF6",
              "width": 0.5
             },
             "pattern": {
              "fillmode": "overlay",
              "size": 10,
              "solidity": 0.2
             }
            },
            "type": "bar"
           }
          ],
          "barpolar": [
           {
            "marker": {
             "line": {
              "color": "#E5ECF6",
              "width": 0.5
             },
             "pattern": {
              "fillmode": "overlay",
              "size": 10,
              "solidity": 0.2
             }
            },
            "type": "barpolar"
           }
          ],
          "carpet": [
           {
            "aaxis": {
             "endlinecolor": "#2a3f5f",
             "gridcolor": "white",
             "linecolor": "white",
             "minorgridcolor": "white",
             "startlinecolor": "#2a3f5f"
            },
            "baxis": {
             "endlinecolor": "#2a3f5f",
             "gridcolor": "white",
             "linecolor": "white",
             "minorgridcolor": "white",
             "startlinecolor": "#2a3f5f"
            },
            "type": "carpet"
           }
          ],
          "choropleth": [
           {
            "colorbar": {
             "outlinewidth": 0,
             "ticks": ""
            },
            "type": "choropleth"
           }
          ],
          "contour": [
           {
            "colorbar": {
             "outlinewidth": 0,
             "ticks": ""
            },
            "colorscale": [
             [
              0,
              "#0d0887"
             ],
             [
              0.1111111111111111,
              "#46039f"
             ],
             [
              0.2222222222222222,
              "#7201a8"
             ],
             [
              0.3333333333333333,
              "#9c179e"
             ],
             [
              0.4444444444444444,
              "#bd3786"
             ],
             [
              0.5555555555555556,
              "#d8576b"
             ],
             [
              0.6666666666666666,
              "#ed7953"
             ],
             [
              0.7777777777777778,
              "#fb9f3a"
             ],
             [
              0.8888888888888888,
              "#fdca26"
             ],
             [
              1,
              "#f0f921"
             ]
            ],
            "type": "contour"
           }
          ],
          "contourcarpet": [
           {
            "colorbar": {
             "outlinewidth": 0,
             "ticks": ""
            },
            "type": "contourcarpet"
           }
          ],
          "heatmap": [
           {
            "colorbar": {
             "outlinewidth": 0,
             "ticks": ""
            },
            "colorscale": [
             [
              0,
              "#0d0887"
             ],
             [
              0.1111111111111111,
              "#46039f"
             ],
             [
              0.2222222222222222,
              "#7201a8"
             ],
             [
              0.3333333333333333,
              "#9c179e"
             ],
             [
              0.4444444444444444,
              "#bd3786"
             ],
             [
              0.5555555555555556,
              "#d8576b"
             ],
             [
              0.6666666666666666,
              "#ed7953"
             ],
             [
              0.7777777777777778,
              "#fb9f3a"
             ],
             [
              0.8888888888888888,
              "#fdca26"
             ],
             [
              1,
              "#f0f921"
             ]
            ],
            "type": "heatmap"
           }
          ],
          "heatmapgl": [
           {
            "colorbar": {
             "outlinewidth": 0,
             "ticks": ""
            },
            "colorscale": [
             [
              0,
              "#0d0887"
             ],
             [
              0.1111111111111111,
              "#46039f"
             ],
             [
              0.2222222222222222,
              "#7201a8"
             ],
             [
              0.3333333333333333,
              "#9c179e"
             ],
             [
              0.4444444444444444,
              "#bd3786"
             ],
             [
              0.5555555555555556,
              "#d8576b"
             ],
             [
              0.6666666666666666,
              "#ed7953"
             ],
             [
              0.7777777777777778,
              "#fb9f3a"
             ],
             [
              0.8888888888888888,
              "#fdca26"
             ],
             [
              1,
              "#f0f921"
             ]
            ],
            "type": "heatmapgl"
           }
          ],
          "histogram": [
           {
            "marker": {
             "pattern": {
              "fillmode": "overlay",
              "size": 10,
              "solidity": 0.2
             }
            },
            "type": "histogram"
           }
          ],
          "histogram2d": [
           {
            "colorbar": {
             "outlinewidth": 0,
             "ticks": ""
            },
            "colorscale": [
             [
              0,
              "#0d0887"
             ],
             [
              0.1111111111111111,
              "#46039f"
             ],
             [
              0.2222222222222222,
              "#7201a8"
             ],
             [
              0.3333333333333333,
              "#9c179e"
             ],
             [
              0.4444444444444444,
              "#bd3786"
             ],
             [
              0.5555555555555556,
              "#d8576b"
             ],
             [
              0.6666666666666666,
              "#ed7953"
             ],
             [
              0.7777777777777778,
              "#fb9f3a"
             ],
             [
              0.8888888888888888,
              "#fdca26"
             ],
             [
              1,
              "#f0f921"
             ]
            ],
            "type": "histogram2d"
           }
          ],
          "histogram2dcontour": [
           {
            "colorbar": {
             "outlinewidth": 0,
             "ticks": ""
            },
            "colorscale": [
             [
              0,
              "#0d0887"
             ],
             [
              0.1111111111111111,
              "#46039f"
             ],
             [
              0.2222222222222222,
              "#7201a8"
             ],
             [
              0.3333333333333333,
              "#9c179e"
             ],
             [
              0.4444444444444444,
              "#bd3786"
             ],
             [
              0.5555555555555556,
              "#d8576b"
             ],
             [
              0.6666666666666666,
              "#ed7953"
             ],
             [
              0.7777777777777778,
              "#fb9f3a"
             ],
             [
              0.8888888888888888,
              "#fdca26"
             ],
             [
              1,
              "#f0f921"
             ]
            ],
            "type": "histogram2dcontour"
           }
          ],
          "mesh3d": [
           {
            "colorbar": {
             "outlinewidth": 0,
             "ticks": ""
            },
            "type": "mesh3d"
           }
          ],
          "parcoords": [
           {
            "line": {
             "colorbar": {
              "outlinewidth": 0,
              "ticks": ""
             }
            },
            "type": "parcoords"
           }
          ],
          "pie": [
           {
            "automargin": true,
            "type": "pie"
           }
          ],
          "scatter": [
           {
            "fillpattern": {
             "fillmode": "overlay",
             "size": 10,
             "solidity": 0.2
            },
            "type": "scatter"
           }
          ],
          "scatter3d": [
           {
            "line": {
             "colorbar": {
              "outlinewidth": 0,
              "ticks": ""
             }
            },
            "marker": {
             "colorbar": {
              "outlinewidth": 0,
              "ticks": ""
             }
            },
            "type": "scatter3d"
           }
          ],
          "scattercarpet": [
           {
            "marker": {
             "colorbar": {
              "outlinewidth": 0,
              "ticks": ""
             }
            },
            "type": "scattercarpet"
           }
          ],
          "scattergeo": [
           {
            "marker": {
             "colorbar": {
              "outlinewidth": 0,
              "ticks": ""
             }
            },
            "type": "scattergeo"
           }
          ],
          "scattergl": [
           {
            "marker": {
             "colorbar": {
              "outlinewidth": 0,
              "ticks": ""
             }
            },
            "type": "scattergl"
           }
          ],
          "scattermapbox": [
           {
            "marker": {
             "colorbar": {
              "outlinewidth": 0,
              "ticks": ""
             }
            },
            "type": "scattermapbox"
           }
          ],
          "scatterpolar": [
           {
            "marker": {
             "colorbar": {
              "outlinewidth": 0,
              "ticks": ""
             }
            },
            "type": "scatterpolar"
           }
          ],
          "scatterpolargl": [
           {
            "marker": {
             "colorbar": {
              "outlinewidth": 0,
              "ticks": ""
             }
            },
            "type": "scatterpolargl"
           }
          ],
          "scatterternary": [
           {
            "marker": {
             "colorbar": {
              "outlinewidth": 0,
              "ticks": ""
             }
            },
            "type": "scatterternary"
           }
          ],
          "surface": [
           {
            "colorbar": {
             "outlinewidth": 0,
             "ticks": ""
            },
            "colorscale": [
             [
              0,
              "#0d0887"
             ],
             [
              0.1111111111111111,
              "#46039f"
             ],
             [
              0.2222222222222222,
              "#7201a8"
             ],
             [
              0.3333333333333333,
              "#9c179e"
             ],
             [
              0.4444444444444444,
              "#bd3786"
             ],
             [
              0.5555555555555556,
              "#d8576b"
             ],
             [
              0.6666666666666666,
              "#ed7953"
             ],
             [
              0.7777777777777778,
              "#fb9f3a"
             ],
             [
              0.8888888888888888,
              "#fdca26"
             ],
             [
              1,
              "#f0f921"
             ]
            ],
            "type": "surface"
           }
          ],
          "table": [
           {
            "cells": {
             "fill": {
              "color": "#EBF0F8"
             },
             "line": {
              "color": "white"
             }
            },
            "header": {
             "fill": {
              "color": "#C8D4E3"
             },
             "line": {
              "color": "white"
             }
            },
            "type": "table"
           }
          ]
         },
         "layout": {
          "annotationdefaults": {
           "arrowcolor": "#2a3f5f",
           "arrowhead": 0,
           "arrowwidth": 1
          },
          "autotypenumbers": "strict",
          "coloraxis": {
           "colorbar": {
            "outlinewidth": 0,
            "ticks": ""
           }
          },
          "colorscale": {
           "diverging": [
            [
             0,
             "#8e0152"
            ],
            [
             0.1,
             "#c51b7d"
            ],
            [
             0.2,
             "#de77ae"
            ],
            [
             0.3,
             "#f1b6da"
            ],
            [
             0.4,
             "#fde0ef"
            ],
            [
             0.5,
             "#f7f7f7"
            ],
            [
             0.6,
             "#e6f5d0"
            ],
            [
             0.7,
             "#b8e186"
            ],
            [
             0.8,
             "#7fbc41"
            ],
            [
             0.9,
             "#4d9221"
            ],
            [
             1,
             "#276419"
            ]
           ],
           "sequential": [
            [
             0,
             "#0d0887"
            ],
            [
             0.1111111111111111,
             "#46039f"
            ],
            [
             0.2222222222222222,
             "#7201a8"
            ],
            [
             0.3333333333333333,
             "#9c179e"
            ],
            [
             0.4444444444444444,
             "#bd3786"
            ],
            [
             0.5555555555555556,
             "#d8576b"
            ],
            [
             0.6666666666666666,
             "#ed7953"
            ],
            [
             0.7777777777777778,
             "#fb9f3a"
            ],
            [
             0.8888888888888888,
             "#fdca26"
            ],
            [
             1,
             "#f0f921"
            ]
           ],
           "sequentialminus": [
            [
             0,
             "#0d0887"
            ],
            [
             0.1111111111111111,
             "#46039f"
            ],
            [
             0.2222222222222222,
             "#7201a8"
            ],
            [
             0.3333333333333333,
             "#9c179e"
            ],
            [
             0.4444444444444444,
             "#bd3786"
            ],
            [
             0.5555555555555556,
             "#d8576b"
            ],
            [
             0.6666666666666666,
             "#ed7953"
            ],
            [
             0.7777777777777778,
             "#fb9f3a"
            ],
            [
             0.8888888888888888,
             "#fdca26"
            ],
            [
             1,
             "#f0f921"
            ]
           ]
          },
          "colorway": [
           "#636efa",
           "#EF553B",
           "#00cc96",
           "#ab63fa",
           "#FFA15A",
           "#19d3f3",
           "#FF6692",
           "#B6E880",
           "#FF97FF",
           "#FECB52"
          ],
          "font": {
           "color": "#2a3f5f"
          },
          "geo": {
           "bgcolor": "white",
           "lakecolor": "white",
           "landcolor": "#E5ECF6",
           "showlakes": true,
           "showland": true,
           "subunitcolor": "white"
          },
          "hoverlabel": {
           "align": "left"
          },
          "hovermode": "closest",
          "mapbox": {
           "style": "light"
          },
          "paper_bgcolor": "white",
          "plot_bgcolor": "#E5ECF6",
          "polar": {
           "angularaxis": {
            "gridcolor": "white",
            "linecolor": "white",
            "ticks": ""
           },
           "bgcolor": "#E5ECF6",
           "radialaxis": {
            "gridcolor": "white",
            "linecolor": "white",
            "ticks": ""
           }
          },
          "scene": {
           "xaxis": {
            "backgroundcolor": "#E5ECF6",
            "gridcolor": "white",
            "gridwidth": 2,
            "linecolor": "white",
            "showbackground": true,
            "ticks": "",
            "zerolinecolor": "white"
           },
           "yaxis": {
            "backgroundcolor": "#E5ECF6",
            "gridcolor": "white",
            "gridwidth": 2,
            "linecolor": "white",
            "showbackground": true,
            "ticks": "",
            "zerolinecolor": "white"
           },
           "zaxis": {
            "backgroundcolor": "#E5ECF6",
            "gridcolor": "white",
            "gridwidth": 2,
            "linecolor": "white",
            "showbackground": true,
            "ticks": "",
            "zerolinecolor": "white"
           }
          },
          "shapedefaults": {
           "line": {
            "color": "#2a3f5f"
           }
          },
          "ternary": {
           "aaxis": {
            "gridcolor": "white",
            "linecolor": "white",
            "ticks": ""
           },
           "baxis": {
            "gridcolor": "white",
            "linecolor": "white",
            "ticks": ""
           },
           "bgcolor": "#E5ECF6",
           "caxis": {
            "gridcolor": "white",
            "linecolor": "white",
            "ticks": ""
           }
          },
          "title": {
           "x": 0.05
          },
          "xaxis": {
           "automargin": true,
           "gridcolor": "white",
           "linecolor": "white",
           "ticks": "",
           "title": {
            "standoff": 15
           },
           "zerolinecolor": "white",
           "zerolinewidth": 2
          },
          "yaxis": {
           "automargin": true,
           "gridcolor": "white",
           "linecolor": "white",
           "ticks": "",
           "title": {
            "standoff": 15
           },
           "zerolinecolor": "white",
           "zerolinewidth": 2
          }
         }
        },
        "xaxis": {
         "anchor": "y",
         "domain": [
          0,
          1
         ],
         "title": {
          "text": "Képátló (\" - inch)"
         }
        },
        "yaxis": {
         "anchor": "x",
         "domain": [
          0,
          1
         ],
         "title": {
          "text": "Termék ára (€ - euro)"
         }
        }
       }
      }
     },
     "metadata": {},
     "output_type": "display_data"
    }
   ],
   "source": [
    "fig = px.scatter(\n",
    "    df, x=\"size\", y=\"price\", color=\"brand\", symbol=\"brand\", hover_data=\"item\"\n",
    ")\n",
    "\n",
    "fig.update_layout(xaxis_title='Képátló (\" - inch)', yaxis_title=\"Termék ára (€ - euro)\")\n",
    "\n",
    "#fig\n",
    "fig.write_image(\"scatter_plot.png\")\n",
    "Image(filename=\"scatter_plot.png\")"
   ]
  }
 ],
 "metadata": {
  "kernelspec": {
   "display_name": "Python 3",
   "language": "python",
   "name": "python3"
  },
  "language_info": {
   "codemirror_mode": {
    "name": "ipython",
    "version": 3
   },
   "file_extension": ".py",
   "mimetype": "text/x-python",
   "name": "python",
   "nbconvert_exporter": "python",
   "pygments_lexer": "ipython3",
   "version": "3.10.6"
  }
 },
 "nbformat": 4,
 "nbformat_minor": 2
}
