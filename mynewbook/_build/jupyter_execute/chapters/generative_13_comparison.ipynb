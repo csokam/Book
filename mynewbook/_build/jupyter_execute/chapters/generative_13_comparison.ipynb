{
 "cells": [
  {
   "cell_type": "markdown",
   "metadata": {},
   "source": [
    "# PIL és Cairo könyvtárak összehasonlítása\n",
    "\n",
    "PIL a Python standard könytárak részét képezi, alapvető grafikai munkára alkalmas. PyCairo az eredeti Cairo Python-hoz igazított változata, ami a vektorgrafika lehetőségeit kínálja. Az alábbiakban egy rövid mintakód segítségével mutatjuk be a két könyvtár használata közti alapvető különbségeket. Mindkét könyvtárral megközelítőleg azonos kimenet elérése a cél."
   ]
  },
  {
   "cell_type": "markdown",
   "metadata": {},
   "source": [
    "## Egyszerű kép készítése PIL segítségével"
   ]
  },
  {
   "cell_type": "code",
   "execution_count": 1,
   "metadata": {},
   "outputs": [
    {
     "data": {
      "image/png": "[encoded data removed]",
      "text/plain": [
       "<PIL.Image.Image image mode=RGB size=400x400 at 0x27C3F245F30>"
      ]
     },
     "metadata": {},
     "output_type": "display_data"
    }
   ],
   "source": [
    "from PIL import Image, ImageDraw\n",
    "\n",
    "width = 400\n",
    "height = 400\n",
    "\n",
    "image = Image.new(\"RGB\", (width, height), color=\"grey\")\n",
    "draw = ImageDraw.Draw(image)\n",
    "\n",
    "draw.rectangle((50, 50, 350, 200), fill=\"green\", outline=\"black\")\n",
    "draw.ellipse((120, 120, 300, 300), fill=\"red\", width=2, outline=\"black\")\n",
    "\n",
    "display(image)"
   ]
  },
  {
   "cell_type": "markdown",
   "metadata": {},
   "source": [
    "## Egyszerű kép készítése PyCairo segítségével\n",
    "\n",
    "A kód jelentősen nagyobb terjedelmű, viszont érdemes észrevenni a kör részletességében mutatkozó különbséget. "
   ]
  },
  {
   "cell_type": "code",
   "execution_count": 2,
   "metadata": {},
   "outputs": [
    {
     "data": {
      "image/png": "[encoded data removed]",
      "text/plain": [
       "<IPython.core.display.Image object>"
      ]
     },
     "metadata": {},
     "output_type": "display_data"
    }
   ],
   "source": [
    "import io\n",
    "import math\n",
    "import cairo\n",
    "from IPython.display import Image, display\n",
    "\n",
    "width = 400\n",
    "height = 400\n",
    "\n",
    "surface = cairo.ImageSurface(cairo.FORMAT_ARGB32, width, height)\n",
    "context = cairo.Context(surface)\n",
    "\n",
    "context.set_source_rgb(0.5, 0.5, 0.5)\n",
    "context.paint()\n",
    "\n",
    "context.set_source_rgb(0, 1, 0)\n",
    "context.rectangle(50, 50, 300, 150)\n",
    "context.fill_preserve()\n",
    "\n",
    "context.set_source_rgb(0, 0, 0)\n",
    "context.set_line_width(1)\n",
    "context.stroke()\n",
    "\n",
    "context.set_source_rgb(1, 0, 0)\n",
    "context.arc(210, 210, 90, 0, 2 * math.pi)\n",
    "context.fill_preserve()\n",
    "\n",
    "context.set_source_rgb(0, 0, 0)\n",
    "context.set_line_width(2)\n",
    "context.stroke()\n",
    "\n",
    "buffer = io.BytesIO()\n",
    "surface.write_to_png(buffer)\n",
    "buffer.seek(0)\n",
    "\n",
    "image = Image(buffer.read())\n",
    "display(image)"
   ]
  }
 ],
 "metadata": {
  "kernelspec": {
   "display_name": "Python 3",
   "language": "python",
   "name": "python3"
  },
  "language_info": {
   "codemirror_mode": {
    "name": "ipython",
    "version": 3
   },
   "file_extension": ".py",
   "mimetype": "text/x-python",
   "name": "python",
   "nbconvert_exporter": "python",
   "pygments_lexer": "ipython3",
   "version": "3.10.6"
  }
 },
 "nbformat": 4,
 "nbformat_minor": 2
}