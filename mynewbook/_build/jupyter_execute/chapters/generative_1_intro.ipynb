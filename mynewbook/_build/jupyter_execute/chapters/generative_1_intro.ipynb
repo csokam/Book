{
 "cells": [
  {
   "cell_type": "markdown",
   "metadata": {},
   "source": [
    "# PIL bevezetés - variációk egy témára\n",
    "\n",
    "![generative_1](figures/generative_1.png)\n",
    "\n",
    "<b>Forrás: </b> {cite}`tran_stupid_head, vanoost, kunstmuseum`\n",
    "\n",
    "https://www.lerandom.art/our-collection"
   ]
  },
  {
   "cell_type": "markdown",
   "metadata": {},
   "source": [
    "Az ábrán 9db különböző kép látható. Milyen állításokat tudunk megfogalmazni a példák alapján?\n",
    "\n",
    "- a képeken 1 téglalap és 1 kör látható\n",
    "- a kör a téglalap fölött helyezkedik el, fedheti azt\n",
    "- a kör középpontja a vásznon van\n",
    "- a téglalap és a kör kilóghatnak a vászonról\n",
    "- a háttér általában világos szín, a téglalap sötét, a kör narancssárga\n",
    "- a képek mérete változik"
   ]
  },
  {
   "cell_type": "markdown",
   "metadata": {},
   "source": [
    "## Szükséges könyvtárak importálása"
   ]
  },
  {
   "cell_type": "code",
   "execution_count": 1,
   "metadata": {},
   "outputs": [],
   "source": [
    "from PIL import Image, ImageDraw\n",
    "import random"
   ]
  },
  {
   "cell_type": "markdown",
   "metadata": {},
   "source": [
    "## Véletlen színt választó függvény\n",
    "\n",
    "RGB színtér helyett be lehet vezetni az RGBA-t precízebb eredmények érdekében. Bővebben az RGBA megoldásról lejjebb."
   ]
  },
  {
   "cell_type": "code",
   "execution_count": 2,
   "metadata": {},
   "outputs": [],
   "source": [
    "def randomColor(factor):\n",
    "    color = ()\n",
    "    r = random.randint(0,255)\n",
    "    g = random.randint(0,255)\n",
    "    b = random.randint(0,255)\n",
    "    \n",
    "    color = (int(r*factor),int(g*factor),int(b*factor))\n",
    "\n",
    "    return color"
   ]
  },
  {
   "cell_type": "markdown",
   "metadata": {},
   "source": [
    "## Véletlen tégalalap rajzolása\n",
    "\n",
    "A téglalap elhelyezésére több megoldás is létezik, azonban ügyelni kell arra, hogy az x0,y0 koordinátáknak kisebbnek kell lenni, mint x1,y1. Tehát ha mindkét koordinátapárt 0 és teljes méret közötti véletlen számmal generáljuk, akkor érdemes logikát implementálni a számok értékének ellenőrzésére.\n",
    "\n",
    "A téglalap elhelyezését megválaszthatjuk úgy, hogy az első koordinátapárt (x0,y0) véletlenszerűen a 0 és kép méreteinek fele között határozza meg, tehát a vászon bal felső negyede. A második koordinátapárt (x1, y1) kép méreteinek fele és kép teljes mérete közötti véletlen számok alkotják.\n",
    "\n",
    "Az alábbi megoldás az első koordinátapár maximumát a teljes méretek valahányad része adja és a második koordinátapár esetén minimumértékként szerepel. Ebben az esetben még mindig előfordulhat, hogy nagyon kicsi téglalapot generál, de a képlet finomításával jobb eredmények érhetők el.\n",
    "\n",
    "pl.: \n",
    "\n",
    "<code>x1 = random.randint(width-int(width/factor),width)</code>\n",
    "\n",
    "<code>y1 = random.randint(width-int(height/factor),height)</code>"
   ]
  },
  {
   "cell_type": "code",
   "execution_count": 3,
   "metadata": {},
   "outputs": [],
   "source": [
    "def drawRectangle(width, height):\n",
    "    factor = 3\n",
    "    x0 = random.randint(0,int(width/factor))\n",
    "    y0 = random.randint(0,int(height/factor))\n",
    "    x1 = random.randint(int(width/factor),width)\n",
    "    y1 = random.randint(int(height/factor),height)\n",
    "\n",
    "    rectangle_color = randomColor(0.5)\n",
    "    rectangle = [x0,y0,x1,y1]\n",
    "\n",
    "    draw.rectangle(rectangle,fill=rectangle_color)"
   ]
  },
  {
   "cell_type": "markdown",
   "metadata": {},
   "source": [
    "## Véletlen kör rajzolása\n",
    "\n",
    "Kör a téglalaphoz hasonlóan kell rajzolni, tehát a bal felső és jobb alsó koordinátapár megadásával. Esetünkben a kör középpontja lehet a vászon peremén, ezért célszerűbb véletlenszerű középpontot választani a váaszon területén, majd azt átszámolni a x0,y0,x1,y0 koordinátákra."
   ]
  },
  {
   "cell_type": "code",
   "execution_count": 4,
   "metadata": {},
   "outputs": [],
   "source": [
    "def drawEllipse(width,height):\n",
    "    x = random.randint(0,width)\n",
    "    y = random.randint(0,height)\n",
    "    r = random.randint(int(width/4), int(width/2))        \n",
    "    x0 = x - r\n",
    "    y0 = y - r\n",
    "    x1 = x + r\n",
    "    y1 = y + r\n",
    "\n",
    "    ellipse_color = (random.randint(150,255),75,25)\n",
    "    ellipse = [x0,y0,x1,y1]\n",
    "\n",
    "    draw.ellipse(ellipse,fill=ellipse_color)"
   ]
  },
  {
   "cell_type": "markdown",
   "metadata": {},
   "source": [
    "## Kép törlése függvény"
   ]
  },
  {
   "cell_type": "code",
   "execution_count": 5,
   "metadata": {},
   "outputs": [],
   "source": [
    "def resetImage(width, height, bg):\n",
    "    draw.rectangle([0,0,width,height],fill=bg)"
   ]
  },
  {
   "cell_type": "markdown",
   "metadata": {},
   "source": [
    "## Kép elkészítése\n",
    "\n",
    "Meghatározzuk a vászon méretét."
   ]
  },
  {
   "cell_type": "code",
   "execution_count": 6,
   "metadata": {},
   "outputs": [],
   "source": [
    "image_width = 400\n",
    "image_height = 600"
   ]
  },
  {
   "cell_type": "markdown",
   "metadata": {},
   "source": [
    "Létrehozzuk a vásznat és a rajzoláshoz szükséges <code>PIL.ImageDraw.ImageDraw</code> osztályt."
   ]
  },
  {
   "cell_type": "code",
   "execution_count": 7,
   "metadata": {},
   "outputs": [],
   "source": [
    "image = Image.new(\"RGB\", (image_width, image_height))\n",
    "draw = ImageDraw.Draw(image)"
   ]
  },
  {
   "cell_type": "markdown",
   "metadata": {},
   "source": [
    "Ezek után már csak a fentebb elhelyezett és megír függvények meghívására van szükség.\n",
    "A <code>resetImage()</code> ebben az esetben két feladatot tölt be. Egyrészt véletlenszerű háttérszínt határoz meg, másrészt többszöri futtatás esetén a vászon törléséért is felel."
   ]
  },
  {
   "cell_type": "code",
   "execution_count": 8,
   "metadata": {},
   "outputs": [
    {
     "data": {
      "image/png": "[encoded data removed]",
      "text/plain": [
       "<PIL.Image.Image image mode=RGB size=400x600>"
      ]
     },
     "metadata": {},
     "output_type": "display_data"
    }
   ],
   "source": [
    "resetImage(image_width,image_height,randomColor(5))\n",
    "\n",
    "drawRectangle(image_width,image_height)\n",
    "drawEllipse(image_width, image_height)\n",
    "\n",
    "display(image)"
   ]
  },
  {
   "cell_type": "markdown",
   "metadata": {},
   "source": [
    "## RGBA használata a pontosabb árnyalatok kedvéért\n",
    "\n",
    "A program tovább fejleszthető, ha RGB színtér helyett bevezetjük az RGBA-t. Ezzel a könnyebben és pontosabban lehet világos és sötét színárnyalatokat generálni. A <code>randomColor()</code> függvényt érdemes ennek tekintetében frissíteni. \n",
    "\n",
    "<code>image = Image.new(\"RGBA\", (width, height), \"black\")</code>"
   ]
  },
  {
   "cell_type": "code",
   "execution_count": 9,
   "metadata": {},
   "outputs": [],
   "source": [
    "def randomColorA(alpha):\n",
    "    color = ()\n",
    "    r = random.randint(0,255)\n",
    "    g = random.randint(0,255)\n",
    "    b = random.randint(0,255)\n",
    "    \n",
    "    color = (r,g,b,alpha)\n",
    "\n",
    "    return color"
   ]
  },
  {
   "cell_type": "code",
   "execution_count": 10,
   "metadata": {},
   "outputs": [
    {
     "data": {
      "image/png": "[encoded data removed]",
      "text/plain": [
       "<PIL.Image.Image image mode=RGBA size=400x600>"
      ]
     },
     "metadata": {},
     "output_type": "display_data"
    }
   ],
   "source": [
    "image = Image.new(\"RGBA\", (image_width, image_height))\n",
    "draw = ImageDraw.Draw(image)\n",
    "\n",
    "bgcolor = randomColorA(25)\n",
    "draw.rectangle([0,0,image_width,image_height],fill=bgcolor)\n",
    "\n",
    "factor = 3\n",
    "x0 = random.randint(0,int(image_width/factor))\n",
    "y0 = random.randint(0,int(image_height/factor))\n",
    "x1 = random.randint(int(image_width/factor),image_width)\n",
    "y1 = random.randint(int(image_height/factor),image_height)\n",
    "\n",
    "rectangle_color = randomColorA(200)\n",
    "rectangle = [x0,y0,x1,y1]\n",
    "\n",
    "draw.rectangle(rectangle,fill=rectangle_color)\n",
    "\n",
    "drawEllipse(image_width,image_height)\n",
    "\n",
    "display(image)"
   ]
  },
  {
   "cell_type": "markdown",
   "metadata": {},
   "source": [
    "## Kép pontos paramétereinek megjelenítése\n",
    "\n",
    "Milyen fő paraméterek határozzák meg a kép kinézetét? Adjuk hozzá a képhez az adatokat.\n",
    "\n",
    "A Kör méretét és színét módosítottjuk, illetve a függvények visszatérítik a kiíratásra szánt értékeket."
   ]
  },
  {
   "cell_type": "code",
   "execution_count": 11,
   "metadata": {},
   "outputs": [],
   "source": [
    "def drawEllipseA(width,height,alpha):\n",
    "    x = random.randint(0,width)\n",
    "    y = random.randint(0,height)\n",
    "    r = random.randint(int(width/4), int(width/3))        \n",
    "    x0 = x - r\n",
    "    y0 = y - r\n",
    "    x1 = x + r\n",
    "    y1 = y + r\n",
    "\n",
    "    ellipse_color = (random.randint(180,255),random.randint(80,150),random.randint(0,50),alpha)\n",
    "    ellipse = [x0,y0,x1,y1]\n",
    "\n",
    "    draw.ellipse(ellipse,fill=ellipse_color)    \n",
    "    \n",
    "    return ellipse, ellipse_color"
   ]
  },
  {
   "cell_type": "code",
   "execution_count": 12,
   "metadata": {},
   "outputs": [],
   "source": [
    "def drawRectangleA(width, height,alpha):\n",
    "    factor = 4\n",
    "    x0 = random.randint(0,int(width/factor))\n",
    "    y0 = random.randint(0,int(height/factor))\n",
    "    x1 = random.randint(width-int(width/factor),width)\n",
    "    y1 = random.randint(width-int(height/factor),height)\n",
    "\n",
    "    rectangle_color = randomColorA(alpha)\n",
    "    rectangle = [x0,y0,x1,y1]\n",
    "\n",
    "    draw.rectangle(rectangle,fill=rectangle_color)\n",
    "\n",
    "    return rectangle, rectangle_color    "
   ]
  },
  {
   "cell_type": "code",
   "execution_count": 13,
   "metadata": {},
   "outputs": [],
   "source": [
    "def drawBackgroundA(width, height, alpha):\n",
    "    bgcolor = randomColorA(alpha)\n",
    "    background = [0,0,width,height]\n",
    "\n",
    "    draw.rectangle(background,fill=bgcolor)\n",
    "\n",
    "    return background, bgcolor"
   ]
  },
  {
   "cell_type": "code",
   "execution_count": 14,
   "metadata": {},
   "outputs": [
    {
     "data": {
      "image/png": "[encoded data removed]",
      "text/plain": [
       "<PIL.Image.Image image mode=RGBA size=400x600>"
      ]
     },
     "metadata": {},
     "output_type": "display_data"
    }
   ],
   "source": [
    "image = Image.new(\"RGBA\", (image_width, image_height))\n",
    "draw = ImageDraw.Draw(image)\n",
    "\n",
    "bg =drawBackgroundA(image_width,image_height,25)\n",
    "x = drawRectangleA(image_width,image_height,200)\n",
    "y = drawEllipseA(image_width,image_height,250)\n",
    "\n",
    "draw.text([10,525],\"Background: \"+str(bg),fill=\"black\")\n",
    "draw.text([10,550],\"Ellipse: \" +str(y), fill=\"black\")\n",
    "draw.text([10,575],\"Rectangle: \"+str(x),fill=\"black\")\n",
    "\n",
    "display(image)"
   ]
  }
 ],
 "metadata": {
  "kernelspec": {
   "display_name": "Python 3",
   "language": "python",
   "name": "python3"
  },
  "language_info": {
   "codemirror_mode": {
    "name": "ipython",
    "version": 3
   },
   "file_extension": ".py",
   "mimetype": "text/x-python",
   "name": "python",
   "nbconvert_exporter": "python",
   "pygments_lexer": "ipython3",
   "version": "3.10.6"
  }
 },
 "nbformat": 4,
 "nbformat_minor": 2
}