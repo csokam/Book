{
 "cells": [
  {
   "cell_type": "markdown",
   "metadata": {},
   "source": [
    "# Halmozó algoritmus\n",
    "\n",
    "<b>Forrás: </b>{cite:p}`moussa_3`\n",
    "\n",
    "Helyezzünk el egy vásznon köröket úgy, hogy azok ne metsszék egymást."
   ]
  },
  {
   "cell_type": "markdown",
   "metadata": {},
   "source": [
    "## Szükséges könyvtárak importálása"
   ]
  },
  {
   "cell_type": "code",
   "execution_count": 1,
   "metadata": {},
   "outputs": [],
   "source": [
    "from PIL import Image, ImageDraw\n",
    "import random\n",
    "import math"
   ]
  },
  {
   "cell_type": "markdown",
   "metadata": {},
   "source": [
    "## Vászon és <code>draw</code> objektum létrehozása"
   ]
  },
  {
   "cell_type": "code",
   "execution_count": 2,
   "metadata": {},
   "outputs": [],
   "source": [
    "image_width = 500\n",
    "image_height = 500\n",
    "\n",
    "image = Image.new(\"RGB\", (image_width, image_height))\n",
    "draw = ImageDraw.Draw(image)"
   ]
  },
  {
   "cell_type": "markdown",
   "metadata": {},
   "source": [
    "## Vászon \"kiürítése\"\n",
    "\n",
    "A PIL nem kezel rétegeket, csak sorrendiséget. Ebből kifolyólag a vászon megtisztítható egy vászon méretű téglalap megrajzolásával."
   ]
  },
  {
   "cell_type": "code",
   "execution_count": 3,
   "metadata": {},
   "outputs": [],
   "source": [
    "def resetImage(width, height, bg):\n",
    "    draw.rectangle([0, 0, width, height], fill=bg)"
   ]
  },
  {
   "cell_type": "markdown",
   "metadata": {},
   "source": [
    "## Véletlen kör generálása függvénnyel"
   ]
  },
  {
   "cell_type": "code",
   "execution_count": 4,
   "metadata": {},
   "outputs": [],
   "source": [
    "def genEllipse():\n",
    "    x = random.randint(0, 500)\n",
    "    y = random.randint(0, 500)\n",
    "    r = random.randint(5, 100)\n",
    "    return x, y, r"
   ]
  },
  {
   "cell_type": "markdown",
   "metadata": {},
   "source": [
    "## Kör rajzolása paraméterek alapján"
   ]
  },
  {
   "cell_type": "code",
   "execution_count": 5,
   "metadata": {},
   "outputs": [],
   "source": [
    "def drawEllipse(x, y, r):\n",
    "    draw.ellipse([x - r, y - r, x + r, y + r], outline=\"white\", fill=\"black\")"
   ]
  },
  {
   "cell_type": "markdown",
   "metadata": {},
   "source": [
    "## Metsző körök kiszűrése"
   ]
  },
  {
   "cell_type": "code",
   "execution_count": 6,
   "metadata": {},
   "outputs": [],
   "source": [
    "def drawCheck(distance, radii):\n",
    "    if distance > radii:\n",
    "        return True\n",
    "    else:\n",
    "        return False"
   ]
  },
  {
   "cell_type": "markdown",
   "metadata": {},
   "source": [
    "## Kész program\n",
    "\n",
    "A program minden megrajzolt kör adatait hozzáadja egy listához, majd a soron következő kör adatait összeveti a lista összes elemével. Így kiderül, hogy az alakzat megrajzolható-e.\n",
    "\n",
    "- hogyan lehetne kiíratni, hány kört rakott le a program?\n",
    "- a program számítsa ki a felhasznált és felhasználatlan terület arányát\n",
    "- hogyan lehetne a nagy körökbe tovább kisebb köröket pakolni metszés nélkül?"
   ]
  },
  {
   "cell_type": "code",
   "execution_count": 7,
   "metadata": {},
   "outputs": [
    {
     "data": {
      "image/png": "[encoded data removed]",
      "text/plain": [
       "<PIL.Image.Image image mode=RGB size=500x500 at 0x21715F0E260>"
      ]
     },
     "metadata": {},
     "output_type": "display_data"
    }
   ],
   "source": [
    "resetImage(image_width, image_height, \"black\")\n",
    "\n",
    "check = True\n",
    "circles = []\n",
    "\n",
    "for i in range(0, 10000):\n",
    "    x, y, r = genEllipse()\n",
    "\n",
    "    for circle in circles:\n",
    "        distance_x = abs(x - circle[0])\n",
    "        distance_y = abs(y - circle[1])\n",
    "        distance = int(math.sqrt(pow(distance_x, 2) + pow(distance_y, 2)))\n",
    "\n",
    "        radii = r + circle[2]\n",
    "        check = drawCheck(distance, radii)\n",
    "        if check == False:\n",
    "            break\n",
    "    if check == True:\n",
    "        circles.append((x, y, r))\n",
    "\n",
    "\n",
    "for circle in circles:\n",
    "    x, y, r = circle\n",
    "    drawEllipse(x, y, r)\n",
    "\n",
    "display(image)"
   ]
  }
 ],
 "metadata": {
  "kernelspec": {
   "display_name": "Python 3",
   "language": "python",
   "name": "python3"
  },
  "language_info": {
   "codemirror_mode": {
    "name": "ipython",
    "version": 3
   },
   "file_extension": ".py",
   "mimetype": "text/x-python",
   "name": "python",
   "nbconvert_exporter": "python",
   "pygments_lexer": "ipython3",
   "version": "3.10.6"
  }
 },
 "nbformat": 4,
 "nbformat_minor": 2
}