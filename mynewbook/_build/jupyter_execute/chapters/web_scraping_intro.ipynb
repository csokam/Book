{
 "cells": [
  {
   "cell_type": "markdown",
   "id": "28f3543e-d824-4839-ba94-09f4c23e7164",
   "metadata": {},
   "source": [
    "# Adatbányászat - Web scraping\n",
    "\n",
    "Adatok és információk weboldalakról kinyerésével foglalkozik."
   ]
  },
  {
   "cell_type": "markdown",
   "id": "3b5c95f1-e07f-4efd-bc70-3e72512d577c",
   "metadata": {},
   "source": [
    "### Szükséges könyvtárak telepítése, importálása"
   ]
  },
  {
   "cell_type": "code",
   "execution_count": 1,
   "id": "b23c12fd",
   "metadata": {},
   "outputs": [],
   "source": [
    "#%pip install bs4\n",
    "#%pip install requests"
   ]
  },
  {
   "cell_type": "code",
   "execution_count": 2,
   "id": "7d56258b-f94e-4e85-ad45-d4f20d84805a",
   "metadata": {},
   "outputs": [],
   "source": [
    "from bs4 import BeautifulSoup\n",
    "import requests as re\n",
    "import time"
   ]
  },
  {
   "cell_type": "markdown",
   "id": "c0d6ed2a",
   "metadata": {},
   "source": [
    "## 1. Mintafeladat\n",
    "\n",
    "https://www.scrapethissite.com/pages/simple/ weboldalról gyűjtsük ki az adatokat.\n",
    "\n",
    "<b>Megoldáshoz vezető lépések:</b>\n",
    "1. weboldal felmérése\n",
    "2. kérdés(ek) megfogalmazása\n",
    "3. adatgyűjtés\n",
    "4. küzdelem a begyűjtött adatokkal\n",
    "5. kérdés(ek) megválaszolása\n",
    "6. megoldás bemutatása mások számára is érthető módon"
   ]
  },
  {
   "cell_type": "markdown",
   "id": "1806e671",
   "metadata": {},
   "source": [
    "### Weboldal elérése"
   ]
  },
  {
   "cell_type": "code",
   "execution_count": 3,
   "id": "cba16cf7",
   "metadata": {},
   "outputs": [
    {
     "name": "stdout",
     "output_type": "stream",
     "text": [
      "<Response [200]>\n"
     ]
    }
   ],
   "source": [
    "url = \"https://www.scrapethissite.com/pages/simple/\"\n",
    "\n",
    "response = re.get(url)\n",
    "print(response)"
   ]
  },
  {
   "cell_type": "markdown",
   "id": "4e14cd0a",
   "metadata": {},
   "source": [
    "## <code>print()</code> limitálása\n",
    "\n",
    "Az adatbányászat témakörnél előfordul, hogy egy egyszerű <code>print()</code> utasítás kimenete terjedelmes és rontja a jegyzet olvashatóságát. Az alábbi függvény segítségével limitáljuk a kimenetet. Általában 1000 karakterből el tudjuk dönteni a kimenet helyességét, de szükség esetén könnyen növelhető, csökkenthető.\n",
    "\n",
    "<code>obj</code> - mit szeretnénk kiíratni?\n",
    "\n",
    "<code>length</code> - hány karakternyit szeretnék kiíratni?"
   ]
  },
  {
   "cell_type": "code",
   "execution_count": 4,
   "id": "1daff4bd",
   "metadata": {},
   "outputs": [],
   "source": [
    "def printLimited(obj, length):\n",
    "    print(str(obj)[:length])"
   ]
  },
  {
   "cell_type": "markdown",
   "id": "00f352e0",
   "metadata": {},
   "source": [
    "### Weboldal tartalmának kinyerése"
   ]
  },
  {
   "cell_type": "code",
   "execution_count": 5,
   "id": "f1a8b8ae",
   "metadata": {},
   "outputs": [
    {
     "name": "stdout",
     "output_type": "stream",
     "text": [
      "<!DOCTYPE html>\n",
      "\n",
      "<html lang=\"en\">\n",
      "<head>\n",
      "<meta charset=\"utf-8\"/>\n",
      "<title>Countries of the World: A Simple Example | Scrape This Site | A public sandbox for learning web scraping</title>\n",
      "<link href=\"/static/images/scraper-icon.png\" rel=\"icon\" type=\"image/png\"/>\n",
      "<meta content=\"width=device-width, initial-scale=1.0\" name=\"viewport\"/>\n",
      "<meta content=\"A single page that lists information about all the countries in the world. Good for those just get started with web scraping.\" name=\"description\"/>\n",
      "<link crossorigin=\"anonymous\" href=\"https://maxcdn.bootstrapcdn.com/bootstrap/3.3.5/css/bootstrap.min.css\" integrity=\"sha256-MfvZlkHCEqatNoGiOXveE8FIwMzZg4W85qfrfIFBfYc= sha512-dTfge/zgoMYpP7QbHy4gWMEGsbsdZeCXz7irItjcC3sPUFtf0kuFbDz/ixG7ArTxmDjLXDmezHubeNikyKGVyQ==\" rel=\"stylesheet\"/>\n",
      "<link href=\"https://fonts.googleapis.com/css?family=Lato:400,700\" rel=\"stylesheet\" type=\"text/css\"/>\n",
      "<link href=\"/static/css/styles.css\" rel=\"stylesheet\" type=\"text/css\"/>\n",
      "<meta content=\"noindex\" name=\"robots\"/>\n",
      "<link h\n"
     ]
    }
   ],
   "source": [
    "soup = BeautifulSoup(response.text, \"html.parser\")\n",
    "\n",
    "printLimited(soup, 1000)"
   ]
  },
  {
   "cell_type": "markdown",
   "id": "2bd1009c",
   "metadata": {},
   "source": [
    "### Cím kiíratása - <code>title</code>"
   ]
  },
  {
   "cell_type": "code",
   "execution_count": 6,
   "id": "1f231266",
   "metadata": {},
   "outputs": [
    {
     "name": "stdout",
     "output_type": "stream",
     "text": [
      "<title>Countries of the World: A Simple Example | Scrape This Site | A public sandbox for learning web scraping</title>\n",
      "Countries of the World: A Simple Example | Scrape This Site | A public sandbox for learning web scraping\n"
     ]
    }
   ],
   "source": [
    "print(soup.title)\n",
    "print(soup.title.string)"
   ]
  },
  {
   "cell_type": "markdown",
   "id": "7a2cf2fe",
   "metadata": {},
   "source": [
    "### Ország(ok) nevei - <code>find</code> és <code>find_all</code>"
   ]
  },
  {
   "cell_type": "code",
   "execution_count": 7,
   "id": "e04b5273",
   "metadata": {},
   "outputs": [
    {
     "name": "stdout",
     "output_type": "stream",
     "text": [
      "<html lang=\"en\">\n",
      "<head>\n",
      "<meta charset=\"utf-8\"/>\n",
      "<title>Countries of the World: A Simple Example | Scrape This Site | A public sandbox for learning web scraping</title>\n",
      "<link href=\"/static/images/scraper-icon.png\" rel=\"icon\" type=\"image/png\"/>\n",
      "<meta content=\"width=device-width, initial-scale=1.0\" name=\"viewport\"/>\n",
      "<meta content=\"A single page that lists information about all the countries in the world. Good for those just get started with web scraping.\" name=\"description\"/>\n",
      "<link crossorigin=\"ano\n"
     ]
    }
   ],
   "source": [
    "#h3\n",
    "countries = soup.find()\n",
    "\n",
    "printLimited(countries, 500)"
   ]
  },
  {
   "cell_type": "markdown",
   "id": "a00419b6",
   "metadata": {},
   "source": [
    "### Ország(ok) adatai\n",
    "\n",
    "Milyen tag tartalmazza a kívánt adatot? Van azonosítója?"
   ]
  },
  {
   "cell_type": "code",
   "execution_count": 8,
   "id": "0d930d10",
   "metadata": {},
   "outputs": [
    {
     "name": "stdout",
     "output_type": "stream",
     "text": [
      "Andorra la Vella\n"
     ]
    }
   ],
   "source": [
    "print(soup.find(\"span\", class_=\"country-capital\").text)"
   ]
  },
  {
   "cell_type": "markdown",
   "id": "b3d02abf",
   "metadata": {},
   "source": [
    "### Leg... országok\n",
    "\n",
    "- Mennyi a legnagyobb ország népessége?\n",
    "- Milyen lenne az \"átlagos\" ország?\n",
    "- Hány ország adatait gyűjtöttük ki?"
   ]
  },
  {
   "cell_type": "code",
   "execution_count": 9,
   "id": "c6398e57",
   "metadata": {},
   "outputs": [],
   "source": [
    "population = soup.find_all(\"span\", class_=\"country-population\")\n",
    "\n",
    "population_numbers = []\n",
    "\n",
    "for item in population:\n",
    "    population_numbers.append(int(item.text))"
   ]
  },
  {
   "cell_type": "markdown",
   "id": "b816469d",
   "metadata": {},
   "source": [
    "## 2. Kiválasztott weboldal elérése\n",
    "\n",
    "200-as kód sikeres lekérést jelöl"
   ]
  },
  {
   "cell_type": "code",
   "execution_count": 10,
   "id": "771b0874-9bb7-42c9-a30a-b6b3e2b48c7e",
   "metadata": {},
   "outputs": [
    {
     "name": "stdout",
     "output_type": "stream",
     "text": [
      "200\n",
      "Siker!\n"
     ]
    }
   ],
   "source": [
    "url = \"https://hu.wikipedia.org/wiki/Kateg%C3%B3ria:N%C3%B6v%C3%A9nycsal%C3%A1dok\"\n",
    "\n",
    "response = re.get(url)\n",
    "print(response.status_code)\n",
    "\n",
    "if response.status_code == 200:\n",
    "    print(\"Siker!\")"
   ]
  },
  {
   "cell_type": "markdown",
   "id": "b928b97a",
   "metadata": {},
   "source": [
    "## BeautifulSoup könyvtár alapok"
   ]
  },
  {
   "cell_type": "markdown",
   "id": "f4155ce1",
   "metadata": {},
   "source": [
    "Weboldal struktúrájának kinyerése"
   ]
  },
  {
   "cell_type": "code",
   "execution_count": 11,
   "id": "b85d19d5-c496-4376-8e69-ae36105e3acf",
   "metadata": {},
   "outputs": [],
   "source": [
    "soup = BeautifulSoup(response.text, \"html.parser\")"
   ]
  },
  {
   "cell_type": "markdown",
   "id": "b30f7f9d",
   "metadata": {},
   "source": [
    "### Feladat - ellenőrizd le a <code>soup</code> változó tartalmát!"
   ]
  },
  {
   "cell_type": "code",
   "execution_count": 12,
   "id": "6bfdc894",
   "metadata": {},
   "outputs": [
    {
     "name": "stdout",
     "output_type": "stream",
     "text": [
      "<!DOCTYPE html>\n",
      "\n",
      "<html class=\"client-nojs vector-feature-language-in-header-enabled vector-feature-language-in-main-page-header-disabled vector-feature-sticky-header-disabled vector-feature-page-tools-pinned-disabled vector-feature-toc-pinned-clientpref-1 vector-feature-main-menu-pinned-disabled vector-feature-limited-width-clientpref-1 vector-feature-limited-width-content-disabled vector-feature-custom-font-size-clientpref-0 vector-feature-client-preferences-disabled vector-feature-client-prefs\n"
     ]
    }
   ],
   "source": [
    "printLimited(soup, 500)"
   ]
  },
  {
   "cell_type": "markdown",
   "id": "1df7d823",
   "metadata": {},
   "source": [
    "A kiíratást meg lehet csinálni szebben is a <code>prettify()</code> paranccsal, viszont az eredménye a <code>printLimited()<code> függvény miatt nem fog látszódni."
   ]
  },
  {
   "cell_type": "code",
   "execution_count": 13,
   "id": "ab5a3ed9",
   "metadata": {},
   "outputs": [
    {
     "name": "stdout",
     "output_type": "stream",
     "text": [
      "<!DOCTYPE html>\n",
      "<html class=\"client-nojs vector-feature-language-in-header-enabled vector-feature-language-in-main-page-header-disabled vector-feature-sticky-header-disabled vector-feature-page-tools-pinned-disabled vector-feature-toc-pinned-clientpref-1 vector-feature-main-menu-pinned-disabled vector-feature-limited-width-clientpref-1 vector-feature-limited-width-content-disabled vector-feature-custom-font-size-clientpref-0 vector-feature-client-preferences-disabled vector-feature-client-prefs-\n"
     ]
    }
   ],
   "source": [
    "printLimited(soup.prettify(), 500)"
   ]
  },
  {
   "cell_type": "markdown",
   "id": "e2e5303a",
   "metadata": {},
   "source": [
    "### Bizonyos HTML tag keresése\n",
    "\n",
    "<code>prettify()</code> itt is működik"
   ]
  },
  {
   "cell_type": "code",
   "execution_count": 14,
   "id": "7ad00358",
   "metadata": {},
   "outputs": [
    {
     "name": "stdout",
     "output_type": "stream",
     "text": [
      "<div class=\"vector-header-container\">\n",
      "<header class=\"vector-header mw-header\">\n",
      "<div class=\"vector-header-start\">\n",
      "<nav aria-label=\"Wiki\" class=\"vector-main-menu-landmark\" role=\"navigation\">\n",
      "<div class=\"vector-dropdown vector-main-menu-dropdown vector-button-flush-left vector-button-flush-right\" id=\"vector-main-menu-dropdown\">\n",
      "<input aria-haspopup=\"true\" aria-label=\"Főmenü\" class=\"vector-dropdown-checkbox\" data-event-name=\"ui.dropdown-vector-main-menu-dropdown\" id=\"vector-main-menu-dropdown-checkb\n"
     ]
    }
   ],
   "source": [
    "articles = soup.find(\"div\")\n",
    "printLimited(articles, 500)"
   ]
  },
  {
   "cell_type": "markdown",
   "id": "4a576fd0",
   "metadata": {},
   "source": [
    "A választott weboldalon jobb kattintás után <code>Vizsgálat</code> (<code>Inspect</code>) funkció sok hasznos információt árul el a weboldal felépítéséről.\n",
    "\n",
    "<img src=\"web_scraping_1.png\">"
   ]
  },
  {
   "cell_type": "code",
   "execution_count": 15,
   "id": "db7720e6-4c73-4a6a-ae92-95bfc26505c3",
   "metadata": {},
   "outputs": [
    {
     "name": "stdout",
     "output_type": "stream",
     "text": [
      "<div class=\"mw-category mw-category-columns\"><div class=\"mw-category-group\"><h3> </h3>\n",
      "<ul><li><a href=\"/wiki/N%C3%B6v%C3%A9nycsal%C3%A1dok_list%C3%A1ja\" title=\"Növénycsaládok listája\">Növénycsaládok listája</a></li></ul></div><div class=\"mw-category-group\"><h3>A</h3>\n",
      "<ul><li><a href=\"/wiki/Alk%C3%B6rm%C3%B6sf%C3%A9l%C3%A9k\" title=\"Alkörmösfélék\">Alkörmösfélék</a></li>\n",
      "<li><a href=\"/wiki/%C3%81ltiszafaf%C3%A9l%C3%A9k\" title=\"Áltiszafafélék\">Áltiszafafélék</a></li>\n",
      "<li><a href=\"/wiki/Amarilliszf%\n"
     ]
    }
   ],
   "source": [
    "#mw-category mw-category-columns\n",
    "\n",
    "articles = soup.find(\"div\", class_=\"mw-category mw-category-columns\")\n",
    "printLimited(articles, 500)"
   ]
  },
  {
   "cell_type": "code",
   "execution_count": 16,
   "id": "f5b8706d-0294-4ae7-9500-9ce4cee09cb2",
   "metadata": {},
   "outputs": [
    {
     "name": "stdout",
     "output_type": "stream",
     "text": [
      "https://hu.wikipedia.org/wiki/N%C3%B6v%C3%A9nycsal%C3%A1dok_list%C3%A1ja\n",
      "https://hu.wikipedia.org/wiki/Alk%C3%B6rm%C3%B6sf%C3%A9l%C3%A9k\n",
      "https://hu.wikipedia.org/wiki/%C3%81ltiszafaf%C3%A9l%C3%A9k\n",
      "https://hu.wikipedia.org/wiki/Amarilliszf%C3%A9l%C3%A9k\n",
      "https://hu.wikipedia.org/wiki/Anacampserotaceae\n",
      "https://hu.wikipedia.org/wiki/Ann%C3%B3naf%C3%A9l%C3%A9k\n",
      "https://hu.wikipedia.org/wiki/Apodanthaceae\n",
      "https://hu.wikipedia.org/wiki/Ar%C3%A1liaf%C3%A9l%C3%A9k\n",
      "https://hu.wikipedia.org/wiki/Arauk%C3%A1riaf%C3%A9l%C3%A9k\n",
      "https://hu.wikipedia.org/wiki/%C3%81rvacsal%C3%A1nf%C3%A9l%C3%A9k\n",
      "https://hu.wikipedia.org/wiki/Bab%C3%A9rf%C3%A9l%C3%A9k\n",
      "https://hu.wikipedia.org/wiki/B%C3%A1lv%C3%A1nyfaf%C3%A9l%C3%A9k\n",
      "https://hu.wikipedia.org/wiki/Ban%C3%A1nf%C3%A9l%C3%A9k\n",
      "https://hu.wikipedia.org/wiki/Barkamirtuszf%C3%A9l%C3%A9k\n",
      "https://hu.wikipedia.org/wiki/Beg%C3%B3niaf%C3%A9l%C3%A9k\n",
      "https://hu.wikipedia.org/wiki/B%C3%A9kasz%C5%91l%C5%91f%C3%A9l%C3%A9k\n",
      "https://hu.wikipedia.org/wiki/B%C3%A9katutajf%C3%A9l%C3%A9k\n",
      "https://hu.wikipedia.org/wiki/Bengef%C3%A9l%C3%A9k\n",
      "https://hu.wikipedia.org/wiki/Bogl%C3%A1rkaf%C3%A9l%C3%A9k\n",
      "https://hu.wikipedia.org/wiki/Bor%C3%A1g%C3%B3f%C3%A9l%C3%A9k\n",
      "https://hu.wikipedia.org/wiki/Borbolyaf%C3%A9l%C3%A9k\n",
      "https://hu.wikipedia.org/wiki/Boroszl%C3%A1nf%C3%A9l%C3%A9k\n",
      "https://hu.wikipedia.org/wiki/Borsf%C3%A9l%C3%A9k\n",
      "https://hu.wikipedia.org/wiki/Brom%C3%A9liaf%C3%A9l%C3%A9k\n",
      "https://hu.wikipedia.org/wiki/Bunk%C3%B3sp%C3%A1lmaf%C3%A9l%C3%A9k\n",
      "https://hu.wikipedia.org/wiki/Burgonyaf%C3%A9l%C3%A9k\n",
      "https://hu.wikipedia.org/wiki/Buz%C3%A9rf%C3%A9l%C3%A9k\n",
      "https://hu.wikipedia.org/wiki/B%C3%BCkkfaf%C3%A9l%C3%A9k\n",
      "https://hu.wikipedia.org/wiki/Chlamydomonadaceae\n",
      "https://hu.wikipedia.org/wiki/Cik%C3%A1szf%C3%A9l%C3%A9k\n",
      "https://hu.wikipedia.org/wiki/Ciprusf%C3%A9l%C3%A9k\n",
      "https://hu.wikipedia.org/wiki/Cleomaceae\n",
      "https://hu.wikipedia.org/wiki/Csal%C3%A1nf%C3%A9l%C3%A9k\n",
      "https://hu.wikipedia.org/wiki/Csatavir%C3%A1gf%C3%A9l%C3%A9k\n",
      "https://hu.wikipedia.org/wiki/Csavarp%C3%A1lmaf%C3%A9l%C3%A9k\n",
      "https://hu.wikipedia.org/wiki/Csik%C3%B3fark\n",
      "https://hu.wikipedia.org/wiki/Csipkeharasztok\n",
      "https://hu.wikipedia.org/wiki/Csodat%C3%B6lcs%C3%A9rf%C3%A9l%C3%A9k\n",
      "https://hu.wikipedia.org/wiki/Csuporkaf%C3%A9l%C3%A9k\n",
      "https://hu.wikipedia.org/wiki/Dasypogonaceae\n",
      "https://hu.wikipedia.org/wiki/Dill%C3%A9niaf%C3%A9l%C3%A9k\n",
      "https://hu.wikipedia.org/wiki/Dinnyefaf%C3%A9l%C3%A9k\n",
      "https://hu.wikipedia.org/wiki/Di%C3%B3faf%C3%A9l%C3%A9k\n",
      "https://hu.wikipedia.org/wiki/Dipentodontaceae\n",
      "https://hu.wikipedia.org/wiki/Dipterokarpuszf%C3%A9l%C3%A9k\n",
      "https://hu.wikipedia.org/wiki/D%C3%ADszlev%C3%A9lfaf%C3%A9l%C3%A9k\n",
      "https://hu.wikipedia.org/wiki/Diszn%C3%B3par%C3%A9jf%C3%A9l%C3%A9k\n",
      "https://hu.wikipedia.org/wiki/Eperfaf%C3%A9l%C3%A9k\n",
      "https://hu.wikipedia.org/wiki/Escalloniaceae\n",
      "https://hu.wikipedia.org/wiki/Ez%C3%BCstfaf%C3%A9l%C3%A9k\n",
      "https://hu.wikipedia.org/wiki/Fak%C3%ADnf%C3%A9l%C3%A9k\n",
      "https://hu.wikipedia.org/wiki/Farkasalmaf%C3%A9l%C3%A9k\n",
      "https://hu.wikipedia.org/wiki/Feny%C5%91f%C3%A9l%C3%A9k\n",
      "https://hu.wikipedia.org/wiki/Fissidentaceae\n",
      "https://hu.wikipedia.org/wiki/Fogpiszk%C3%A1l%C3%B3f%C5%B1\n",
      "https://hu.wikipedia.org/wiki/F%C5%B1faf%C3%A9l%C3%A9k\n",
      "https://hu.wikipedia.org/wiki/F%C5%B1szercserjef%C3%A9l%C3%A9k\n",
      "https://hu.wikipedia.org/wiki/F%C3%BCz%C3%A9nyf%C3%A9l%C3%A9k\n",
      "https://hu.wikipedia.org/wiki/F%C5%B1zfaf%C3%A9l%C3%A9k\n",
      "https://hu.wikipedia.org/wiki/Gn%C3%A9tum\n",
      "https://hu.wikipedia.org/wiki/Golgotavir%C3%A1gf%C3%A9l%C3%A9k\n",
      "https://hu.wikipedia.org/wiki/G%C3%B3lyaorrf%C3%A9l%C3%A9k\n",
      "https://hu.wikipedia.org/wiki/G%C3%B6rv%C3%A9lyf%C5%B1f%C3%A9l%C3%A9k\n",
      "https://hu.wikipedia.org/wiki/Gy%C3%A9k%C3%A9nyf%C3%A9l%C3%A9k\n",
      "https://hu.wikipedia.org/wiki/Gyommohaf%C3%A9l%C3%A9k\n",
      "https://hu.wikipedia.org/wiki/Gy%C3%B6mb%C3%A9rf%C3%A9l%C3%A9k\n",
      "https://hu.wikipedia.org/wiki/Gy%C3%B6ngyvir%C3%A1gfaf%C3%A9l%C3%A9k\n",
      "https://hu.wikipedia.org/wiki/Halimedaceae\n",
      "https://hu.wikipedia.org/wiki/Hangaf%C3%A9l%C3%A9k\n",
      "https://hu.wikipedia.org/wiki/Harangvir%C3%A1gf%C3%A9l%C3%A9k\n",
      "https://hu.wikipedia.org/wiki/Harmatf%C5%B1f%C3%A9l%C3%A9k\n",
      "https://hu.wikipedia.org/wiki/Hernandiaceae\n",
      "https://hu.wikipedia.org/wiki/H%C3%ADd%C5%91rf%C3%A9l%C3%A9k\n",
      "https://hu.wikipedia.org/wiki/Hortenziaf%C3%A9l%C3%A9k\n",
      "https://hu.wikipedia.org/wiki/Hydatellaceae\n",
      "https://hu.wikipedia.org/wiki/Hypoxidaceae\n",
      "https://hu.wikipedia.org/wiki/Ibolyaf%C3%A9l%C3%A9k\n",
      "https://hu.wikipedia.org/wiki/Jap%C3%A1n_erny%C5%91feny%C5%91\n",
      "https://hu.wikipedia.org/wiki/Kaktuszf%C3%A9l%C3%A9k\n",
      "https://hu.wikipedia.org/wiki/K%C3%A1lmosvir%C3%A1g%C3%BAak\n",
      "https://hu.wikipedia.org/wiki/Kankalinf%C3%A9l%C3%A9k\n",
      "https://hu.wikipedia.org/wiki/Kannaf%C3%A9l%C3%A9k\n",
      "https://hu.wikipedia.org/wiki/K%C3%A1posztaf%C3%A9l%C3%A9k\n",
      "https://hu.wikipedia.org/wiki/Kaprif%C3%A9l%C3%A9k\n",
      "https://hu.wikipedia.org/wiki/Kazu%C3%A1rfaf%C3%A9l%C3%A9k\n",
      "https://hu.wikipedia.org/wiki/Kecsker%C3%A1g%C3%B3f%C3%A9l%C3%A9k\n",
      "https://hu.wikipedia.org/wiki/K%C3%A9kh%C3%BCvelyf%C3%A9l%C3%A9k\n",
      "https://hu.wikipedia.org/wiki/Kenderf%C3%A9l%C3%A9k\n",
      "https://hu.wikipedia.org/wiki/Keser%C5%B1f%C5%B1f%C3%A9l%C3%A9k\n",
      "https://hu.wikipedia.org/wiki/Kikericsf%C3%A9l%C3%A9k\n",
      "https://hu.wikipedia.org/wiki/Kontyvir%C3%A1gf%C3%A9l%C3%A9k\n",
      "https://hu.wikipedia.org/wiki/Kosborf%C3%A9l%C3%A9k\n",
      "https://hu.wikipedia.org/wiki/K%C5%91tiszafaf%C3%A9l%C3%A9k\n",
      "https://hu.wikipedia.org/wiki/K%C5%91t%C3%B6r%C5%91f%C5%B1f%C3%A9l%C3%A9k\n",
      "https://hu.wikipedia.org/wiki/Krist%C3%A1lyvir%C3%A1gf%C3%A9l%C3%A9k\n",
      "https://hu.wikipedia.org/wiki/Kutyatejf%C3%A9l%C3%A9k\n",
      "https://hu.wikipedia.org/wiki/K%C3%BCll%C5%91folyond%C3%A1rf%C3%A9l%C3%A9k\n",
      "https://hu.wikipedia.org/wiki/K%C3%BCrtvir%C3%A1gf%C3%A9l%C3%A9k\n",
      "https://hu.wikipedia.org/wiki/Laxmanniaceae\n",
      "https://hu.wikipedia.org/wiki/Lenf%C3%A9l%C3%A9k\n",
      "https://hu.wikipedia.org/wiki/Ligetsz%C3%A9pef%C3%A9l%C3%A9k\n",
      "https://hu.wikipedia.org/wiki/Liliomfaf%C3%A9l%C3%A9k\n",
      "https://hu.wikipedia.org/wiki/Liliomf%C3%A9l%C3%A9k\n",
      "https://hu.wikipedia.org/wiki/Loncf%C3%A9l%C3%A9k\n",
      "https://hu.wikipedia.org/wiki/L%C3%B3tuszf%C3%A9l%C3%A9k\n",
      "https://hu.wikipedia.org/wiki/Mad%C3%A1rs%C3%B3skaf%C3%A9l%C3%A9k\n",
      "https://hu.wikipedia.org/wiki/Magyal\n",
      "https://hu.wikipedia.org/wiki/M%C3%A1kf%C3%A9l%C3%A9k\n",
      "https://hu.wikipedia.org/wiki/Malpighicserjef%C3%A9l%C3%A9k\n",
      "https://hu.wikipedia.org/wiki/M%C3%A1lyvaf%C3%A9l%C3%A9k\n",
      "https://hu.wikipedia.org/wiki/Medvek%C3%B6r%C3%B6mf%C3%A9l%C3%A9k\n",
      "https://hu.wikipedia.org/wiki/Met%C3%A9ngf%C3%A9l%C3%A9k\n",
      "https://hu.wikipedia.org/wiki/Mirtuszf%C3%A9l%C3%A9k\n",
      "https://hu.wikipedia.org/wiki/Mocs%C3%A1rciprusf%C3%A9l%C3%A9k\n",
      "https://hu.wikipedia.org/wiki/Musk%C3%A1tdi%C3%B3f%C3%A9l%C3%A9k\n",
      "https://hu.wikipedia.org/wiki/Neb%C3%A1ncsvir%C3%A1gf%C3%A9l%C3%A9k\n",
      "https://hu.wikipedia.org/wiki/N%C5%91sziromf%C3%A9l%C3%A9k\n",
      "https://hu.wikipedia.org/wiki/Ny%C3%ADlgy%C3%B6k%C3%A9rf%C3%A9l%C3%A9k\n",
      "https://hu.wikipedia.org/wiki/Ny%C3%ADrfaf%C3%A9l%C3%A9k\n",
      "https://hu.wikipedia.org/wiki/Olajfaf%C3%A9l%C3%A9k\n",
      "https://hu.wikipedia.org/wiki/%C3%93lomgy%C3%B6k%C3%A9rf%C3%A9l%C3%A9k\n",
      "https://hu.wikipedia.org/wiki/Orb%C3%A1ncf%C5%B1f%C3%A9l%C3%A9k\n",
      "https://hu.wikipedia.org/wiki/%C3%93ri%C3%A1svir%C3%A1gf%C3%A9l%C3%A9k\n",
      "https://hu.wikipedia.org/wiki/%C5%90szir%C3%B3zsaf%C3%A9l%C3%A9k\n",
      "https://hu.wikipedia.org/wiki/P%C3%A1fr%C3%A1nyfeny%C5%91f%C3%A9l%C3%A9k\n",
      "https://hu.wikipedia.org/wiki/Palkaf%C3%A9l%C3%A9k\n",
      "https://hu.wikipedia.org/wiki/P%C3%A1lmaf%C3%A9l%C3%A9k\n",
      "https://hu.wikipedia.org/wiki/Papag%C3%A1jvir%C3%A1g-f%C3%A9l%C3%A9k\n",
      "https://hu.wikipedia.org/wiki/Paracryphiaceae\n",
      "https://hu.wikipedia.org/wiki/Perjef%C3%A9l%C3%A9k\n",
      "https://hu.wikipedia.org/wiki/Petrosaviaceae\n",
      "https://hu.wikipedia.org/wiki/P%C3%A9zsmabogl%C3%A1rf%C3%A9l%C3%A9k\n",
      "https://hu.wikipedia.org/wiki/Philesiaceae\n",
      "https://hu.wikipedia.org/wiki/Picramniaceae\n",
      "https://hu.wikipedia.org/wiki/Pillang%C3%B3svir%C3%A1g%C3%BAak\n",
      "https://hu.wikipedia.org/wiki/Plat%C3%A1nf%C3%A9l%C3%A9k\n",
      "https://hu.wikipedia.org/wiki/Porcsinf%C3%A9l%C3%A9k\n",
      "https://hu.wikipedia.org/wiki/Pottiaceae\n",
      "https://hu.wikipedia.org/wiki/Pr%C3%B3teaf%C3%A9l%C3%A9k\n",
      "https://hu.wikipedia.org/wiki/Puszp%C3%A1ngf%C3%A9l%C3%A9k\n",
      "https://hu.wikipedia.org/wiki/Rezedaf%C3%A9l%C3%A9k\n",
      "https://hu.wikipedia.org/wiki/R%C3%B3zsaf%C3%A9l%C3%A9k\n",
      "https://hu.wikipedia.org/wiki/Rutaf%C3%A9l%C3%A9k\n",
      "https://hu.wikipedia.org/wiki/Sabiaceae\n",
      "https://hu.wikipedia.org/wiki/Saururaceae\n",
      "https://hu.wikipedia.org/wiki/Schisandraceae\n",
      "https://hu.wikipedia.org/wiki/Schoepfiaceae\n",
      "https://hu.wikipedia.org/wiki/Somf%C3%A9l%C3%A9k\n",
      "https://hu.wikipedia.org/wiki/Sp%C3%A1rgaf%C3%A9l%C3%A9k\n",
      "https://hu.wikipedia.org/wiki/Szappanfaf%C3%A9l%C3%A9k\n",
      "https://hu.wikipedia.org/wiki/Szegf%C5%B1f%C3%A9l%C3%A9k\n",
      "https://hu.wikipedia.org/wiki/Szilfaf%C3%A9l%C3%A9k\n",
      "https://hu.wikipedia.org/wiki/Szitty%C3%B3f%C3%A9l%C3%A9k\n",
      "https://hu.wikipedia.org/wiki/Szivarfaf%C3%A9l%C3%A9k\n",
      "https://hu.wikipedia.org/wiki/Sz%C5%91l%C5%91f%C3%A9l%C3%A9k\n",
      "https://hu.wikipedia.org/wiki/Sz%C3%B6m%C3%B6rcef%C3%A9l%C3%A9k\n",
      "https://hu.wikipedia.org/wiki/Szuharf%C3%A9l%C3%A9k\n",
      "https://hu.wikipedia.org/wiki/Szul%C3%A1kf%C3%A9l%C3%A9k\n",
      "https://hu.wikipedia.org/wiki/T%C3%A1rnicsf%C3%A9l%C3%A9k\n",
      "https://hu.wikipedia.org/wiki/Teaf%C3%A9l%C3%A9k\n",
      "https://hu.wikipedia.org/wiki/Tiszafaf%C3%A9l%C3%A9k\n",
      "https://hu.wikipedia.org/wiki/T%C3%B6kf%C3%A9l%C3%A9k\n",
      "https://hu.wikipedia.org/wiki/Trochodendraceae\n",
      "https://hu.wikipedia.org/wiki/T%C3%BCnd%C3%A9rh%C3%ADn%C3%A1rf%C3%A9l%C3%A9k\n",
      "https://hu.wikipedia.org/wiki/T%C3%BCnd%C3%A9rr%C3%B3zsaf%C3%A9l%C3%A9k\n",
      "https://hu.wikipedia.org/wiki/%C3%9Atif%C5%B1f%C3%A9l%C3%A9k\n",
      "https://hu.wikipedia.org/wiki/Vajvir%C3%A1gf%C3%A9l%C3%A9k\n",
      "https://hu.wikipedia.org/wiki/Varj%C3%BAh%C3%A1jf%C3%A9l%C3%A9k\n",
      "https://hu.wikipedia.org/wiki/Vasf%C5%B1f%C3%A9l%C3%A9k\n",
      "https://hu.wikipedia.org/wiki/Vell%C3%B3ziaf%C3%A9l%C3%A9k\n",
      "https://hu.wikipedia.org/wiki/Vidraf%C5%B1f%C3%A9l%C3%A9k\n",
      "https://hu.wikipedia.org/wiki/Vill%C3%A1sp%C3%A1lmaf%C3%A9l%C3%A9k\n",
      "https://hu.wikipedia.org/wiki/Vir%C3%A1gk%C3%A1kaf%C3%A9l%C3%A9k\n",
      "https://hu.wikipedia.org/wiki/Vir%C3%A1gs%C3%A1sf%C3%A9l%C3%A9k\n",
      "https://hu.wikipedia.org/wiki/V%C3%ADzij%C3%A1cintf%C3%A9l%C3%A9k\n",
      "https://hu.wikipedia.org/wiki/Volvocaceae\n",
      "https://hu.wikipedia.org/wiki/Z%C3%A1szpaf%C3%A9l%C3%A9k\n",
      "https://hu.wikipedia.org/wiki/Zellerf%C3%A9l%C3%A9k\n",
      "https://hu.wikipedia.org/wiki/Zsurl%C3%B3faf%C3%A9l%C3%A9k\n",
      "https://hu.wikipedia.org/wiki/Zsurl%C3%B3f%C3%A9l%C3%A9k\n"
     ]
    }
   ],
   "source": [
    "links = []\n",
    "for link in articles.find_all('a'):\n",
    "    links.append(\"https://hu.wikipedia.org\"+link.get('href'))\n",
    "\n",
    "for item in links:\n",
    "    print(item)"
   ]
  },
  {
   "cell_type": "markdown",
   "id": "32cc499b",
   "metadata": {},
   "source": [
    "## Egy weblap adatainak kigyűjtése\n",
    "\n",
    "<img src=\"web_scraping_2.png\">"
   ]
  },
  {
   "cell_type": "code",
   "execution_count": 17,
   "id": "0e283624-2703-4aa5-951e-c9772d23c546",
   "metadata": {},
   "outputs": [
    {
     "name": "stdout",
     "output_type": "stream",
     "text": [
      "Zászpafélék\n",
      "Gyöktörzses vagy hagymás évelő növények. A legtöbb faj rizómás és leveles szárú. Virágaik végállóak, sugarasan szimmetrikusak, lepelleveleik pedig szabadok. Termésük egységesen toktermés. Sok génusz levelei örvösen állnak, tenyeresen erezettek, kivéve éppen a névadó zászpa (Veratrum) nemzetséget. Fontos jellegzetességük, hogy a csucsorokhoz hasonlóan erősen mérgező és rákkeltő szteroid alkaloidokat tartalmaznak. Amikor a történelmi Magyarország hegyvidékein a tárnics (Gentiana) gyökerét gyűjtötték szeszfőzéshez, gyakran összetévesztették a zászpával, és ez súlyos mérgezésekhez vezetett.\n",
      "\n"
     ]
    }
   ],
   "source": [
    "#mw-content-text > div.mw-content-ltr.mw-parser-output > p:nth-of-type(2)\n",
    "#firstHeading > span.mw-page-title-main\n",
    "\n",
    "url = \"https://hu.wikipedia.org/wiki/Z%C3%A1szpaf%C3%A9l%C3%A9k\"\n",
    "response = re.get(url)\n",
    "soup = BeautifulSoup(response.text, \"html.parser\")\n",
    "\n",
    "x = soup.select(\"#mw-content-text > div.mw-content-ltr.mw-parser-output > p:nth-of-type(2)\")\n",
    "title = soup.select(\"#firstHeading > span.mw-page-title-main\")\n",
    "print(title[0].text)\n",
    "print(x[0].text)"
   ]
  },
  {
   "cell_type": "markdown",
   "id": "77dfe342",
   "metadata": {},
   "source": [
    "## Összes weblap adatainak kigyűjtése fájlba"
   ]
  },
  {
   "cell_type": "code",
   "execution_count": 18,
   "id": "239098d1",
   "metadata": {},
   "outputs": [
    {
     "name": "stdout",
     "output_type": "stream",
     "text": [
      "|"
     ]
    },
    {
     "name": "stdout",
     "output_type": "stream",
     "text": [
      "|"
     ]
    },
    {
     "name": "stdout",
     "output_type": "stream",
     "text": [
      "|"
     ]
    },
    {
     "name": "stdout",
     "output_type": "stream",
     "text": [
      "|"
     ]
    },
    {
     "name": "stdout",
     "output_type": "stream",
     "text": [
      "|"
     ]
    },
    {
     "name": "stdout",
     "output_type": "stream",
     "text": [
      "|"
     ]
    },
    {
     "name": "stdout",
     "output_type": "stream",
     "text": [
      "|"
     ]
    },
    {
     "name": "stdout",
     "output_type": "stream",
     "text": [
      "|"
     ]
    },
    {
     "name": "stdout",
     "output_type": "stream",
     "text": [
      "|"
     ]
    },
    {
     "name": "stdout",
     "output_type": "stream",
     "text": [
      "|"
     ]
    },
    {
     "name": "stdout",
     "output_type": "stream",
     "text": [
      "|"
     ]
    },
    {
     "name": "stdout",
     "output_type": "stream",
     "text": [
      "|"
     ]
    },
    {
     "name": "stdout",
     "output_type": "stream",
     "text": [
      "|"
     ]
    },
    {
     "name": "stdout",
     "output_type": "stream",
     "text": [
      "|"
     ]
    },
    {
     "ename": "KeyboardInterrupt",
     "evalue": "",
     "output_type": "error",
     "traceback": [
      "\u001b[1;31m---------------------------------------------------------------------------\u001b[0m",
      "\u001b[1;31mKeyboardInterrupt\u001b[0m                         Traceback (most recent call last)",
      "Cell \u001b[1;32mIn[18], line 11\u001b[0m\n\u001b[0;32m      9\u001b[0m     f\u001b[38;5;241m.\u001b[39mwrite(\u001b[38;5;28mstr\u001b[39m(title) \u001b[38;5;241m+\u001b[39m \u001b[38;5;124m'\u001b[39m\u001b[38;5;124m,\u001b[39m\u001b[38;5;124m'\u001b[39m \u001b[38;5;241m+\u001b[39m \u001b[38;5;28mstr\u001b[39m(description))    \n\u001b[0;32m     10\u001b[0m     \u001b[38;5;28mprint\u001b[39m(\u001b[38;5;124m\"\u001b[39m\u001b[38;5;124m|\u001b[39m\u001b[38;5;124m\"\u001b[39m, end\u001b[38;5;241m=\u001b[39m\u001b[38;5;124m\"\u001b[39m\u001b[38;5;124m\"\u001b[39m)\n\u001b[1;32m---> 11\u001b[0m     \u001b[43mtime\u001b[49m\u001b[38;5;241;43m.\u001b[39;49m\u001b[43msleep\u001b[49m\u001b[43m(\u001b[49m\u001b[38;5;241;43m1\u001b[39;49m\u001b[43m)\u001b[49m\n\u001b[0;32m     13\u001b[0m f\u001b[38;5;241m.\u001b[39mclose()\n",
      "\u001b[1;31mKeyboardInterrupt\u001b[0m: "
     ]
    }
   ],
   "source": [
    "f = open(\"data_plant.csv\", \"a\", encoding = \"utf-8\")\n",
    "\n",
    "for item in range(0,len(links)):    \n",
    "    response = re.get(links[item])\n",
    "    soup = BeautifulSoup(response.text, \"html.parser\")\n",
    "    title = soup.select(\"#firstHeading > span.mw-page-title-main\")[0].text\n",
    "    description = soup.find(\"div\", {\"class\": \"mw-content-ltr mw-parser-output\"}).find_all(\"p\")[2].text\n",
    "      \n",
    "    f.write(str(title) + ',' + str(description))    \n",
    "    print(\"|\", end=\"\")\n",
    "    time.sleep(1)\n",
    "\n",
    "f.close()"
   ]
  },
  {
   "cell_type": "markdown",
   "id": "8ea554b9",
   "metadata": {},
   "source": [
    "## Adatok alapján új HTML fájl generálása"
   ]
  },
  {
   "cell_type": "code",
   "execution_count": 20,
   "id": "6c7e831f",
   "metadata": {},
   "outputs": [
    {
     "name": "stdout",
     "output_type": "stream",
     "text": [
      "\n",
      "\n",
      "||||||||||||||||||||||||||||||||||||||||||||||||||\n",
      "\n",
      "||||||||||||||||||||||||||||||||||||||||||||||||||\n",
      "\n",
      "||||||||||||||||||||||||||||||||||||||||||||||||||\n",
      "\n",
      "||||||||||||||||||||||||||||||\n",
      "['Annónafélék', 'Az annónafélék (Annonaceae) a liliomfa-virágúak (Magnoliales) rendjének egyik családja, bár egyes szerzők külön rendet, az annónavirágúakét (Annonales) alkotnák meg nekik.\\n']\n"
     ]
    }
   ],
   "source": [
    "data = []\n",
    "\n",
    "for item in range(0,len(links)):    \n",
    "    response = re.get(links[item])\n",
    "    soup = BeautifulSoup(response.text, \"html.parser\")\n",
    "    title = soup.select(\"#firstHeading > span.mw-page-title-main\")[0].text\n",
    "    description = soup.find(\"div\", {\"class\": \"mw-content-ltr mw-parser-output\"}).find_all(\"p\")[2].text\n",
    "    #print(str(item) + \". weboldal feldolgozva:\")    \n",
    "    data.append([title, description])\n",
    "    if item%50 != 0:\n",
    "        print(\"|\", end=\"\")\n",
    "    else:\n",
    "        print(\"\\n\")\n",
    "        print(\"|\", end=\"\")\n",
    "    time.sleep(1)\n",
    "\n",
    "print(\"\\n\" + str(data[5]))"
   ]
  },
  {
   "cell_type": "code",
   "execution_count": 21,
   "id": "9d8f71e9",
   "metadata": {},
   "outputs": [
    {
     "name": "stdout",
     "output_type": "stream",
     "text": [
      "[['Növénycsaládok listája', 'A táblázatokban alfabetikus sorrendben latin név szerint vannak felsorolva a családok.\\n'], ['Alkörmösfélék', 'Az alkörmösfélék (Phytolaccaceae) a szegfűvirágúak (Caryophyllales) rendjének egyik családja. 16 nemzetségébe mintegy 120 faj tartozik.\\n'], ['Áltiszafafélék', 'Az áltiszafafélék és a tiszafák hasonlóságát régebben konvergens sajátosságoknak hitték, és ez ki is fejeződött a rendszerekben. Soó Rezső az áltiszafaféléket a valódi tűlevelűek rendjébe (Coniferales) helyezi, a ciprusfélék (Cupressaceae) és az araukáriafélék (Araucariaceae) közé, míg a tiszafáknak külön rendet nyit. Hortobágyi Tibor már külön osztályt nyit a tiszafáknak (Taxopsida), az áltiszafák viszont a tűlevelűek osztályában maradnak (Coniferopsida). A legújabb genetikai, sejttani, kemotaxonómiai vizsgálatok azonban egyértelműen tanúsítják, hogy az áltiszafák a tiszafák testvércsoportja, és a hasonló sajátosságok (törzsszerkezet, levelek egy síkban helyezkednek el az ágvégeken, egy magkezdemény alakul maggá stb.) nem konvergens tulajdonságok, hanem valóban a monofiletikus eredetet bizonyítják. Fontos viszont azt tudni, hogy az áltiszafafélék arillusa nem homológ képlet a tiszafákéval. Ugyanis a tiszafa magköpenye egy valódi makrosporofillum, míg az áltiszafák magvának külső rétege (mely teljesen burkolja a magot), nem más mint a mag külső burkának elhúsosodása (mely tele van gyantajáratokkal), ez alatt található a fás integumentum. Az áltiszafaféléket egyes korábbi rendszerek (pl. Jarmolenno) már morfológiai sajátosságaik alapján a tiszafák közé helyezték, nem sejtve a genetikai vizsgálatok későbbi eredményét.\\n'], ['Amarilliszfélék', 'Az amarilliszfélék (Amaryllidaceae) a spárgavirágúak (Asparagales) rendjébe tartozó növénycsalád. Gyakran mutatós virágú, évelő, lágyszárú, hagymás növények tartoznak ide. Murvás, ernyőszerű bogas virágzatuk (az „ernyő” egyvirágú is lehet), hosszú tőkocsányuk van.\\n'], ['Anacampserotaceae', 'Az Anacampserotaceae a szegfűvirágúak (Caryophyllales) rendjének egy családja. Leírása a Taxon tudományos szaklap 2010. februári számában jelent meg. Urs Eggli és Reto Nyffeler írta le, miután feltárták a szegfűvirágúak Portulacineae alrendjének polifiletikusságát. Az új család leírását molekuláris genetikai és morfológiai adatokra alapozták. A család három nemzetségét – Anacampseros, Grahamia és Talinopsis – azelőtt a porcsinfélék (Portulacaceae) közé sorolták.[1][2] A családot a 2009-ben megjelent APG III-rendszer is elfogadta.[3]\\n'], ['Annónafélék', 'Az annónafélék (Annonaceae) a liliomfa-virágúak (Magnoliales) rendjének egyik családja, bár egyes szerzők külön rendet, az annónavirágúakét (Annonales) alkotnák meg nekik.\\n'], ['Apodanthaceae', 'Az Apodanthaceae a tökvirágúak (Cucurbitales) rendjének egyik családja.\\n'], ['Aráliafélék', 'Az aráliafélék vagy borostyánfélék (Araliaceae) az ernyősvirágzatúak (Apiales) rendjének egy családja.\\n'], ['Araukáriafélék', 'Az araukáriafélék (Araucariaceae) a tűlevelűek (Pinopsida) osztályába tartozó fenyőalakúak (Pinales) rendjének egyik, ősi családja.\\n'], ['Árvacsalánfélék', 'Az árvacsalánfélék vagy ajakosok[1] [2] családjába (Lamiaceae) mintegy 180 nemzetség és 3500 faj tartozik. Többnyire lágyszárúak vagy félcserjék, de fák (pl. tíkfa) is vannak közöttük. Jellemző rájuk a keresztben átellenes vagy örvös levélállás, a négyoldalú szár, a pálhák hiánya, a kétajkú csésze és párta, kétfőporzósak. Leveleik gyakran csipkés vagy fogas szélűek, virágaik sokszor levélhónalji örvökben állnak. A bibeszál gyakran besüllyedt, a magház alapjából ered, a bibe nem túl jelentős. A pollen exinéje a nyílásoknál nincs megvastagodva. Termésük hasadó makkocska, mely a két, egyenként két magkezdeményes termőlevélből fejlődik ki. Jellegzetes aromatikus illatuk van, több ide tartozó fajt gyógynövényként vagy fűszernövényként használnak fel.\\n'], ['Babérfélék', 'A babérfélék (Lauraceae) a babérvirágúak (Laurales) rendjének egyik családja. Ötven nemzetség mintegy 2500 faja tartozik ide.\\n'], ['Bálványfafélék', 'A bálványfafélék (Simaroubaceae) a szappanfavirágúak (Sapindales) rendjének egyik családja. Az elmúlt évtizedekben rendszertani viták célkeresztjébe került, több kisebb családot választottak le róla.\\n'], ['Banánfélék', 'A banánfélék (Musaceae) a gyömbérvirágúak (Zingiberales) rendjének egyik családja. Korábbi rendszerekben (pl. Urania Pflanzenwelt) a rend névadója volt (banánvirágúak), de hasonlóan a többi családdal (kannafélék, nyílgyökérfélék, gyömbérfélék stb.) alkotott egy rendet. A banánféléket korábban két alcsaládra osztották: a valódi banánfélékre (Musoideae) és a papagájvirágfélékre (Strelitzioidea). A kladisztika legújabb eredményei alapján azonban a papagájvirág-félék külön családot alkotnak a Zingiberales renden belül, Strelitziaceae néven. A banánfélék morfológiai sajátosságait itt röviden összegezzük.\\n'], ['Barkamirtuszfélék', 'A barkamirtuszfélék (Garryaceae) a zárvatermő növények (Magnoliophyta) Garryales rendjének névadó családja, mindössze két nemzetséggel. Fajai a Csendes-óceán körül, a Nyugat-USA-tól Közép-Amerikán át a Karib-térségig, illetve Kelet-Ázsiában nőnek. Leveleik épek, örökzöldek.\\nA családot két, egyes szerzők[1] három nemzetségre tagolják:[2]\\n'], ['Begóniafélék', 'A begóniafélék (Begoniaceae) a tökvirágúak (Cucurbitales) rendjének egyik családja.\\n'], ['Békaszőlőfélék', 'A békaszőlőfélék (Potamogetonaceae) a hídőrvirágúak rendjének (Arismatales) egyik családja. Kivétel nélkül vízi növények, a testük egésze a víz alá merül, esetleg csak virágaik emelkednek a víz színe fölé. Az aljzaton gyökereznek, száruk igen erős, sok tartalék tápanyagot is raktároz. Leveleik sokszor alapjuknál hüvelyszerűen összenőnek, és a hüvelyben pikkelyszerű mirigyszőrök találhatók. A levél felületén, a kutikula alatt vízfelvevő sejtek találhatók. Egyes fajoknál fellép a heterofillia (különböző levelűség); a szár alján hosszúkás levelek, fentebb tojásdadok találhatók. A virágzat jelentősen egyszerűsödik, füzérszerűen csoportosulnak virágzatba. Virágtakaró nincs, a virág általában a víz színe fölé emelkedik, de néhol még az is a víz színe alatt marad. A portokok csatlóján egyes fajoknál sziromlevélszerű képlet fejlődik. A virágok hímnősek (kevés az egyivarú virág, néhány kétlaki faj is akad), a termő belső felszínén 1 vagy 2 magkezdemény képződik, a kialakuló magban nincs magfehérje (secunder endospermium).\\n'], ['Békatutajfélék', 'A békatutajfélék (Hydrocharitaceae) a hídőrvirágúak rendjének (Alismatales) egyik családja.\\n'], ['Bengefélék', 'A bengefélék (Rhamnaceae) a rózsavirágúak (Rosales) rendjének egy családja. A családba 50-60 nemzetség és 870-900 faj tartozik. Világszerte elterjedt, de főleg a trópusokon és szubtrópusokon élő fák, cserjék. Vannak köztük gyümölcstermők pl. a jujuba (Ziziphus jujuba), gyógynövények pl. a közönséges kutyabenge (Frangula alnus), és dísznövények pl. a krisztustövis (Paliurus spina-cristi).\\n'], ['Boglárkafélék', 'Isopyroideae\\xa0alcsalád:\\n'], ['Borágófélék', 'A borágófélék vagy érdeslevelűek (Boraginaceae) a valódi kétszikűek (eudicots) asterids kládjának euasterids I csoportjába tartozó, a pontos rendszertani viszonyok tisztázásáig saját rendbe sorolt család. Körülbelül 100 nemzetség 2000 faja tartozik ide. Magyarországon kicsit több mint 40 faj őshonos.\\n'], ['Borbolyafélék', 'A borbolyafélék (Berberidaceae) a boglárkavirágúak (Ranunculales) rendjének növénycsaládja. Mintegy 570 faj tartozik ide, melyek többsége (450) a Berberis-ben található. A családban fák, cserjék és lágy szárú évelő növények is találhatók.\\n'], ['Boroszlánfélék', 'A boroszlánfélék (Thymelaeaceae) a valódi kétszikűek (Eudicots) eurosid II kládjában a mályvavirágúak (Malvales) rendjének egyik családja több mint ötszáz fajjal. Korábban a mirtuszvirágúak rendjébe sorolták.\\n'], ['Borsfélék', 'A borsfélék (Piperaceae) a borsvirágúak (Piperales) rendjének egyik, főleg trópusi és szubtrópusi vidékeken elterjedt családja, melybe az APG osztályozása alapján 5 (besorolástól függően 8) nemzetség 2015 faja tartozik.\\n'], ['Broméliafélék', 'A broméliafélék (Bromeliaceae) a perjevirágúak rendjének (Poales) egyik családja. Korábbi rendszerekben teljesen más volt a megítélésük. A Soó- és Hortobágyi-rendszerben külön rendként szerepel lisztesmagvúak (Bromeliales, Farinosae) néven. A Borhidi-rendszerben a Zingiberidae alosztály (gyömbérvirágúak) Bromelianae főrendjébe tartozik az ananászvirágúak rendje (Bromeliales).\\n'], ['Bunkóspálmafélék', 'A bunkóspálmák (Zamiaceae) megtévesztő nevük dacára nem a pálmák, hanem a cikászok (Cycadophyta) egyik családja mintegy 35 fajjal.\\n'], ['Burgonyafélék', 'A burgonyafélék (Solanaceae) a valódi kétszikűek egyik családja, amelybe lágyszárúak és cserjék is tartoznak. Régebbi nevük csucsorfélék vagy ebszőlőfélék. (A „csucsor” szó a nyelvújítás terméke; a csúcs főnév -r képzős származéka. A jelölt növények dudoros gumójuk vagy termésük alapján kaphatták a nevet.)\\n'], ['Buzérfélék', 'A buzérfélék (Rubiaceae) az APG III osztályozás alapján az eudicots csoportjának euasterid I elnevezésű kládjába tartozó tárnicsvirágúak (Gentiales) rend egyik családja.\\n'], ['Bükkfafélék', 'A bükkfafélék (Fagaceae) a bükkfavirágúak (Fagales) rendjének egyik, főleg az északi féltekén elterjedt növénycsaládja. Nyolc élő nemzetségükbe mintegy ezer fajt sorolnak; a Fagopsis nemzetséget csak maradványokból ismerjük.\\n'], ['Chlamydomonadaceae', 'A Chlamydomonadaceae a valódi zöldmoszatok törzsének egy családja, mely a Chlorophyceae osztályba és a Volvocales (Chlamydomonadales) rendbe tartozik.\\n'], ['Cikászfélék', 'A cikászfélék (Cycadaceae) a cikászok (Cycadales) rend névadó családja, amelybe egyetlen nemzetség, a cikász (Cycas) tartozik, körülbelül 185 fajjal. Az európai kultúrkörben a 9. században ismerték meg, amikor arab utazók beszámoltak néhány cikászról, amikből Indiában lisztet készítettek. Tudományos nevüket Linné adta, aki a cikászokat a Theophrasztosz által xuxas néven leírt növénnyel azonosította; a Cycas szó a xuxas latinosításának eredménye.\\n'], ['Ciprusfélék', 'A szűkebb értelemben vett ciprusfélék (Cupressaceae) a fenyőalakúak rendjének egyik családja 27–30 nemzetséggel (közülük 17 monotipikus) és 130–140 fajjal. „Testvércsaládjuk” a tiszafaféléké (Taxodiacae). A rendszertanászok e két családot (Cupressaceae s. str. és Taxodiaceae) elsősorban a leveleik különbözősége miatt különítették el (átellenes és pikkelyszerű vagy örvös és tű alakú a klasszikus ciprusféléké, néhány kivétellel váltakozó és tűszerű a tiszafaféléké). A z immunológiai és kladisztikai elemzések szerint a szűkebb értelemben vett ciprusfélék (Cupressaceae s. str.) fajai valóban monofiletikus kláddá állnak össze, a többiek azonban több ágon evolváltak. Így a hagyományos értelemben vett tiszafafélék családja parafiletikus, és önálló rendszertani kategóriaként nem tartható fenn. A két család egyesítésének eredménye a tágabb értelemben vett ciprusfélék (Cupressaceae sensu lato) kládja (családja).\\n'], ['Cleomaceae', 'A Wikimédia Commons tartalmaz Cleomaceae témájú kategóriát.\\n'], ['Csalánfélék', 'A Wikimédia Commons tartalmaz Csalánfélék témájú kategóriát.\\n'], ['Csatavirágfélék', 'A Wikimédia Commons tartalmaz Csatavirágfélék témájú kategóriát.\\n'], ['Csavarpálmafélék', 'A csavarpálmafélék vagy pandanuszfélék (Pandanaceae) az egyszikűek osztályának (Liliopsida), a csavarpálma-virágúak rendjének (Pandanales) egyik és egyben névadó családja. Korábbi rendszerekben teljesen más volt a csoport leszármazásának és szisztematikai hovatartozásának megítélése.\\n'], ['Csikófark', 'A csikófark a leplesmagvúak (Gnetophyta) törzsébe tartozó csikófarkfélék (Ephedraceae) családjának egyetlen és névadó nemzetsége.\\n'], ['Csipkeharasztok', 'A csipkeharasztok (Selaginellales) a korpafüvek törzsének (Lycopodiophyta) Isoetopsida osztályába tartozó növényrend.\\n'], ['Csodatölcsérfélék', 'A csodatölcsérfélék (éjjelnyílók, Nyctaginaceae) a szegfűvirágúak (Caryophyllales) rendjének egyik családja, amit az álkörmösfélék közeli rokonának tekintenek. Közel ötven nemzetségébe mintegy 3000 faj tartozik.\\n'], ['Csuporkafélék', 'A csuporkafélék vagy bársonylevélfélék (Gesneriaceae) az ajakosvirágúak (Lamiales) rendjébe tartozó növénycsalád. 147 vagy 148[2] növénynemzetség mintegy 3200 növényfaja tartozik ide, melyek többsége trópusi, illetve szubtrópusi lágy szárú növény vagy félcserje. Számos dísznövény található közöttük, mint például az afrikaiibolyák (Saintpaulia spp.) és a csuporkák (Sinningia spp.).[3]\\n'], ['Dasypogonaceae', 'A Wikimédia Commons tartalmaz Dasypogonaceae témájú kategóriát.\\n'], ['Dilléniafélék', 'A dilléniafélék (Dilleniaceae) ősi jellegű család; az APG III-rendszer rendbe nem sorolja, a valódi kétszikűeken belül a core eudicots kládhoz sorolja.\\n'], ['Dinnyefafélék', 'A Wikimédia Commons tartalmaz Dinnyefafélék témájú kategóriát.\\n'], ['Diófafélék', 'A diófafélék vagy diófélék (Juglandaceae) a kupacsostermésűek vagy bükkfavirágúak rendjének (Fagales) egyik családja, az APG II-rendszer szerint az eurosid I kládban. Korábbi rendszerekben a barkás fák alosztályában (varázsdió-virágúak – Hamamilidae) külön rendet alkottak a diófavirágúak vagy diótermésűek (Juglandales). Az APG II-rendszerben még opcionálisan leválasztható, monotipikus Rhoipteleaceae-t az APG III-rendszerben véglegesen a Juglandaceae-be olvasztották. A családba így jelenleg 9 nemzetség tartozik mintegy 50 fajjal.\\n'], ['Dipentodontaceae', 'A Dipentodontaceae a Huerteales rendbe tartozó növénycsalád.\\n'], ['Dipterokarpuszfélék', 'A dipterokarpuszfélék (Dipterocarpaceae) a mályvavirágúak (Malvales) rendjének egyik családja.[1]\\n'], ['Díszlevélfafélék', 'A Wikimédia Commons tartalmaz Díszlevélfafélék témájú kategóriát.\\n'], ['Disznóparéjfélék', 'A Wikimédia Commons tartalmaz Disznóparéjfélék témájú kategóriát.\\n'], ['Eperfafélék', 'Az eperfafélék (Moraceae) a rózsavirágúak (Rosales) rendjének egy családja.\\n'], ['Escalloniaceae', 'A Wikimédia Commons tartalmaz Escalloniaceae témájú kategóriát.\\n'], ['Ezüstfafélék', 'Az ezüstfafélék vagy olajfűzfélék (Elaeagnaceae) a rózsavirágúak (Rosales) rendjének egy családja.\\n'], ['Fakínfélék', 'A fakínfélék (Loranthaceae) a szantálfavirágúak rendjébe tartozó növénycsalád. 75 nemzetség tartozik a családba, a fajok száma kb. 1000. Sok faj ezek közül hemiparazita.\\n'], ['Farkasalmafélék', 'A farkasalmafélék (Aristolochiaceae) családja a hagyományos rendszertanok szerint a farkasalmák (Aristolochiales) rendjének egyetlen családja körülbelül 700 fajjal. Az APG-rendszer a borsvirágúak (Piperales) rendjébe helyezi a családot.\\nLágyszárúak és fásodó szárú kúszónövények. Leveleik osztatlanok, ép szélűek; levélállásuk szórt.\\n'], ['Fenyőfélék', 'A fenyőfélék (ikermagvas fenyőfélék, egyes művekben erdeifenyő-félék; Pinaceae) a fenyőalakúak (Pinales) rendjének, sőt a tűlevelűek (Pinopsida) teljes osztályának legismertebb és legelterjedtebb, névadó családja mintegy 250, 10 nemzetségbe sorolt fajjal. A család monofiletikus jellegét a molekuláris elemzések egyértelműen bizonyították. Ugyancsak erre utal a visszafordult magkezdemény, a szinte mindig szárnyas mag, a proteint tartalmazó plasztidok a rostasejtekben és a többi fenyőben meglévő bioflavonoidok hiánya is.\\n'], ['Fissidentaceae', 'A Wikimédia Commons tartalmaz Fissidens témájú kategóriát.\\n'], ['Fogpiszkálófű', 'A fogpiszkálófű (Ammi visnaga), a zárvatermők (Magnoliophyta) törzsébe, az ernyősvirágzatúak (Apiales) rendjébe, a zellerfélék (Apiaceae) családjába tartozó növényfaj.\\n'], ['Fűfafélék', 'A fűfafélék (Asphodelaceae) az egyszikűek osztályának (Liliopsida), a spárgavirágúak rendjének (Asparagales) egyik családja. Korábbi rendszerekben a liliomok rendjébe (Liliales, Liliflorae) tartozott, már akkor is mint különálló család. A molekuláris kladisztika eredményei szerint a spárgavirágú családok közül a sásliliomfélékkel (Hemerocallidaceae) és az aszfodéloszfélékkel (Asphodelaceae) állnak szorosabb rokonságban.\\n'], ['Fűszercserjefélék', 'A fűszercserjefélék (Calycanthaceae) a babérvirágúak rendjébe tartozó, 1 kivétellel lombhullató cserjék 3 nemzetségben 9-10 fajt számláló családja. Magyarországon legjobban az illatos fűszercserje ismert, mely megtalálható botanikus kertekben és kerti dísznövényként is árusítják.\\n'], ['Füzényfélék', 'A füzényfélék (Lythraceae) a zárvatermők (Magnoliophyta) közé tartozó mirtuszvirágúak (Myrtales) egyik családja 33 nemzetséggel és mintegy ötszáz fajjal.\\n'], ['Fűzfafélék', 'A Wikimédia Commons tartalmaz Fűzfafélék témájú kategóriát.\\n'], ['Gnétum', 'A gnétum (Gnetum gnemon) a  leplesmagvúak (Gnetophyta) közé tartozó gnétumok (Gnetopsida) osztályának névadó nemzetsége, a  Gnetaceae család egyetlen nemzetsége mintegy 40 fajjal.\\n'], ['Golgotavirágfélék', 'A golgotavirágfélék (Passifloraceae) családja az APG rendszerezése szerint a Malpighiales rendbe tartozik. 18 nemzetség mintegy 530 faját sorolják ide. Az APG III-rendszer hozzácsatolta az addig különálló Malesherbiaceae és Turneraceae családokat.\\n'], ['Gólyaorrfélék', 'A gólyaorrfélék (Geraniaceae) a gólyaorrvirágúak (Geraniales) rendjébe tartozó növénycsalád. A család nevét a Geranium (gólyaorr) nemzetségről kapta. A gólyaorrok mellett a családba tartoznak a muskátlik, amiket megtévesztő módon gerániumoknak is neveznek; a modern botanika ezeket a Pelargonium nemzetségbe sorolja.\\n'], ['Görvélyfűfélék', 'A Wikimédia Commons tartalmaz Görvélyfűfélék témájú kategóriát.\\n'], ['Gyékényfélék', 'A gyékényfélék (Typhaceae) a perjevirágúak rendjének (Poales) egyik családja. Egyes leírásokban egyetlen nemzetség, a gyékény vagy buzogánysás (Typha) tartozik ide, mintegy 15 igen specializált, évelő, vízi vagy vízparti fajjal; az APG III-rendszer a már önálló családként nem kezelt békabuzogányfélék (Sparganiaceae) monogenerikus családját is ide sorolta, egyetlen nemzetséggel – Sparganium. A gyékény virága a buga.\\n'], ['Gyommohafélék', 'A gyommohafélék (Funariaceae) egy lombosmoha család, amibe körülbelül 250 mohafaj tartozik világszerte. A legtöbb faj a Funaria és Physcomitrium nemzetségbe tartozik. \\n'], ['Gyömbérfélék', 'A gyömbérfélék (Zingiberaceae) a gyömbérvirágúak (Zingiberales) rendjének névadó családja. Korábbi rendszerekben (pl. Urania Pflanzenwelt, Hortobágyi-rendszer) a családot két alcsaládra osztották: Zingiberoideae és Costoideae. Ez utóbbi már külön család rangon szerepel a rendszerekben Costaceae néven.\\n'], ['Gyöngyvirágfafélék', 'A gyöngyvirágfafélék (Clethraceae) az hangavirágúak rendjének (Ericales) egyik családja. A családba két nemzetség kb. 50 faja tartozik, tehát a rend egy kisebb családja. A gyöngyvirágfák trópusi és szubtrópusi elterjedésű fák vagy cserjék. Leveleik szórt állásúak. Viráguk sugaras szimmetriájú, a csészék – melyek száma 5 – általában összenőttek, a szirmok szabadok, ezek száma is 5. A porzótájban 10 vagy 12 porzó található 2 körben. A termőtáj 3 termőlevélből nőtt össze, és alsó állású. A termőből toktermés fejlődik. Madeirán él a Madeira-gyöngyvirágfa (Clethra arborea).\\n'], ['Halimeda', 'A Halimeda a valódi zöldmoszatok (Chlorophyta) törzsébe és a Bryopsidophyceae osztályába tartozó nemzetség. A Halimedaceae növénycsalád egyetlen nemzetsége.\\n'], ['Hangafélék', 'A hangafélék (erikafélék, csarabfélék) családja (Ericaceae) a virágos növények nyolc alcsaládját – 124, rendkívül változatos megjelenésű és életmódú nemzetség mintegy háromezer faját – foglalja magába. Jellemzően örökzöld cserjék, félcserjék vagy fák.\\n'], ['Harangvirágfélék', 'A harangvirágfélék (Campanulaceae) családja az egyre elfogadottabb APG osztályozás szerint a fészkesvirágzatúak (Asterales), más szerzők szerint a harangvirágúak (Campanulales) rendjébe tartozik. Főleg a mérsékelt és szubtrópusi övekben terjedt el, a trópusokon inkább a hegyvidékeken fordul elő.\\n'], ['Harmatfűfélék', 'A harmatfűfélék (Droseraceae) a szegfűvirágúak (Caryophyllales) rendbe tartozó, mocsaras, lápos élőhelyeket kedvelő, rovarfogó növénycsalád. A három ide tartozó nemzetség 115 fajának nagy része Ausztráliában honos. Magyarországon két faj él, a Kárpát-medencében négy.\\n'], ['Hernandiaceae', 'A Hernandiaceae a babérvirágúak (Laurales) rendjének egyik családja.\\n'], ['Hídőrfélék', 'A hídőrfélék vagy vízi liliomok (Alismataceae) a hídőrvirágúak (Alismatales) rendjének névadó családja.\\n'], ['Hortenziafélék', 'A hortenziafélék (Hydrangeaceae) a somvirágúak (Cornales) rendjének egyik családja, tizenegy nemzetségben mintegy száznyolcvan fajjal. A nemzetségek besorolása rendkívül bizonytalan; a különböző rendszertanokban az itt megadottól jelentősen eltérő beosztások is előfordulnak. Korábban egyesek magát a családot is máshova: a kőtörőfű-virágúak (Saxifragales) rendjébe helyezték.\\n'], ['Hydatellaceae', 'A növények a víz alatti szubsztrátumban gyökerező, elmerült és feltörekvő vízinövények. Apró növények, mindössze néhány cm magasak. A legtöbb faj tünékeny vízi élőlény, amely tavaszi medencékben virágzik, amikor a víz leszáll, de számos faj víz alatti évelő a sekély tavakban. Az egyszerű levelek alapvetően egy rövid szár körül koncentrálódnak. \\n'], ['Hypoxidaceae', 'A Wikimédia Commons tartalmaz Hypoxidaceae témájú kategóriát.\\n'], ['Ibolyafélék', 'Az ibolyafélék (Violaceae) a legújabb rendszerezések szerint a Malpighiales rendbe tartozó növénycsalád 23 nemzetséggel, közel ezer fajjal. A korábbi rendszerezések az ibolyavirágúak (Violales) rendjébe sorolták, annak névadó családjaként.\\n'], ['Japán ernyőfenyő', 'A  fenyőalakúak (Pinales) közé tartozó ernyőfenyőfélék (Sciadopityaceae) monotipikus (egyfajú) családja egyedül Japánban, Sikoku és Kjúsú szigeten, valamint Honsú szigetének Kii-félszigetén maradt fenn. Japán neve 高野槙 (kójamaki). A család egyetlen nemzetségének egyetlen faját (Sciadopitys verticillata) magyarul japán ernyőfenyőnek nevezzük. \\n'], ['Kaktuszfélék', 'A kaktuszfélék (Cactaceae) családja mintegy 2000 fajt foglal magába. Fajai Amerika trópusi, szubtrópusi sivatagos vagy száraz hegyvidéki területről származnak. Pozsgás (törzsszukkulens) növények. A magkezdemény és a mag szerveződése, valamint a betalain vegyületek előfordulása alapján a Phytolaccaceae családdal állnak közelebbi rokonságban.\\n'], ['Kálmosvirágúak', 'A kálmosvirágúak (Acorales) az egyszikűek osztályának (Liliopsida) egyik rendje. Egyetlen család, a kálmosfélék (Acoraceae) és egyetlen nemzetség, az Acorus nemzetség tartozik a rendbe.\\nA kladogramról leghamarabb levált egyszikű-csoport, a többi testvércsoportja. Korábban torzsavirágzata miatt a kontyvirágfélék (Araceae) közé sorolták. A genetikai és molekuláris biológiai elemzések azonban bizonyítják: nincs közelebbi rokonságuk a kontyvirágokkal, a torzsavirágzat csak konvergens jelleg.\\n'], ['Kankalinfélék', 'A kankalinfélék családja (Primulaceae) a virágos növények 24, tőlevélrózsás nemzetségét foglalja magába, köztük kedvelt kerti- és vadnövényeket is.\\n'], ['Kannafélék', 'A kannafélék vagy rózsanádfélék (Cannaceae) a gyömbérvirágúak (Zingiberales) rendjének egyik monogenerikus családja. A kladogramon az egyszikűek (Liliopsida) kládját zárják, monofiletikus csoportot alkotva a nyílgyökérfélék (Marantaceae) családjával. A korábbi rendszerekben is hasonlóan a gyömbérvirágúak között szerepelt, a csoportot a kladisztikus taxonómia kora előtt is monofiletikusan kezelték, és hasonlóan rendszerezték. A kannafélék morfológiája eléggé egységes, melyet az alábbi pontokban tömören összegzünk.\\n'], ['Káposztafélék', 'A káposztafélék (Brassicaceae) a keresztesvirágúak (Brassicales) rendjének egy családja.\\n'], ['Kaprifélék', 'A kaprifélék (Capparaceae) a keresztesvirágúak (Brassicales) rendjének egy családja.\\n'], ['Kazuárfafélék', 'A kazuárfafélék (Casuarinaceae) a valódi kétszikűek csoportjába és a bükkfavirágúak (Fagales) rendjébe tartozó család.\\n'], ['Kecskerágófélék', 'A Wikimédia Commons tartalmaz Kecskerágófélék témájú kategóriát.\\n'], ['Kékhüvelyfélék', 'A kékhüvelyfélék (Lardizabalaceae) a boglárkavirágúak (Ranunculales) rendjének egyik családja két alcsaláddal, több mint 40 fajjal.\\n'], ['Kenderfélék', 'A kenderfélék (Cannabaceae, Cannabinaceae vagy Cannabidaceae) a rózsavirágúak (Rosales) rendjének egyik viszonylag kis családja, mindössze 8 nemzetséggel, amelyek közt fák és lágyszárúak egyaránt előfordulnak.\\n'], ['Keserűfűfélék', 'A keserűfűfélék, régebben sóskafélék[1] (Polygonaceae) a szegfűvirágúak (Caryophyllales) rendjének Polygonineae alrendjébe tartozó növénycsalád. Névadó nemzetsége a Polygonum (keserűfű). Ismertebb nemzetségei még a Fagopyrum (hajdina), Rumex (sóska) és Rheum (rebarbara). A család neve a fajok megduzzadt szárcsomóiból származik („poly” = sok, „goni” = térd vagy ízület), bár egyes értelmezések szerint itt a „goni” magot jelent, és így a csoport neve arra utal, hogy sok magot termő növények tartoznak ide. Az előbbi változattal összhangban régi, illetve népies magyar nevei is a tagolt szárra utalnak: szárbütykűfű, göcsfű, sok térdű fű, száz bötköjű fű.\\n'], ['Kikericsfélék', 'A kikericsfélék (Colchicaceae) az egyszikűek (Liliopsida) osztályában a liliomvirágúak (Liliales) rendjének egyik családja. Az APG III-rendszerben a korábban ide tartozó, ám morfológiailag jól megkülönböztethető monotipikus Petermannia génuszt külön családdá emelték ki, Petermanniaceae néven.\\n'], ['Kontyvirágfélék', 'A kontyvirágfélék (Araceae) a hídőrvirágúak (Alismatales) egyik családja. A hídőrvirágúak közül ez az egyetlen szárazföldi csoport.\\n'], ['Kosborfélék', 'Orchidales\\nBorhidi három családra bontja az orchideákat:\\n'], ['Kőtiszafafélék', 'A kőtiszafafélék vagy podokarpuszfélék (Podocarpaceae) a fenyőalakúak rendjének egy családja.\\n'], ['Kőtörőfűfélék', 'A kőtörőfűfélék (Saxifragaceae) a zárvatermők (Magnoliophyta) közé tartozó kőtörőfű-virágúak (Saxifragales) rendjének névadó családja mintegy hatszáz fajjal.\\n'], ['Kristályvirágfélék', 'A kristályvirágfélék (Aizoaceae) a szegfűvirágúak (Caryophyllales) rendjének egyik családja.\\n'], ['Kutyatejfélék', 'A kutyatejfélék (Euphorbiaceae) a Malpighiales rendbe tartozó növénycsalád. 300 nemzetségével, mintegy 5000 fajával a növényvilág egyik legnagyobb családja; csak névadó génusza, az Euphorbia több mint 2000 fajt számlál.\\n'], ['Küllőfolyondárfélék', 'A küllőfolyondárfélék vagy aktinídiafélék (Actinidiaceae) a hangavirágúak rendjébe tartozó viszonylag kis fajszámú növénycsalád. 3 nemzetség tartozik bele kb. 360 fajjal.[1]\\n'], ['Kürtvirágfélék', 'A kürtvirágfélék (Sarraceniaceae) családja az hangavirágúak (Ericales) rendjének egyik növénycsaládja három nemzetséggel, összesen 23 fajjal.\\n'], ['Laxmanniaceae', 'A Laxmanniaceae a spárgavirágúak rendjébe (Asparagales) tartozó család, melynek rendszertani helye vitatott a taxonómusok körében, sokak szerint nem alkotnak különálló családot, hanem a spárgafélék családjába (Asparagaceae) helyezhetők. Az APG III-rendszer nem is ismeri el a családot, nemzetségeit a spárgafélékhez sorolja. A családba 15 nemzetség mintegy 180 faja sorolható, melyek között igen nagy termetű faalkatú növények is akadnak. A Laxmanniák különféle nemzetségei és fajai Ausztráliában, Délkelet-Ázsiában, a csendes-óceáni szigeteken és Amerikában őshonosak.\\n'], ['Lenfélék', 'A lenfélék (Linaceae) a kétszikű növények Malpighiales rendjének egyik családja. A családhoz 14 nemzetségben mintegy 250 faj tartozik, amelyek az egész világon megtalálhatóak. Két alcsaládot különböztetnek meg: a Linoideae és Hugonioideae csoportot (utóbbit egyes szerzők Hugoniaceae külön családként ismerik el).\\n'], ['Ligetszépefélék', 'A ligetszépefélék a mirtuszvirágúak (Myrtales) rendjének egy családja.\\n'], ['Liliomfafélék', 'A liliomfafélék (Magnoliaceae) a liliomfa-virágúak (Magnoliales) rendjének legősibb és legismertebb, névadó családja.\\n'], ['Liliomfélék', 'A liliomfélék (Liliaceae) az egyszikűek (Liliopsida) osztályában a liliomvirágúak (Liliales) rendjének egyik családja.\\n'], ['Loncfélék', 'A loncfélék (Caprifoliaceae) a mácsonyavirágúak (Dipsacales) rendjének egy növénycsaládja.\\n'], ['Lótuszfélék', 'A lótuszfélék (Nelumbonaceae) a valódi kétszikűek (Eudicotyledonopsida, Eudicotyledonae) próteavirágúak rendjének (Proteales) egyik családja. A családba csak egyetlen nemzetség tartozik, a lótusz (Nelumbo), amelynek két faja ismert: az indiai lótusz (Nelumbo nucifera Gaertn.) és az amerikai lótusz (Nelumbo lutea Willd.). A családot főképp virágszerkezetük alapján korábban a tündérrózsafélékkel (Nymphaeaceae) hozták rokonságba: vagy a tündérrózsafélék egyik alcsaládja volt Nelumboideae néven, vagy külön családi rangot kapott, de akkor is a tündérrózsák közelében helyezték el őket.\\n'], ['Madársóskafélék', 'A madársóskafélék (Oxalidaceae) a  valódi kétszikűek (eudicots) közé tartozó madársóska-virágúak (Oxalidales) rendjének névadó családja; a család öt nemzetsége mintegy 950 fajt fog össze.\\n'], ['Magyal', 'A magyal (Ilex) az APG III-rendszerben létrehozott Aquifoliales rendben a magyalfélék (Aquifoliaceae) családjának egyetlen nemzetsége. Korábban a Cronquist-rendszer a családot a kecskerágó-virágúak (Celastrales) rendjébe sorolta. Az egykori Nemopanthus nemzetség, amely a magyalfélék családjába tartozott, beolvadt az Ilex nemzetségbe. A  Phelline és Sphenostemon nemzetség szintén felbukkant ebben a családban, de előbbi jelenleg a Phellicaceae, utóbbi pedig a Paracryphiaceae családban van.[1]\\n'], ['Mákfélék', 'A mákfélék (Papaveraceae) a boglárkavirágúak (Ranunculales) rendjébe tartozó, a taxonómusok által univerzálisan elismert növénycsalád. Kozmopolita elterjedésű, mérsékelt és szubtrópusi éghajlat alatt. Legtöbb faja lágyszárú, de vannak köztük cserjék és fák is.\\n'], ['Malpighicserjefélék', 'A malpighicserjefélék (Malpighiaceae) a Malpighiales rend egyik családja.\\n'], ['Mályvafélék', 'A mályvafélék (Malvaceae) a mályvavirágúak (Malvales) rendjének egyik növénycsaládja. A mályva szó elő-vagy utótagként a család több nemzetségének magyar nevében is szerepel.\\n'], ['Medvekörömfélék', 'A medvekörömfélék vagy akantuszfélék (Acanthaceae) az ajakosvirágúak (Lamiales) rendjébe tartozó növénycsalád mintegy 346 nemzetség nagyjából 4300 fajával. A család szoros rokonságban áll a görvélyfűfélékkel (Scrophulariaceae).\\n'], ['Meténgfélék', 'A meténgfélék vagy télizöldfélék (Apocynaceae) a zárvatermők (angiosperms) közé tartozó tárnicsvirágúak (Gentianales) rendjének egyik családja.\\n'], ['Mirtuszfélék', 'A Wikimédia Commons tartalmaz Mirtuszfélék (Myrtaceae) témájú kategóriát.\\n'], ['Mocsárciprusfélék', 'A korábban a Taxodiaceae családba sorolt nemzetségek:\\n'], ['Muskátdiófélék', 'A muskátdiófélék (Myristicaceae) a liliomfa-virágúak (Magnoliales) rendjének egyik családja.\\n'], ['Nebáncsvirágfélék', 'A nebáncsvirágfélék (Balsaminaceae) a hangavirágúak (Ericales) rendjének egy családja.\\n'], ['Nősziromfélék', 'A nősziromfélék (Iridaceae) a spárgavirágúak rendjének egy családja. 80 nemzetség, 1500 faj tartozik ide. Ezek többsége Dél-Afrikában (afrotropikus ökozóna) vagy Amerika trópusi-szubtrópusi területein honos, bőségesen előfordulnak azonban a mérsékelt égövben is képviselőik. Közéjük tartozik a sáfrány fűszernövény is.\\n'], ['Nyílgyökérfélék', 'A nyílgyökérfélék vagy marantafélék (Marantaceae) a gyömbérvirágúak rendjének (Zingiberales) egyik családja. Taxonómiai helyzete a korábbi rendszerekben is hasonló volt. Kládot alkotnak a kannafélék családjával (Cannaceae), így azokat gyakran egy családba egyesítik, és két alcsaládra osztják: Cannoideae és Marantoideae. A nyílgyökér név nem utal semmilyen morfológiai sajátosságra, hanem a növény eredeti indián nevének angolosítása révén jött létre. A család morfológiai sajátosságait az alábbi pontokban összegezve találhatók. Ebbe a családba tartoznak a zebralevélfélék is.\\n'], ['Nyírfafélék', 'A Wikifajok tartalmaz Nyírfafélék témájú rendszertani információt.\\n'], ['Olajfafélék', 'Az olajfafélék (Oleaceae) az ajakosvirágúak (Lamiales) rendjébe tartozó növénycsalád. 24 nemzetség kb. 600 faja, közepes vízigényű (mezofita) fás szárú növények; cserjék, fák, néha liánok tartoznak ide. A rend alapi helyzetű családja. Virágaik sugarasak, gyakran hímnősek, általában négytagú csészével és pártával, két, pártára nőtt porzóval. Termésük lehet lependék, tok vagy bogyó, leveleik épek vagy páratlanul szárnyaltak.\\n'], ['Ólomgyökérfélék', 'Az ólomgyökérfélék vagy kékgyökérfélék (Plumbaginaceae) a kétszikűek (Magnoliopsida) osztályában  a szegfűvirágúak (Caryophyllales) rendjének egyik családja huszonöt nemzetség mintegy mintegy 350 fajával. Egyesek önálló, egyetlen családból álló rendként (ólomgyökérvirágúak, Plumbaginales) különítik el őket.\\n'], ['Orbáncfűfélék', 'Az orbáncfűfélék (Hypericaceae) családja az APG rendszerezése szerint a Malpighiales rendbe tartozik. A családot a trópusokon főleg fák, a mérsékelt öv felé haladva előbb cserjék, majd lágyszárú növények képviselik, a Kárpát-medencében egyetlen nemzetség, a Hypericum honos. Jellemző a levelekben található sok olaj-, a fatestben gyanta- vagy balzsamjárat.\\n'], ['Óriásvirágfélék', 'Az óriásvirágfélék (rafléziavirágúak, Rafflesiaceae) a  zárvatermők (Magnoliophyta) közé tartozó valódi kétszikűek (eudicots) Malpighiales rendjének egyik  családja. A családot és annak típusnemzetségét is az egykori brit gyarmat, Szingapúr alapítójáról nevezték el. Sir Stamford Rafflest Délkelet-Ázsiába elkísérte a botanikus Joseph Arnoldi. Kettejük családnevét egyesíti a Föld legnagyobb ismert virágának tudományos fajneve: Rafflesia arnoldii.\\n'], ['Őszirózsafélék', 'Az őszirózsafélék vagy fészkesek (Asteraceae) a fészkesvirágzatúak (Asterales) rendjének névadó családja. A régebbi rendszertanokban a rendbe ezt az egyetlen családot sorolták, a 2009-ben megjelent APG III rendszertanban további 10 családot is mellé rendeltek. Az orchideafélék után a növények legtöbb fajt és a legtöbb nemzetséget számláló családja. Viszonylag fiatal család, az Antarktisz kivételével az egész Földön elterjedt, főleg a mérsékelt övben. Legtöbbjük lágy szárú, csak néhány cserje és fa tartozik ide. A család legfőbb jellemzője a speciális virágzat, a fészek. Mintegy másfél millió éve, a Duna-glaciális idejéből származnak első biztos leleteik.\\n'], ['Páfrányfenyőfélék', 'A Ginkgoaceae vagy páfrányfenyőfélék a Ginkgopsida rend egyetlen ma élő családja, amely a mezozoikum idején terjedt el. A családba egyetlen ma élő nemzetség tartozik, a Ginkgo, ezen belül egyetlen ma élő faj, a Ginkgo biloba, amelyet gyakran élő kövületnek tekintenek. A földtörténet korábbi korszakaiban több más nemzetség is elterjedt volt.\\n'], ['Palkafélék', 'A palkafélék vagy sásfélék (Cyperaceae) a perjevirágúak rendjének (Poales) egy családja (3200 fajjal). Legközelebbi rokonaik egyrészt a szittyófélék (Juncaceae), másrészt a gyékényfélék (Typhaceae). Korábbi rendszerekben önálló rendként szerepel (Cyperales), és a liliomvirágúak (Liliales, Liliflorae) egyik erősen módosult vonalának tekintették, a virágzatukat a liliomok virágszerkezetére vezették vissza. Ehrendorfer már felveti a rokonsági kapcsolatot a gyékényfélékkel (Typhaceae), de ezt még a Borhidi-rendszer (1998) is elveti. Az APG II rendszerben már a commelinids kládban szerepel a Poales rendben. A pázsitfű-vonalról a bromélia- és gyékényfélékkel együtt hamar leváltak, önálló evolúciós útra tértek. A palkafélék közös tulajdonságai:\\n'], ['Pálmafélék', 'A pálmafélék (Arecaceae) az egyszikűek osztályának (Liliopsida, újabban Monocots) a pálmavirágúak (Arecales, Palmales, Palmae) rendjébe sorolt családja 212 nemzetség mintegy 2800 fajával. A nemzetségek közül feltűnően sok monotipikus (egyfajú). A csoportot korábbi rendszerekben vagy önálló rendnek tekintették (pl. Urania Pflanzenwelt), vagy a torzsavirágzatúak rendjének (Spadiciflorae) egyik családjaként (Arecaceae, Palmaceae) szerepelt. A kladisztikai vizsgálatok egyértelműen bizonyítják egységes, monofiletikus, a többi egyszikűtől elszigetelt jellegét – éppen ezért a pálmafélék tagjainak morfológiai sajátosságai eléggé egységesek. A köznyelvben pálmáknak nevezzük őket.\\n'], ['Papagájvirág-félék', 'A papagájvirág-félék (Strelitziaceae) az egyszikűek (Liliopsida) osztályába és a gyömbérvirágúak (Zingiberales) rendjébe tartozó család.\\n'], ['Paracryphiaceae', 'A Paracryphiaceae a valódi kétszikűek egy növénycsaládja, melyet Ausztráliában, Délkelet-Ázsiában és Új-Kaledóniában élő cserjék és fák alkotnak.\\n'], ['Perjefélék', 'A perjefélék vagy pázsitfűfélék (Poaceae) az egyszikűek (Liliopsida) osztályának perjevirágúak (Poales) rendjébe tartozó, rendkívül változatos család.\\n'], ['Petrosaviaceae', 'A Petrosaviaceae egy egyszikű növénycsalád neve. A rendszerezők kis része ismerte el ezt a családot, az ide tartozó növényeket leggyakrabban a Liliaceae családba sorolták.\\n'], ['Pézsmaboglárfélék', 'A pézsmaboglárfélék (Adoxaceae) a mácsonyavirágúak (Dipsacales) rendjének egyik családja az APG rendszertanban. A legtöbb hagyományos rendszertan a bodza és a bangita nemzetségeket a bodzafélék (Sambucaceae) családjába sorolta (MNL); a pézsmaboglárfélék taxon összevonás eredménye. Nemzetségei közül a Moschatellina létjogosultsága kétséges — lehet, hogy a teljes nemzetség a pézsmaboglár (Adoxa moschatella) faj némely változatainak felel meg.[1] Ez a korábban ugyancsak elkülönített Tetradoxa nemzetségről már bebizonyosodott.\\n'], ['Philesiaceae', 'A Philesiaceae az egyszikűek (Liliopsida) osztályának és a liliomvirágúak (Liliales) rendjének egyik családja.[1]\\n'], ['Picramniaceae', 'A Picramniales az APG III-rendszerben újonnan leírt,[1] a valódi kétszikűek rosids, azon belül malvids csoportjába tartozó növényrend. Egyetlen család, a Picramniaceae, és két nemzetség, a Picramnia és az Alvaradoa tartoznak ide. Az APG II-rendszerben a család még a rosids klád rendbe nem sorolt családjai közé tartozott.\\n'], ['Pillangósvirágúak', \"A pillangósvirágúak (Fabaceae vagy Leguminosae) a hüvelyesek (Fabales) névadó családja mintegy 17\\xa0000 fajjal. Nevét a lóbabot tartalmazó Faba nemzetségről kapta, melynek fajait a modern leírások a Vicia nemzetséghez sorolták át. A 'Leguminosae' a család régebbi elnevezése, ami az ICBN Art. 18.5 (Vienna Code) szerint még mindig érvényes; az ide tartozó növények tipikus termésére, azaz a hüvelytermésre utal.\\n\"], ['Platánfélék', 'A platánfélék (Platanaceae) a próteavirágúak (Proteales) rendjébe tartozó növénycsalád. Rendszertani helyük erősen vitatott, az idők folyamán több családba is beosztották már őket. Egyes rendszerekben a rózsavirágúak (Rosales) között (pl. Urania Növényvilág), megint máshol a csalánvirágúakkal (Urticales) szerepelnek. A tradicionális taxonómia a barkás fák (Hamamelididae) alosztályába sorolta őket, ahol a varázsdiófélékkel (más néven csodamogyorófélék) (Hamamelidaceae) együtt alkották a varázsdió-virágúak (csodamogyoró-virágúak) rendjét. Mindemellett abban biztosak lehetünk, hogy a platánok a zárvatermőknek (Magnoliophyta) nagyon ősi csoportja, már a kréta időszakban megjelentek, és a harmadkorban az egész északi féltekén elterjedtek voltak. Hatalmas kort képesek megélni, több száz évet élhetnek, és közben óriásivá nőhetnek (a nyugati platán a holarktikus flórabirodalom legnagyobb lombhullató fája).\\n'], ['Porcsinfélék', 'A Wikimédia Commons tartalmaz Porcsinfélék témájú kategóriát.\\n'], ['Pottiaceae', 'A Pottiaceae család a Pottiales lombosmoha rend névadója.\\n'], ['Próteafélék', 'A Wikimédia Commons tartalmaz Próteafélék témájú kategóriát.\\n'], ['Puszpángfélék', 'A puszpángfélék vagy buxusfélék (Buxaceae) a puszpángvirágúak (Buxales) rendjébe tartozó növénycsalád.\\n'], ['Rezedafélék', 'A rezedafélék (Resedaceae) a keresztesvirágúak (Brassicales) rendjének egy családja.\\n'], ['Rózsafélék', 'A Wikimédia Commons tartalmaz Rózsafélék témájú kategóriát.\\n'], ['Rutafélék', 'A rutafélék (Rutaceae) az APG III osztályozása szerint a valódi kétszikűek rosids kládjának eurosid II csoportjában a szappanfavirágúak (Sapindales) rendjének egyik családja mintegy 150 nemzetséggel és 1600\\xa0fajjal.\\n'], ['Sabiaceae', 'A Wikimédia Commons tartalmaz Sabiaceae témájú kategóriát.\\n'], ['Saururaceae', 'A Saururaceae a borsvirágúak (Piperales) rendjének egyik családja.\\n'], ['Schisandraceae', 'A Schisandraceae a zárvatermők ősi jellegű Austrobaileyales rendjének egyik családja. Az elmúlt néhány évtized legtöbb taxonómusa elismeri a családot; korábban az ide tartozó növényeket a Magnoliaceae családba sorolták. Fás szárú, illóolajakat tartalmazó növények vannak a családban.\\n'], ['Schoepfiaceae', 'A Schoepfiaceae a valódi kétszikűek közé sorolt szantálfavirágúak (Santalales) rendjének egy már 1850-ben leírt családja. Sem a Cronquist-rendszer, sem az eredeti APG vagy az APG II-rendszer nem ismeri el a családot, az Olacaceae alá sorolva az ide tartozó nemzetségeket.\\n'], ['Somfélék', 'A Wikifajok tartalmaz Somfélék témájú rendszertani információt.\\n'], ['Spárgafélék', 'A spárgafélék (Asparagaceae) a spárgavirágúak (Asparagales) növényrendjének egy családja. A család névadó nemzetsége az Asparagus.\\n'], ['Szappanfafélék', 'A Wikimédia Commons tartalmaz Szappanfafélék témájú kategóriát.\\n'], ['Szegfűfélék', 'A Wikimédia Commons tartalmaz Szegfűfélék témájú kategóriát.\\n'], ['Szilfafélék', 'A szilfafélék (Ulmaceae) a rózsavirágúak (Rosales) rendjének egyik családja az eurosids I kládban (APG III-rendszer). Monofiletikus csoportot, azaz kládot képeznek az eperfafélékkel (Moraceae), kenderfélékkel (Cannabaceae) és a csalánfélékkel (Urticaceae). A négy család éppen ezért közös, monofiletikus taxonba vonható csalánvirágúak (Urticae) néven, és ezek a rózsavirágúak kladogramján eléggé külön állnak. A Borhidi-rendszerben a csalánvirágúak főrendje (Urticanae) közös alosztályban szerepelt a bükkfavirágúakkal (Faganae) és egyéb barkás fákkal, a Hamamelididae alosztályban (varázsdió-virágúak vagy barkás fák).\\n'], ['Szittyófélék', 'A szittyófélék (Juncaceae) a perjevirágúak (Poales) rendjébe tartozó növénycsalád. Nyolc nemzetség kb. 400 faja tartozik ide.\\n'], ['Szivarfafélék', 'A szivarfafélék (Bignoniaceae) az ajakosvirágúak (Lamiales) rendjének egyik családja az euasterid I (lamiid) kládban. Az Urania Növényvilág rendszerében a csövesvirágúak rendjének (Tubiflorae) egyik családja, a Borhidi-rendszerben a tátogatóvirágúak főrendjének (Scrophularianae) tátikafélék rendjébe (Scrophulariales) tartozik. A család fajait a 2000-es években 107 nemzetségbe sorolták, és ezeket 7, illetve nyolc nemzetségcsoportba vonják össze. Mintegy 900 fajuk ismert, de még rendszeresen fedeznek fel újakat.\\n'], ['Szőlőfélék', 'A szőlőfélék (Vitaceae) családja a szőlővirágúak (Vitales) rendjébe tartozó egyetlen növénycsalád. A családba tartozó nemzetségek és fajok számáról az egyes szerzők véleménye megoszlik.[2] Rokonsági viszonyai még nem tisztázottak, úgy tűnik, nincs egészen közeli rokona.[3]\\n'], ['Szömörcefélék', 'A szömörcefélék (Anacardiaceae) a kétszikűek osztályába tartozó szappanfavirágúak egyik családja. Mintegy hatszáz fajuk van: alig tucatnyi kivételével a trópusokon és szubtrópusokon. Magyarországon legismertebb képviselőik a sárga cserszömörce (parókafa, Cotinus coggygria) és az ecetfa (torzsás szömörce, Rhus typhina L.).\\n'], ['Szuharfélék', 'A szuharfélék (Cistaceae) a mályvavirágúak (Malvales) rendjébe tartozó növénycsalád. Fő elterjedési területük Észak-Amerika keleti és középső része, valamint Európa, Észak-Afrika és a Közel-Kelet. Európában a Földközi-tenger száraz vidékein a kemény lombú cserjések (macchia) növénytársulásaiban jelentős. Általában napos, száraz élőhelyeken előforduló, sivárabb, köves talajokat is elviselő lágyszárúak, vagy cserjék.\\n'], ['Szulákfélék', 'A szulákfélék (Convolvulaceae) a burgonyavirágúak (Solanales) rendjének egy családja.\\n'], ['Tárnicsfélék', 'A tárnicsfélék (Gentianaceae) a tárnicsvirágúak (Gentianales) rendjének névadó családja. 87 nemzetség több mint 1500 faja tartozik ide.[1] Kozmopolita elterjedésű család. Tagjai elsősorban lágy szárúak, de (főleg a trópusokon) cserjék és fák is megtalálhatók köztük, gyakran rizómásak. Színeik és virágformáik nagy változatosságot mutatnak. Legnagyobb nemzetségei a leginkább magashegységi tárnics (Gentiana), a tárnicska (Gentianella) és az ezerjófű (Centaurium).\\n'], ['Teafélék', 'A teafélék (Theaceae) a virágos növények közé tartozó hangavirágúak (Ericales) rendjének egyik családja a különböző források szerint mintegy 600–1100 fajjal.\\n'], ['Tiszafafélék', 'A tiszafafélék (Taxaceae) a tűlevelűek (Pinopsida) osztályába tartozó fenyőalakúak (Pinales) rendjének egy családja.\\n'], ['Tökfélék', 'A tökfélék vagy kabakosok (Cucurbitaceae) a tökvirágúak (Cucurbitales) rendjének névadó családja. Ebbe a családba tartozik számos termesztett haszonnövény, mint például a görögdinnye, a sárgadinnye, az uborka, a termesztett tök és különféle fajtái (a cukkini, a csillagtök vagy patisszon, a spagettitök, az olajtök), az óriástök vagy sütőtök és ennek fajtái, a laskatök, a pézsmatök, illetve a lopótök.\\n'], ['Trochodendraceae', 'A Trochodendraceae a valódi kétszikűek (eudicots) közé tartozó növénycsalád, két recens nemzetsége délkelet-ázsiai elterjedésű. Az ezekbe tartozó két recens faj jellemzője, hogy másodlagos xilémükben hiányoznak a tracheák (egyfajta vízszállító elemek), ami a zárvatermők esetében nagyon ritka jelenség. Mivel a tracheák hiánya a taxon ősi jellegét valószínűsíti, a két faj igencsak felkeltette a rendszertannal foglalkozók érdeklődését.\\n'], ['Tündérhínárfélék', 'A tündérhínárfélék vagy kabombafélék (Cabombaceae) a növények egy családja, melyhez két nemzetség tartozik, a Brasenia és a Cabomba. Vízinövények.\\n'], ['Tündérrózsafélék', 'A tündérrózsafélék (Nymphaeaceae) a tündérrózsa-virágúak rendjének egy családja, melybe 5, főleg a trópusokon elterjedt nemzetség tartozik. Vitatott helyzetű csoport, ősi kétszikűekre jellemző vonásokat mutat.\\n'], ['Útifűfélék', 'Az útifűfélék (Plantaginaceae) az ajakosvirágúak (Lamiales) rendjébe tartozó igen heterogén, kozmopolita növénycsalád. Főként mérsékelt égövi lágy szárú növények, cserjék és vízinövények tartoznak ide. A korábbi osztályozás szerint csak 3 nemzetség, az újabb, kibővített leírás alapján 90 nemzetség mintegy 1700 faja sorolható a családba.\\n'], ['Vajvirágfélék', 'A vajvirágfélék, néha szádorfélék vagy szádorgók (Orobanchaceae) az ajakosvirágúak (Lamiales) rendjébe tartozó növénycsalád. 90 nemzetség több mint 2000 faja tartozik ide. Több génusz korábban a polifiletikusnak bizonyult Scrophulariaceae sensu lato (tágabb értelemben vett görvélyfűfélék) részét alkotta. Jól megalapozott, monofiletikus családot alkot. Kozmopolita család, képviselői előfordulnak Eurázsia mérsékelt éghajlatú részein, Észak-Amerikában, Dél-Amerikában, Ausztrália, Új-Zéland és a trópusi Afrika egyes részein.\\n'], ['Varjúhájfélék', 'A varjúhájfélék (Crassulaceae) a kőtörőfű-virágúak (Saxifragales) rendjének egyik családja.\\n'], ['Vasfűfélék', 'A Wikimédia Commons tartalmaz Vasfűfélék témájú kategóriát.\\n'], ['Vellóziafélék', 'A vellóziafélék (Velloziaceae) a csavarpálma-virágúak (Pandanales) egyik családja. Ezt a családot már sok más egyszikű-csoporttal kapcsolatba hozták. Így pl. szerepelt már a liliomok (Liliales) között, de hozták már kapcsolatba a broméliafélékkel (Bromeliaceae) is.\\n'], ['Vidrafűfélék', 'A vidrafűfélék (Menyanthaceae) a fészkesvirágzatúak (Asterales) rendjébe tartozó növénycsalád. Az egész világon elterjedt öt nemzetség – a Menyanthes és a Nephrophyllidium az északi félgömbön, a Liparophyllum és a Villarsia a déli félgömbön található meg, míg a Nymphoides kozmopolita faj – mintegy 60-70 faja tartozik ide. Magyarországon a Menyanthes és a Nymphoides fordul elő. Vízinövények, illetve vizes élőhelyen élő növények. A vízi életmódhoz való alkalmazkodás jelei láthatóak a kúszó rizómából növő, egyszerű vagy tenyeresen osztott leveleiken (pl. a tündérrózsáknál is megfigyelhető szórt nyalábok).[1] Az Asterales többi családjától megkülönbözteti a felső állású magház, valamint az, hogy nem fordul elő a megnyúlt bibeszálról a megporzó rovarok számára elérhető ún. másodlagos pollenkínálat jelensége – inulint viszont tartalmaznak.[1]\\n'], ['Villáspálmafélék', 'A villáspálmafélék (Cyclanthaceae) a csavarpálma-virágúak (Pandanales) rendjének egyik családja, 12 nemzetséggel. A neotropikus flórabirodalomban találhatók meg képviselői. Korábbi rendszerekben a pálmavirágúak (Palmales, Arecales) utolsó alcsaládjaként szerepeltek Cyclanthoideae néven. Soó Rezső átmeneti csoportnak tekintette a pálmafélék (Palmae, Arecaceae) és a kontyvirágfélék (Araceae) között a hasonló felépítésű torzsavirágzat miatt. A Cyclanthus nemzetségeben ugyanis a csavarszerű torzsavirágzatot 4 húsos buroklevél övezi, melyet homológnak tartottak a kontyvirágfélék buroklevelével, a spátával, valamint a gyékényfélék (Typhaceae) torzsavirágzatát eleinte védő zöld buroklevéllel.\\n'], ['Virágkákafélék', 'A virágkáka (Butomus umbellatus) a virágkákafélék (Butomaceae) családjának egyetlen faja.\\n'], ['Virágsásfélék', 'A virágsásfélék (Xyridaceae) a perjevirágúak (Poales) egyik családja. Korábbi rendszerekben (pl. Urania Pflanzenwelt) a kommelína-virágúak rendjében (Commelinales) szerepeltek, hasonlóan család szinten. A virágsásfélék morfológiai sajátosságai:\\n'], ['Vízijácintfélék', 'A vízijácintfélék (Pontederiaceae) az egyszikűek osztályának (Liliopsida), a kommelínavirágúak rendjének (Commelinales) egyik családja. Korábbi rendszerekben igen eltérő volt a csoport rokonsági kapcsolatainak és taxonómiai elhelyezésének megítélése. Eleinte a liliomok rendjének (Liliales) rokonsági körébe helyezték, majd később még a gyékényvirágzatúakkal (Typhales) és az ananászvirágúakkal (broméliák, Bromeliales) is kapcsolatba hozták őket, sőt igen nagy jelentőséget tulajdonítottak nekik, hisz mintegy összekötő kapocsnak tartották őket az ananászvirágúak és a gyömbérvirágúak (Zingiberales) illetve a gyékényvirágzatúak között (pl. Borhidi-rendszer).\\n'], ['Volvocaceae', 'A Volvocaceae a valódi zöldmoszatok (Chlorophyta) egy családja, melybe egysejtű és kolóniás biflagellata (kétostoros) szervezetek is tartoznak. Tipikus képviselője a Volvox nemzetség. A családot Christian Gottfried Ehrenberg nevezte el 1834-ben, az akkori osztályozás szerint Volvocidae néven.\\n'], ['Zászpafélék', 'A zászpafélék (Melanthiaceae) a liliomvirágúak rendjének (Liliales) egyik családja. Korábbi rendszerekben (pl. Urania Pflanzenwelt) a valódi liliomok (Liliaceae) egyik alcsaládja volt.\\n'], ['Zellerfélék', 'A zellerfélék (Apiaceae) az ernyősvirágzatúak (Apiales) rendjének egy családja.\\n'], ['Zsurlófafélék', 'A zsurlófafélék (Calamitaceae) a zsurlók (Equisetopsida) osztályába és a fosszilis zsurlófák (Calamitales) rendjébe tartozó család.\\n'], ['Zsurlófélék', 'A zsurlófélék (Equisetaceae) a harasztok (Pteridophyta) törzsébe tartozó zsurlók (Equisetopsida) osztályának egyetlen recens családja.\\n']]\n"
     ]
    }
   ],
   "source": [
    "print(data)"
   ]
  },
  {
   "cell_type": "code",
   "execution_count": 22,
   "id": "600eb9e5",
   "metadata": {},
   "outputs": [],
   "source": [
    "with open(\"index.html\", \"w\", encoding = \"utf-8\") as f:\n",
    "    f.write(\"<!DOCTYPE html>\\n\")\n",
    "    f.write(\"<html>\\n\")\n",
    "    f.write(\"<head>\\n\")\n",
    "    f.write(\"<title>Title and Description</title>\\n\")\n",
    "    f.write(\"</head>\\n\")\n",
    "    f.write(\"<body>\\n\")\n",
    "\n",
    "    for title, description in data:\n",
    "        f.write(f\"<h1>{title}</h1>\\n\")        \n",
    "        f.write(f\"<p>{description}</p>\\n\")\n",
    "        f.write(\"<hr>\\n\") \n",
    "            \n",
    "    f.write(\"</body>\\n\")\n",
    "    f.write(\"</html>\\n\")"
   ]
  },
  {
   "cell_type": "markdown",
   "id": "026250aa",
   "metadata": {},
   "source": [
    "A ()-ben található részeket emeljük ki."
   ]
  },
  {
   "cell_type": "code",
   "execution_count": 23,
   "id": "be0c71c5",
   "metadata": {},
   "outputs": [],
   "source": [
    "description = description.replace(\"(\", \"<i>(\")\n",
    "description = description.replace(\")\", \")</i>\")"
   ]
  },
  {
   "cell_type": "markdown",
   "id": "23bbeab3",
   "metadata": {},
   "source": [
    "# 3. Marvel karakterek"
   ]
  },
  {
   "cell_type": "code",
   "execution_count": 24,
   "id": "c6686763",
   "metadata": {},
   "outputs": [
    {
     "name": "stdout",
     "output_type": "stream",
     "text": [
      "200\n",
      "Siker!\n"
     ]
    }
   ],
   "source": [
    "url = \"https://en.wikipedia.org/wiki/List_of_Ultimate_Marvel_characters\"\n",
    "\n",
    "response = re.get(url)\n",
    "print(response.status_code)\n",
    "\n",
    "if response.status_code == 200:\n",
    "    print(\"Siker!\")\n",
    "\n",
    "soup = BeautifulSoup(response.text, \"html.parser\")"
   ]
  },
  {
   "cell_type": "code",
   "execution_count": 25,
   "id": "3f4dc067",
   "metadata": {},
   "outputs": [
    {
     "name": "stdout",
     "output_type": "stream",
     "text": [
      "<!DOCTYPE html>\n",
      "\n",
      "<html class=\"client-nojs vector-feature-language-in-header-enabled vector-feature-language-in-main-page-header-disabled vector-feature-sticky-header-disabled vector-feature-page-tools-pinned-disabled vector-feature-toc-pinned-clientpref-1 vector-feature-main-menu-pinned-disabled vector-feature-limited-width-clientpref-1 vector-feature-limited-width-content-enabled vector-feature-custom-font-size-clientpref-0 vector-feature-client-preferences-disabled vector-feature-client-prefs-pinned-disabled vector-feature-night-mode-disabled skin-theme-clientpref-day vector-toc-not-available\" dir=\"ltr\" lang=\"en\">\n",
      "<head>\n",
      "<meta charset=\"utf-8\"/>\n",
      "<title>List of Ultimate Marvel characters - Wikipedia</title>\n",
      "<script>(function(){var className=\"client-js vector-feature-language-in-header-enabled vector-feature-language-in-main-page-header-disabled vector-feature-sticky-header-disabled vector-feature-page-tools-pinned-disabled vector-feature-toc-pinned-clientpref-1 vector-feature-main-menu\n"
     ]
    }
   ],
   "source": [
    "printLimited(soup, 1000)"
   ]
  },
  {
   "cell_type": "markdown",
   "id": "c33c1304",
   "metadata": {},
   "source": [
    "## Linkek elkészítése"
   ]
  },
  {
   "cell_type": "code",
   "execution_count": 28,
   "id": "cca9be8d",
   "metadata": {},
   "outputs": [
    {
     "name": "stdout",
     "output_type": "stream",
     "text": [
      "https://en.wikipedia.org/wiki/Garret_Dillahunt\n",
      "https://en.wikipedia.org/wiki/Bolivar_Trask\n",
      "https://en.wikipedia.org/wiki/Sentinel_(comics)\n",
      "https://en.wikipedia.org/wiki/Polaris_(Marvel_Comics)\n",
      "https://en.wikipedia.org/wiki/List_of_Marvel_Comics_characters:_G#Grendel\n",
      "https://en.wikipedia.org/wiki/Marvel_Cinematic_Universe\n",
      "https://en.wikipedia.org/wiki/Hela_(Marvel_Cinematic_Universe)\n",
      "https://en.wikipedia.org/wiki/Gorr_(Marvel_Cinematic_Universe)\n",
      "https://en.wikipedia.org/wiki/Disney%2B\n",
      "https://en.wikipedia.org/wiki/Marvel_Cinematic_Universe\n"
     ]
    }
   ],
   "source": [
    "#mw-content-text > div.mw-content-ltr.mw-parser-output > ul:nth-child(5) > li:nth-child(3) > a\n",
    "\n",
    "characters = soup.select(\"#mw-content-text > div.mw-content-ltr.mw-parser-output > ul > li > a\")\n",
    "#print(characters)\n",
    "\n",
    "links = []\n",
    "for link in characters:\n",
    "    links.append(\"https://en.wikipedia.org\"+link.get('href'))\n",
    "\n",
    "for i in range(0,10):    \n",
    "    print(links[i])"
   ]
  },
  {
   "cell_type": "markdown",
   "id": "31a0832a",
   "metadata": {},
   "source": [
    "## Linkek szűrése és adatgyűjtés\n",
    "\n",
    "Amelyik linkben \"#\" szerepel, az egy gyűjtőlap. Azokat a karaktereket kihagyjuk."
   ]
  },
  {
   "cell_type": "code",
   "execution_count": 27,
   "id": "ff0398e4",
   "metadata": {},
   "outputs": [
    {
     "name": "stdout",
     "output_type": "stream",
     "text": [
      "0. weboldal feldolgozva:\n",
      "Ant-Man\n",
      "Created by Stan Lee, Larry Lieber and Jack Kirby, his first appearance was in Tales to Astonish #27 (January 1962) as Dr. Henry Pym; however, he first appeared in costume as Ant-Man in Tales to Astonish #35 (September 1962). The persona was originated by  the brilliant scientist Hank Pym's superhero alias after inventing a substance that can change size (Pym Particles), but reformed thieves Scott Lang and Eric O'Grady also took on the Ant-Man mantle after the original changed his superhero identity to various other aliases, such as Giant-Man, Goliath, and Yellowjacket. Pym's Ant-Man is also a founding member of the super hero team known as the Avengers. The character has appeared in several films based on the Marvel character, such as Ant-Man (2015), Captain America: Civil War (2016), Ant-Man and the Wasp (2018), Avengers: Endgame (2019), and Ant-Man and the Wasp: Quantumania (2023).\n",
      "\n",
      "1. weboldal feldolgozva:\n",
      "Abomination (character)\n",
      "Debuting in the Silver Age of Comic Books, the character has been featured in other Marvel-endorsed products such as arcade and video games, television series, and merchandise such as action figures and trading cards. Tim Roth portrays Emil Blonsky / Abomination in the live-action Marvel Cinematic Universe (MCU) films The Incredible Hulk (2008) and Shang-Chi and the Legend of the Ten Rings (2021), as well as the Disney+ series She-Hulk: Attorney at Law (2022).\n",
      "\n",
      "2. weboldal feldolgozva:\n",
      "Abraham Cornelius\n",
      "Dr. Abraham Cornelius, one of the senior scientists for Weapon X, is employed by the mysterious Professor Andre Thorton and partnered with a young Dr. Carol Hines. Sometime after World War II, Wolverine is taken in by the project and Cornelius is assigned with the task of perfecting and using a technique that would bond the indestructible alloy adamantium to human bone cells. This adamantium-bonding process was first created by Lord Dark Wind (Lady Deathstrike's father), but is only put into use after being perfected by Cornelius when he succeeds in bonding Logan's skeleton with adamantium, after which Logan is indoctrinated into the Weapon X assassin program.[1]\n",
      "\n",
      "3. weboldal feldolgozva:\n",
      "List of Marvel Comics characters: E\n",
      "When John and his father Bill were investigating a UFO crash site, they discovered a Kree space probe. Upon nearing the ship, the automated defenses activated, and a robotic sentry was released. Bill activated a distress signal which was picked up by Mainframe and the rest of A-Next.\n",
      "\n",
      "4. weboldal feldolgozva:\n",
      "Absorbing Man\n",
      "The Absorbing Man debuted in Journey into Mystery #114 (March 1965), created by Stan Lee and Jack Kirby.[10] He appeared in the 2017 Black Bolt series, by Saladin Ahmed.[11][12]\n",
      "\n",
      "5. weboldal feldolgozva:\n",
      "Vulture (Marvel Comics)\n",
      "The first incarnation of the character, Isidoro Scarlotti, is an Italian scientist and an enemy of the original Human Torch and Toro. The second and most prominent incarnation of the character, Adrian Toomes, is an inventive but maniacal genius who designed his suit and turned to a life of crime, becoming an enemy of Spider-Man and a founding member of the Sinister Six, with later characters to assume the mantle including Blackie Drago, a former cellmate of Toomes, and Clifton Shallot and Jimmy Natale, human/bird hybrids of independent origins. Toomes is later revealed to be the grandfather of the superhero Starling.\n",
      "\n",
      "6. weboldal feldolgozva:\n",
      "Agatha Harkness\n",
      "Agatha Harkness debuted in Fantastic Four #94 (October 1969), created by Stan Lee and Jack Kirby.[7] She appeared in the Avengers Disassembled storyline,[8] in the 2022 Midnight Suns series,[9] and in the 2023 Scarlet Witch Annual series.[10]\n",
      "\n",
      "7. weboldal feldolgozva:\n",
      "Advanced Idea Mechanics\n",
      "Since its original introduction in comics, A.I.M. has been featured in various other Marvel-licensed products including video games and television series. The organization made its live action debut in the Marvel Cinematic Universe film Iron Man 3 (2013), in which it was headed by Aldrich Killian.\n",
      "\n",
      "8. weboldal feldolgozva:\n",
      "Salem's Seven\n",
      "Salem's Seven originated in New Salem, Colorado, a hidden town in an unsettled part of the Rocky Mountains, populated entirely by magic users who mostly lived in fear of normal humanity due to the persecution they faced during the Salem witch trials. Salem's Seven were fathered by Nicholas Scratch with different mothers. Scratch's own mother Agatha Harkness was the most powerful of the town's inhabitants, but she chose to live among humanity. In time, she becomes the governess for Franklin Richards (son of Invisible Woman and Mister Fantastic of the Fantastic Four). Scratch has Salem's Seven abduct Agatha purportedly for betraying the New Salem community. They bring Franklin back with them to give to Scratch a new host-body, which forces the Fantastic Four to pursue. Although initially overcome and imprisoned, the Four defeat their captors, banish Scratch from this dimension, and save Harkness. When Salem's Seven try to retaliate against Harkness later, she removes their ability to change forms.[3]\n",
      "\n",
      "9. weboldal feldolgozva:\n",
      "List of Marvel Comics characters: A\n",
      "Abyss is the name of different characters appearing in American comic books published by Marvel Comics.\n",
      "\n",
      "10. weboldal feldolgozva:\n",
      "Anaconda (character)\n",
      "Anaconda was created by Mark Gruenwald and Ralph Macchio and first appeared in Marvel Two-in-One #64 in June 1980.[2]\n",
      "\n",
      "11. weboldal feldolgozva:\n",
      "Ancient One\n",
      "The Ancient One was created by Stan Lee and Steve Ditko and first appeared in Strange Tales #110 (cover-dated July 1963),[citation needed].[1]\n",
      "\n",
      "12. weboldal feldolgozva:\n",
      "Apocalypse (character)\n",
      "While writing the first five issues of X-Factor, Bob Layton dropped hints of a villain operating behind the scenes and leading the Alliance of Evil (mentioned in X-Factor #4, May 1986). Layton intended to reveal this character to be the Daredevil villain the Owl on the final page of X-Factor #5.[4] However, Layton left the book after writing this issue and was replaced by writer Louise Simonson. Editor Bob Harras said that the character arose because of storytelling needs: \"All I had communicated to Louise was my desire that an A-level, first class character be introduced. I wanted a Magneto-level villain who would up the stakes and give the X-Factor team reason to exist.\"[5]\n",
      "\n",
      "13. weboldal feldolgozva:\n",
      "Arcade (Marvel Comics)\n",
      "Arcade has appeared in a number of other Marvel properties outside of comic books, in X-Men: Evolution voiced by Gabe Khouth, and in the Ultimate Spider-Man animated series voiced by Eric Bauza. The character made his live-action debut in the 20th Century Fox film Deadpool 2 (2018) portrayed by co-writer Paul Wernick. He has also appeared as one of the main villains in a number of video games, including X-Men: Madness in Murderworld, Spider-Man/X-Men: Arcade's Revenge, Marvel: Ultimate Alliance, Spider-Man: Edge of Time and Marvel: Avengers Alliance.\n",
      "\n",
      "14. weboldal feldolgozva:\n",
      "List of Marvel Comics characters: A\n",
      "Abyss is the name of different characters appearing in American comic books published by Marvel Comics.\n",
      "\n"
     ]
    }
   ],
   "source": [
    "for item in range(0,15):        \n",
    "    response = re.get(links[item])\n",
    "    if \"#\" or \"(\" not in response:\n",
    "        soup = BeautifulSoup(response.text, \"html.parser\")\n",
    "        title = soup.select(\"#firstHeading > span.mw-page-title-main\")[0].text\n",
    "        description = soup.find(\"div\", {\"class\": \"mw-content-ltr mw-parser-output\"}).find_all(\"p\")[2].text\n",
    "        print(str(item) + \". weboldal feldolgozva:\")\n",
    "        print(title)\n",
    "        print(description)  \n",
    "        open(\"data_marvel.csv\", \"a\", encoding = \"utf-8\").write(str(title) + ',' + str(description))    \n",
    "    else:\n",
    "        time.sleep(1)"
   ]
  },
  {
   "cell_type": "markdown",
   "id": "a3731cf7",
   "metadata": {},
   "source": []
  }
 ],
 "metadata": {
  "kernelspec": {
   "display_name": "Python 3 (ipykernel)",
   "language": "python",
   "name": "python3"
  },
  "language_info": {
   "codemirror_mode": {
    "name": "ipython",
    "version": 3
   },
   "file_extension": ".py",
   "mimetype": "text/x-python",
   "name": "python",
   "nbconvert_exporter": "python",
   "pygments_lexer": "ipython3",
   "version": "3.12.0"
  }
 },
 "nbformat": 4,
 "nbformat_minor": 5
}