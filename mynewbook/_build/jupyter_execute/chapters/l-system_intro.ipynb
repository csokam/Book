{
 "cells": [
  {
   "cell_type": "markdown",
   "metadata": {},
   "source": [
    "# L-rendszerek"
   ]
  },
  {
   "cell_type": "markdown",
   "metadata": {},
   "source": [
    "## Bevezetés\n",
    "\n",
    "Az L-system (Lindenmayer rendszer) egy matematikai formális nyelv. Sorozatokat hoz létre azáltal, hogy ismételten alkalmaz bizonyos szabályokat egy kiindulási állapoton. Az \"L\" az L-rendszerben Aristid Lindenmayer magyar kutató nevéből származik. Lindenmayer élesztőgombákkal foglalkozott. Az L-rendszer eredetileg egyszerű biológiai struktúrák (gombák és baktériumok) fejlődésének leírására és modellezésére készült, ám később növények és más élőlények alaktanára is használták."
   ]
  },
  {
   "cell_type": "markdown",
   "metadata": {},
   "source": [
    "Formálisan következőképpen adható meg: \n",
    "\n",
    " <b>G = (T; s; H)</b>, ahol <b>T</b> egy véges ábécé, <b>s</b> az axióma, <b>H</b> a szabályok halmaza. \n",
    "\n",
    "\n",
    " - A <b>T</b> véges ábécé szimbólumokat tartalmaz, például X, F, +, [, ]. \n",
    " \n",
    " - Az <b>s</b> axióma a kezdeti állapotot jelöli.\n",
    " \n",
    " - A <b>H</b> szabályok halmaza, amelyek leírják az adott L-rendszerben végbemenő átmeneteket. \n",
    " \n",
    "![l-system_1](figures/l-system_1.png)\n",
    "\n",
    "A <b>karakterek</b> és <b>szabályok</b> iteratív alkalmazásával geometriai alakzatokat lehet készíteni. Az alakzatok létrejötte az </b>axiómából</b> indul, majd a rendszer szabályait ismételten alkalmazva alakulnak ki. Minden iterációban a karakterláncot a szabályoknak megfelelően módosítják, és így alakul ki a végleges geometriai forma.\n",
    "\n",
    "\n",
    "Az L-rendszerek rendkívül hatékonyak lehetnek a növények struktúrájának modellezésére. A növények ágazódása, leveleinek elrendeződése és számos más aspektusa leírható szabályokkal és iterációkkal. Például, egy egyszerű L-rendszer képlet segítségével lehetséges faágakat és leveleket modellezni. Játékfejlesztésben például procedurális térképgenerálás, terep, növényzet létrehozásánál használatos. \n",
    "\n",
    "Az eredeti rendszerek determinisztikusak és önhasonlóság jellemzi őket.\n",
    "\n",
    "![l-system_2](figures/l-system_2.gif)\n",
    "\n",
    "Kipróbálható: https://kevs3d.co.uk/dev/lsystems/\n",
    "{cite:p}\n",
    "\n",
    "### L-rendszer megvalósítása:\n",
    "\n",
    "1. Szabályok értelmezése - pl.: H={F→F+F−F−F+F} - szabály azt jelenti, hogy minden F szimbólum az L-rendszerben az F+F−F−F+F karakterláncra változik.\n",
    "2. Nyelvtant alkalmazó függvény elkészítése - szabály(ok) alkalmazásával létrehozza a soron következő iteráció kimenetét, ami egy karakterlánc és <b>szó</b>-nak nevezünk.\n",
    "3. Megjelenítésért felelős függvény elkészítése - a karakterlánc egyes szimbólumai információt hordoznak, ezeket grafikus instrukciókká alakítjuk és ábrázoljuk."
   ]
  },
  {
   "cell_type": "markdown",
   "metadata": {},
   "source": [
    "## 1. Példa - egyszerű szabályrendszer"
   ]
  },
  {
   "cell_type": "markdown",
   "metadata": {},
   "source": [
    "Például adott a G = ({a, b}; a; {a → b}) L-rendszer. Az ismétlések (iterációk) során alkalmazzuk a szabályokat az aktuális sorozatra, létrehozva egyre bonyolultabb és részletesebb struktúrákat. Az L-rendszer axiómája \"A\" és a szabály az, hogy minden \"A\" cserélődik \"AB\" sorozatra, akkor az iterációk során a sorozat így fejlődik:\n",
    "\n",
    "0.\tIteráció: A (kezdeti állapot, maga az axióma)\n",
    "1.\tIteráció: AB (az \"A\" helyettesítve \"AB\"-vel)\n",
    "2.\tIteráció: ABB \n",
    "3.\tIteráció: ABBB \n",
    "\n",
    "<b>Pszeudokód:</b>\n",
    "\n",
    "A program bekéri a végrehajtandó iterációk számát, utána végigmegy az aktuális szó minden karakterén és a <code>\"new\"</code> nevű változóhoz szabályok alapján hozzáadja a szükséges karaktereket. Minden iteráció végén kiírja a szót, <code>\"axiom\"</code> nevű változót aktualizálja és a <code>\"new\"</code> változót kiüríti."
   ]
  },
  {
   "cell_type": "code",
   "execution_count": 1,
   "metadata": {},
   "outputs": [
    {
     "name": "stdout",
     "output_type": "stream",
     "text": [
      "0. iteráció: A\n",
      "1. iteráció: AB\n",
      "2. iteráció: ABB\n",
      "3. iteráció: ABBB\n",
      "4. iteráció: ABBBB\n"
     ]
    }
   ],
   "source": [
    "# ({A,B}; A; {A->AB, B->B})\n",
    "\n",
    "axiom = \"A\"\n",
    "new = \"\"\n",
    "\n",
    "# n = int(input(\"Adja meg az iterációk számát: \"))\n",
    "n = 5\n",
    "\n",
    "for i in range(0, n):\n",
    "    print(str(i) + \". iteráció: \" + axiom)\n",
    "    for letter in axiom:\n",
    "        if letter == \"A\":\n",
    "            new += \"AB\"\n",
    "        elif letter == \"B\":\n",
    "            new += \"B\"\n",
    "    axiom = new\n",
    "    new = \"\""
   ]
  },
  {
   "cell_type": "markdown",
   "metadata": {},
   "source": [
    "## <p style=\"color:green;\">1. Feladat\n",
    "\n",
    "Ábrázolja a következő rendszer 4 iterációját az alábbi specifikáció alapján!\n",
    "\n",
    "<b>Kezdeti állapot</b>: F\n",
    "\n",
    "<b>Szabályok</b>: (F → FR), (R → FR)\n",
    "\n",
    "Ahol:\n",
    "- \"F\" jelentése \"előre rajzol\"\n",
    "- \"R\" jelentése \"jobbra fordul 90°-kal\" "
   ]
  },
  {
   "cell_type": "markdown",
   "metadata": {},
   "source": [
    "## <p style=\"color:green;\">2. Feladat </p>\n",
    "\n",
    "Az előző kódok alapján készítse el a következő rendszer megvalósítását:\n",
    "\n",
    "<b>Kezdeti állpot</b>: X \n",
    "\n",
    "<b>Szabályok</b>: (X → F+[[X]-X]-F[-FX]+X), (F → FF)\n",
    "\n",
    "Ahol:\n",
    "- \"F\" jelentése \"előre rajzol\"\n",
    "- \"−\" jelentése \"jobbra fordul 25°-kal\" \n",
    "- \"+\" jelentése \"balra fordul 25°-kal\" \n",
    "- \"X\" jelentése nem felel meg semmiféle rajzolási műveletnek, és a görbe alakulásának irányítására szolgál\n",
    "- \"[\" jelentése a jelenlegi pozíció és szög értékek mentése\n",
    "- \"]\" jelentése az utolsó mentett pozíció és szög visszaállítása és a mentett adatsor törlése "
   ]
  },
  {
   "cell_type": "markdown",
   "metadata": {},
   "source": [
    "### Forráskód:"
   ]
  },
  {
   "cell_type": "code",
   "execution_count": 2,
   "metadata": {},
   "outputs": [
    {
     "name": "stdout",
     "output_type": "stream",
     "text": [
      "0. iteráció: X\n",
      "1. iteráció: F+[[X]-X]-F[-FX]+X\n",
      "2. iteráció: FF+[[F+[[X]-X]-F[-FX]+X]-F+[[X]-X]-F[-FX]+X]-FF[-FFF+[[X]-X]-F[-FX]+X]+F+[[X]-X]-F[-FX]+X\n"
     ]
    }
   ],
   "source": [
    "# (X → F+[[X]-X]-F[-FX]+X), (F → FF)\n",
    "\n",
    "axiom = \"X\"\n",
    "\n",
    "# n = int(input(\"Adja meg az iterációk számát: \"))\n",
    "n = 2\n",
    "\n",
    "for i in range(n + 1):\n",
    "    new = \"\"\n",
    "    print(str(i) + \". iteráció: \" + axiom)\n",
    "    for letter in axiom:\n",
    "        if letter == \"X\":\n",
    "            new += \"F+[[X]-X]-F[-FX]+X\"\n",
    "        elif letter == \"F\":\n",
    "            new += \"FF\"\n",
    "        else:\n",
    "            new += letter\n",
    "    axiom = new"
   ]
  },
  {
   "cell_type": "markdown",
   "metadata": {},
   "source": [
    "## 2. Példa - Koch-görbe leírása\n",
    "\n",
    "Az alábbi példa a Koch-görbe leírását mutatja be. A szabályok a következők:"
   ]
  },
  {
   "cell_type": "markdown",
   "metadata": {},
   "source": [
    "G=({F,+,−};F;{F→F+F−F−F+F})\n",
    "\n",
    "\n",
    "Ahol:\n",
    "- \"F\" jelentése \"előre\" \n",
    "- \"+\" jelentése \"fordulj balra 90°-ot\"\n",
    "- \"-\" jelentése \"fordulj jobbra 90°-ot\""
   ]
  },
  {
   "cell_type": "markdown",
   "metadata": {},
   "source": [
    "### 2.1. Alap probléma megoldása, nyelv generálása:\n",
    "\n",
    "Figyeljük meg, hogy a szabály alapján minden egyes 'F' betű helyét 5db 'F' betű kerül. Ez azt jelenti, hogy a generált nyelv hossza 5<sup>n</sup>, ahol n az iterációk számát jelenti (pl.: 3. iteráció  125db 'F' karaktert eredményez). Könnyen belátható, hogy ez exponenciális növekedést eredményez. A kiindulási állapot megjelenítése miatt szükséges a ciklus első iterációját külön kezelni."
   ]
  },
  {
   "cell_type": "code",
   "execution_count": 3,
   "metadata": {},
   "outputs": [
    {
     "name": "stdout",
     "output_type": "stream",
     "text": [
      "0. iteráció: F\n",
      "1. iteráció: F+F-F-F+F\n",
      "2. iteráció: F+F-F-F+F+F+F-F-F+F-F+F-F-F+F-F+F-F-F+F+F+F-F-F+F\n",
      "3. iteráció: F+F-F-F+F+F+F-F-F+F-F+F-F-F+F-F+F-F-F+F+F+F-F-F+F+F+F-F-F+F+F+F-F-F+F-F+F-F-F+F-F+F-F-F+F+F+F-F-F+F-F+F-F-F+F+F+F-F-F+F-F+F-F-F+F-F+F-F-F+F+F+F-F-F+F-F+F-F-F+F+F+F-F-F+F-F+F-F-F+F-F+F-F-F+F+F+F-F-F+F+F+F-F-F+F+F+F-F-F+F-F+F-F-F+F-F+F-F-F+F+F+F-F-F+F\n"
     ]
    }
   ],
   "source": [
    "# F → F+F−F−F+F\n",
    "\n",
    "axiom = \"F\"\n",
    "new = \"\"\n",
    "\n",
    "# n = int(input(\"Adja meg az iterációk számát: \"))\n",
    "n = 3\n",
    "\n",
    "for i in range(0, n + 1):\n",
    "    print(str(i) + \". iteráció: \" + axiom)\n",
    "    for letter in axiom:\n",
    "        if letter == \"F\":\n",
    "            new += \"F+F-F-F+F\"\n",
    "        else:\n",
    "            new += letter\n",
    "    axiom = new\n",
    "    new = \"\""
   ]
  },
  {
   "cell_type": "markdown",
   "metadata": {},
   "source": [
    "### 2.2. Nyelv generálása - függvény formájában\n",
    "\n",
    "A Python nyelv szintaxisa alapján az előző rövid kódot függvénnyé alakítottuk és kicsit módosítottuk. Ez segíti a kód későbbi felhasználhatóságát."
   ]
  },
  {
   "cell_type": "code",
   "execution_count": 4,
   "metadata": {},
   "outputs": [
    {
     "name": "stdout",
     "output_type": "stream",
     "text": [
      "1. iteráció: F+F-F-F+F\n",
      "2. iteráció: F+F-F-F+F+F+F-F-F+F-F+F-F-F+F-F+F-F-F+F+F+F-F-F+F\n",
      "3. iteráció: F+F-F-F+F+F+F-F-F+F-F+F-F-F+F-F+F-F-F+F+F+F-F-F+F+F+F-F-F+F+F+F-F-F+F-F+F-F-F+F-F+F-F-F+F+F+F-F-F+F-F+F-F-F+F+F+F-F-F+F-F+F-F-F+F-F+F-F-F+F+F+F-F-F+F-F+F-F-F+F+F+F-F-F+F-F+F-F-F+F-F+F-F-F+F+F+F-F-F+F+F+F-F-F+F+F+F-F-F+F-F+F-F-F+F-F+F-F-F+F+F+F-F-F+F\n",
      "Kimenet: F+F-F-F+F+F+F-F-F+F-F+F-F-F+F-F+F-F-F+F+F+F-F-F+F+F+F-F-F+F+F+F-F-F+F-F+F-F-F+F-F+F-F-F+F+F+F-F-F+F-F+F-F-F+F+F+F-F-F+F-F+F-F-F+F-F+F-F-F+F+F+F-F-F+F-F+F-F-F+F+F+F-F-F+F-F+F-F-F+F-F+F-F-F+F+F+F-F-F+F+F+F-F-F+F+F+F-F-F+F-F+F-F-F+F-F+F-F-F+F+F+F-F-F+F\n"
     ]
    }
   ],
   "source": [
    "axiom = \"F\"\n",
    "\n",
    "\n",
    "def generateSentence(ax, n):\n",
    "    for i in range(1, n + 1):\n",
    "        new = \"\"\n",
    "        for letter in ax:\n",
    "            if letter == \"F\":\n",
    "                new += \"F+F-F-F+F\"\n",
    "            else:\n",
    "                new += letter\n",
    "        ax = new\n",
    "        print(str(i) + \". iteráció: \" + ax)\n",
    "    return ax\n",
    "\n",
    "\n",
    "# n = int(input(\"Adja meg az iterációk számát: \"))\n",
    "n = 3\n",
    "\n",
    "sentence = generateSentence(axiom, n)\n",
    "print(\"Kimenet: \" + sentence)"
   ]
  },
  {
   "cell_type": "markdown",
   "metadata": {},
   "source": [
    "## 3. Nyelvtan szavainak ábrázolása - Turtle Graphics"
   ]
  },
  {
   "cell_type": "markdown",
   "metadata": {},
   "source": [
    "Turtle egy könnyen kezelhető könyvtár grafikai munkák elvégzésére\n",
    "\n",
    "A <code>turtleStart()</code> függvény tartalmazza a grafikára vonatkozó alap beállításokat: középre helyezi a kurzort, engedélyezi a rajzolást és meghatározza a használt vászon(kép) méretét.\n",
    "\n",
    "- <code>penup()</code> - megszünteti a rajzolást (következő <i>pendown()</i> eseményig nem rajzol vonalat) \n",
    "- <code>pendown()</code> - előző utasítás párja, ez után következő parancsok rajzolnak\n",
    "- <code>speed()</code> - meghatározza a rajzolás sebességét, értéke megadható \"slowest\" - \"fastest\" között, vagy egész számmal 1-10-ig.\n",
    "- <code>hideturtle()</code> - elrejti kurzort\n",
    "- <code>screensize()</code> - megjelnítéshez használt vászon méretét és színét lehet állítani, <code>canvwidth</code>, <code>canvheight</code>, <code>bg</code> paraméterek megadásával\n",
    "- <code>exitonclick()</code> - bezárja az elkészített ábrát\n",
    "- <code>tracer()</code> - alapértelmezett esetben (1) mutatja az animációt, 0 érték esetén a kész ábrát mutatja"
   ]
  },
  {
   "cell_type": "code",
   "execution_count": 5,
   "metadata": {},
   "outputs": [],
   "source": [
    "import turtle\n",
    "\n",
    "\n",
    "def turtleStart(x, y):\n",
    "    turtle.screensize(canvwidth=1000, canvheight=1000, bg=\"white\")\n",
    "    turtle.hideturtle()\n",
    "    turtle.penup()\n",
    "    turtle.setposition(x, y)\n",
    "    turtle.pendown()\n",
    "    turtle.speed(\"fastest\")\n",
    "    turtle.tracer()"
   ]
  },
  {
   "cell_type": "markdown",
   "metadata": {},
   "source": [
    "<b>Alapvető vezérlési utasítások</b>\n",
    "\n",
    "- <code>forward()</code> - előre megy\n",
    "- <code>left()</code> - balra fordul\n",
    "- <code>right()</code> - jobbra fordul\n",
    "- <code>goto()</code> - adott koordinátára rakja a kurzort"
   ]
  },
  {
   "cell_type": "code",
   "execution_count": 6,
   "metadata": {},
   "outputs": [],
   "source": [
    "import importlib\n",
    "\n",
    "importlib.reload(turtle)\n",
    "\n",
    "\n",
    "def drawSentence(s):\n",
    "    for i in s:\n",
    "        if i == \"F\":\n",
    "            turtle.forward(10)\n",
    "        elif i == \"+\":\n",
    "            turtle.left(90)\n",
    "        elif i == \"-\":\n",
    "            turtle.right(90)\n",
    "\n",
    "\n",
    "turtleStart(-350, -100)\n",
    "drawSentence(sentence)\n",
    "turtle.exitonclick()"
   ]
  },
  {
   "cell_type": "markdown",
   "metadata": {},
   "source": [
    "![l-system_output_1](figures/l-system_output_1.png)"
   ]
  },
  {
   "cell_type": "markdown",
   "metadata": {},
   "source": [
    "## <p style=\"color:green;\">3. Feladat </p>\n",
    "\n",
    "A Koch-görbének több változata is ismert. Készítsük el az alábbi nyelvtan által megadott verziót!\n",
    "\n",
    "G=({F,+,−};F;{F→F-F&#43;&#43;F-F})\n",
    "\n",
    "\n",
    "Ahol:\n",
    "- \"F\" jelentése \"előre\" \n",
    "- \"+\" jelentése \"fordulj balra 60°-ot\"\n",
    "- \"-\" jelentése \"fordulj jobbra 60°-ot\"\n",
    "\n",
    "![l-system_3](figures/l-system_3.gif)\n",
    "\n",
    "Változtassuk meg a kezdeti állapotot a következők szerint:\n",
    "\n",
    "G=({F,+,−};F&#43;&#43;F&#43;&#43;F;{F→F-F&#43;&#43;F-F})"
   ]
  },
  {
   "cell_type": "markdown",
   "metadata": {},
   "source": [
    "## 4. Ágak ábrázolása és a verem adatszerkezet\n",
    "\n",
    "A fa megrajzolása áganként történik olyan módon, hogy először a program megrajzol egy teljes ágat, utána visszatér a \"törzshöz\" és új ág rajzolásába kezd. Ebből adódik a probléma, hogy hogyan fog visszatérni a megfelelő helyre program? Az ágak kezdetét mindig elágazás (jelölést tekintve általában +,- szimbólumok) jelzi. \n",
    "\n",
    "A verem egy LIFO (Last In First Out) adatszerkezet, a mi esetünkben az aktuális pozíciót és szöget tárolja el. Adattárolásra használjuk. \n",
    "\n",
    "Képzeld el,hogy vannak játékkockáid, amiket csak egymásra rakhatsz, mintha egy tornyot építenél. A torony szétszedésénél, mindig a legutolsó kocka, amit tettél rá (vagyis a legfelső), veheted le először. \n",
    "\n",
    "Két jellegzetes hozzá kapcsolódó parancs a <code>push</code> (<b>Python</b> esetén <code>append</code>) és a <code>pop</code>:\n",
    "\n",
    "<code>push</code> - verembe helyezi a kijelölt adatot\n",
    "\n",
    "<code>pop</code> - eltávolítja az utoljára verembe helyezett adatot\n",
    "\n",
    "![l-system_4](figures/l-system_4.png)"
   ]
  },
  {
   "cell_type": "markdown",
   "metadata": {},
   "source": [
    "### 4.1 Példa - egyszerű példa verem adatszerkezetre"
   ]
  },
  {
   "cell_type": "code",
   "execution_count": 7,
   "metadata": {},
   "outputs": [
    {
     "name": "stdout",
     "output_type": "stream",
     "text": [
      "[1, 2, 3]\n",
      "[1, 2]\n"
     ]
    }
   ],
   "source": [
    "verem = []\n",
    "\n",
    "verem.append(1)\n",
    "verem.append(2)\n",
    "verem.append(3)\n",
    "\n",
    "print(verem)\n",
    "\n",
    "verem.pop()\n",
    "print(verem)"
   ]
  },
  {
   "cell_type": "markdown",
   "metadata": {},
   "source": [
    "### 4.2 Példa - fordított sorrend verem segítségével "
   ]
  },
  {
   "cell_type": "code",
   "execution_count": 8,
   "metadata": {},
   "outputs": [
    {
     "name": "stdout",
     "output_type": "stream",
     "text": [
      "[1, 2, 3]\n",
      "3 2 1 "
     ]
    }
   ],
   "source": [
    "verem = []\n",
    "\n",
    "verem.append(1)\n",
    "verem.append(2)\n",
    "verem.append(3)\n",
    "\n",
    "print(verem)\n",
    "\n",
    "while verem:\n",
    "    print(verem.pop(), end=\" \")"
   ]
  },
  {
   "cell_type": "markdown",
   "metadata": {},
   "source": [
    "### 4.3 Példa - egy ág kirajzolása"
   ]
  },
  {
   "cell_type": "code",
   "execution_count": 9,
   "metadata": {
    "tags": [
     "skip"
    ]
   },
   "outputs": [],
   "source": [
    "import turtle\n",
    "import importlib\n",
    "\n",
    "importlib.reload(turtle)\n",
    "\n",
    "verem = []\n",
    "\n",
    "turtle.setposition(0, -100)\n",
    "turtle.tracer(1, 1)\n",
    "turtle.left(90)\n",
    "\n",
    "turtle.forward(100)\n",
    "verem.append(turtle.pos())\n",
    "turtle.left(45)\n",
    "turtle.forward(50)\n",
    "elmentett_pozicio = verem.pop()\n",
    "turtle.penup()\n",
    "turtle.goto(elmentett_pozicio)\n",
    "turtle.pendown()\n",
    "turtle.right(45)\n",
    "turtle.forward(100)\n",
    "\n",
    "turtle.exitonclick()"
   ]
  },
  {
   "cell_type": "markdown",
   "metadata": {},
   "source": [
    "![l-system_output_2](figures/l-system_output_2.png)"
   ]
  },
  {
   "cell_type": "markdown",
   "metadata": {},
   "source": [
    "### 4.4 Példa - ágak kirzajzolása ciklussal"
   ]
  },
  {
   "cell_type": "code",
   "execution_count": 10,
   "metadata": {
    "tags": [
     "skip"
    ]
   },
   "outputs": [],
   "source": [
    "importlib.reload(turtle)\n",
    "verem = []\n",
    "\n",
    "turtle.setposition(0, -100)\n",
    "turtle.tracer(1, 1)\n",
    "turtle.left(90)\n",
    "\n",
    "\n",
    "def draw_branch():\n",
    "    verem.append(turtle.pos())\n",
    "    turtle.left(45)\n",
    "    turtle.forward(50)\n",
    "    elmentett_pozicio = verem.pop()\n",
    "    turtle.penup()\n",
    "    turtle.goto(elmentett_pozicio)\n",
    "    turtle.pendown()\n",
    "    turtle.right(45)\n",
    "\n",
    "\n",
    "for _ in range(0, 3):\n",
    "    turtle.forward(100)\n",
    "    draw_branch()\n",
    "\n",
    "turtle.exitonclick()"
   ]
  },
  {
   "cell_type": "markdown",
   "metadata": {},
   "source": [
    "![l-system_output_3](figures/l-system_output_3.png)"
   ]
  },
  {
   "cell_type": "markdown",
   "metadata": {},
   "source": [
    "A mi esetünkben az ág kezdeténél lévő pozíciót és szöget fogja eltárolni.\n",
    "\n",
    "- <code>turtle.pos()</code> - teknős aktuális X és Y koordinátája\n",
    "- <code>turtle.heading()</code> - szög, azaz merre néz a teknős\n",
    "\n",
    "- append (hozzáad): Ha kigenerált nyelvben a soron következő karakter a '[' , akkor a jelenlegi állapotot (pozíciót és szöget) hozzáadjuk a veremhez. \n",
    "verem.append((turtle.pos(), turtle.heading()))\n",
    "- pop (levesz): Ha kigenerált nyelvben a soron következő karakter a ']' , akkor kivesszük a veremből a legfelső elemét. \n",
    "<code>pozicio, szog_irany = verem.pop()</code>\n",
    "Ezek után visszatérünk a veremből kiszedett pozícióhoz és folytatjuk a rajzolást a tárolt szöggel. \n",
    "\n",
    "- <code>turtle.goto(pozicio)</code> - adott helyre mozgatja a teknőst\n",
    "\n",
    "- <code>turtle.setheading(szog_irany)</code> - beállítja a szöget"
   ]
  },
  {
   "cell_type": "markdown",
   "metadata": {},
   "source": [
    "## 5. Egyszerű növény ábrázolása\n",
    "\n",
    "Az alábbi példa egy egyszerű növény grafikus ábrázolását mutatja be. A rendszer az \"X\" és \"F\" változókat, valamint a \"+\" és \"-\" szimbólumokat használja. A szabályok a következők:\n",
    "\n",
    "\n",
    "G = ({X, F, +, [, ], -}; X; {X → F+[[X]-X]-F[-FX]+X, F → FF})\n",
    "\n",
    "Ahol:\n",
    "- \"F\" jelentése \"előre\" \n",
    "- \"+\" jelentése \"fordulj balra 25°-ot\"\n",
    "- \"-\" jelentése \"fordulj jobbra 25°-ot\""
   ]
  },
  {
   "cell_type": "code",
   "execution_count": 11,
   "metadata": {
    "tags": [
     "skip"
    ]
   },
   "outputs": [],
   "source": [
    "import turtle\n",
    "import importlib\n",
    "\n",
    "importlib.reload(turtle)\n",
    "\n",
    "\n",
    "def turtle_start():\n",
    "    turtle.screensize(canvwidth=800, canvheight=600, bg=\"#C7E2E7\")\n",
    "    turtle.hideturtle()\n",
    "    turtle.penup()\n",
    "    turtle.setposition(0, -250)\n",
    "    turtle.left(90)\n",
    "    turtle.pendown()\n",
    "    turtle.tracer(2)  # rajzolási sebesség 0 - azonnali, 1 - lassú, 2 - gyors\n",
    "\n",
    "\n",
    "def general_noveny(axiom, iteraciok):\n",
    "    aktualis_kifejezes = axiom\n",
    "    uj_kifejezes = \"\"\n",
    "    for _ in range(0, iteraciok):\n",
    "        for betu in aktualis_kifejezes:\n",
    "            if betu == \"X\":\n",
    "                uj_kifejezes += \"F+[[X]-X]-F[-FX]+X\"\n",
    "            elif betu == \"F\":\n",
    "                uj_kifejezes += \"FF\"\n",
    "            else:\n",
    "                uj_kifejezes += betu\n",
    "        aktualis_kifejezes = uj_kifejezes\n",
    "        uj_kifejezes = \"\"\n",
    "    return aktualis_kifejezes\n",
    "\n",
    "\n",
    "def rajzol_noveny(kifejezes, szog, lepes_hossz):\n",
    "    verem = []\n",
    "    turtle.speed(0)\n",
    "    for szimbolum in kifejezes:\n",
    "        if szimbolum == \"F\":\n",
    "            turtle.forward(lepes_hossz)\n",
    "        elif szimbolum == \"+\":\n",
    "            turtle.left(szog)\n",
    "        elif szimbolum == \"-\":\n",
    "            turtle.right(szog)\n",
    "        elif szimbolum == \"[\":\n",
    "            verem.append((turtle.pos(), turtle.heading()))\n",
    "        elif szimbolum == \"]\":\n",
    "            pozicio, szog_irany = verem.pop()\n",
    "            turtle.penup()\n",
    "            turtle.goto(pozicio)\n",
    "            turtle.pendown()\n",
    "            turtle.setheading(szog_irany)\n",
    "\n",
    "\n",
    "turtle_start()\n",
    "final_sentence = general_noveny(\"X\", 5)\n",
    "rajzol_noveny(final_sentence, 25, 5)\n",
    "turtle.exitonclick()"
   ]
  },
  {
   "cell_type": "markdown",
   "metadata": {},
   "source": [
    "![l-system_output_4](figures/l-system_output_4.png)"
   ]
  },
  {
   "cell_type": "markdown",
   "metadata": {},
   "source": [
    "## 6. További növények és minták leírása"
   ]
  },
  {
   "cell_type": "markdown",
   "metadata": {},
   "source": [
    "## <p style=\"color:green;\">4. Feladat - Kvadratikus Koch sziget</p>\n",
    "\n",
    "G=({F,+,−};F-F-F-F;{F→F-F+F+FF-F-F+F})\n",
    "\n",
    "\n",
    "Ahol:\n",
    "- \"F\" jelentése \"előre\" \n",
    "- \"+\" jelentése \"fordulj balra 90°-ot\"\n",
    "- \"-\" jelentése \"fordulj jobbra 90°-ot\""
   ]
  },
  {
   "cell_type": "markdown",
   "metadata": {},
   "source": [
    "## <p style=\"color:green;\">5. Feladat - Sárkány-görbe</p>\n",
    "\n",
    "G=({F,G,+,−};F;{F→F+G+,F→-F-G})\n",
    "\n",
    "\n",
    "Ahol:\n",
    "- \"F\" jelentése \"előre\" \n",
    "- \"G\" jelentése \"előre\"\n",
    "- \"+\" jelentése \"fordulj balra 90°-ot\"\n",
    "- \"-\" jelentése \"fordulj jobbra 90°-ot\""
   ]
  },
  {
   "cell_type": "markdown",
   "metadata": {},
   "source": [
    "## <p style=\"color:green;\">6. Feladat - Növény élek újraírásával</p>\n",
    "\n",
    "G=({F,+,−};F;{F→F[+F]F[-F][F]})\n",
    "\n",
    "\n",
    "Ahol:\n",
    "- \"F\" jelentése \"előre\"\n",
    "- \"+\" jelentése \"fordulj balra 20°-ot\"\n",
    "- \"-\" jelentése \"fordulj jobbra 20°-ot\""
   ]
  },
  {
   "cell_type": "markdown",
   "metadata": {},
   "source": [
    "## <p style=\"color:green;\">7. Feladat - Növény csomópontok újraírásával</p>\n",
    "\n",
    "G=({F,X,+,−};X;{X→F[+X]F[-X]+X,F→FF})\n",
    "\n",
    "\n",
    "Ahol:\n",
    "- \"X\" jelentése \"előre\"\n",
    "- \"F\" jelentése \"előre\"\n",
    "- \"+\" jelentése \"fordulj balra 20°-ot\"\n",
    "- \"-\" jelentése \"fordulj jobbra 20°-ot\""
   ]
  },
  {
   "cell_type": "markdown",
   "metadata": {},
   "source": [
    "## <p style=\"color:green;\">8. Feladat - Hilbert mintája</p>\n",
    "\n",
    "G=({F,X,Y,+,−};X;{X→-YF+XFX+FY-,Y→+XF-YFY-FX+})\n",
    "\n",
    "Ahol:\n",
    "- \"F\" jelentése \"előre\"\n",
    "- \"X\" nincs grafikus jelentése\n",
    "- \"Y\" nincs grafikus jelentése\n",
    "- \"+\" jelentése \"fordulj balra 90°-ot\"\n",
    "- \"-\" jelentése \"fordulj jobbra 90°-ot\""
   ]
  },
  {
   "cell_type": "markdown",
   "metadata": {},
   "source": [
    "## <p style=\"color:green;\">9. Feladat - Négyzetes Sierpinski</p>\n",
    "\n",
    "G=({F,X,+,−};F+XF+F+XF;{X→XF-F+F-XF+F+XF-F+F-X})\n",
    "\n",
    "Ahol:\n",
    "- \"F\" jelentése \"előre\"\n",
    "- \"X\" nincs grafikus jelentése\n",
    "- \"+\" jelentése \"fordulj balra 90°-ot\"\n",
    "- \"-\" jelentése \"fordulj jobbra 90°-ot\""
   ]
  },
  {
   "cell_type": "markdown",
   "metadata": {},
   "source": [
    "## <p style=\"color:green;\">10. Feladat - Levél</p>\n",
    "\n",
    "G=({F,X,+,−};X;{X→F[+X][-X]FX,F→FF})\n",
    "\n",
    "Ahol:\n",
    "- \"F\" jelentése \"előre\"\n",
    "- \"X\" nincs grafikus jelentése\n",
    "- \"+\" jelentése \"fordulj balra 35°-ot\"\n",
    "- \"-\" jelentése \"fordulj jobbra 35°-ot\""
   ]
  },
  {
   "cell_type": "markdown",
   "metadata": {},
   "source": [
    "### Ipyturtle3\n",
    "\n",
    "Ipyturtle képes Jupyter jegyzetben beágyazott megjelenítésre, azonban a parancskészlete limitált.\n",
    "\n",
    "Telepítése: <code>pip install ipyturtle3</code>\n",
    "\n",
    "Dokumentáció: https://github.com/williamnavaraj/ipyturtle3\n",
    "\n",
    "<code>position(self)</code>\n",
    "\n",
    "<code>forward(self, length)</code>\n",
    "\n",
    "<code>back(self, length)</code>\n",
    "\n",
    "<code>heading(self)</code>\n",
    "\n",
    "<code>goto(self, x, y=None)</code>\n",
    "\n",
    "<code>setpos(self, x, y=None)</code>\n",
    "\n",
    "<code>setposition(self, x, y=None)</code>\n",
    "\n",
    "<code>left(self, degree=None)</code>\n",
    "\n",
    "<code>right(self, degree=None)</code>\n",
    "\n",
    "<code>penup(self)</code>\n",
    "\n",
    "<code>pendown(self)</code>\n",
    "\n",
    "<code>isdown(self)</code>\n",
    "\n",
    "<code>hideturtle(self)</code>\n",
    "\n",
    "<code>showturtle(self)</code>\n",
    "\n",
    "<code>isvisible(self)</code>\n",
    "\n",
    "<code>reset(self)</code>\n",
    "\n",
    "<code>pencolor(self,r=-1,g=-1,b=-1)</code>"
   ]
  },
  {
   "cell_type": "markdown",
   "metadata": {},
   "source": []
  }
 ],
 "metadata": {
  "kernelspec": {
   "display_name": "Python 3",
   "language": "python",
   "name": "python3"
  },
  "language_info": {
   "codemirror_mode": {
    "name": "ipython",
    "version": 3
   },
   "file_extension": ".py",
   "mimetype": "text/x-python",
   "name": "python",
   "nbconvert_exporter": "python",
   "pygments_lexer": "ipython3",
   "version": "3.10.6"
  }
 },
 "nbformat": 4,
 "nbformat_minor": 2
}