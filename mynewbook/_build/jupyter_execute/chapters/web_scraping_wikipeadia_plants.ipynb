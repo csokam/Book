{
 "cells": [
  {
   "cell_type": "markdown",
   "id": "abe9717d",
   "metadata": {},
   "source": [
    "# Wikipédia növénycsaládok"
   ]
  },
  {
   "cell_type": "markdown",
   "id": "3b5c95f1-e07f-4efd-bc70-3e72512d577c",
   "metadata": {},
   "source": [
    "## Szükséges könyvtárak telepítése, importálása"
   ]
  },
  {
   "cell_type": "code",
   "execution_count": 1,
   "id": "b23c12fd",
   "metadata": {},
   "outputs": [],
   "source": [
    "# %pip install bs4\n",
    "# %pip install requests"
   ]
  },
  {
   "cell_type": "code",
   "execution_count": 2,
   "id": "7d56258b-f94e-4e85-ad45-d4f20d84805a",
   "metadata": {},
   "outputs": [],
   "source": [
    "from bs4 import BeautifulSoup\n",
    "import requests as re\n",
    "import time"
   ]
  },
  {
   "cell_type": "markdown",
   "id": "b816469d",
   "metadata": {},
   "source": [
    "## 2. Kiválasztott weboldal elérése\n",
    "\n",
    "200-as kód sikeres lekérést jelöl"
   ]
  },
  {
   "cell_type": "code",
   "execution_count": 3,
   "id": "771b0874-9bb7-42c9-a30a-b6b3e2b48c7e",
   "metadata": {},
   "outputs": [
    {
     "name": "stdout",
     "output_type": "stream",
     "text": [
      "200\n",
      "Siker!\n"
     ]
    }
   ],
   "source": [
    "url = \"https://hu.wikipedia.org/wiki/Kateg%C3%B3ria:N%C3%B6v%C3%A9nycsal%C3%A1dok\"\n",
    "\n",
    "response = re.get(url)\n",
    "print(response.status_code)\n",
    "\n",
    "if response.status_code == 200:\n",
    "    print(\"Siker!\")"
   ]
  },
  {
   "cell_type": "markdown",
   "id": "b928b97a",
   "metadata": {},
   "source": [
    "## BeautifulSoup könyvtár alapok"
   ]
  },
  {
   "cell_type": "markdown",
   "id": "f4155ce1",
   "metadata": {},
   "source": [
    "Weboldal struktúrájának kinyerése"
   ]
  },
  {
   "cell_type": "code",
   "execution_count": 4,
   "id": "b85d19d5-c496-4376-8e69-ae36105e3acf",
   "metadata": {},
   "outputs": [],
   "source": [
    "soup = BeautifulSoup(response.text, \"html.parser\")"
   ]
  },
  {
   "cell_type": "markdown",
   "id": "b30f7f9d",
   "metadata": {},
   "source": [
    "### Feladat - ellenőrizd le a <code>soup</code> változó tartalmát!"
   ]
  },
  {
   "cell_type": "code",
   "execution_count": 5,
   "id": "6bfdc894",
   "metadata": {
    "tags": [
     "scroll-output"
    ]
   },
   "outputs": [
    {
     "name": "stdout",
     "output_type": "stream",
     "text": [
      "<!DOCTYPE html>\n",
      "\n",
      "<html class=\"client-nojs vector-feature-language-in-header-enabled vector-feature-language-in-main-page-header-disabled vector-feature-sticky-header-disabled vector-feature-page-tools-pinned-disabled vector-feature-toc-pinned-clientpref-1 vector-feature-main-menu-pinned-disabled vector-feature-limited-width-clientpref-1 vector-feature-limited-width-content-disabled vector-feature-custom-font-size-clientpref--excluded vector-feature-appearance-disabled vector-feature-appearance-pinned-clientpref-0 vector-feature-night-mode-disabled skin-theme-clientpref-day vector-toc-not-available\" dir=\"ltr\" lang=\"hu\">\n",
      "<head>\n",
      "<meta charset=\"utf-8\"/>\n",
      "<title>Kategória:Növénycsaládok – Wikipédia</title>\n",
      "<script>(function(){var className=\"client-js vector-feature-language-in-header-enabled vector-feature-language-in-main-page-header-disabled vector-feature-sticky-header-disabled vector-feature-page-tools-pinned-disabled vector-feature-toc-pinned-clientpref-1 vector-feature-main-menu-pinned-disabled vector-feature-limited-width-clientpref-1 vector-feature-limited-width-content-disabled vector-feature-custom-font-size-clientpref--excluded vector-feature-appearance-disabled vector-feature-appearance-pinned-clientpref-0 vector-feature-night-mode-disabled skin-theme-clientpref-day vector-toc-not-available\";var cookie=document.cookie.match(/(?:^|; )huwikimwclientpreferences=([^;]+)/);if(cookie){cookie[1].split('%2C').forEach(function(pref){className=className.replace(new RegExp('(^| )'+pref.replace(/-clientpref-\\w+$|[^\\w-]+/g,'')+'-clientpref-\\\\w+( |$)'),'$1'+pref+'$2');});}document.documentElement.className=className;}());RLCONF={\"wgBreakFrames\":false,\"wgSeparatorTransformTable\":[\",\\t.\",\" \\t,\"],\n",
      "\"wgDigitTransformTable\":[\"\",\"\"],\"wgDefaultDateFormat\":\"ymd\",\"wgMonthNames\":[\"\",\"január\",\"február\",\"március\",\"április\",\"május\",\"június\",\"július\",\"augusztus\",\"szeptember\",\"október\",\"november\",\"december\"],\"wgRequestId\":\"3926bcc5-8467-4d81-80b4-afd7de90ca16\",\"wgCanonicalNamespace\":\"Category\",\"wgCanonicalSpecialPageName\":false,\"wgNamespaceNumber\":14,\"wgPageName\":\"Kategória:Növénycsaládok\",\"wgTitle\":\"Növénycsaládok\",\"wgCurRevisionId\":14580898,\"wgRevisionId\":14580898,\"wgArticleId\":31483,\"wgIsArticle\":true,\"wgIsRedirect\":false,\"wgAction\":\"view\",\"wgUserName\":null,\"wgUserGroups\":[\"*\"],\"wgCategories\":[\"Növényrendszertan\"],\"wgPageViewLanguage\":\"hu\",\"wgPageContentLanguage\":\"hu\",\"wgPageContentModel\":\"wikitext\",\"wgRelevantPageName\":\"Kategória:Növénycsaládok\",\"wgRelevantArticleId\":31483,\"wgIsProbablyEditable\":true,\"wgRelevantPageIsProbablyEditable\":true,\"wgRestrictionEdit\":[],\"wgRestrictionMove\":[],\"wgNoticeProject\":\"wikipedia\",\"wgCiteReferencePreviewsActive\":true,\n",
      "\"wgFlaggedRevsParams\":{\"tags\":{\"accuracy\":{\"levels\":2}}},\"wgStableRevisionId\":14580898,\"wgMediaViewerOnClick\":true,\"wgMediaViewerEnabledByDefault\":true,\"wgPopupsFlags\":4,\"wgVisualEditor\":{\"pageLanguageCode\":\"hu\",\"pageLanguageDir\":\"ltr\",\"pageVariantFallbacks\":\"hu\"},\"wgMFDisplayWikibaseDescriptions\":{\"search\":true,\"watchlist\":true,\"tagline\":true,\"nearby\":true},\"wgWMESchemaEditAttemptStepOversample\":false,\"wgWMEPageLength\":100,\"wgULSCurrentAutonym\":\"magyar\",\"wgCentralAuthMobileDomain\":false,\"wgEditSubmitButtonLabelPublish\":true,\"wgULSPosition\":\"interlanguage\",\"wgULSisCompactLinksEnabled\":false,\"wgVector2022LanguageInHeader\":true,\"wgULSisLanguageSelectorEmpty\":false,\"wgWikibaseItemId\":\"Q9079785\",\"wgCheckUserClientHintsHeadersJsApi\":[\"architecture\",\"bitness\",\"brands\",\"fullVersionList\",\"mobile\",\"model\",\"platform\",\"platformVersion\"],\"GEHomepageSuggestedEditsEnableTopics\":true,\"wgGETopicsMatchModeEnabled\":false,\"wgGEStructuredTaskRejectionReasonTextInputEnabled\":false,\n",
      "\"wgGELevelingUpEnabledForUser\":false};RLSTATE={\"ext.gadget.infobox\":\"ready\",\"ext.gadget.wikiMenuStyles\":\"ready\",\"ext.globalCssJs.user.styles\":\"ready\",\"site.styles\":\"ready\",\"user.styles\":\"ready\",\"ext.globalCssJs.user\":\"ready\",\"user\":\"ready\",\"user.options\":\"loading\",\"ext.flaggedRevs.icons\":\"ready\",\"mediawiki.action.styles\":\"ready\",\"ext.categoryTree.styles\":\"ready\",\"mediawiki.helplink\":\"ready\",\"skins.vector.search.codex.styles\":\"ready\",\"skins.vector.styles\":\"ready\",\"skins.vector.icons\":\"ready\",\"ext.flaggedRevs.basic\":\"ready\",\"ext.tmh.player.styles\":\"ready\",\"ext.wikimediamessages.styles\":\"ready\",\"ext.visualEditor.desktopArticleTarget.noscript\":\"ready\",\"ext.uls.interlanguage\":\"ready\",\"wikibase.client.init\":\"ready\",\"ext.wikimediaBadges\":\"ready\"};RLPAGEMODULES=[\"ext.categoryTree\",\"site\",\"mediawiki.page.ready\",\"skins.vector.js\",\"ext.centralNotice.geoIP\",\"ext.centralNotice.startUp\",\"ext.flaggedRevs.advanced\",\"ext.gadget.wdsearch\",\"ext.gadget.irclogin\",\"ext.gadget.edittop\",\n",
      "\"ext.gadget.ImageAnnotator.loader\",\"ext.gadget.collapsible\",\"ext.gadget.kepdia\",\"ext.gadget.kinai\",\"ext.gadget.poziciosTerkep\",\"ext.gadget.wikiMenu\",\"ext.gadget.wiwosm\",\"ext.tmh.player\",\"ext.urlShortener.toolbar\",\"ext.centralauth.centralautologin\",\"mmv.head\",\"mmv.bootstrap.autostart\",\"ext.popups\",\"ext.visualEditor.desktopArticleTarget.init\",\"ext.visualEditor.targetLoader\",\"ext.echo.centralauth\",\"ext.eventLogging\",\"ext.wikimediaEvents\",\"ext.navigationTiming\",\"ext.uls.interface\",\"ext.cx.eventlogging.campaigns\",\"wikibase.client.vector-2022\",\"ext.checkUser.clientHints\",\"oojs-ui.styles.icons-media\",\"oojs-ui-core.icons\"];</script>\n",
      "<script>(RLQ=window.RLQ||[]).push(function(){mw.loader.impl(function(){return[\"user.options@12s5i\",function($,jQuery,require,module){mw.user.tokens.set({\"patrolToken\":\"+\\\\\",\"watchToken\":\"+\\\\\",\"csrfToken\":\"+\\\\\"});\n",
      "}];});});</script>\n",
      "<link href=\"/w/load.php?lang=hu&amp;modules=ext.categoryTree.styles%7Cext.flaggedRevs.basic%2Cicons%7Cext.tmh.player.styles%7Cext.uls.interlanguage%7Cext.visualEditor.desktopArticleTarget.noscript%7Cext.wikimediaBadges%7Cext.wikimediamessages.styles%7Cmediawiki.action.styles%7Cmediawiki.helplink%7Cskins.vector.icons%2Cstyles%7Cskins.vector.search.codex.styles%7Cwikibase.client.init&amp;only=styles&amp;skin=vector-2022\" rel=\"stylesheet\"/>\n",
      "<script async=\"\" src=\"/w/load.php?lang=hu&amp;modules=startup&amp;only=scripts&amp;raw=1&amp;skin=vector-2022\"></script>\n",
      "<meta content=\"\" name=\"ResourceLoaderDynamicStyles\"/>\n",
      "<link href=\"/w/load.php?lang=hu&amp;modules=ext.gadget.infobox%2CwikiMenuStyles&amp;only=styles&amp;skin=vector-2022\" rel=\"stylesheet\"/>\n",
      "<link href=\"/w/load.php?lang=hu&amp;modules=site.styles&amp;only=styles&amp;skin=vector-2022\" rel=\"stylesheet\"/>\n",
      "<meta content=\"MediaWiki 1.43.0-wmf.8\" name=\"generator\"/>\n",
      "<meta content=\"origin\" name=\"referrer\"/>\n",
      "<meta content=\"origin-when-cross-origin\" name=\"referrer\"/>\n",
      "<meta content=\"max-image-preview:standard\" name=\"robots\"/>\n",
      "<meta content=\"telephone=no\" name=\"format-detection\"/>\n",
      "<meta content=\"width=1000\" name=\"viewport\"/>\n",
      "<meta content=\"Kategória:Növénycsaládok – Wikipédia\" property=\"og:title\"/>\n",
      "<meta content=\"website\" property=\"og:type\"/>\n",
      "<link href=\"//upload.wikimedia.org\" rel=\"preconnect\"/>\n",
      "<link href=\"//hu.m.wikipedia.org/wiki/Kateg%C3%B3ria:N%C3%B6v%C3%A9nycsal%C3%A1dok\" media=\"only screen and (max-width: 720px)\" rel=\"alternate\"/>\n",
      "<link href=\"/w/index.php?title=Kateg%C3%B3ria:N%C3%B6v%C3%A9nycsal%C3%A1dok&amp;action=edit\" rel=\"alternate\" title=\"Szerkesztés\" type=\"application/x-wiki\"/>\n",
      "<link href=\"/static/apple-touch/wikipedia.png\" rel=\"apple-touch-icon\"/>\n",
      "<link href=\"/static/favicon/wikipedia.ico\" rel=\"icon\"/>\n",
      "<link href=\"/w/rest.php/v1/search\" rel=\"search\" title=\"Wikipédia (hu)\" type=\"application/opensearchdescription+xml\"/>\n",
      "<link href=\"//hu.wikipedia.org/w/api.php?action=rsd\" rel=\"EditURI\" type=\"application/rsd+xml\"/>\n",
      "<link href=\"https://hu.wikipedia.org/wiki/Kateg%C3%B3ria:N%C3%B6v%C3%A9nycsal%C3%A1dok\" rel=\"canonical\"/>\n",
      "<link href=\"https://creativecommons.org/licenses/by-sa/4.0/deed.hu\" rel=\"license\"/>\n",
      "<link href=\"/w/index.php?title=Speci%C3%A1lis:Friss_v%C3%A1ltoztat%C3%A1sok&amp;feed=atom\" rel=\"alternate\" title=\"Wikipédia Atom-hírcsatorna\" type=\"application/atom+xml\"/>\n",
      "<link href=\"//meta.wikimedia.org\" rel=\"dns-prefetch\">\n",
      "<link href=\"//login.wikimedia.org\" rel=\"dns-prefetch\"/>\n",
      "</link></head>\n",
      "<body class=\"skin-vector skin-vector-search-vue mediawiki ltr sitedir-ltr mw-hide-empty-elt ns-14 ns-subject mw-editable page-Kategória_Növénycsaládok rootpage-Kategória_Növénycsaládok skin-vector-2022 action-view\"><a class=\"mw-jump-link\" href=\"#bodyContent\">Ugrás a tartalomhoz</a>\n",
      "<div class=\"vector-header-container\">\n",
      "<header class=\"vector-header mw-header\">\n",
      "<div class=\"vector-header-start\">\n",
      "<nav aria-label=\"Wiki\" class=\"vector-main-menu-landmark\">\n",
      "<div class=\"vector-dropdown vector-main-menu-dropdown vector-button-flush-left vector-button-flush-right\" id=\"vector-main-menu-dropdown\">\n",
      "<input aria-haspopup=\"true\" aria-label=\"Főmenü\" class=\"vector-dropdown-checkbox\" data-event-name=\"ui.dropdown-vector-main-menu-dropdown\" id=\"vector-main-menu-dropdown-checkbox\" role=\"button\" type=\"checkbox\"/>\n",
      "<label aria-hidden=\"true\" class=\"vector-dropdown-label cdx-button cdx-button--fake-button cdx-button--fake-button--enabled cdx-button--weight-quiet cdx-button--icon-only\" for=\"vector-main-menu-dropdown-checkbox\" id=\"vector-main-menu-dropdown-label\"><span class=\"vector-icon mw-ui-icon-menu mw-ui-icon-wikimedia-menu\"></span>\n",
      "<span class=\"vector-dropdown-label-text\">Főmenü</span>\n",
      "</label>\n",
      "<div class=\"vector-dropdown-content\">\n",
      "<div class=\"vector-unpinned-container\" id=\"vector-main-menu-unpinned-container\">\n",
      "<div class=\"vector-main-menu vector-pinnable-element\" id=\"vector-main-menu\">\n",
      "<div class=\"vector-pinnable-header vector-main-menu-pinnable-header vector-pinnable-header-unpinned\" data-feature-name=\"main-menu-pinned\" data-pinnable-element-id=\"vector-main-menu\" data-pinned-container-id=\"vector-main-menu-pinned-container\" data-unpinned-container-id=\"vector-main-menu-unpinned-container\">\n",
      "<div class=\"vector-pinnable-header-label\">Főmenü</div>\n",
      "<button class=\"vector-pinnable-header-toggle-button vector-pinnable-header-pin-button\" data-event-name=\"pinnable-header.vector-main-menu.pin\">áthelyezés az oldalsávba</button>\n",
      "<button class=\"vector-pinnable-header-toggle-button vector-pinnable-header-unpin-button\" data-event-name=\"pinnable-header.vector-main-menu.unpin\">elrejtés</button>\n",
      "</div>\n",
      "<div class=\"vector-menu mw-portlet mw-portlet-navigation\" id=\"p-navigation\">\n",
      "<div class=\"vector-menu-heading\">\n",
      "\t\tNavigáció\n",
      "\t</div>\n",
      "<div class=\"vector-menu-content\">\n",
      "<ul class=\"vector-menu-content-list\">\n",
      "<li class=\"mw-list-item\" id=\"n-mainpage-description\"><a accesskey=\"z\" href=\"/wiki/Kezd%C5%91lap\" title=\"A kezdőlap megtekintése [z]\"><span>Kezdőlap</span></a></li><li class=\"mw-list-item\" id=\"n-sidebar-contents\"><a href=\"/wiki/Wikip%C3%A9dia:Tartalom\"><span>Tartalom</span></a></li><li class=\"mw-list-item\" id=\"n-sidebar-featured\"><a href=\"/wiki/Wikip%C3%A9dia:Kiemelt_sz%C3%B3cikkek_list%C3%A1ja\"><span>Kiemelt szócikkek</span></a></li><li class=\"mw-list-item\" id=\"n-recentchanges\"><a accesskey=\"r\" href=\"/wiki/Speci%C3%A1lis:Friss_v%C3%A1ltoztat%C3%A1sok\" title=\"A wikiben történt legutóbbi változtatások listája [r]\"><span>Friss változtatások</span></a></li><li class=\"mw-list-item\" id=\"n-randompage\"><a accesskey=\"x\" href=\"/wiki/Speci%C3%A1lis:Lap_tal%C3%A1lomra\" title=\"Egy véletlenszerűen kiválasztott lap betöltése [x]\"><span>Lap találomra</span></a></li><li class=\"mw-list-item\" id=\"n-sidebar-enquiries\"><a href=\"/wiki/Wikip%C3%A9dia:Tudakoz%C3%B3\"><span>Tudakozó</span></a></li>\n",
      "</ul>\n",
      "</div>\n",
      "</div>\n",
      "<div class=\"vector-menu mw-portlet mw-portlet-sidebar-participate\" id=\"p-sidebar-participate\">\n",
      "<div class=\"vector-menu-heading\">\n",
      "\t\tRészvétel\n",
      "\t</div>\n",
      "<div class=\"vector-menu-content\">\n",
      "<ul class=\"vector-menu-content-list\">\n",
      "<li class=\"mw-list-item\" id=\"n-sidebar-basics\"><a href=\"/wiki/Wikip%C3%A9dia:%C3%9Aj_szerkeszt%C5%91knek\"><span>Kezdőknek</span></a></li><li class=\"mw-list-item\" id=\"n-sidebar-help\"><a href=\"/wiki/Wikip%C3%A9dia:Seg%C3%ADts%C3%A9g\"><span>Segítség</span></a></li><li class=\"mw-list-item\" id=\"n-portal\"><a href=\"/wiki/Port%C3%A1l:K%C3%B6z%C3%B6ss%C3%A9g\" title=\"A projektről, miben segíthetsz, mit hol találsz meg\"><span>Közösségi portál</span></a></li><li class=\"mw-list-item\" id=\"n-sidebar-contact\"><a href=\"/wiki/Wikip%C3%A9dia:Kapcsolatfelv%C3%A9tel\"><span>Kapcsolatfelvétel</span></a></li><li class=\"mw-list-item\" id=\"n-sitesupport\"><a href=\"//donate.wikimedia.org/wiki/Special:FundraiserRedirector?utm_source=donate&amp;utm_medium=sidebar&amp;utm_campaign=C13_hu.wikipedia.org&amp;uselang=hu\" title=\"Támogatás\"><span>Adományok</span></a></li>\n",
      "</ul>\n",
      "</div>\n",
      "</div>\n",
      "</div>\n",
      "</div>\n",
      "</div>\n",
      "</div>\n",
      "</nav>\n",
      "<a class=\"mw-logo\" href=\"/wiki/Kezd%C5%91lap\">\n",
      "<img alt=\"\" aria-hidden=\"true\" class=\"mw-logo-icon\" height=\"50\" src=\"/static/images/icons/wikipedia.png\" width=\"50\"/>\n",
      "<span class=\"mw-logo-container skin-invert\">\n",
      "<img alt=\"Wikipédia\" class=\"mw-logo-wordmark\" src=\"/static/images/mobile/copyright/wikipedia-wordmark-fr.svg\" style=\"width: 7.4375em; height: 1.125em;\"/>\n",
      "<img alt=\"\" class=\"mw-logo-tagline\" height=\"13\" src=\"/static/images/mobile/copyright/wikipedia-tagline-hu.svg\" style=\"width: 7.5em; height: 0.8125em;\" width=\"120\"/>\n",
      "</span>\n",
      "</a>\n",
      "</div>\n",
      "<div class=\"vector-header-end\">\n",
      "<div class=\"vector-search-box-vue vector-search-box-collapses vector-search-box-show-thumbnail vector-search-box-auto-expand-width vector-search-box\" id=\"p-search\" role=\"search\">\n",
      "<a accesskey=\"f\" class=\"cdx-button cdx-button--fake-button cdx-button--fake-button--enabled cdx-button--weight-quiet cdx-button--icon-only search-toggle\" href=\"/wiki/Speci%C3%A1lis:Keres%C3%A9s\" title=\"Keresés a Wikipédián [f]\"><span class=\"vector-icon mw-ui-icon-search mw-ui-icon-wikimedia-search\"></span>\n",
      "<span>Keresés</span>\n",
      "</a>\n",
      "<div class=\"vector-typeahead-search-container\">\n",
      "<div class=\"cdx-typeahead-search cdx-typeahead-search--show-thumbnail cdx-typeahead-search--auto-expand-width\">\n",
      "<form action=\"/w/index.php\" class=\"cdx-search-input cdx-search-input--has-end-button\" id=\"searchform\">\n",
      "<div class=\"cdx-search-input__input-wrapper\" data-search-loc=\"header-moved\" id=\"simpleSearch\">\n",
      "<div class=\"cdx-text-input cdx-text-input--has-start-icon\">\n",
      "<input accesskey=\"f\" aria-label=\"Keresés a Wikipédián\" autocapitalize=\"sentences\" class=\"cdx-text-input__input\" id=\"searchInput\" name=\"search\" placeholder=\"Keresés a Wikipédián\" title=\"Keresés a Wikipédián [f]\" type=\"search\"/>\n",
      "<span class=\"cdx-text-input__icon cdx-text-input__start-icon\"></span>\n",
      "</div>\n",
      "<input name=\"title\" type=\"hidden\" value=\"Speciális:Keresés\"/>\n",
      "</div>\n",
      "<button class=\"cdx-button cdx-search-input__end-button\">Keresés</button>\n",
      "</form>\n",
      "</div>\n",
      "</div>\n",
      "</div>\n",
      "<nav aria-label=\"Személyes eszközök\" class=\"vector-user-links vector-user-links-wide\">\n",
      "<div class=\"vector-user-links-main\">\n",
      "<div class=\"vector-menu mw-portlet emptyPortlet\" id=\"p-vector-user-menu-preferences\">\n",
      "<div class=\"vector-menu-content\">\n",
      "<ul class=\"vector-menu-content-list\">\n",
      "</ul>\n",
      "</div>\n",
      "</div>\n",
      "<div class=\"vector-menu mw-portlet emptyPortlet\" id=\"p-vector-user-menu-userpage\">\n",
      "<div class=\"vector-menu-content\">\n",
      "<ul class=\"vector-menu-content-list\">\n",
      "</ul>\n",
      "</div>\n",
      "</div>\n",
      "<nav aria-label=\"Megjelenés\" class=\"vector-appearance-landmark\">\n",
      "</nav>\n",
      "<div class=\"vector-menu mw-portlet emptyPortlet\" id=\"p-vector-user-menu-notifications\">\n",
      "<div class=\"vector-menu-content\">\n",
      "<ul class=\"vector-menu-content-list\">\n",
      "</ul>\n",
      "</div>\n",
      "</div>\n",
      "<div class=\"vector-menu mw-portlet\" id=\"p-vector-user-menu-overflow\">\n",
      "<div class=\"vector-menu-content\">\n",
      "<ul class=\"vector-menu-content-list\">\n",
      "<li class=\"user-links-collapsible-item mw-list-item user-links-collapsible-item\" id=\"pt-createaccount-2\"><a class=\"\" data-mw=\"interface\" href=\"/w/index.php?title=Speci%C3%A1lis:Szerkeszt%C5%91i_fi%C3%B3k_l%C3%A9trehoz%C3%A1sa&amp;returnto=Kateg%C3%B3ria%3AN%C3%B6v%C3%A9nycsal%C3%A1dok\" title=\"Arra bíztatunk, hogy hozz létre egy fiókot, és jelentkezz be, azonban ez nem kötelező\"><span>Fiók létrehozása</span></a>\n",
      "</li>\n",
      "<li class=\"user-links-collapsible-item mw-list-item user-links-collapsible-item\" id=\"pt-login-2\"><a accesskey=\"o\" class=\"\" data-mw=\"interface\" href=\"/w/index.php?title=Speci%C3%A1lis:Bel%C3%A9p%C3%A9s&amp;returnto=Kateg%C3%B3ria%3AN%C3%B6v%C3%A9nycsal%C3%A1dok\" title=\"Bejelentkezni javasolt, de nem kötelező [o]\"><span>Bejelentkezés</span></a>\n",
      "</li>\n",
      "</ul>\n",
      "</div>\n",
      "</div>\n",
      "</div>\n",
      "<div class=\"vector-dropdown vector-user-menu vector-button-flush-right vector-user-menu-logged-out\" id=\"vector-user-links-dropdown\" title=\"További lehetőségek\">\n",
      "<input aria-haspopup=\"true\" aria-label=\"Személyes eszközök\" class=\"vector-dropdown-checkbox\" data-event-name=\"ui.dropdown-vector-user-links-dropdown\" id=\"vector-user-links-dropdown-checkbox\" role=\"button\" type=\"checkbox\"/>\n",
      "<label aria-hidden=\"true\" class=\"vector-dropdown-label cdx-button cdx-button--fake-button cdx-button--fake-button--enabled cdx-button--weight-quiet cdx-button--icon-only\" for=\"vector-user-links-dropdown-checkbox\" id=\"vector-user-links-dropdown-label\"><span class=\"vector-icon mw-ui-icon-ellipsis mw-ui-icon-wikimedia-ellipsis\"></span>\n",
      "<span class=\"vector-dropdown-label-text\">Személyes eszközök</span>\n",
      "</label>\n",
      "<div class=\"vector-dropdown-content\">\n",
      "<div class=\"vector-menu mw-portlet mw-portlet-personal user-links-collapsible-item\" id=\"p-personal\" title=\"Felhasználói menü\">\n",
      "<div class=\"vector-menu-content\">\n",
      "<ul class=\"vector-menu-content-list\">\n",
      "<li class=\"user-links-collapsible-item mw-list-item\" id=\"pt-createaccount\"><a href=\"/w/index.php?title=Speci%C3%A1lis:Szerkeszt%C5%91i_fi%C3%B3k_l%C3%A9trehoz%C3%A1sa&amp;returnto=Kateg%C3%B3ria%3AN%C3%B6v%C3%A9nycsal%C3%A1dok\" title=\"Arra bíztatunk, hogy hozz létre egy fiókot, és jelentkezz be, azonban ez nem kötelező\"><span class=\"vector-icon mw-ui-icon-userAdd mw-ui-icon-wikimedia-userAdd\"></span> <span>Fiók létrehozása</span></a></li><li class=\"user-links-collapsible-item mw-list-item\" id=\"pt-login\"><a accesskey=\"o\" href=\"/w/index.php?title=Speci%C3%A1lis:Bel%C3%A9p%C3%A9s&amp;returnto=Kateg%C3%B3ria%3AN%C3%B6v%C3%A9nycsal%C3%A1dok\" title=\"Bejelentkezni javasolt, de nem kötelező [o]\"><span class=\"vector-icon mw-ui-icon-logIn mw-ui-icon-wikimedia-logIn\"></span> <span>Bejelentkezés</span></a></li>\n",
      "</ul>\n",
      "</div>\n",
      "</div>\n",
      "<div class=\"vector-menu mw-portlet mw-portlet-user-menu-anon-editor\" id=\"p-user-menu-anon-editor\">\n",
      "<div class=\"vector-menu-heading\">\n",
      "\t\tLapok kijelentkezett szerkesztőknek <a aria-label=\"Tudj meg többet a szerkesztésről\" href=\"/wiki/Seg%C3%ADts%C3%A9g:Bevezet%C3%A9s\"><span>további információk</span></a>\n",
      "</div>\n",
      "<div class=\"vector-menu-content\">\n",
      "<ul class=\"vector-menu-content-list\">\n",
      "<li class=\"mw-list-item\" id=\"pt-anoncontribs\"><a accesskey=\"y\" href=\"/wiki/Speci%C3%A1lis:K%C3%B6zrem%C5%B1k%C3%B6d%C3%A9seim\" title=\"Erről az IP-címről végrehajtott szerkesztések listája [y]\"><span>Közreműködések</span></a></li><li class=\"mw-list-item\" id=\"pt-anontalk\"><a accesskey=\"n\" href=\"/wiki/Speci%C3%A1lis:Vit%C3%A1m\" title=\"Az általad használt IP-címről végrehajtott szerkesztések megvitatása [n]\"><span>Vitalap</span></a></li>\n",
      "</ul>\n",
      "</div>\n",
      "</div>\n",
      "</div>\n",
      "</div>\n",
      "</nav>\n",
      "</div>\n",
      "</header>\n",
      "</div>\n",
      "<div class=\"mw-page-container\">\n",
      "<div class=\"mw-page-container-inner\">\n",
      "<div class=\"vector-sitenotice-container\">\n",
      "<div class=\"notheme\" id=\"siteNotice\"><!-- CentralNotice --></div>\n",
      "</div>\n",
      "<div class=\"vector-column-start\">\n",
      "<div class=\"vector-main-menu-container\">\n",
      "<div id=\"mw-navigation\">\n",
      "<nav aria-label=\"Wiki\" class=\"vector-main-menu-landmark\" id=\"mw-panel\">\n",
      "<div class=\"vector-pinned-container\" id=\"vector-main-menu-pinned-container\">\n",
      "</div>\n",
      "</nav>\n",
      "</div>\n",
      "</div>\n",
      "</div>\n",
      "<div class=\"mw-content-container\">\n",
      "<main class=\"mw-body\" id=\"content\">\n",
      "<header class=\"mw-body-header vector-page-titlebar\">\n",
      "<h1 class=\"firstHeading mw-first-heading\" id=\"firstHeading\"><span class=\"mw-page-title-namespace\">Kategória</span><span class=\"mw-page-title-separator\">:</span><span class=\"mw-page-title-main\">Növénycsaládok</span></h1>\n",
      "<div class=\"vector-dropdown mw-portlet mw-portlet-lang\" id=\"p-lang-btn\">\n",
      "<input aria-haspopup=\"true\" aria-label=\"Ugrás egy más nyelvű szócikkre. Elérhető 54 nyelven\" class=\"vector-dropdown-checkbox mw-interlanguage-selector\" data-event-name=\"ui.dropdown-p-lang-btn\" id=\"p-lang-btn-checkbox\" role=\"button\" type=\"checkbox\"/>\n",
      "<label aria-hidden=\"true\" class=\"vector-dropdown-label cdx-button cdx-button--fake-button cdx-button--fake-button--enabled cdx-button--weight-quiet cdx-button--action-progressive mw-portlet-lang-heading-54\" for=\"p-lang-btn-checkbox\" id=\"p-lang-btn-label\"><span class=\"vector-icon mw-ui-icon-language-progressive mw-ui-icon-wikimedia-language-progressive\"></span>\n",
      "<span class=\"vector-dropdown-label-text\">54 nyelv</span>\n",
      "</label>\n",
      "<div class=\"vector-dropdown-content\">\n",
      "<div class=\"vector-menu-content\">\n",
      "<ul class=\"vector-menu-content-list\">\n",
      "<li class=\"interlanguage-link interwiki-en mw-list-item\"><a class=\"interlanguage-link-target\" href=\"https://en.wikipedia.org/wiki/Category:Plant_families\" hreflang=\"en\" lang=\"en\" title=\"Category:Plant families – angol\"><span>English</span></a></li><li class=\"interlanguage-link interwiki-af mw-list-item\"><a class=\"interlanguage-link-target\" href=\"https://af.wikipedia.org/wiki/Kategorie:Plantfamilies\" hreflang=\"af\" lang=\"af\" title=\"Kategorie:Plantfamilies – afrikaans\"><span>Afrikaans</span></a></li><li class=\"interlanguage-link interwiki-an mw-list-item\"><a class=\"interlanguage-link-target\" href=\"https://an.wikipedia.org/wiki/Categor%C3%ADa:Familias_de_plantas\" hreflang=\"an\" lang=\"an\" title=\"Categoría:Familias de plantas – aragonéz\"><span>Aragonés</span></a></li><li class=\"interlanguage-link interwiki-ar mw-list-item\"><a class=\"interlanguage-link-target\" href=\"https://ar.wikipedia.org/wiki/%D8%AA%D8%B5%D9%86%D9%8A%D9%81:%D9%81%D8%B5%D8%A7%D8%A6%D9%84_%D9%86%D8%A8%D8%A7%D8%AA%D9%8A%D8%A9\" hreflang=\"ar\" lang=\"ar\" title=\"تصنيف:فصائل نباتية – arab\"><span>العربية</span></a></li><li class=\"interlanguage-link interwiki-ast mw-list-item\"><a class=\"interlanguage-link-target\" href=\"https://ast.wikipedia.org/wiki/Categor%C3%ADa:Families_de_plantes\" hreflang=\"ast\" lang=\"ast\" title=\"Categoría:Families de plantes – asztúr\"><span>Asturianu</span></a></li><li class=\"interlanguage-link interwiki-ba mw-list-item\"><a class=\"interlanguage-link-target\" href=\"https://ba.wikipedia.org/wiki/%D0%9A%D0%B0%D1%82%D0%B5%D0%B3%D0%BE%D1%80%D0%B8%D1%8F:%D2%AE%D2%AB%D0%B5%D0%BC%D0%BB%D0%B5%D0%BA%D1%82%D3%99%D1%80_%D2%93%D0%B0%D0%B8%D0%BB%D3%99%D0%BB%D3%99%D1%80%D0%B5\" hreflang=\"ba\" lang=\"ba\" title=\"Категория:Үҫемлектәр ғаиләләре – baskír\"><span>Башҡортса</span></a></li><li class=\"interlanguage-link interwiki-be mw-list-item\"><a class=\"interlanguage-link-target\" href=\"https://be.wikipedia.org/wiki/%D0%9A%D0%B0%D1%82%D1%8D%D0%B3%D0%BE%D1%80%D1%8B%D1%8F:%D0%A1%D1%8F%D0%BC%D0%B5%D0%B9%D1%81%D1%82%D0%B2%D1%8B_%D1%80%D0%B0%D1%81%D0%BB%D1%96%D0%BD\" hreflang=\"be\" lang=\"be\" title=\"Катэгорыя:Сямействы раслін – belarusz\"><span>Беларуская</span></a></li><li class=\"interlanguage-link interwiki-cv mw-list-item\"><a class=\"interlanguage-link-target\" href=\"https://cv.wikipedia.org/wiki/%D0%9A%D0%B0%D1%82%D0%B5%D0%B3%D0%BE%D1%80%D0%B8:%D3%B2%D1%81%D0%B5%D0%BD%D1%82%C4%83%D1%80%D0%B0%D0%BD%D1%81%D0%B5%D0%BD_%D0%B9%D1%8B%D1%88%C4%95%D1%81%D0%B5%D0%BC\" hreflang=\"cv\" lang=\"cv\" title=\"Категори:Ӳсентăрансен йышĕсем – csuvas\"><span>Чӑвашла</span></a></li><li class=\"interlanguage-link interwiki-cy mw-list-item\"><a class=\"interlanguage-link-target\" href=\"https://cy.wikipedia.org/wiki/Categori:Teuluoedd_planhigion\" hreflang=\"cy\" lang=\"cy\" title=\"Categori:Teuluoedd planhigion – walesi\"><span>Cymraeg</span></a></li><li class=\"interlanguage-link interwiki-da mw-list-item\"><a class=\"interlanguage-link-target\" href=\"https://da.wikipedia.org/wiki/Kategori:Plantefamilier\" hreflang=\"da\" lang=\"da\" title=\"Kategori:Plantefamilier – dán\"><span>Dansk</span></a></li><li class=\"interlanguage-link interwiki-dsb mw-list-item\"><a class=\"interlanguage-link-target\" href=\"https://dsb.wikipedia.org/wiki/Kategorija:Sw%C3%B3j%C5%BAby_rostlinow\" hreflang=\"dsb\" lang=\"dsb\" title=\"Kategorija:Swójźby rostlinow – alsó-szorb\"><span>Dolnoserbski</span></a></li><li class=\"interlanguage-link interwiki-el mw-list-item\"><a class=\"interlanguage-link-target\" href=\"https://el.wikipedia.org/wiki/%CE%9A%CE%B1%CF%84%CE%B7%CE%B3%CE%BF%CF%81%CE%AF%CE%B1:%CE%9F%CE%B9%CE%BA%CE%BF%CE%B3%CE%AD%CE%BD%CE%B5%CE%B9%CE%B5%CF%82_%CF%86%CF%85%CF%84%CF%8E%CE%BD\" hreflang=\"el\" lang=\"el\" title=\"Κατηγορία:Οικογένειες φυτών – görög\"><span>Ελληνικά</span></a></li><li class=\"interlanguage-link interwiki-eo mw-list-item\"><a class=\"interlanguage-link-target\" href=\"https://eo.wikipedia.org/wiki/Kategorio:Plantofamilioj\" hreflang=\"eo\" lang=\"eo\" title=\"Kategorio:Plantofamilioj – eszperantó\"><span>Esperanto</span></a></li><li class=\"interlanguage-link interwiki-es mw-list-item\"><a class=\"interlanguage-link-target\" href=\"https://es.wikipedia.org/wiki/Categor%C3%ADa:Familias_de_plantas\" hreflang=\"es\" lang=\"es\" title=\"Categoría:Familias de plantas – spanyol\"><span>Español</span></a></li><li class=\"interlanguage-link interwiki-eu mw-list-item\"><a class=\"interlanguage-link-target\" href=\"https://eu.wikipedia.org/wiki/Kategoria:Landare_familiak\" hreflang=\"eu\" lang=\"eu\" title=\"Kategoria:Landare familiak – baszk\"><span>Euskara</span></a></li><li class=\"interlanguage-link interwiki-fa mw-list-item\"><a class=\"interlanguage-link-target\" href=\"https://fa.wikipedia.org/wiki/%D8%B1%D8%AF%D9%87:%D8%AA%DB%8C%D8%B1%D9%87%E2%80%8C%D9%87%D8%A7%DB%8C_%DA%AF%DB%8C%D8%A7%D9%87%DB%8C\" hreflang=\"fa\" lang=\"fa\" title=\"رده:تیره‌های گیاهی – perzsa\"><span>فارسی</span></a></li><li class=\"interlanguage-link interwiki-fi mw-list-item\"><a class=\"interlanguage-link-target\" href=\"https://fi.wikipedia.org/wiki/Luokka:Kasviheimot\" hreflang=\"fi\" lang=\"fi\" title=\"Luokka:Kasviheimot – finn\"><span>Suomi</span></a></li><li class=\"interlanguage-link interwiki-fr mw-list-item\"><a class=\"interlanguage-link-target\" href=\"https://fr.wikipedia.org/wiki/Cat%C3%A9gorie:Famille_de_plantes\" hreflang=\"fr\" lang=\"fr\" title=\"Catégorie:Famille de plantes – francia\"><span>Français</span></a></li><li class=\"interlanguage-link interwiki-fy mw-list-item\"><a class=\"interlanguage-link-target\" href=\"https://fy.wikipedia.org/wiki/Kategory:Plantefamylje\" hreflang=\"fy\" lang=\"fy\" title=\"Kategory:Plantefamylje – nyugati fríz\"><span>Frysk</span></a></li><li class=\"interlanguage-link interwiki-gl mw-list-item\"><a class=\"interlanguage-link-target\" href=\"https://gl.wikipedia.org/wiki/Categor%C3%ADa:Familias_de_plantas\" hreflang=\"gl\" lang=\"gl\" title=\"Categoría:Familias de plantas – gallego\"><span>Galego</span></a></li><li class=\"interlanguage-link interwiki-he mw-list-item\"><a class=\"interlanguage-link-target\" href=\"https://he.wikipedia.org/wiki/%D7%A7%D7%98%D7%92%D7%95%D7%A8%D7%99%D7%94:%D7%9E%D7%A9%D7%A4%D7%97%D7%95%D7%AA_%D7%A6%D7%9E%D7%97%D7%99%D7%9D\" hreflang=\"he\" lang=\"he\" title=\"קטגוריה:משפחות צמחים – héber\"><span>עברית</span></a></li><li class=\"interlanguage-link interwiki-hi mw-list-item\"><a class=\"interlanguage-link-target\" href=\"https://hi.wikipedia.org/wiki/%E0%A4%B6%E0%A5%8D%E0%A4%B0%E0%A5%87%E0%A4%A3%E0%A5%80:%E0%A4%AA%E0%A4%BE%E0%A4%A6%E0%A4%AA_%E0%A4%95%E0%A5%87_%E0%A4%95%E0%A5%81%E0%A4%B2\" hreflang=\"hi\" lang=\"hi\" title=\"श्रेणी:पादप के कुल – hindi\"><span>हिन्दी</span></a></li><li class=\"interlanguage-link interwiki-hr mw-list-item\"><a class=\"interlanguage-link-target\" href=\"https://hr.wikipedia.org/wiki/Kategorija:Biljne_porodice\" hreflang=\"hr\" lang=\"hr\" title=\"Kategorija:Biljne porodice – horvát\"><span>Hrvatski</span></a></li><li class=\"interlanguage-link interwiki-hy mw-list-item\"><a class=\"interlanguage-link-target\" href=\"https://hy.wikipedia.org/wiki/%D4%BF%D5%A1%D5%BF%D5%A5%D5%A3%D5%B8%D6%80%D5%AB%D5%A1:%D4%B2%D5%B8%D6%82%D5%B5%D5%BD%D5%A5%D6%80%D5%AB_%D5%A8%D5%B6%D5%BF%D5%A1%D5%B6%D5%AB%D6%84%D5%B6%D5%A5%D6%80\" hreflang=\"hy\" lang=\"hy\" title=\"Կատեգորիա:Բույսերի ընտանիքներ – örmény\"><span>Հայերեն</span></a></li><li class=\"interlanguage-link interwiki-ka mw-list-item\"><a class=\"interlanguage-link-target\" href=\"https://ka.wikipedia.org/wiki/%E1%83%99%E1%83%90%E1%83%A2%E1%83%94%E1%83%92%E1%83%9D%E1%83%A0%E1%83%98%E1%83%90:%E1%83%9B%E1%83%AA%E1%83%94%E1%83%9C%E1%83%90%E1%83%A0%E1%83%94%E1%83%97%E1%83%90_%E1%83%9D%E1%83%AF%E1%83%90%E1%83%AE%E1%83%94%E1%83%91%E1%83%98\" hreflang=\"ka\" lang=\"ka\" title=\"კატეგორია:მცენარეთა ოჯახები – grúz\"><span>ქართული</span></a></li><li class=\"interlanguage-link interwiki-kab mw-list-item\"><a class=\"interlanguage-link-target\" href=\"https://kab.wikipedia.org/wiki/Taggayt:Tiwaculin_n_im%C9%A3an\" hreflang=\"kab\" lang=\"kab\" title=\"Taggayt:Tiwaculin n imɣan – kabije\"><span>Taqbaylit</span></a></li><li class=\"interlanguage-link interwiki-ko mw-list-item\"><a class=\"interlanguage-link-target\" href=\"https://ko.wikipedia.org/wiki/%EB%B6%84%EB%A5%98:%EC%8B%9D%EB%AC%BC%EC%9D%98_%EA%B3%BC\" hreflang=\"ko\" lang=\"ko\" title=\"분류:식물의 과 – koreai\"><span>한국어</span></a></li><li class=\"interlanguage-link interwiki-koi mw-list-item\"><a class=\"interlanguage-link-target\" href=\"https://koi.wikipedia.org/wiki/%D0%9A%D0%B0%D1%82%D0%B5%D0%B3%D0%BE%D1%80%D0%B8%D1%8F:%D0%91%D1%8B%D0%B4%D0%BC%D0%B0%D1%81_%D0%BA%D0%BE%D1%82%D1%8B%D1%80%D1%80%D0%B5%D0%B7\" hreflang=\"koi\" lang=\"koi\" title=\"Категория:Быдмас котыррез – komi-permják\"><span>Перем коми</span></a></li><li class=\"interlanguage-link interwiki-ku mw-list-item\"><a class=\"interlanguage-link-target\" href=\"https://ku.wikipedia.org/wiki/Kategor%C3%AE:Fam%C3%AEleya_riwekan\" hreflang=\"ku\" lang=\"ku\" title=\"Kategorî:Famîleya riwekan – kurd\"><span>Kurdî</span></a></li><li class=\"interlanguage-link interwiki-kv mw-list-item\"><a class=\"interlanguage-link-target\" href=\"https://kv.wikipedia.org/wiki/%D0%9A%D0%B0%D1%82%D0%B5%D0%B3%D0%BE%D1%80%D0%B8%D1%8F:%D0%91%D1%8B%D0%B4%D0%BC%D3%A7%D0%B3_%D0%BA%D0%BE%D1%82%D1%8B%D1%80%D1%8A%D1%8F%D1%81\" hreflang=\"kv\" lang=\"kv\" title=\"Категория:Быдмӧг котыръяс – komi\"><span>Коми</span></a></li><li class=\"interlanguage-link interwiki-la mw-list-item\"><a class=\"interlanguage-link-target\" href=\"https://la.wikipedia.org/wiki/Categoria:Familiae_plantarum\" hreflang=\"la\" lang=\"la\" title=\"Categoria:Familiae plantarum – latin\"><span>Latina</span></a></li><li class=\"interlanguage-link interwiki-ml mw-list-item\"><a class=\"interlanguage-link-target\" href=\"https://ml.wikipedia.org/wiki/%E0%B4%B5%E0%B5%BC%E0%B4%97%E0%B5%8D%E0%B4%97%E0%B4%82:%E0%B4%B8%E0%B4%B8%E0%B5%8D%E0%B4%AF%E0%B4%95%E0%B5%81%E0%B4%9F%E0%B5%81%E0%B4%82%E0%B4%AC%E0%B4%99%E0%B5%8D%E0%B4%99%E0%B5%BE\" hreflang=\"ml\" lang=\"ml\" title=\"വർഗ്ഗം:സസ്യകുടുംബങ്ങൾ – malajálam\"><span>മലയാളം</span></a></li><li class=\"interlanguage-link interwiki-my mw-list-item\"><a class=\"interlanguage-link-target\" href=\"https://my.wikipedia.org/wiki/%E1%80%80%E1%80%8F%E1%80%B9%E1%80%8D:%E1%80%A1%E1%80%95%E1%80%84%E1%80%BA_%E1%80%99%E1%80%BB%E1%80%AD%E1%80%AF%E1%80%B8%E1%80%9B%E1%80%84%E1%80%BA%E1%80%B8%E1%80%99%E1%80%BB%E1%80%AC%E1%80%B8\" hreflang=\"my\" lang=\"my\" title=\"ကဏ္ဍ:အပင် မျိုးရင်းများ – burmai\"><span>မြန်မာဘာသာ</span></a></li><li class=\"interlanguage-link interwiki-nl mw-list-item\"><a class=\"interlanguage-link-target\" href=\"https://nl.wikipedia.org/wiki/Categorie:Plantenfamilie\" hreflang=\"nl\" lang=\"nl\" title=\"Categorie:Plantenfamilie – holland\"><span>Nederlands</span></a></li><li class=\"interlanguage-link interwiki-nn mw-list-item\"><a class=\"interlanguage-link-target\" href=\"https://nn.wikipedia.org/wiki/Kategori:Plantefamiliar\" hreflang=\"nn\" lang=\"nn\" title=\"Kategori:Plantefamiliar – norvég (nynorsk)\"><span>Norsk nynorsk</span></a></li><li class=\"interlanguage-link interwiki-oc mw-list-item\"><a class=\"interlanguage-link-target\" href=\"https://oc.wikipedia.org/wiki/Categoria:Familha_botanica\" hreflang=\"oc\" lang=\"oc\" title=\"Categoria:Familha botanica – okszitán\"><span>Occitan</span></a></li><li class=\"interlanguage-link interwiki-os mw-list-item\"><a class=\"interlanguage-link-target\" href=\"https://os.wikipedia.org/wiki/%D0%9A%D0%B0%D1%82%D0%B5%D0%B3%D0%BE%D1%80%D0%B8:%D0%97%D0%B0%D0%B9%C3%A6%D0%B3%D0%BE%D0%B9%D1%82%D1%8B_%D0%B1%D0%B8%D0%BD%D0%BE%D0%BD%C3%A6%D0%B4%D1%82%C3%A6\" hreflang=\"os\" lang=\"os\" title=\"Категори:Зайæгойты бинонæдтæ – oszét\"><span>Ирон</span></a></li><li class=\"interlanguage-link interwiki-pt mw-list-item\"><a class=\"interlanguage-link-target\" href=\"https://pt.wikipedia.org/wiki/Categoria:Fam%C3%ADlias_bot%C3%A2nicas\" hreflang=\"pt\" lang=\"pt\" title=\"Categoria:Famílias botânicas – portugál\"><span>Português</span></a></li><li class=\"interlanguage-link interwiki-ro mw-list-item\"><a class=\"interlanguage-link-target\" href=\"https://ro.wikipedia.org/wiki/Categorie:Familii_de_plante\" hreflang=\"ro\" lang=\"ro\" title=\"Categorie:Familii de plante – román\"><span>Română</span></a></li><li class=\"interlanguage-link interwiki-ru mw-list-item\"><a class=\"interlanguage-link-target\" href=\"https://ru.wikipedia.org/wiki/%D0%9A%D0%B0%D1%82%D0%B5%D0%B3%D0%BE%D1%80%D0%B8%D1%8F:%D0%A1%D0%B5%D0%BC%D0%B5%D0%B9%D1%81%D1%82%D0%B2%D0%B0_%D1%80%D0%B0%D1%81%D1%82%D0%B5%D0%BD%D0%B8%D0%B9\" hreflang=\"ru\" lang=\"ru\" title=\"Категория:Семейства растений – orosz\"><span>Русский</span></a></li><li class=\"interlanguage-link interwiki-sco mw-list-item\"><a class=\"interlanguage-link-target\" href=\"https://sco.wikipedia.org/wiki/Category:Plant_faimilies\" hreflang=\"sco\" lang=\"sco\" title=\"Category:Plant faimilies – skót\"><span>Scots</span></a></li><li class=\"interlanguage-link interwiki-simple mw-list-item\"><a class=\"interlanguage-link-target\" href=\"https://simple.wikipedia.org/wiki/Category:Plant_families\" hreflang=\"en-simple\" lang=\"en-simple\" title=\"Category:Plant families – Simple English\"><span>Simple English</span></a></li><li class=\"interlanguage-link interwiki-sl mw-list-item\"><a class=\"interlanguage-link-target\" href=\"https://sl.wikipedia.org/wiki/Kategorija:Botani%C4%8Dne_dru%C5%BEine\" hreflang=\"sl\" lang=\"sl\" title=\"Kategorija:Botanične družine – szlovén\"><span>Slovenščina</span></a></li><li class=\"interlanguage-link interwiki-th mw-list-item\"><a class=\"interlanguage-link-target\" href=\"https://th.wikipedia.org/wiki/%E0%B8%AB%E0%B8%A1%E0%B8%A7%E0%B8%94%E0%B8%AB%E0%B8%A1%E0%B8%B9%E0%B9%88:%E0%B8%9E%E0%B8%B7%E0%B8%8A%E0%B9%81%E0%B8%9A%E0%B9%88%E0%B8%87%E0%B8%95%E0%B8%B2%E0%B8%A1%E0%B8%A7%E0%B8%87%E0%B8%A8%E0%B9%8C\" hreflang=\"th\" lang=\"th\" title=\"หมวดหมู่:พืชแบ่งตามวงศ์ – thai\"><span>ไทย</span></a></li><li class=\"interlanguage-link interwiki-tl mw-list-item\"><a class=\"interlanguage-link-target\" href=\"https://tl.wikipedia.org/wiki/Kategorya:Mga_pamilya_ng_halaman\" hreflang=\"tl\" lang=\"tl\" title=\"Kategorya:Mga pamilya ng halaman – tagalog\"><span>Tagalog</span></a></li><li class=\"interlanguage-link interwiki-tr mw-list-item\"><a class=\"interlanguage-link-target\" href=\"https://tr.wikipedia.org/wiki/Kategori:Bitki_familyalar%C4%B1\" hreflang=\"tr\" lang=\"tr\" title=\"Kategori:Bitki familyaları – török\"><span>Türkçe</span></a></li><li class=\"interlanguage-link interwiki-tt mw-list-item\"><a class=\"interlanguage-link-target\" href=\"https://tt.wikipedia.org/wiki/%D0%A2%D3%A9%D1%80%D0%BA%D0%B5%D0%BC:%D2%AE%D1%81%D0%B5%D0%BC%D0%BB%D0%B5%D0%BA%D0%BB%D3%99%D1%80_%D0%B3%D0%B0%D0%B8%D0%BB%D3%99%D0%BB%D3%99%D1%80%D0%B5\" hreflang=\"tt\" lang=\"tt\" title=\"Төркем:Үсемлекләр гаиләләре – tatár\"><span>Татарча / tatarça</span></a></li><li class=\"interlanguage-link interwiki-uk mw-list-item\"><a class=\"interlanguage-link-target\" href=\"https://uk.wikipedia.org/wiki/%D0%9A%D0%B0%D1%82%D0%B5%D0%B3%D0%BE%D1%80%D1%96%D1%8F:%D0%A0%D0%BE%D0%B4%D0%B8%D0%BD%D0%B8_%D1%80%D0%BE%D1%81%D0%BB%D0%B8%D0%BD\" hreflang=\"uk\" lang=\"uk\" title=\"Категорія:Родини рослин – ukrán\"><span>Українська</span></a></li><li class=\"interlanguage-link interwiki-vep mw-list-item\"><a class=\"interlanguage-link-target\" href=\"https://vep.wikipedia.org/wiki/Kategorii:Kazmusiden_sugukundad\" hreflang=\"vep\" lang=\"vep\" title=\"Kategorii:Kazmusiden sugukundad – Veps\"><span>Vepsän kel’</span></a></li><li class=\"interlanguage-link interwiki-vi mw-list-item\"><a class=\"interlanguage-link-target\" href=\"https://vi.wikipedia.org/wiki/Th%E1%BB%83_lo%E1%BA%A1i:H%E1%BB%8D_th%E1%BB%B1c_v%E1%BA%ADt\" hreflang=\"vi\" lang=\"vi\" title=\"Thể loại:Họ thực vật – vietnámi\"><span>Tiếng Việt</span></a></li><li class=\"interlanguage-link interwiki-wa mw-list-item\"><a class=\"interlanguage-link-target\" href=\"https://wa.wikipedia.org/wiki/Categoreye:Familes_des_plantes\" hreflang=\"wa\" lang=\"wa\" title=\"Categoreye:Familes des plantes – vallon\"><span>Walon</span></a></li><li class=\"interlanguage-link interwiki-yi mw-list-item\"><a class=\"interlanguage-link-target\" href=\"https://yi.wikipedia.org/wiki/%D7%A7%D7%90%D6%B7%D7%98%D7%A2%D7%92%D7%90%D6%B8%D7%A8%D7%99%D7%A2:%D7%A4%D7%9C%D7%90%D7%A0%D7%A6%D7%9F_%D7%9E%D7%A9%D7%A4%D7%97%D7%95%D7%AA\" hreflang=\"yi\" lang=\"yi\" title=\"קאַטעגאָריע:פלאנצן משפחות – jiddis\"><span>ייִדיש</span></a></li><li class=\"interlanguage-link interwiki-zh mw-list-item\"><a class=\"interlanguage-link-target\" href=\"https://zh.wikipedia.org/wiki/Category:%E6%A4%8D%E7%89%A9%E7%A7%91%E5%90%8D\" hreflang=\"zh\" lang=\"zh\" title=\"Category:植物科名 – kínai\"><span>中文</span></a></li><li class=\"interlanguage-link interwiki-zh-yue mw-list-item\"><a class=\"interlanguage-link-target\" href=\"https://zh-yue.wikipedia.org/wiki/Category:%E6%A4%8D%E7%89%A9%E7%A7%91%E5%90%8D\" hreflang=\"yue\" lang=\"yue\" title=\"Category:植物科名 – kantoni\"><span>粵語</span></a></li>\n",
      "</ul>\n",
      "<div class=\"after-portlet after-portlet-lang\"><span class=\"wb-langlinks-edit wb-langlinks-link\"><a class=\"wbc-editpage\" href=\"https://www.wikidata.org/wiki/Special:EntityPage/Q9079785#sitelinks-wikipedia\" title=\"Nyelvközi hivatkozások szerkesztése\">Hivatkozások szerkesztése</a></span></div>\n",
      "</div>\n",
      "</div>\n",
      "</div>\n",
      "</header>\n",
      "<div class=\"vector-page-toolbar\">\n",
      "<div class=\"vector-page-toolbar-container\">\n",
      "<div id=\"left-navigation\">\n",
      "<nav aria-label=\"Névterek\">\n",
      "<div class=\"vector-menu vector-menu-tabs mw-portlet mw-portlet-associated-pages\" id=\"p-associated-pages\">\n",
      "<div class=\"vector-menu-content\">\n",
      "<ul class=\"vector-menu-content-list\">\n",
      "<li class=\"selected vector-tab-noicon mw-list-item\" id=\"ca-nstab-category\"><a accesskey=\"c\" href=\"/wiki/Kateg%C3%B3ria:N%C3%B6v%C3%A9nycsal%C3%A1dok\" title=\"A kategória megtekintése [c]\"><span>Kategória</span></a></li><li class=\"vector-tab-noicon mw-list-item\" id=\"ca-talk\"><a accesskey=\"t\" href=\"/wiki/Kateg%C3%B3riavita:N%C3%B6v%C3%A9nycsal%C3%A1dok\" rel=\"discussion\" title=\"Az oldal tartalmának megvitatása [t]\"><span>Vitalap</span></a></li>\n",
      "</ul>\n",
      "</div>\n",
      "</div>\n",
      "<div class=\"vector-dropdown emptyPortlet\" id=\"vector-variants-dropdown\">\n",
      "<input aria-haspopup=\"true\" aria-label=\"Nyelvvariáns váltása\" class=\"vector-dropdown-checkbox\" data-event-name=\"ui.dropdown-vector-variants-dropdown\" id=\"vector-variants-dropdown-checkbox\" role=\"button\" type=\"checkbox\"/>\n",
      "<label aria-hidden=\"true\" class=\"vector-dropdown-label cdx-button cdx-button--fake-button cdx-button--fake-button--enabled cdx-button--weight-quiet\" for=\"vector-variants-dropdown-checkbox\" id=\"vector-variants-dropdown-label\"><span class=\"vector-dropdown-label-text\">magyar</span>\n",
      "</label>\n",
      "<div class=\"vector-dropdown-content\">\n",
      "<div class=\"vector-menu mw-portlet mw-portlet-variants emptyPortlet\" id=\"p-variants\">\n",
      "<div class=\"vector-menu-content\">\n",
      "<ul class=\"vector-menu-content-list\">\n",
      "</ul>\n",
      "</div>\n",
      "</div>\n",
      "</div>\n",
      "</div>\n",
      "</nav>\n",
      "</div>\n",
      "<div class=\"vector-collapsible\" id=\"right-navigation\">\n",
      "<nav aria-label=\"Nézetek\">\n",
      "<div class=\"vector-menu vector-menu-tabs mw-portlet mw-portlet-views\" id=\"p-views\">\n",
      "<div class=\"vector-menu-content\">\n",
      "<ul class=\"vector-menu-content-list\">\n",
      "<li class=\"selected vector-tab-noicon mw-list-item\" id=\"ca-view\"><a href=\"/wiki/Kateg%C3%B3ria:N%C3%B6v%C3%A9nycsal%C3%A1dok\"><span>Olvasás</span></a></li><li class=\"vector-tab-noicon mw-list-item\" id=\"ca-edit\"><a accesskey=\"e\" href=\"/w/index.php?title=Kateg%C3%B3ria:N%C3%B6v%C3%A9nycsal%C3%A1dok&amp;action=edit\" title=\"Az oldal forráskódjának szerkesztése [e]\"><span>Szerkesztés</span></a></li><li class=\"vector-tab-noicon mw-list-item\" id=\"ca-history\"><a accesskey=\"h\" href=\"/w/index.php?title=Kateg%C3%B3ria:N%C3%B6v%C3%A9nycsal%C3%A1dok&amp;action=history\" title=\"A lap korábbi változatai [h]\"><span>Laptörténet</span></a></li>\n",
      "</ul>\n",
      "</div>\n",
      "</div>\n",
      "</nav>\n",
      "<nav aria-label=\"Oldal eszközök\" class=\"vector-page-tools-landmark\">\n",
      "<div class=\"vector-dropdown vector-page-tools-dropdown\" id=\"vector-page-tools-dropdown\">\n",
      "<input aria-haspopup=\"true\" aria-label=\"Eszközök\" class=\"vector-dropdown-checkbox\" data-event-name=\"ui.dropdown-vector-page-tools-dropdown\" id=\"vector-page-tools-dropdown-checkbox\" role=\"button\" type=\"checkbox\"/>\n",
      "<label aria-hidden=\"true\" class=\"vector-dropdown-label cdx-button cdx-button--fake-button cdx-button--fake-button--enabled cdx-button--weight-quiet\" for=\"vector-page-tools-dropdown-checkbox\" id=\"vector-page-tools-dropdown-label\"><span class=\"vector-dropdown-label-text\">Eszközök</span>\n",
      "</label>\n",
      "<div class=\"vector-dropdown-content\">\n",
      "<div class=\"vector-unpinned-container\" id=\"vector-page-tools-unpinned-container\">\n",
      "<div class=\"vector-page-tools vector-pinnable-element\" id=\"vector-page-tools\">\n",
      "<div class=\"vector-pinnable-header vector-page-tools-pinnable-header vector-pinnable-header-unpinned\" data-feature-name=\"page-tools-pinned\" data-pinnable-element-id=\"vector-page-tools\" data-pinned-container-id=\"vector-page-tools-pinned-container\" data-unpinned-container-id=\"vector-page-tools-unpinned-container\">\n",
      "<div class=\"vector-pinnable-header-label\">Eszközök</div>\n",
      "<button class=\"vector-pinnable-header-toggle-button vector-pinnable-header-pin-button\" data-event-name=\"pinnable-header.vector-page-tools.pin\">áthelyezés az oldalsávba</button>\n",
      "<button class=\"vector-pinnable-header-toggle-button vector-pinnable-header-unpin-button\" data-event-name=\"pinnable-header.vector-page-tools.unpin\">elrejtés</button>\n",
      "</div>\n",
      "<div class=\"vector-menu mw-portlet mw-portlet-cactions emptyPortlet vector-has-collapsible-items\" id=\"p-cactions\" title=\"További lehetőségek\">\n",
      "<div class=\"vector-menu-heading\">\n",
      "\t\tMűveletek\n",
      "\t</div>\n",
      "<div class=\"vector-menu-content\">\n",
      "<ul class=\"vector-menu-content-list\">\n",
      "<li class=\"selected vector-more-collapsible-item mw-list-item\" id=\"ca-more-view\"><a href=\"/wiki/Kateg%C3%B3ria:N%C3%B6v%C3%A9nycsal%C3%A1dok\"><span>Olvasás</span></a></li><li class=\"vector-more-collapsible-item mw-list-item\" id=\"ca-more-edit\"><a accesskey=\"e\" href=\"/w/index.php?title=Kateg%C3%B3ria:N%C3%B6v%C3%A9nycsal%C3%A1dok&amp;action=edit\" title=\"Az oldal forráskódjának szerkesztése [e]\"><span>Szerkesztés</span></a></li><li class=\"vector-more-collapsible-item mw-list-item\" id=\"ca-more-history\"><a href=\"/w/index.php?title=Kateg%C3%B3ria:N%C3%B6v%C3%A9nycsal%C3%A1dok&amp;action=history\"><span>Laptörténet</span></a></li>\n",
      "</ul>\n",
      "</div>\n",
      "</div>\n",
      "<div class=\"vector-menu mw-portlet mw-portlet-tb\" id=\"p-tb\">\n",
      "<div class=\"vector-menu-heading\">\n",
      "\t\tÁltalános\n",
      "\t</div>\n",
      "<div class=\"vector-menu-content\">\n",
      "<ul class=\"vector-menu-content-list\">\n",
      "<li class=\"mw-list-item\" id=\"t-whatlinkshere\"><a accesskey=\"j\" href=\"/wiki/Speci%C3%A1lis:Mi_hivatkozik_erre/Kateg%C3%B3ria:N%C3%B6v%C3%A9nycsal%C3%A1dok\" title=\"Az erre a lapra hivatkozó más lapok listája [j]\"><span>Mi hivatkozik erre?</span></a></li><li class=\"mw-list-item\" id=\"t-recentchangeslinked\"><a accesskey=\"k\" href=\"/wiki/Speci%C3%A1lis:Kapcsol%C3%B3d%C3%B3_v%C3%A1ltoztat%C3%A1sok/Kateg%C3%B3ria:N%C3%B6v%C3%A9nycsal%C3%A1dok\" rel=\"nofollow\" title=\"Az erről a lapról hivatkozott lapok utolsó változtatásai [k]\"><span>Kapcsolódó változtatások</span></a></li><li class=\"mw-list-item\" id=\"t-specialpages\"><a accesskey=\"q\" href=\"/wiki/Speci%C3%A1lis:Speci%C3%A1lis_lapok\" title=\"Az összes speciális lap listája [q]\"><span>Speciális lapok</span></a></li><li class=\"mw-list-item\" id=\"t-permalink\"><a href=\"/w/index.php?title=Kateg%C3%B3ria:N%C3%B6v%C3%A9nycsal%C3%A1dok&amp;oldid=14580898\" title=\"Állandó hivatkozás ezen lap ezen változatához\"><span>Hivatkozás erre a változatra</span></a></li><li class=\"mw-list-item\" id=\"t-info\"><a href=\"/w/index.php?title=Kateg%C3%B3ria:N%C3%B6v%C3%A9nycsal%C3%A1dok&amp;action=info\" title=\"További információk erről a lapról\"><span>Lapinformációk</span></a></li><li class=\"mw-list-item\" id=\"t-urlshortener\"><a href=\"/w/index.php?title=Speci%C3%A1lis:UrlShortener&amp;url=https%3A%2F%2Fhu.wikipedia.org%2Fwiki%2FKateg%25C3%25B3ria%3AN%25C3%25B6v%25C3%25A9nycsal%25C3%25A1dok\"><span>Rövidített URL készítése</span></a></li><li class=\"mw-list-item\" id=\"t-urlshortener-qrcode\"><a href=\"/w/index.php?title=Speci%C3%A1lis:QrCode&amp;url=https%3A%2F%2Fhu.wikipedia.org%2Fwiki%2FKateg%25C3%25B3ria%3AN%25C3%25B6v%25C3%25A9nycsal%25C3%25A1dok\"><span>QR-kód letöltése</span></a></li><li class=\"mw-list-item\" id=\"t-wikibase\"><a accesskey=\"g\" href=\"https://www.wikidata.org/wiki/Special:EntityPage/Q9079785\" title=\"Kapcsolt adattárelem [g]\"><span>Wikidata-adatlap</span></a></li>\n",
      "</ul>\n",
      "</div>\n",
      "</div>\n",
      "<div class=\"vector-menu mw-portlet mw-portlet-coll-print_export\" id=\"p-coll-print_export\">\n",
      "<div class=\"vector-menu-heading\">\n",
      "\t\tNyomtatás/​exportálás\n",
      "\t</div>\n",
      "<div class=\"vector-menu-content\">\n",
      "<ul class=\"vector-menu-content-list\">\n",
      "<li class=\"mw-list-item\" id=\"coll-create_a_book\"><a href=\"/w/index.php?title=Speci%C3%A1lis:K%C3%B6nyv&amp;bookcmd=book_creator&amp;referer=Kateg%C3%B3ria%3AN%C3%B6v%C3%A9nycsal%C3%A1dok\"><span>Könyv készítése</span></a></li><li class=\"mw-list-item\" id=\"coll-download-as-rl\"><a href=\"/w/index.php?title=Speci%C3%A1lis:DownloadAsPdf&amp;page=Kateg%C3%B3ria%3AN%C3%B6v%C3%A9nycsal%C3%A1dok&amp;action=show-download-screen\"><span>Letöltés PDF-ként</span></a></li><li class=\"mw-list-item\" id=\"t-print\"><a accesskey=\"p\" href=\"/w/index.php?title=Kateg%C3%B3ria:N%C3%B6v%C3%A9nycsal%C3%A1dok&amp;printable=yes\" title=\"A lap nyomtatható változata [p]\"><span>Nyomtatható változat</span></a></li>\n",
      "</ul>\n",
      "</div>\n",
      "</div>\n",
      "<div class=\"vector-menu mw-portlet mw-portlet-wikibase-otherprojects\" id=\"p-wikibase-otherprojects\">\n",
      "<div class=\"vector-menu-heading\">\n",
      "\t\tTársprojektek\n",
      "\t</div>\n",
      "<div class=\"vector-menu-content\">\n",
      "<ul class=\"vector-menu-content-list\">\n",
      "<li class=\"wb-otherproject-link wb-otherproject-commons mw-list-item\"><a href=\"https://commons.wikimedia.org/wiki/Category:Plantae_by_family\" hreflang=\"en\"><span>Wikimédia Commons</span></a></li>\n",
      "</ul>\n",
      "</div>\n",
      "</div>\n",
      "</div>\n",
      "</div>\n",
      "</div>\n",
      "</div>\n",
      "</nav>\n",
      "</div>\n",
      "</div>\n",
      "</div>\n",
      "<div class=\"vector-column-end\">\n",
      "<div class=\"vector-sticky-pinned-container\">\n",
      "<nav aria-label=\"Oldal eszközök\" class=\"vector-page-tools-landmark\">\n",
      "<div class=\"vector-pinned-container\" id=\"vector-page-tools-pinned-container\">\n",
      "</div>\n",
      "</nav>\n",
      "<nav aria-label=\"Megjelenés\" class=\"vector-appearance-landmark\">\n",
      "</nav>\n",
      "</div>\n",
      "</div>\n",
      "<div aria-labelledby=\"firstHeading\" class=\"vector-body\" data-mw-ve-target-container=\"\" id=\"bodyContent\">\n",
      "<div class=\"vector-body-before-content\">\n",
      "<div class=\"mw-indicators\">\n",
      "<div class=\"mw-indicator\" id=\"mw-indicator-mw-helplink\"><a class=\"mw-helplink\" href=\"https://www.mediawiki.org/wiki/Special:MyLanguage/Help:Categories\" target=\"_blank\">Segítség</a></div>\n",
      "</div>\n",
      "<div class=\"noprint\" id=\"siteSub\">A Wikipédiából, a szabad enciklopédiából</div>\n",
      "</div>\n",
      "<div id=\"contentSub\"><div id=\"mw-content-subtitle\"><div class=\"flaggedrevs_short flaggedrevs_stable_synced plainlinks noprint\" id=\"mw-fr-revisiontag\"><div class=\"flaggedrevs_short_basic\"><span class=\"flaggedrevs-icon flaggedrevs-icon-eye\" title=\"Ez a lap egy ellenőrzött változata\"></span><span class=\"fr-toggle-arrow flaggedrevs-icon flaggedrevs-icon-expand\" id=\"mw-fr-revisiontoggle\" title=\"részletek megjelenítése/elrejtése\"></span></div>\n",
      "<div id=\"mw-fr-revisiondetails-wrapper\" style=\"position:relative;\"><div class=\"flaggedrevs_short_details\" id=\"mw-fr-revisiondetails\" style=\"display:none\">Ez a <a href=\"/wiki/Wikip%C3%A9dia:Jel%C3%B6lt_lapv%C3%A1ltozatok\" title=\"Wikipédia:Jelölt lapváltozatok\">közzétett változat</a>, <a class=\"external text\" href=\"https://hu.wikipedia.org/w/index.php?title=Speci%C3%A1lis:Rendszernapl%C3%B3k&amp;type=review&amp;page=Kateg%C3%B3ria:N%C3%B6v%C3%A9nycsal%C3%A1dok\">ellenőrizve</a>: <i>2014. április 17.</i><p><table cellpadding=\"0\" class=\"flaggedrevs-color-1\" id=\"mw-fr-revisionratings-box\" style=\"margin: auto;\"><tr><td class=\"fr-text\" style=\"vertical-align: middle;\">Pontosság</td><td class=\"fr-value40\" style=\"vertical-align: middle;\">ellenőrzött</td></tr>\n",
      "</table></p></div>\n",
      "</div>\n",
      "</div>\n",
      "</div></div>\n",
      "<div class=\"mw-body-content\" id=\"mw-content-text\"><div class=\"mw-content-ltr mw-parser-output\" dir=\"ltr\" lang=\"hu\"><table class=\"metadata plainlinks ambox ambox-notice\" style=\"\">\n",
      "<tbody><tr>\n",
      "<td class=\"ambox-image mbox-image\">\n",
      "<div class=\"ambox-image-inner\"><span typeof=\"mw:File\"><span><img class=\"mw-file-element\" data-file-height=\"620\" data-file-width=\"620\" decoding=\"async\" height=\"40\" src=\"//upload.wikimedia.org/wikipedia/commons/thumb/1/1d/Information_icon4.svg/40px-Information_icon4.svg.png\" srcset=\"//upload.wikimedia.org/wikipedia/commons/thumb/1/1d/Information_icon4.svg/60px-Information_icon4.svg.png 1.5x, //upload.wikimedia.org/wikipedia/commons/thumb/1/1d/Information_icon4.svg/80px-Information_icon4.svg.png 2x\" width=\"40\"/></span></span></div></td>\n",
      "<td class=\"ambox-text\">Ez a kategória a címének megfelelő, azonos szintű <a href=\"/wiki/Taxon\" title=\"Taxon\">taxonok</a> <i>szócikkeit</i> hivatott összegyűjteni. A kategória csak a taxonok szócikkeit tartalmazza, ennek értelmében a taxonokhoz tartozó <i>kategóriákat</i> kérjük ne tedd bele! Egy példa az ilyen típusú kategóriák helyes használatára:\n",
      "<ul><li>A <i>növénycsaládok</i> kategóriájába a növények családjairól szóló cikkek kerüljenek, például a <i>Kaktuszfélék</i> című szócikk.</li>\n",
      "<li>A <i>növénycsaládok</i> kategóriába a növények családjainak kategóriái NE kerüljenek be. Például a <i>kaktuszfélék</i> kategóriája NE kerüljön bele.</li></ul>\n",
      "<p>Alkategória abban az esetben kerülhet az ilyen típusú a kategóriába, ha az alkategóriák különböző taxonok szerinti további bontásnak felelnek meg, például:\n",
      "</p>\n",
      "<ul><li>Az <i>állatfajok</i> kategóriájába kerüljön bele az <i>ízeltlábúfajok</i> kategóriája, az <i>ízeltlábúfajok</i> kategóriájába kerüljön bele a <i>rovarfajok</i> kategóriája stb.</li></ul></td>\n",
      "</tr>\n",
      "</tbody></table>\n",
      "<div class=\"tarsprojekt-alap noviewer\">\n",
      "<style data-mw-deduplicate=\"TemplateStyles:r26730915\">.mw-parser-output .tarsprojekt-alap{float:right;clear:right;width:272px;display:flex;column-gap:10px;margin:0 0 1em 1em;border:1px solid #a2a9b1;padding:4px;background-color:#f8f9fa;font-size:95%}@media screen and (max-width:719px){.mw-parser-output .tarsprojekt-alap{float:none;width:auto;margin:0 0 1em}}@media print{.mw-parser-output .tarsprojekt-alap{display:none}}</style>\n",
      "<div class=\"tarsprojekt-alap-ikon\"><span typeof=\"mw:File\"><a href=\"https://commons.wikimedia.org/wiki/Category:Plantae_by_family\" title=\"commons:Category:Plantae by family\"><img alt=\"Commons:Category:Plantae by family\" class=\"mw-file-element\" data-file-height=\"1376\" data-file-width=\"1024\" decoding=\"async\" height=\"67\" src=\"//upload.wikimedia.org/wikipedia/commons/thumb/4/4a/Commons-logo.svg/50px-Commons-logo.svg.png\" srcset=\"//upload.wikimedia.org/wikipedia/commons/thumb/4/4a/Commons-logo.svg/75px-Commons-logo.svg.png 1.5x, //upload.wikimedia.org/wikipedia/commons/thumb/4/4a/Commons-logo.svg/100px-Commons-logo.svg.png 2x\" width=\"50\"/></a></span></div>\n",
      "<div class=\"tarsprojekt-alap-szoveg\">A <a href=\"/wiki/Wikim%C3%A9dia_Commons\" title=\"Wikimédia Commons\">Wikimédia Commons</a> tartalmaz <i><b><a class=\"extiw\" href=\"https://commons.wikimedia.org/wiki/Category:Plantae_by_family\" title=\"commons:Category:Plantae by family\">Növénycsaládok</a></b></i> témájú médiaállományokat.</div>\n",
      "</div></div><div class=\"mw-category-generated\" dir=\"ltr\" lang=\"hu\"><div id=\"mw-pages\">\n",
      "<h2>A(z) „Növénycsaládok” kategóriába tartozó lapok</h2>\n",
      "<p>A következő 180 lap található a kategóriában, összesen 180 lapból.\n",
      "</p><div class=\"mw-content-ltr\" dir=\"ltr\" lang=\"hu\"><div class=\"mw-category mw-category-columns\"><div class=\"mw-category-group\"><h3> </h3>\n",
      "<ul><li><a href=\"/wiki/N%C3%B6v%C3%A9nycsal%C3%A1dok_list%C3%A1ja\" title=\"Növénycsaládok listája\">Növénycsaládok listája</a></li></ul></div><div class=\"mw-category-group\"><h3>A</h3>\n",
      "<ul><li><a href=\"/wiki/Alk%C3%B6rm%C3%B6sf%C3%A9l%C3%A9k\" title=\"Alkörmösfélék\">Alkörmösfélék</a></li>\n",
      "<li><a href=\"/wiki/%C3%81ltiszafaf%C3%A9l%C3%A9k\" title=\"Áltiszafafélék\">Áltiszafafélék</a></li>\n",
      "<li><a href=\"/wiki/Amarilliszf%C3%A9l%C3%A9k\" title=\"Amarilliszfélék\">Amarilliszfélék</a></li>\n",
      "<li><a href=\"/wiki/Anacampserotaceae\" title=\"Anacampserotaceae\">Anacampserotaceae</a></li>\n",
      "<li><a href=\"/wiki/Ann%C3%B3naf%C3%A9l%C3%A9k\" title=\"Annónafélék\">Annónafélék</a></li>\n",
      "<li><a href=\"/wiki/Apodanthaceae\" title=\"Apodanthaceae\">Apodanthaceae</a></li>\n",
      "<li><a href=\"/wiki/Ar%C3%A1liaf%C3%A9l%C3%A9k\" title=\"Aráliafélék\">Aráliafélék</a></li>\n",
      "<li><a href=\"/wiki/Arauk%C3%A1riaf%C3%A9l%C3%A9k\" title=\"Araukáriafélék\">Araukáriafélék</a></li>\n",
      "<li><a href=\"/wiki/%C3%81rvacsal%C3%A1nf%C3%A9l%C3%A9k\" title=\"Árvacsalánfélék\">Árvacsalánfélék</a></li></ul></div><div class=\"mw-category-group\"><h3>B</h3>\n",
      "<ul><li><a href=\"/wiki/Bab%C3%A9rf%C3%A9l%C3%A9k\" title=\"Babérfélék\">Babérfélék</a></li>\n",
      "<li><a href=\"/wiki/B%C3%A1lv%C3%A1nyfaf%C3%A9l%C3%A9k\" title=\"Bálványfafélék\">Bálványfafélék</a></li>\n",
      "<li><a href=\"/wiki/Ban%C3%A1nf%C3%A9l%C3%A9k\" title=\"Banánfélék\">Banánfélék</a></li>\n",
      "<li><a href=\"/wiki/Barkamirtuszf%C3%A9l%C3%A9k\" title=\"Barkamirtuszfélék\">Barkamirtuszfélék</a></li>\n",
      "<li><a href=\"/wiki/Beg%C3%B3niaf%C3%A9l%C3%A9k\" title=\"Begóniafélék\">Begóniafélék</a></li>\n",
      "<li><a href=\"/wiki/B%C3%A9kasz%C5%91l%C5%91f%C3%A9l%C3%A9k\" title=\"Békaszőlőfélék\">Békaszőlőfélék</a></li>\n",
      "<li><a href=\"/wiki/B%C3%A9katutajf%C3%A9l%C3%A9k\" title=\"Békatutajfélék\">Békatutajfélék</a></li>\n",
      "<li><a href=\"/wiki/Bengef%C3%A9l%C3%A9k\" title=\"Bengefélék\">Bengefélék</a></li>\n",
      "<li><a href=\"/wiki/Bogl%C3%A1rkaf%C3%A9l%C3%A9k\" title=\"Boglárkafélék\">Boglárkafélék</a></li>\n",
      "<li><a href=\"/wiki/Bor%C3%A1g%C3%B3f%C3%A9l%C3%A9k\" title=\"Borágófélék\">Borágófélék</a></li>\n",
      "<li><a href=\"/wiki/Borbolyaf%C3%A9l%C3%A9k\" title=\"Borbolyafélék\">Borbolyafélék</a></li>\n",
      "<li><a href=\"/wiki/Boroszl%C3%A1nf%C3%A9l%C3%A9k\" title=\"Boroszlánfélék\">Boroszlánfélék</a></li>\n",
      "<li><a href=\"/wiki/Borsf%C3%A9l%C3%A9k\" title=\"Borsfélék\">Borsfélék</a></li>\n",
      "<li><a href=\"/wiki/Brom%C3%A9liaf%C3%A9l%C3%A9k\" title=\"Broméliafélék\">Broméliafélék</a></li>\n",
      "<li><a href=\"/wiki/Bunk%C3%B3sp%C3%A1lmaf%C3%A9l%C3%A9k\" title=\"Bunkóspálmafélék\">Bunkóspálmafélék</a></li>\n",
      "<li><a href=\"/wiki/Burgonyaf%C3%A9l%C3%A9k\" title=\"Burgonyafélék\">Burgonyafélék</a></li>\n",
      "<li><a href=\"/wiki/Buz%C3%A9rf%C3%A9l%C3%A9k\" title=\"Buzérfélék\">Buzérfélék</a></li>\n",
      "<li><a href=\"/wiki/B%C3%BCkkfaf%C3%A9l%C3%A9k\" title=\"Bükkfafélék\">Bükkfafélék</a></li></ul></div><div class=\"mw-category-group\"><h3>C</h3>\n",
      "<ul><li><a href=\"/wiki/Chlamydomonadaceae\" title=\"Chlamydomonadaceae\">Chlamydomonadaceae</a></li>\n",
      "<li><a href=\"/wiki/Cik%C3%A1szf%C3%A9l%C3%A9k\" title=\"Cikászfélék\">Cikászfélék</a></li>\n",
      "<li><a href=\"/wiki/Ciprusf%C3%A9l%C3%A9k\" title=\"Ciprusfélék\">Ciprusfélék</a></li>\n",
      "<li><a href=\"/wiki/Cleomaceae\" title=\"Cleomaceae\">Cleomaceae</a></li></ul></div><div class=\"mw-category-group\"><h3>Cs</h3>\n",
      "<ul><li><a href=\"/wiki/Csal%C3%A1nf%C3%A9l%C3%A9k\" title=\"Csalánfélék\">Csalánfélék</a></li>\n",
      "<li><a href=\"/wiki/Csatavir%C3%A1gf%C3%A9l%C3%A9k\" title=\"Csatavirágfélék\">Csatavirágfélék</a></li>\n",
      "<li><a href=\"/wiki/Csavarp%C3%A1lmaf%C3%A9l%C3%A9k\" title=\"Csavarpálmafélék\">Csavarpálmafélék</a></li>\n",
      "<li><a href=\"/wiki/Csik%C3%B3fark\" title=\"Csikófark\">Csikófark</a></li>\n",
      "<li><a href=\"/wiki/Csipkeharasztok\" title=\"Csipkeharasztok\">Csipkeharasztok</a></li>\n",
      "<li><a href=\"/wiki/Csodat%C3%B6lcs%C3%A9rf%C3%A9l%C3%A9k\" title=\"Csodatölcsérfélék\">Csodatölcsérfélék</a></li>\n",
      "<li><a href=\"/wiki/Csuporkaf%C3%A9l%C3%A9k\" title=\"Csuporkafélék\">Csuporkafélék</a></li></ul></div><div class=\"mw-category-group\"><h3>D</h3>\n",
      "<ul><li><a href=\"/wiki/Dasypogonaceae\" title=\"Dasypogonaceae\">Dasypogonaceae</a></li>\n",
      "<li><a href=\"/wiki/Dill%C3%A9niaf%C3%A9l%C3%A9k\" title=\"Dilléniafélék\">Dilléniafélék</a></li>\n",
      "<li><a href=\"/wiki/Dinnyefaf%C3%A9l%C3%A9k\" title=\"Dinnyefafélék\">Dinnyefafélék</a></li>\n",
      "<li><a href=\"/wiki/Di%C3%B3faf%C3%A9l%C3%A9k\" title=\"Diófafélék\">Diófafélék</a></li>\n",
      "<li><a href=\"/wiki/Dipentodontaceae\" title=\"Dipentodontaceae\">Dipentodontaceae</a></li>\n",
      "<li><a href=\"/wiki/Dipterokarpuszf%C3%A9l%C3%A9k\" title=\"Dipterokarpuszfélék\">Dipterokarpuszfélék</a></li>\n",
      "<li><a href=\"/wiki/D%C3%ADszlev%C3%A9lfaf%C3%A9l%C3%A9k\" title=\"Díszlevélfafélék\">Díszlevélfafélék</a></li>\n",
      "<li><a href=\"/wiki/Diszn%C3%B3par%C3%A9jf%C3%A9l%C3%A9k\" title=\"Disznóparéjfélék\">Disznóparéjfélék</a></li></ul></div><div class=\"mw-category-group\"><h3>E</h3>\n",
      "<ul><li><a href=\"/wiki/Eperfaf%C3%A9l%C3%A9k\" title=\"Eperfafélék\">Eperfafélék</a></li>\n",
      "<li><a href=\"/wiki/Escalloniaceae\" title=\"Escalloniaceae\">Escalloniaceae</a></li>\n",
      "<li><a href=\"/wiki/Ez%C3%BCstfaf%C3%A9l%C3%A9k\" title=\"Ezüstfafélék\">Ezüstfafélék</a></li></ul></div><div class=\"mw-category-group\"><h3>F</h3>\n",
      "<ul><li><a href=\"/wiki/Fak%C3%ADnf%C3%A9l%C3%A9k\" title=\"Fakínfélék\">Fakínfélék</a></li>\n",
      "<li><a href=\"/wiki/Farkasalmaf%C3%A9l%C3%A9k\" title=\"Farkasalmafélék\">Farkasalmafélék</a></li>\n",
      "<li><a href=\"/wiki/Feny%C5%91f%C3%A9l%C3%A9k\" title=\"Fenyőfélék\">Fenyőfélék</a></li>\n",
      "<li><a href=\"/wiki/Fissidentaceae\" title=\"Fissidentaceae\">Fissidentaceae</a></li>\n",
      "<li><a href=\"/wiki/Fogpiszk%C3%A1l%C3%B3f%C5%B1\" title=\"Fogpiszkálófű\">Fogpiszkálófű</a></li>\n",
      "<li><a href=\"/wiki/F%C5%B1faf%C3%A9l%C3%A9k\" title=\"Fűfafélék\">Fűfafélék</a></li>\n",
      "<li><a href=\"/wiki/F%C5%B1szercserjef%C3%A9l%C3%A9k\" title=\"Fűszercserjefélék\">Fűszercserjefélék</a></li>\n",
      "<li><a href=\"/wiki/F%C3%BCz%C3%A9nyf%C3%A9l%C3%A9k\" title=\"Füzényfélék\">Füzényfélék</a></li>\n",
      "<li><a href=\"/wiki/F%C5%B1zfaf%C3%A9l%C3%A9k\" title=\"Fűzfafélék\">Fűzfafélék</a></li></ul></div><div class=\"mw-category-group\"><h3>G</h3>\n",
      "<ul><li><a href=\"/wiki/Gn%C3%A9tum\" title=\"Gnétum\">Gnétum</a></li>\n",
      "<li><a href=\"/wiki/Golgotavir%C3%A1gf%C3%A9l%C3%A9k\" title=\"Golgotavirágfélék\">Golgotavirágfélék</a></li>\n",
      "<li><a href=\"/wiki/G%C3%B3lyaorrf%C3%A9l%C3%A9k\" title=\"Gólyaorrfélék\">Gólyaorrfélék</a></li>\n",
      "<li><a href=\"/wiki/G%C3%B6rv%C3%A9lyf%C5%B1f%C3%A9l%C3%A9k\" title=\"Görvélyfűfélék\">Görvélyfűfélék</a></li></ul></div><div class=\"mw-category-group\"><h3>Gy</h3>\n",
      "<ul><li><a href=\"/wiki/Gy%C3%A9k%C3%A9nyf%C3%A9l%C3%A9k\" title=\"Gyékényfélék\">Gyékényfélék</a></li>\n",
      "<li><a href=\"/wiki/Gyommohaf%C3%A9l%C3%A9k\" title=\"Gyommohafélék\">Gyommohafélék</a></li>\n",
      "<li><a href=\"/wiki/Gy%C3%B6mb%C3%A9rf%C3%A9l%C3%A9k\" title=\"Gyömbérfélék\">Gyömbérfélék</a></li>\n",
      "<li><a href=\"/wiki/Gy%C3%B6ngyvir%C3%A1gfaf%C3%A9l%C3%A9k\" title=\"Gyöngyvirágfafélék\">Gyöngyvirágfafélék</a></li></ul></div><div class=\"mw-category-group\"><h3>H</h3>\n",
      "<ul><li><span class=\"redirect-in-category\"><a class=\"mw-redirect\" href=\"/wiki/Halimedaceae\" title=\"Halimedaceae\">Halimedaceae</a></span></li>\n",
      "<li><a href=\"/wiki/Hangaf%C3%A9l%C3%A9k\" title=\"Hangafélék\">Hangafélék</a></li>\n",
      "<li><a href=\"/wiki/Harangvir%C3%A1gf%C3%A9l%C3%A9k\" title=\"Harangvirágfélék\">Harangvirágfélék</a></li>\n",
      "<li><a href=\"/wiki/Harmatf%C5%B1f%C3%A9l%C3%A9k\" title=\"Harmatfűfélék\">Harmatfűfélék</a></li>\n",
      "<li><a href=\"/wiki/Hernandiaceae\" title=\"Hernandiaceae\">Hernandiaceae</a></li>\n",
      "<li><a href=\"/wiki/H%C3%ADd%C5%91rf%C3%A9l%C3%A9k\" title=\"Hídőrfélék\">Hídőrfélék</a></li>\n",
      "<li><a href=\"/wiki/Hortenziaf%C3%A9l%C3%A9k\" title=\"Hortenziafélék\">Hortenziafélék</a></li>\n",
      "<li><a href=\"/wiki/Hydatellaceae\" title=\"Hydatellaceae\">Hydatellaceae</a></li>\n",
      "<li><a href=\"/wiki/Hypoxidaceae\" title=\"Hypoxidaceae\">Hypoxidaceae</a></li></ul></div><div class=\"mw-category-group\"><h3>I</h3>\n",
      "<ul><li><a href=\"/wiki/Ibolyaf%C3%A9l%C3%A9k\" title=\"Ibolyafélék\">Ibolyafélék</a></li></ul></div><div class=\"mw-category-group\"><h3>J</h3>\n",
      "<ul><li><a href=\"/wiki/Jap%C3%A1n_erny%C5%91feny%C5%91\" title=\"Japán ernyőfenyő\">Japán ernyőfenyő</a></li></ul></div><div class=\"mw-category-group\"><h3>K</h3>\n",
      "<ul><li><a href=\"/wiki/Kaktuszf%C3%A9l%C3%A9k\" title=\"Kaktuszfélék\">Kaktuszfélék</a></li>\n",
      "<li><a href=\"/wiki/K%C3%A1lmosvir%C3%A1g%C3%BAak\" title=\"Kálmosvirágúak\">Kálmosvirágúak</a></li>\n",
      "<li><a href=\"/wiki/Kankalinf%C3%A9l%C3%A9k\" title=\"Kankalinfélék\">Kankalinfélék</a></li>\n",
      "<li><a href=\"/wiki/Kannaf%C3%A9l%C3%A9k\" title=\"Kannafélék\">Kannafélék</a></li>\n",
      "<li><a href=\"/wiki/K%C3%A1posztaf%C3%A9l%C3%A9k\" title=\"Káposztafélék\">Káposztafélék</a></li>\n",
      "<li><a href=\"/wiki/Kaprif%C3%A9l%C3%A9k\" title=\"Kaprifélék\">Kaprifélék</a></li>\n",
      "<li><a href=\"/wiki/Kazu%C3%A1rfaf%C3%A9l%C3%A9k\" title=\"Kazuárfafélék\">Kazuárfafélék</a></li>\n",
      "<li><a href=\"/wiki/Kecsker%C3%A1g%C3%B3f%C3%A9l%C3%A9k\" title=\"Kecskerágófélék\">Kecskerágófélék</a></li>\n",
      "<li><a href=\"/wiki/K%C3%A9kh%C3%BCvelyf%C3%A9l%C3%A9k\" title=\"Kékhüvelyfélék\">Kékhüvelyfélék</a></li>\n",
      "<li><a href=\"/wiki/Kenderf%C3%A9l%C3%A9k\" title=\"Kenderfélék\">Kenderfélék</a></li>\n",
      "<li><a href=\"/wiki/Keser%C5%B1f%C5%B1f%C3%A9l%C3%A9k\" title=\"Keserűfűfélék\">Keserűfűfélék</a></li>\n",
      "<li><a href=\"/wiki/Kikericsf%C3%A9l%C3%A9k\" title=\"Kikericsfélék\">Kikericsfélék</a></li>\n",
      "<li><a href=\"/wiki/Kontyvir%C3%A1gf%C3%A9l%C3%A9k\" title=\"Kontyvirágfélék\">Kontyvirágfélék</a></li>\n",
      "<li><a href=\"/wiki/Kosborf%C3%A9l%C3%A9k\" title=\"Kosborfélék\">Kosborfélék</a></li>\n",
      "<li><a href=\"/wiki/K%C5%91tiszafaf%C3%A9l%C3%A9k\" title=\"Kőtiszafafélék\">Kőtiszafafélék</a></li>\n",
      "<li><a href=\"/wiki/K%C5%91t%C3%B6r%C5%91f%C5%B1f%C3%A9l%C3%A9k\" title=\"Kőtörőfűfélék\">Kőtörőfűfélék</a></li>\n",
      "<li><a href=\"/wiki/Krist%C3%A1lyvir%C3%A1gf%C3%A9l%C3%A9k\" title=\"Kristályvirágfélék\">Kristályvirágfélék</a></li>\n",
      "<li><a href=\"/wiki/Kutyatejf%C3%A9l%C3%A9k\" title=\"Kutyatejfélék\">Kutyatejfélék</a></li>\n",
      "<li><a href=\"/wiki/K%C3%BCll%C5%91folyond%C3%A1rf%C3%A9l%C3%A9k\" title=\"Küllőfolyondárfélék\">Küllőfolyondárfélék</a></li>\n",
      "<li><a href=\"/wiki/K%C3%BCrtvir%C3%A1gf%C3%A9l%C3%A9k\" title=\"Kürtvirágfélék\">Kürtvirágfélék</a></li></ul></div><div class=\"mw-category-group\"><h3>L</h3>\n",
      "<ul><li><a href=\"/wiki/Laxmanniaceae\" title=\"Laxmanniaceae\">Laxmanniaceae</a></li>\n",
      "<li><a href=\"/wiki/Lenf%C3%A9l%C3%A9k\" title=\"Lenfélék\">Lenfélék</a></li>\n",
      "<li><a href=\"/wiki/Ligetsz%C3%A9pef%C3%A9l%C3%A9k\" title=\"Ligetszépefélék\">Ligetszépefélék</a></li>\n",
      "<li><a href=\"/wiki/Liliomfaf%C3%A9l%C3%A9k\" title=\"Liliomfafélék\">Liliomfafélék</a></li>\n",
      "<li><a href=\"/wiki/Liliomf%C3%A9l%C3%A9k\" title=\"Liliomfélék\">Liliomfélék</a></li>\n",
      "<li><a href=\"/wiki/Loncf%C3%A9l%C3%A9k\" title=\"Loncfélék\">Loncfélék</a></li>\n",
      "<li><a href=\"/wiki/L%C3%B3tuszf%C3%A9l%C3%A9k\" title=\"Lótuszfélék\">Lótuszfélék</a></li></ul></div><div class=\"mw-category-group\"><h3>M</h3>\n",
      "<ul><li><a href=\"/wiki/Mad%C3%A1rs%C3%B3skaf%C3%A9l%C3%A9k\" title=\"Madársóskafélék\">Madársóskafélék</a></li>\n",
      "<li><a href=\"/wiki/Magyal\" title=\"Magyal\">Magyal</a></li>\n",
      "<li><a href=\"/wiki/M%C3%A1kf%C3%A9l%C3%A9k\" title=\"Mákfélék\">Mákfélék</a></li>\n",
      "<li><a href=\"/wiki/Malpighicserjef%C3%A9l%C3%A9k\" title=\"Malpighicserjefélék\">Malpighicserjefélék</a></li>\n",
      "<li><a href=\"/wiki/M%C3%A1lyvaf%C3%A9l%C3%A9k\" title=\"Mályvafélék\">Mályvafélék</a></li>\n",
      "<li><a href=\"/wiki/Medvek%C3%B6r%C3%B6mf%C3%A9l%C3%A9k\" title=\"Medvekörömfélék\">Medvekörömfélék</a></li>\n",
      "<li><a href=\"/wiki/Met%C3%A9ngf%C3%A9l%C3%A9k\" title=\"Meténgfélék\">Meténgfélék</a></li>\n",
      "<li><a href=\"/wiki/Mirtuszf%C3%A9l%C3%A9k\" title=\"Mirtuszfélék\">Mirtuszfélék</a></li>\n",
      "<li><a href=\"/wiki/Mocs%C3%A1rciprusf%C3%A9l%C3%A9k\" title=\"Mocsárciprusfélék\">Mocsárciprusfélék</a></li>\n",
      "<li><a href=\"/wiki/Musk%C3%A1tdi%C3%B3f%C3%A9l%C3%A9k\" title=\"Muskátdiófélék\">Muskátdiófélék</a></li></ul></div><div class=\"mw-category-group\"><h3>N</h3>\n",
      "<ul><li><a href=\"/wiki/Neb%C3%A1ncsvir%C3%A1gf%C3%A9l%C3%A9k\" title=\"Nebáncsvirágfélék\">Nebáncsvirágfélék</a></li>\n",
      "<li><a href=\"/wiki/N%C5%91sziromf%C3%A9l%C3%A9k\" title=\"Nősziromfélék\">Nősziromfélék</a></li></ul></div><div class=\"mw-category-group\"><h3>Ny</h3>\n",
      "<ul><li><a href=\"/wiki/Ny%C3%ADlgy%C3%B6k%C3%A9rf%C3%A9l%C3%A9k\" title=\"Nyílgyökérfélék\">Nyílgyökérfélék</a></li>\n",
      "<li><a href=\"/wiki/Ny%C3%ADrfaf%C3%A9l%C3%A9k\" title=\"Nyírfafélék\">Nyírfafélék</a></li></ul></div><div class=\"mw-category-group\"><h3>O</h3>\n",
      "<ul><li><a href=\"/wiki/Olajfaf%C3%A9l%C3%A9k\" title=\"Olajfafélék\">Olajfafélék</a></li>\n",
      "<li><a href=\"/wiki/%C3%93lomgy%C3%B6k%C3%A9rf%C3%A9l%C3%A9k\" title=\"Ólomgyökérfélék\">Ólomgyökérfélék</a></li>\n",
      "<li><a href=\"/wiki/Orb%C3%A1ncf%C5%B1f%C3%A9l%C3%A9k\" title=\"Orbáncfűfélék\">Orbáncfűfélék</a></li>\n",
      "<li><a href=\"/wiki/%C3%93ri%C3%A1svir%C3%A1gf%C3%A9l%C3%A9k\" title=\"Óriásvirágfélék\">Óriásvirágfélék</a></li></ul></div><div class=\"mw-category-group\"><h3>Ö</h3>\n",
      "<ul><li><a href=\"/wiki/%C5%90szir%C3%B3zsaf%C3%A9l%C3%A9k\" title=\"Őszirózsafélék\">Őszirózsafélék</a></li></ul></div><div class=\"mw-category-group\"><h3>P</h3>\n",
      "<ul><li><a href=\"/wiki/P%C3%A1fr%C3%A1nyfeny%C5%91f%C3%A9l%C3%A9k\" title=\"Páfrányfenyőfélék\">Páfrányfenyőfélék</a></li>\n",
      "<li><a href=\"/wiki/Palkaf%C3%A9l%C3%A9k\" title=\"Palkafélék\">Palkafélék</a></li>\n",
      "<li><a href=\"/wiki/P%C3%A1lmaf%C3%A9l%C3%A9k\" title=\"Pálmafélék\">Pálmafélék</a></li>\n",
      "<li><a href=\"/wiki/Papag%C3%A1jvir%C3%A1g-f%C3%A9l%C3%A9k\" title=\"Papagájvirág-félék\">Papagájvirág-félék</a></li>\n",
      "<li><a href=\"/wiki/Paracryphiaceae\" title=\"Paracryphiaceae\">Paracryphiaceae</a></li>\n",
      "<li><a href=\"/wiki/Perjef%C3%A9l%C3%A9k\" title=\"Perjefélék\">Perjefélék</a></li>\n",
      "<li><a href=\"/wiki/Petrosaviaceae\" title=\"Petrosaviaceae\">Petrosaviaceae</a></li>\n",
      "<li><a href=\"/wiki/P%C3%A9zsmabogl%C3%A1rf%C3%A9l%C3%A9k\" title=\"Pézsmaboglárfélék\">Pézsmaboglárfélék</a></li>\n",
      "<li><a href=\"/wiki/Philesiaceae\" title=\"Philesiaceae\">Philesiaceae</a></li>\n",
      "<li><a href=\"/wiki/Picramniaceae\" title=\"Picramniaceae\">Picramniaceae</a></li>\n",
      "<li><a href=\"/wiki/Pillang%C3%B3svir%C3%A1g%C3%BAak\" title=\"Pillangósvirágúak\">Pillangósvirágúak</a></li>\n",
      "<li><a href=\"/wiki/Plat%C3%A1nf%C3%A9l%C3%A9k\" title=\"Platánfélék\">Platánfélék</a></li>\n",
      "<li><a href=\"/wiki/Porcsinf%C3%A9l%C3%A9k\" title=\"Porcsinfélék\">Porcsinfélék</a></li>\n",
      "<li><a href=\"/wiki/Pottiaceae\" title=\"Pottiaceae\">Pottiaceae</a></li>\n",
      "<li><a href=\"/wiki/Pr%C3%B3teaf%C3%A9l%C3%A9k\" title=\"Próteafélék\">Próteafélék</a></li>\n",
      "<li><a href=\"/wiki/Puszp%C3%A1ngf%C3%A9l%C3%A9k\" title=\"Puszpángfélék\">Puszpángfélék</a></li></ul></div><div class=\"mw-category-group\"><h3>R</h3>\n",
      "<ul><li><a href=\"/wiki/Rezedaf%C3%A9l%C3%A9k\" title=\"Rezedafélék\">Rezedafélék</a></li>\n",
      "<li><a href=\"/wiki/R%C3%B3zsaf%C3%A9l%C3%A9k\" title=\"Rózsafélék\">Rózsafélék</a></li>\n",
      "<li><a href=\"/wiki/Rutaf%C3%A9l%C3%A9k\" title=\"Rutafélék\">Rutafélék</a></li></ul></div><div class=\"mw-category-group\"><h3>S</h3>\n",
      "<ul><li><a href=\"/wiki/Sabiaceae\" title=\"Sabiaceae\">Sabiaceae</a></li>\n",
      "<li><a href=\"/wiki/Saururaceae\" title=\"Saururaceae\">Saururaceae</a></li>\n",
      "<li><a href=\"/wiki/Schisandraceae\" title=\"Schisandraceae\">Schisandraceae</a></li>\n",
      "<li><a href=\"/wiki/Schoepfiaceae\" title=\"Schoepfiaceae\">Schoepfiaceae</a></li>\n",
      "<li><a href=\"/wiki/Somf%C3%A9l%C3%A9k\" title=\"Somfélék\">Somfélék</a></li>\n",
      "<li><a href=\"/wiki/Sp%C3%A1rgaf%C3%A9l%C3%A9k\" title=\"Spárgafélék\">Spárgafélék</a></li></ul></div><div class=\"mw-category-group\"><h3>Sz</h3>\n",
      "<ul><li><a href=\"/wiki/Szappanfaf%C3%A9l%C3%A9k\" title=\"Szappanfafélék\">Szappanfafélék</a></li>\n",
      "<li><a href=\"/wiki/Szegf%C5%B1f%C3%A9l%C3%A9k\" title=\"Szegfűfélék\">Szegfűfélék</a></li>\n",
      "<li><a href=\"/wiki/Szilfaf%C3%A9l%C3%A9k\" title=\"Szilfafélék\">Szilfafélék</a></li>\n",
      "<li><a href=\"/wiki/Szitty%C3%B3f%C3%A9l%C3%A9k\" title=\"Szittyófélék\">Szittyófélék</a></li>\n",
      "<li><a href=\"/wiki/Szivarfaf%C3%A9l%C3%A9k\" title=\"Szivarfafélék\">Szivarfafélék</a></li>\n",
      "<li><a href=\"/wiki/Sz%C5%91l%C5%91f%C3%A9l%C3%A9k\" title=\"Szőlőfélék\">Szőlőfélék</a></li>\n",
      "<li><a href=\"/wiki/Sz%C3%B6m%C3%B6rcef%C3%A9l%C3%A9k\" title=\"Szömörcefélék\">Szömörcefélék</a></li>\n",
      "<li><a href=\"/wiki/Szuharf%C3%A9l%C3%A9k\" title=\"Szuharfélék\">Szuharfélék</a></li>\n",
      "<li><a href=\"/wiki/Szul%C3%A1kf%C3%A9l%C3%A9k\" title=\"Szulákfélék\">Szulákfélék</a></li></ul></div><div class=\"mw-category-group\"><h3>T</h3>\n",
      "<ul><li><a href=\"/wiki/T%C3%A1rnicsf%C3%A9l%C3%A9k\" title=\"Tárnicsfélék\">Tárnicsfélék</a></li>\n",
      "<li><a href=\"/wiki/Teaf%C3%A9l%C3%A9k\" title=\"Teafélék\">Teafélék</a></li>\n",
      "<li><a href=\"/wiki/Tiszafaf%C3%A9l%C3%A9k\" title=\"Tiszafafélék\">Tiszafafélék</a></li>\n",
      "<li><a href=\"/wiki/T%C3%B6kf%C3%A9l%C3%A9k\" title=\"Tökfélék\">Tökfélék</a></li>\n",
      "<li><a href=\"/wiki/Trochodendraceae\" title=\"Trochodendraceae\">Trochodendraceae</a></li>\n",
      "<li><a href=\"/wiki/T%C3%BCnd%C3%A9rh%C3%ADn%C3%A1rf%C3%A9l%C3%A9k\" title=\"Tündérhínárfélék\">Tündérhínárfélék</a></li>\n",
      "<li><a href=\"/wiki/T%C3%BCnd%C3%A9rr%C3%B3zsaf%C3%A9l%C3%A9k\" title=\"Tündérrózsafélék\">Tündérrózsafélék</a></li></ul></div><div class=\"mw-category-group\"><h3>U</h3>\n",
      "<ul><li><a href=\"/wiki/%C3%9Atif%C5%B1f%C3%A9l%C3%A9k\" title=\"Útifűfélék\">Útifűfélék</a></li></ul></div><div class=\"mw-category-group\"><h3>V</h3>\n",
      "<ul><li><a href=\"/wiki/Vajvir%C3%A1gf%C3%A9l%C3%A9k\" title=\"Vajvirágfélék\">Vajvirágfélék</a></li>\n",
      "<li><a href=\"/wiki/Varj%C3%BAh%C3%A1jf%C3%A9l%C3%A9k\" title=\"Varjúhájfélék\">Varjúhájfélék</a></li>\n",
      "<li><a href=\"/wiki/Vasf%C5%B1f%C3%A9l%C3%A9k\" title=\"Vasfűfélék\">Vasfűfélék</a></li>\n",
      "<li><a href=\"/wiki/Vell%C3%B3ziaf%C3%A9l%C3%A9k\" title=\"Vellóziafélék\">Vellóziafélék</a></li>\n",
      "<li><a href=\"/wiki/Vidraf%C5%B1f%C3%A9l%C3%A9k\" title=\"Vidrafűfélék\">Vidrafűfélék</a></li>\n",
      "<li><a href=\"/wiki/Vill%C3%A1sp%C3%A1lmaf%C3%A9l%C3%A9k\" title=\"Villáspálmafélék\">Villáspálmafélék</a></li>\n",
      "<li><a href=\"/wiki/Vir%C3%A1gk%C3%A1kaf%C3%A9l%C3%A9k\" title=\"Virágkákafélék\">Virágkákafélék</a></li>\n",
      "<li><a href=\"/wiki/Vir%C3%A1gs%C3%A1sf%C3%A9l%C3%A9k\" title=\"Virágsásfélék\">Virágsásfélék</a></li>\n",
      "<li><a href=\"/wiki/V%C3%ADzij%C3%A1cintf%C3%A9l%C3%A9k\" title=\"Vízijácintfélék\">Vízijácintfélék</a></li>\n",
      "<li><a href=\"/wiki/Volvocaceae\" title=\"Volvocaceae\">Volvocaceae</a></li></ul></div><div class=\"mw-category-group\"><h3>Z</h3>\n",
      "<ul><li><a href=\"/wiki/Z%C3%A1szpaf%C3%A9l%C3%A9k\" title=\"Zászpafélék\">Zászpafélék</a></li>\n",
      "<li><a href=\"/wiki/Zellerf%C3%A9l%C3%A9k\" title=\"Zellerfélék\">Zellerfélék</a></li></ul></div><div class=\"mw-category-group\"><h3>Zs</h3>\n",
      "<ul><li><a href=\"/wiki/Zsurl%C3%B3faf%C3%A9l%C3%A9k\" title=\"Zsurlófafélék\">Zsurlófafélék</a></li>\n",
      "<li><a href=\"/wiki/Zsurl%C3%B3f%C3%A9l%C3%A9k\" title=\"Zsurlófélék\">Zsurlófélék</a></li></ul></div></div></div>\n",
      "</div></div><!--esi <esi:include src=\"/esitest-fa8a495983347898/content\" /> --><noscript><img alt=\"\" height=\"1\" src=\"https://login.wikimedia.org/wiki/Special:CentralAutoLogin/start?type=1x1\" style=\"border: none; position: absolute;\" width=\"1\"/></noscript>\n",
      "<div class=\"printfooter\" data-nosnippet=\"\">A lap eredeti címe: „<a dir=\"ltr\" href=\"https://hu.wikipedia.org/w/index.php?title=Kategória:Növénycsaládok&amp;oldid=14580898\">https://hu.wikipedia.org/w/index.php?title=Kategória:Növénycsaládok&amp;oldid=14580898</a>”</div></div>\n",
      "<div class=\"catlinks\" data-mw=\"interface\" id=\"catlinks\"><div class=\"mw-normal-catlinks\" id=\"mw-normal-catlinks\"><a href=\"/wiki/Wikip%C3%A9dia:Kateg%C3%B3ri%C3%A1k\" title=\"Wikipédia:Kategóriák\">Kategória</a>: <ul><li><a href=\"/wiki/Kateg%C3%B3ria:N%C3%B6v%C3%A9nyrendszertan\" title=\"Kategória:Növényrendszertan\">Növényrendszertan</a></li></ul></div></div>\n",
      "</div>\n",
      "</main>\n",
      "</div>\n",
      "<div class=\"mw-footer-container\">\n",
      "<footer class=\"mw-footer\" id=\"footer\">\n",
      "<ul id=\"footer-info\">\n",
      "<li id=\"footer-info-lastmod\"> A lap utolsó módosítása: 2014. április 17., 17:13</li>\n",
      "<li id=\"footer-info-copyright\">A lap szövege <a href=\"http://creativecommons.org/licenses/by-sa/4.0/deed.hu\">Creative Commons Nevezd meg! – Így add tovább! 4.0</a> licenc alatt van; egyes esetekben más módon is felhasználható. Részletekért lásd a <a href=\"//hu.wikipedia.org/wiki/Wikip%C3%A9dia:Felhaszn%C3%A1l%C3%A1si_felt%C3%A9telek\">felhasználási feltételeket</a>.</li>\n",
      "</ul>\n",
      "<ul id=\"footer-places\">\n",
      "<li id=\"footer-places-privacy\"><a href=\"https://foundation.wikimedia.org/wiki/Special:MyLanguage/Policy:Privacy_policy\">Adatvédelmi irányelvek</a></li>\n",
      "<li id=\"footer-places-about\"><a href=\"/wiki/Wikip%C3%A9dia:R%C3%B3lunk\">A Wikipédiáról</a></li>\n",
      "<li id=\"footer-places-disclaimers\"><a href=\"/wiki/Wikip%C3%A9dia:Jogi_nyilatkozat\">Jogi nyilatkozat</a></li>\n",
      "<li id=\"footer-places-wm-codeofconduct\"><a href=\"https://foundation.wikimedia.org/wiki/Special:MyLanguage/Policy:Universal_Code_of_Conduct\">Code of Conduct</a></li>\n",
      "<li id=\"footer-places-developers\"><a href=\"https://developer.wikimedia.org\">Fejlesztők</a></li>\n",
      "<li id=\"footer-places-statslink\"><a href=\"https://stats.wikimedia.org/#/hu.wikipedia.org\">Statisztikák</a></li>\n",
      "<li id=\"footer-places-cookiestatement\"><a href=\"https://foundation.wikimedia.org/wiki/Special:MyLanguage/Policy:Cookie_statement\">Sütinyilatkozat</a></li>\n",
      "<li id=\"footer-places-mobileview\"><a class=\"noprint stopMobileRedirectToggle\" href=\"//hu.m.wikipedia.org/w/index.php?title=Kateg%C3%B3ria:N%C3%B6v%C3%A9nycsal%C3%A1dok&amp;mobileaction=toggle_view_mobile\">Mobil nézet</a></li>\n",
      "</ul>\n",
      "<ul class=\"noprint\" id=\"footer-icons\">\n",
      "<li id=\"footer-copyrightico\"><a href=\"https://wikimediafoundation.org/\"><img alt=\"Wikimedia Foundation\" height=\"31\" loading=\"lazy\" src=\"/static/images/footer/wikimedia-button.png\" srcset=\"/static/images/footer/wikimedia-button-1.5x.png 1.5x, /static/images/footer/wikimedia-button-2x.png 2x\" width=\"88\"/></a></li>\n",
      "<li id=\"footer-poweredbyico\"><a href=\"https://www.mediawiki.org/\"><img alt=\"Powered by MediaWiki\" height=\"31\" loading=\"lazy\" src=\"/static/images/footer/poweredby_mediawiki_88x31.png\" srcset=\"/static/images/footer/poweredby_mediawiki_132x47.png 1.5x, /static/images/footer/poweredby_mediawiki_176x62.png 2x\" width=\"88\"/></a></li>\n",
      "</ul>\n",
      "</footer>\n",
      "</div>\n",
      "</div>\n",
      "</div>\n",
      "<div class=\"vector-settings\" id=\"p-dock-bottom\">\n",
      "<ul>\n",
      "<li>\n",
      "<button class=\"cdx-button cdx-button--icon-only vector-limited-width-toggle\"><span class=\"vector-icon mw-ui-icon-fullScreen mw-ui-icon-wikimedia-fullScreen\"></span>\n",
      "<span>Korlátozott tartalomszélesség ki/be</span>\n",
      "</button>\n",
      "</li>\n",
      "</ul>\n",
      "</div>\n",
      "<script>(RLQ=window.RLQ||[]).push(function(){mw.config.set({\"wgHostname\":\"mw-web.eqiad.main-bd6bfc586-bxgfs\",\"wgBackendResponseTime\":196,\"wgPageParseReport\":{\"limitreport\":{\"cputime\":\"0.019\",\"walltime\":\"0.029\",\"ppvisitednodes\":{\"value\":95,\"limit\":1000000},\"postexpandincludesize\":{\"value\":3501,\"limit\":2097152},\"templateargumentsize\":{\"value\":1312,\"limit\":2097152},\"expansiondepth\":{\"value\":6,\"limit\":100},\"expensivefunctioncount\":{\"value\":0,\"limit\":500},\"unstrip-depth\":{\"value\":0,\"limit\":20},\"unstrip-size\":{\"value\":473,\"limit\":5000000},\"entityaccesscount\":{\"value\":0,\"limit\":400},\"timingprofile\":[\"100.00%   17.813      1 -total\",\" 69.08%   12.305      1 Sablon:Commonskat\",\" 57.31%   10.209      1 Sablon:Társprojekt_alap\",\" 30.44%    5.422      1 Sablon:Rendszertani_egység_szerinti_kategória\",\" 15.51%    2.763      1 Sablon:Ambox\"]},\"cachereport\":{\"origin\":\"mw-web.eqiad.main-7768bf78c7-lp22v\",\"timestamp\":\"20240607090509\",\"ttl\":2592000,\"transientcontent\":false}}});});</script>\n",
      "</body>\n",
      "</html>\n"
     ]
    }
   ],
   "source": [
    "print(soup)"
   ]
  },
  {
   "cell_type": "markdown",
   "id": "1df7d823",
   "metadata": {},
   "source": [
    "A kiíratást meg lehet csinálni szebben is a <code>prettify()</code> paranccsal, viszont az eredménye a <code>printLimited()</code> függvény miatt nem fog látszódni."
   ]
  },
  {
   "cell_type": "code",
   "execution_count": 6,
   "id": "ab5a3ed9",
   "metadata": {
    "tags": [
     "scroll-output"
    ]
   },
   "outputs": [
    {
     "name": "stdout",
     "output_type": "stream",
     "text": [
      "<!DOCTYPE html>\n",
      "<html class=\"client-nojs vector-feature-language-in-header-enabled vector-feature-language-in-main-page-header-disabled vector-feature-sticky-header-disabled vector-feature-page-tools-pinned-disabled vector-feature-toc-pinned-clientpref-1 vector-feature-main-menu-pinned-disabled vector-feature-limited-width-clientpref-1 vector-feature-limited-width-content-disabled vector-feature-custom-font-size-clientpref--excluded vector-feature-appearance-disabled vector-feature-appearance-pinned-clientpref-0 vector-feature-night-mode-disabled skin-theme-clientpref-day vector-toc-not-available\" dir=\"ltr\" lang=\"hu\">\n",
      " <head>\n",
      "  <meta charset=\"utf-8\"/>\n",
      "  <title>\n",
      "   Kategória:Növénycsaládok – Wikipédia\n",
      "  </title>\n",
      "  <script>\n",
      "   (function(){var className=\"client-js vector-feature-language-in-header-enabled vector-feature-language-in-main-page-header-disabled vector-feature-sticky-header-disabled vector-feature-page-tools-pinned-disabled vector-feature-toc-pinned-clientpref-1 vector-feature-main-menu-pinned-disabled vector-feature-limited-width-clientpref-1 vector-feature-limited-width-content-disabled vector-feature-custom-font-size-clientpref--excluded vector-feature-appearance-disabled vector-feature-appearance-pinned-clientpref-0 vector-feature-night-mode-disabled skin-theme-clientpref-day vector-toc-not-available\";var cookie=document.cookie.match(/(?:^|; )huwikimwclientpreferences=([^;]+)/);if(cookie){cookie[1].split('%2C').forEach(function(pref){className=className.replace(new RegExp('(^| )'+pref.replace(/-clientpref-\\w+$|[^\\w-]+/g,'')+'-clientpref-\\\\w+( |$)'),'$1'+pref+'$2');});}document.documentElement.className=className;}());RLCONF={\"wgBreakFrames\":false,\"wgSeparatorTransformTable\":[\",\\t.\",\" \\t,\"],\n",
      "\"wgDigitTransformTable\":[\"\",\"\"],\"wgDefaultDateFormat\":\"ymd\",\"wgMonthNames\":[\"\",\"január\",\"február\",\"március\",\"április\",\"május\",\"június\",\"július\",\"augusztus\",\"szeptember\",\"október\",\"november\",\"december\"],\"wgRequestId\":\"3926bcc5-8467-4d81-80b4-afd7de90ca16\",\"wgCanonicalNamespace\":\"Category\",\"wgCanonicalSpecialPageName\":false,\"wgNamespaceNumber\":14,\"wgPageName\":\"Kategória:Növénycsaládok\",\"wgTitle\":\"Növénycsaládok\",\"wgCurRevisionId\":14580898,\"wgRevisionId\":14580898,\"wgArticleId\":31483,\"wgIsArticle\":true,\"wgIsRedirect\":false,\"wgAction\":\"view\",\"wgUserName\":null,\"wgUserGroups\":[\"*\"],\"wgCategories\":[\"Növényrendszertan\"],\"wgPageViewLanguage\":\"hu\",\"wgPageContentLanguage\":\"hu\",\"wgPageContentModel\":\"wikitext\",\"wgRelevantPageName\":\"Kategória:Növénycsaládok\",\"wgRelevantArticleId\":31483,\"wgIsProbablyEditable\":true,\"wgRelevantPageIsProbablyEditable\":true,\"wgRestrictionEdit\":[],\"wgRestrictionMove\":[],\"wgNoticeProject\":\"wikipedia\",\"wgCiteReferencePreviewsActive\":true,\n",
      "\"wgFlaggedRevsParams\":{\"tags\":{\"accuracy\":{\"levels\":2}}},\"wgStableRevisionId\":14580898,\"wgMediaViewerOnClick\":true,\"wgMediaViewerEnabledByDefault\":true,\"wgPopupsFlags\":4,\"wgVisualEditor\":{\"pageLanguageCode\":\"hu\",\"pageLanguageDir\":\"ltr\",\"pageVariantFallbacks\":\"hu\"},\"wgMFDisplayWikibaseDescriptions\":{\"search\":true,\"watchlist\":true,\"tagline\":true,\"nearby\":true},\"wgWMESchemaEditAttemptStepOversample\":false,\"wgWMEPageLength\":100,\"wgULSCurrentAutonym\":\"magyar\",\"wgCentralAuthMobileDomain\":false,\"wgEditSubmitButtonLabelPublish\":true,\"wgULSPosition\":\"interlanguage\",\"wgULSisCompactLinksEnabled\":false,\"wgVector2022LanguageInHeader\":true,\"wgULSisLanguageSelectorEmpty\":false,\"wgWikibaseItemId\":\"Q9079785\",\"wgCheckUserClientHintsHeadersJsApi\":[\"architecture\",\"bitness\",\"brands\",\"fullVersionList\",\"mobile\",\"model\",\"platform\",\"platformVersion\"],\"GEHomepageSuggestedEditsEnableTopics\":true,\"wgGETopicsMatchModeEnabled\":false,\"wgGEStructuredTaskRejectionReasonTextInputEnabled\":false,\n",
      "\"wgGELevelingUpEnabledForUser\":false};RLSTATE={\"ext.gadget.infobox\":\"ready\",\"ext.gadget.wikiMenuStyles\":\"ready\",\"ext.globalCssJs.user.styles\":\"ready\",\"site.styles\":\"ready\",\"user.styles\":\"ready\",\"ext.globalCssJs.user\":\"ready\",\"user\":\"ready\",\"user.options\":\"loading\",\"ext.flaggedRevs.icons\":\"ready\",\"mediawiki.action.styles\":\"ready\",\"ext.categoryTree.styles\":\"ready\",\"mediawiki.helplink\":\"ready\",\"skins.vector.search.codex.styles\":\"ready\",\"skins.vector.styles\":\"ready\",\"skins.vector.icons\":\"ready\",\"ext.flaggedRevs.basic\":\"ready\",\"ext.tmh.player.styles\":\"ready\",\"ext.wikimediamessages.styles\":\"ready\",\"ext.visualEditor.desktopArticleTarget.noscript\":\"ready\",\"ext.uls.interlanguage\":\"ready\",\"wikibase.client.init\":\"ready\",\"ext.wikimediaBadges\":\"ready\"};RLPAGEMODULES=[\"ext.categoryTree\",\"site\",\"mediawiki.page.ready\",\"skins.vector.js\",\"ext.centralNotice.geoIP\",\"ext.centralNotice.startUp\",\"ext.flaggedRevs.advanced\",\"ext.gadget.wdsearch\",\"ext.gadget.irclogin\",\"ext.gadget.edittop\",\n",
      "\"ext.gadget.ImageAnnotator.loader\",\"ext.gadget.collapsible\",\"ext.gadget.kepdia\",\"ext.gadget.kinai\",\"ext.gadget.poziciosTerkep\",\"ext.gadget.wikiMenu\",\"ext.gadget.wiwosm\",\"ext.tmh.player\",\"ext.urlShortener.toolbar\",\"ext.centralauth.centralautologin\",\"mmv.head\",\"mmv.bootstrap.autostart\",\"ext.popups\",\"ext.visualEditor.desktopArticleTarget.init\",\"ext.visualEditor.targetLoader\",\"ext.echo.centralauth\",\"ext.eventLogging\",\"ext.wikimediaEvents\",\"ext.navigationTiming\",\"ext.uls.interface\",\"ext.cx.eventlogging.campaigns\",\"wikibase.client.vector-2022\",\"ext.checkUser.clientHints\",\"oojs-ui.styles.icons-media\",\"oojs-ui-core.icons\"];\n",
      "  </script>\n",
      "  <script>\n",
      "   (RLQ=window.RLQ||[]).push(function(){mw.loader.impl(function(){return[\"user.options@12s5i\",function($,jQuery,require,module){mw.user.tokens.set({\"patrolToken\":\"+\\\\\",\"watchToken\":\"+\\\\\",\"csrfToken\":\"+\\\\\"});\n",
      "}];});});\n",
      "  </script>\n",
      "  <link href=\"/w/load.php?lang=hu&amp;modules=ext.categoryTree.styles%7Cext.flaggedRevs.basic%2Cicons%7Cext.tmh.player.styles%7Cext.uls.interlanguage%7Cext.visualEditor.desktopArticleTarget.noscript%7Cext.wikimediaBadges%7Cext.wikimediamessages.styles%7Cmediawiki.action.styles%7Cmediawiki.helplink%7Cskins.vector.icons%2Cstyles%7Cskins.vector.search.codex.styles%7Cwikibase.client.init&amp;only=styles&amp;skin=vector-2022\" rel=\"stylesheet\"/>\n",
      "  <script async=\"\" src=\"/w/load.php?lang=hu&amp;modules=startup&amp;only=scripts&amp;raw=1&amp;skin=vector-2022\">\n",
      "  </script>\n",
      "  <meta content=\"\" name=\"ResourceLoaderDynamicStyles\"/>\n",
      "  <link href=\"/w/load.php?lang=hu&amp;modules=ext.gadget.infobox%2CwikiMenuStyles&amp;only=styles&amp;skin=vector-2022\" rel=\"stylesheet\"/>\n",
      "  <link href=\"/w/load.php?lang=hu&amp;modules=site.styles&amp;only=styles&amp;skin=vector-2022\" rel=\"stylesheet\"/>\n",
      "  <meta content=\"MediaWiki 1.43.0-wmf.8\" name=\"generator\"/>\n",
      "  <meta content=\"origin\" name=\"referrer\"/>\n",
      "  <meta content=\"origin-when-cross-origin\" name=\"referrer\"/>\n",
      "  <meta content=\"max-image-preview:standard\" name=\"robots\"/>\n",
      "  <meta content=\"telephone=no\" name=\"format-detection\"/>\n",
      "  <meta content=\"width=1000\" name=\"viewport\"/>\n",
      "  <meta content=\"Kategória:Növénycsaládok – Wikipédia\" property=\"og:title\"/>\n",
      "  <meta content=\"website\" property=\"og:type\"/>\n",
      "  <link href=\"//upload.wikimedia.org\" rel=\"preconnect\"/>\n",
      "  <link href=\"//hu.m.wikipedia.org/wiki/Kateg%C3%B3ria:N%C3%B6v%C3%A9nycsal%C3%A1dok\" media=\"only screen and (max-width: 720px)\" rel=\"alternate\"/>\n",
      "  <link href=\"/w/index.php?title=Kateg%C3%B3ria:N%C3%B6v%C3%A9nycsal%C3%A1dok&amp;action=edit\" rel=\"alternate\" title=\"Szerkesztés\" type=\"application/x-wiki\"/>\n",
      "  <link href=\"/static/apple-touch/wikipedia.png\" rel=\"apple-touch-icon\"/>\n",
      "  <link href=\"/static/favicon/wikipedia.ico\" rel=\"icon\"/>\n",
      "  <link href=\"/w/rest.php/v1/search\" rel=\"search\" title=\"Wikipédia (hu)\" type=\"application/opensearchdescription+xml\"/>\n",
      "  <link href=\"//hu.wikipedia.org/w/api.php?action=rsd\" rel=\"EditURI\" type=\"application/rsd+xml\"/>\n",
      "  <link href=\"https://hu.wikipedia.org/wiki/Kateg%C3%B3ria:N%C3%B6v%C3%A9nycsal%C3%A1dok\" rel=\"canonical\"/>\n",
      "  <link href=\"https://creativecommons.org/licenses/by-sa/4.0/deed.hu\" rel=\"license\"/>\n",
      "  <link href=\"/w/index.php?title=Speci%C3%A1lis:Friss_v%C3%A1ltoztat%C3%A1sok&amp;feed=atom\" rel=\"alternate\" title=\"Wikipédia Atom-hírcsatorna\" type=\"application/atom+xml\"/>\n",
      "  <link href=\"//meta.wikimedia.org\" rel=\"dns-prefetch\">\n",
      "   <link href=\"//login.wikimedia.org\" rel=\"dns-prefetch\"/>\n",
      "  </link>\n",
      " </head>\n",
      " <body class=\"skin-vector skin-vector-search-vue mediawiki ltr sitedir-ltr mw-hide-empty-elt ns-14 ns-subject mw-editable page-Kategória_Növénycsaládok rootpage-Kategória_Növénycsaládok skin-vector-2022 action-view\">\n",
      "  <a class=\"mw-jump-link\" href=\"#bodyContent\">\n",
      "   Ugrás a tartalomhoz\n",
      "  </a>\n",
      "  <div class=\"vector-header-container\">\n",
      "   <header class=\"vector-header mw-header\">\n",
      "    <div class=\"vector-header-start\">\n",
      "     <nav aria-label=\"Wiki\" class=\"vector-main-menu-landmark\">\n",
      "      <div class=\"vector-dropdown vector-main-menu-dropdown vector-button-flush-left vector-button-flush-right\" id=\"vector-main-menu-dropdown\">\n",
      "       <input aria-haspopup=\"true\" aria-label=\"Főmenü\" class=\"vector-dropdown-checkbox\" data-event-name=\"ui.dropdown-vector-main-menu-dropdown\" id=\"vector-main-menu-dropdown-checkbox\" role=\"button\" type=\"checkbox\"/>\n",
      "       <label aria-hidden=\"true\" class=\"vector-dropdown-label cdx-button cdx-button--fake-button cdx-button--fake-button--enabled cdx-button--weight-quiet cdx-button--icon-only\" for=\"vector-main-menu-dropdown-checkbox\" id=\"vector-main-menu-dropdown-label\">\n",
      "        <span class=\"vector-icon mw-ui-icon-menu mw-ui-icon-wikimedia-menu\">\n",
      "        </span>\n",
      "        <span class=\"vector-dropdown-label-text\">\n",
      "         Főmenü\n",
      "        </span>\n",
      "       </label>\n",
      "       <div class=\"vector-dropdown-content\">\n",
      "        <div class=\"vector-unpinned-container\" id=\"vector-main-menu-unpinned-container\">\n",
      "         <div class=\"vector-main-menu vector-pinnable-element\" id=\"vector-main-menu\">\n",
      "          <div class=\"vector-pinnable-header vector-main-menu-pinnable-header vector-pinnable-header-unpinned\" data-feature-name=\"main-menu-pinned\" data-pinnable-element-id=\"vector-main-menu\" data-pinned-container-id=\"vector-main-menu-pinned-container\" data-unpinned-container-id=\"vector-main-menu-unpinned-container\">\n",
      "           <div class=\"vector-pinnable-header-label\">\n",
      "            Főmenü\n",
      "           </div>\n",
      "           <button class=\"vector-pinnable-header-toggle-button vector-pinnable-header-pin-button\" data-event-name=\"pinnable-header.vector-main-menu.pin\">\n",
      "            áthelyezés az oldalsávba\n",
      "           </button>\n",
      "           <button class=\"vector-pinnable-header-toggle-button vector-pinnable-header-unpin-button\" data-event-name=\"pinnable-header.vector-main-menu.unpin\">\n",
      "            elrejtés\n",
      "           </button>\n",
      "          </div>\n",
      "          <div class=\"vector-menu mw-portlet mw-portlet-navigation\" id=\"p-navigation\">\n",
      "           <div class=\"vector-menu-heading\">\n",
      "            Navigáció\n",
      "           </div>\n",
      "           <div class=\"vector-menu-content\">\n",
      "            <ul class=\"vector-menu-content-list\">\n",
      "             <li class=\"mw-list-item\" id=\"n-mainpage-description\">\n",
      "              <a accesskey=\"z\" href=\"/wiki/Kezd%C5%91lap\" title=\"A kezdőlap megtekintése [z]\">\n",
      "               <span>\n",
      "                Kezdőlap\n",
      "               </span>\n",
      "              </a>\n",
      "             </li>\n",
      "             <li class=\"mw-list-item\" id=\"n-sidebar-contents\">\n",
      "              <a href=\"/wiki/Wikip%C3%A9dia:Tartalom\">\n",
      "               <span>\n",
      "                Tartalom\n",
      "               </span>\n",
      "              </a>\n",
      "             </li>\n",
      "             <li class=\"mw-list-item\" id=\"n-sidebar-featured\">\n",
      "              <a href=\"/wiki/Wikip%C3%A9dia:Kiemelt_sz%C3%B3cikkek_list%C3%A1ja\">\n",
      "               <span>\n",
      "                Kiemelt szócikkek\n",
      "               </span>\n",
      "              </a>\n",
      "             </li>\n",
      "             <li class=\"mw-list-item\" id=\"n-recentchanges\">\n",
      "              <a accesskey=\"r\" href=\"/wiki/Speci%C3%A1lis:Friss_v%C3%A1ltoztat%C3%A1sok\" title=\"A wikiben történt legutóbbi változtatások listája [r]\">\n",
      "               <span>\n",
      "                Friss változtatások\n",
      "               </span>\n",
      "              </a>\n",
      "             </li>\n",
      "             <li class=\"mw-list-item\" id=\"n-randompage\">\n",
      "              <a accesskey=\"x\" href=\"/wiki/Speci%C3%A1lis:Lap_tal%C3%A1lomra\" title=\"Egy véletlenszerűen kiválasztott lap betöltése [x]\">\n",
      "               <span>\n",
      "                Lap találomra\n",
      "               </span>\n",
      "              </a>\n",
      "             </li>\n",
      "             <li class=\"mw-list-item\" id=\"n-sidebar-enquiries\">\n",
      "              <a href=\"/wiki/Wikip%C3%A9dia:Tudakoz%C3%B3\">\n",
      "               <span>\n",
      "                Tudakozó\n",
      "               </span>\n",
      "              </a>\n",
      "             </li>\n",
      "            </ul>\n",
      "           </div>\n",
      "          </div>\n",
      "          <div class=\"vector-menu mw-portlet mw-portlet-sidebar-participate\" id=\"p-sidebar-participate\">\n",
      "           <div class=\"vector-menu-heading\">\n",
      "            Részvétel\n",
      "           </div>\n",
      "           <div class=\"vector-menu-content\">\n",
      "            <ul class=\"vector-menu-content-list\">\n",
      "             <li class=\"mw-list-item\" id=\"n-sidebar-basics\">\n",
      "              <a href=\"/wiki/Wikip%C3%A9dia:%C3%9Aj_szerkeszt%C5%91knek\">\n",
      "               <span>\n",
      "                Kezdőknek\n",
      "               </span>\n",
      "              </a>\n",
      "             </li>\n",
      "             <li class=\"mw-list-item\" id=\"n-sidebar-help\">\n",
      "              <a href=\"/wiki/Wikip%C3%A9dia:Seg%C3%ADts%C3%A9g\">\n",
      "               <span>\n",
      "                Segítség\n",
      "               </span>\n",
      "              </a>\n",
      "             </li>\n",
      "             <li class=\"mw-list-item\" id=\"n-portal\">\n",
      "              <a href=\"/wiki/Port%C3%A1l:K%C3%B6z%C3%B6ss%C3%A9g\" title=\"A projektről, miben segíthetsz, mit hol találsz meg\">\n",
      "               <span>\n",
      "                Közösségi portál\n",
      "               </span>\n",
      "              </a>\n",
      "             </li>\n",
      "             <li class=\"mw-list-item\" id=\"n-sidebar-contact\">\n",
      "              <a href=\"/wiki/Wikip%C3%A9dia:Kapcsolatfelv%C3%A9tel\">\n",
      "               <span>\n",
      "                Kapcsolatfelvétel\n",
      "               </span>\n",
      "              </a>\n",
      "             </li>\n",
      "             <li class=\"mw-list-item\" id=\"n-sitesupport\">\n",
      "              <a href=\"//donate.wikimedia.org/wiki/Special:FundraiserRedirector?utm_source=donate&amp;utm_medium=sidebar&amp;utm_campaign=C13_hu.wikipedia.org&amp;uselang=hu\" title=\"Támogatás\">\n",
      "               <span>\n",
      "                Adományok\n",
      "               </span>\n",
      "              </a>\n",
      "             </li>\n",
      "            </ul>\n",
      "           </div>\n",
      "          </div>\n",
      "         </div>\n",
      "        </div>\n",
      "       </div>\n",
      "      </div>\n",
      "     </nav>\n",
      "     <a class=\"mw-logo\" href=\"/wiki/Kezd%C5%91lap\">\n",
      "      <img alt=\"\" aria-hidden=\"true\" class=\"mw-logo-icon\" height=\"50\" src=\"/static/images/icons/wikipedia.png\" width=\"50\"/>\n",
      "      <span class=\"mw-logo-container skin-invert\">\n",
      "       <img alt=\"Wikipédia\" class=\"mw-logo-wordmark\" src=\"/static/images/mobile/copyright/wikipedia-wordmark-fr.svg\" style=\"width: 7.4375em; height: 1.125em;\"/>\n",
      "       <img alt=\"\" class=\"mw-logo-tagline\" height=\"13\" src=\"/static/images/mobile/copyright/wikipedia-tagline-hu.svg\" style=\"width: 7.5em; height: 0.8125em;\" width=\"120\"/>\n",
      "      </span>\n",
      "     </a>\n",
      "    </div>\n",
      "    <div class=\"vector-header-end\">\n",
      "     <div class=\"vector-search-box-vue vector-search-box-collapses vector-search-box-show-thumbnail vector-search-box-auto-expand-width vector-search-box\" id=\"p-search\" role=\"search\">\n",
      "      <a accesskey=\"f\" class=\"cdx-button cdx-button--fake-button cdx-button--fake-button--enabled cdx-button--weight-quiet cdx-button--icon-only search-toggle\" href=\"/wiki/Speci%C3%A1lis:Keres%C3%A9s\" title=\"Keresés a Wikipédián [f]\">\n",
      "       <span class=\"vector-icon mw-ui-icon-search mw-ui-icon-wikimedia-search\">\n",
      "       </span>\n",
      "       <span>\n",
      "        Keresés\n",
      "       </span>\n",
      "      </a>\n",
      "      <div class=\"vector-typeahead-search-container\">\n",
      "       <div class=\"cdx-typeahead-search cdx-typeahead-search--show-thumbnail cdx-typeahead-search--auto-expand-width\">\n",
      "        <form action=\"/w/index.php\" class=\"cdx-search-input cdx-search-input--has-end-button\" id=\"searchform\">\n",
      "         <div class=\"cdx-search-input__input-wrapper\" data-search-loc=\"header-moved\" id=\"simpleSearch\">\n",
      "          <div class=\"cdx-text-input cdx-text-input--has-start-icon\">\n",
      "           <input accesskey=\"f\" aria-label=\"Keresés a Wikipédián\" autocapitalize=\"sentences\" class=\"cdx-text-input__input\" id=\"searchInput\" name=\"search\" placeholder=\"Keresés a Wikipédián\" title=\"Keresés a Wikipédián [f]\" type=\"search\"/>\n",
      "           <span class=\"cdx-text-input__icon cdx-text-input__start-icon\">\n",
      "           </span>\n",
      "          </div>\n",
      "          <input name=\"title\" type=\"hidden\" value=\"Speciális:Keresés\"/>\n",
      "         </div>\n",
      "         <button class=\"cdx-button cdx-search-input__end-button\">\n",
      "          Keresés\n",
      "         </button>\n",
      "        </form>\n",
      "       </div>\n",
      "      </div>\n",
      "     </div>\n",
      "     <nav aria-label=\"Személyes eszközök\" class=\"vector-user-links vector-user-links-wide\">\n",
      "      <div class=\"vector-user-links-main\">\n",
      "       <div class=\"vector-menu mw-portlet emptyPortlet\" id=\"p-vector-user-menu-preferences\">\n",
      "        <div class=\"vector-menu-content\">\n",
      "         <ul class=\"vector-menu-content-list\">\n",
      "         </ul>\n",
      "        </div>\n",
      "       </div>\n",
      "       <div class=\"vector-menu mw-portlet emptyPortlet\" id=\"p-vector-user-menu-userpage\">\n",
      "        <div class=\"vector-menu-content\">\n",
      "         <ul class=\"vector-menu-content-list\">\n",
      "         </ul>\n",
      "        </div>\n",
      "       </div>\n",
      "       <nav aria-label=\"Megjelenés\" class=\"vector-appearance-landmark\">\n",
      "       </nav>\n",
      "       <div class=\"vector-menu mw-portlet emptyPortlet\" id=\"p-vector-user-menu-notifications\">\n",
      "        <div class=\"vector-menu-content\">\n",
      "         <ul class=\"vector-menu-content-list\">\n",
      "         </ul>\n",
      "        </div>\n",
      "       </div>\n",
      "       <div class=\"vector-menu mw-portlet\" id=\"p-vector-user-menu-overflow\">\n",
      "        <div class=\"vector-menu-content\">\n",
      "         <ul class=\"vector-menu-content-list\">\n",
      "          <li class=\"user-links-collapsible-item mw-list-item user-links-collapsible-item\" id=\"pt-createaccount-2\">\n",
      "           <a class=\"\" data-mw=\"interface\" href=\"/w/index.php?title=Speci%C3%A1lis:Szerkeszt%C5%91i_fi%C3%B3k_l%C3%A9trehoz%C3%A1sa&amp;returnto=Kateg%C3%B3ria%3AN%C3%B6v%C3%A9nycsal%C3%A1dok\" title=\"Arra bíztatunk, hogy hozz létre egy fiókot, és jelentkezz be, azonban ez nem kötelező\">\n",
      "            <span>\n",
      "             Fiók létrehozása\n",
      "            </span>\n",
      "           </a>\n",
      "          </li>\n",
      "          <li class=\"user-links-collapsible-item mw-list-item user-links-collapsible-item\" id=\"pt-login-2\">\n",
      "           <a accesskey=\"o\" class=\"\" data-mw=\"interface\" href=\"/w/index.php?title=Speci%C3%A1lis:Bel%C3%A9p%C3%A9s&amp;returnto=Kateg%C3%B3ria%3AN%C3%B6v%C3%A9nycsal%C3%A1dok\" title=\"Bejelentkezni javasolt, de nem kötelező [o]\">\n",
      "            <span>\n",
      "             Bejelentkezés\n",
      "            </span>\n",
      "           </a>\n",
      "          </li>\n",
      "         </ul>\n",
      "        </div>\n",
      "       </div>\n",
      "      </div>\n",
      "      <div class=\"vector-dropdown vector-user-menu vector-button-flush-right vector-user-menu-logged-out\" id=\"vector-user-links-dropdown\" title=\"További lehetőségek\">\n",
      "       <input aria-haspopup=\"true\" aria-label=\"Személyes eszközök\" class=\"vector-dropdown-checkbox\" data-event-name=\"ui.dropdown-vector-user-links-dropdown\" id=\"vector-user-links-dropdown-checkbox\" role=\"button\" type=\"checkbox\"/>\n",
      "       <label aria-hidden=\"true\" class=\"vector-dropdown-label cdx-button cdx-button--fake-button cdx-button--fake-button--enabled cdx-button--weight-quiet cdx-button--icon-only\" for=\"vector-user-links-dropdown-checkbox\" id=\"vector-user-links-dropdown-label\">\n",
      "        <span class=\"vector-icon mw-ui-icon-ellipsis mw-ui-icon-wikimedia-ellipsis\">\n",
      "        </span>\n",
      "        <span class=\"vector-dropdown-label-text\">\n",
      "         Személyes eszközök\n",
      "        </span>\n",
      "       </label>\n",
      "       <div class=\"vector-dropdown-content\">\n",
      "        <div class=\"vector-menu mw-portlet mw-portlet-personal user-links-collapsible-item\" id=\"p-personal\" title=\"Felhasználói menü\">\n",
      "         <div class=\"vector-menu-content\">\n",
      "          <ul class=\"vector-menu-content-list\">\n",
      "           <li class=\"user-links-collapsible-item mw-list-item\" id=\"pt-createaccount\">\n",
      "            <a href=\"/w/index.php?title=Speci%C3%A1lis:Szerkeszt%C5%91i_fi%C3%B3k_l%C3%A9trehoz%C3%A1sa&amp;returnto=Kateg%C3%B3ria%3AN%C3%B6v%C3%A9nycsal%C3%A1dok\" title=\"Arra bíztatunk, hogy hozz létre egy fiókot, és jelentkezz be, azonban ez nem kötelező\">\n",
      "             <span class=\"vector-icon mw-ui-icon-userAdd mw-ui-icon-wikimedia-userAdd\">\n",
      "             </span>\n",
      "             <span>\n",
      "              Fiók létrehozása\n",
      "             </span>\n",
      "            </a>\n",
      "           </li>\n",
      "           <li class=\"user-links-collapsible-item mw-list-item\" id=\"pt-login\">\n",
      "            <a accesskey=\"o\" href=\"/w/index.php?title=Speci%C3%A1lis:Bel%C3%A9p%C3%A9s&amp;returnto=Kateg%C3%B3ria%3AN%C3%B6v%C3%A9nycsal%C3%A1dok\" title=\"Bejelentkezni javasolt, de nem kötelező [o]\">\n",
      "             <span class=\"vector-icon mw-ui-icon-logIn mw-ui-icon-wikimedia-logIn\">\n",
      "             </span>\n",
      "             <span>\n",
      "              Bejelentkezés\n",
      "             </span>\n",
      "            </a>\n",
      "           </li>\n",
      "          </ul>\n",
      "         </div>\n",
      "        </div>\n",
      "        <div class=\"vector-menu mw-portlet mw-portlet-user-menu-anon-editor\" id=\"p-user-menu-anon-editor\">\n",
      "         <div class=\"vector-menu-heading\">\n",
      "          Lapok kijelentkezett szerkesztőknek\n",
      "          <a aria-label=\"Tudj meg többet a szerkesztésről\" href=\"/wiki/Seg%C3%ADts%C3%A9g:Bevezet%C3%A9s\">\n",
      "           <span>\n",
      "            további információk\n",
      "           </span>\n",
      "          </a>\n",
      "         </div>\n",
      "         <div class=\"vector-menu-content\">\n",
      "          <ul class=\"vector-menu-content-list\">\n",
      "           <li class=\"mw-list-item\" id=\"pt-anoncontribs\">\n",
      "            <a accesskey=\"y\" href=\"/wiki/Speci%C3%A1lis:K%C3%B6zrem%C5%B1k%C3%B6d%C3%A9seim\" title=\"Erről az IP-címről végrehajtott szerkesztések listája [y]\">\n",
      "             <span>\n",
      "              Közreműködések\n",
      "             </span>\n",
      "            </a>\n",
      "           </li>\n",
      "           <li class=\"mw-list-item\" id=\"pt-anontalk\">\n",
      "            <a accesskey=\"n\" href=\"/wiki/Speci%C3%A1lis:Vit%C3%A1m\" title=\"Az általad használt IP-címről végrehajtott szerkesztések megvitatása [n]\">\n",
      "             <span>\n",
      "              Vitalap\n",
      "             </span>\n",
      "            </a>\n",
      "           </li>\n",
      "          </ul>\n",
      "         </div>\n",
      "        </div>\n",
      "       </div>\n",
      "      </div>\n",
      "     </nav>\n",
      "    </div>\n",
      "   </header>\n",
      "  </div>\n",
      "  <div class=\"mw-page-container\">\n",
      "   <div class=\"mw-page-container-inner\">\n",
      "    <div class=\"vector-sitenotice-container\">\n",
      "     <div class=\"notheme\" id=\"siteNotice\">\n",
      "      <!-- CentralNotice -->\n",
      "     </div>\n",
      "    </div>\n",
      "    <div class=\"vector-column-start\">\n",
      "     <div class=\"vector-main-menu-container\">\n",
      "      <div id=\"mw-navigation\">\n",
      "       <nav aria-label=\"Wiki\" class=\"vector-main-menu-landmark\" id=\"mw-panel\">\n",
      "        <div class=\"vector-pinned-container\" id=\"vector-main-menu-pinned-container\">\n",
      "        </div>\n",
      "       </nav>\n",
      "      </div>\n",
      "     </div>\n",
      "    </div>\n",
      "    <div class=\"mw-content-container\">\n",
      "     <main class=\"mw-body\" id=\"content\">\n",
      "      <header class=\"mw-body-header vector-page-titlebar\">\n",
      "       <h1 class=\"firstHeading mw-first-heading\" id=\"firstHeading\">\n",
      "        <span class=\"mw-page-title-namespace\">\n",
      "         Kategória\n",
      "        </span>\n",
      "        <span class=\"mw-page-title-separator\">\n",
      "         :\n",
      "        </span>\n",
      "        <span class=\"mw-page-title-main\">\n",
      "         Növénycsaládok\n",
      "        </span>\n",
      "       </h1>\n",
      "       <div class=\"vector-dropdown mw-portlet mw-portlet-lang\" id=\"p-lang-btn\">\n",
      "        <input aria-haspopup=\"true\" aria-label=\"Ugrás egy más nyelvű szócikkre. Elérhető 54 nyelven\" class=\"vector-dropdown-checkbox mw-interlanguage-selector\" data-event-name=\"ui.dropdown-p-lang-btn\" id=\"p-lang-btn-checkbox\" role=\"button\" type=\"checkbox\"/>\n",
      "        <label aria-hidden=\"true\" class=\"vector-dropdown-label cdx-button cdx-button--fake-button cdx-button--fake-button--enabled cdx-button--weight-quiet cdx-button--action-progressive mw-portlet-lang-heading-54\" for=\"p-lang-btn-checkbox\" id=\"p-lang-btn-label\">\n",
      "         <span class=\"vector-icon mw-ui-icon-language-progressive mw-ui-icon-wikimedia-language-progressive\">\n",
      "         </span>\n",
      "         <span class=\"vector-dropdown-label-text\">\n",
      "          54 nyelv\n",
      "         </span>\n",
      "        </label>\n",
      "        <div class=\"vector-dropdown-content\">\n",
      "         <div class=\"vector-menu-content\">\n",
      "          <ul class=\"vector-menu-content-list\">\n",
      "           <li class=\"interlanguage-link interwiki-en mw-list-item\">\n",
      "            <a class=\"interlanguage-link-target\" href=\"https://en.wikipedia.org/wiki/Category:Plant_families\" hreflang=\"en\" lang=\"en\" title=\"Category:Plant families – angol\">\n",
      "             <span>\n",
      "              English\n",
      "             </span>\n",
      "            </a>\n",
      "           </li>\n",
      "           <li class=\"interlanguage-link interwiki-af mw-list-item\">\n",
      "            <a class=\"interlanguage-link-target\" href=\"https://af.wikipedia.org/wiki/Kategorie:Plantfamilies\" hreflang=\"af\" lang=\"af\" title=\"Kategorie:Plantfamilies – afrikaans\">\n",
      "             <span>\n",
      "              Afrikaans\n",
      "             </span>\n",
      "            </a>\n",
      "           </li>\n",
      "           <li class=\"interlanguage-link interwiki-an mw-list-item\">\n",
      "            <a class=\"interlanguage-link-target\" href=\"https://an.wikipedia.org/wiki/Categor%C3%ADa:Familias_de_plantas\" hreflang=\"an\" lang=\"an\" title=\"Categoría:Familias de plantas – aragonéz\">\n",
      "             <span>\n",
      "              Aragonés\n",
      "             </span>\n",
      "            </a>\n",
      "           </li>\n",
      "           <li class=\"interlanguage-link interwiki-ar mw-list-item\">\n",
      "            <a class=\"interlanguage-link-target\" href=\"https://ar.wikipedia.org/wiki/%D8%AA%D8%B5%D9%86%D9%8A%D9%81:%D9%81%D8%B5%D8%A7%D8%A6%D9%84_%D9%86%D8%A8%D8%A7%D8%AA%D9%8A%D8%A9\" hreflang=\"ar\" lang=\"ar\" title=\"تصنيف:فصائل نباتية – arab\">\n",
      "             <span>\n",
      "              العربية\n",
      "             </span>\n",
      "            </a>\n",
      "           </li>\n",
      "           <li class=\"interlanguage-link interwiki-ast mw-list-item\">\n",
      "            <a class=\"interlanguage-link-target\" href=\"https://ast.wikipedia.org/wiki/Categor%C3%ADa:Families_de_plantes\" hreflang=\"ast\" lang=\"ast\" title=\"Categoría:Families de plantes – asztúr\">\n",
      "             <span>\n",
      "              Asturianu\n",
      "             </span>\n",
      "            </a>\n",
      "           </li>\n",
      "           <li class=\"interlanguage-link interwiki-ba mw-list-item\">\n",
      "            <a class=\"interlanguage-link-target\" href=\"https://ba.wikipedia.org/wiki/%D0%9A%D0%B0%D1%82%D0%B5%D0%B3%D0%BE%D1%80%D0%B8%D1%8F:%D2%AE%D2%AB%D0%B5%D0%BC%D0%BB%D0%B5%D0%BA%D1%82%D3%99%D1%80_%D2%93%D0%B0%D0%B8%D0%BB%D3%99%D0%BB%D3%99%D1%80%D0%B5\" hreflang=\"ba\" lang=\"ba\" title=\"Категория:Үҫемлектәр ғаиләләре – baskír\">\n",
      "             <span>\n",
      "              Башҡортса\n",
      "             </span>\n",
      "            </a>\n",
      "           </li>\n",
      "           <li class=\"interlanguage-link interwiki-be mw-list-item\">\n",
      "            <a class=\"interlanguage-link-target\" href=\"https://be.wikipedia.org/wiki/%D0%9A%D0%B0%D1%82%D1%8D%D0%B3%D0%BE%D1%80%D1%8B%D1%8F:%D0%A1%D1%8F%D0%BC%D0%B5%D0%B9%D1%81%D1%82%D0%B2%D1%8B_%D1%80%D0%B0%D1%81%D0%BB%D1%96%D0%BD\" hreflang=\"be\" lang=\"be\" title=\"Катэгорыя:Сямействы раслін – belarusz\">\n",
      "             <span>\n",
      "              Беларуская\n",
      "             </span>\n",
      "            </a>\n",
      "           </li>\n",
      "           <li class=\"interlanguage-link interwiki-cv mw-list-item\">\n",
      "            <a class=\"interlanguage-link-target\" href=\"https://cv.wikipedia.org/wiki/%D0%9A%D0%B0%D1%82%D0%B5%D0%B3%D0%BE%D1%80%D0%B8:%D3%B2%D1%81%D0%B5%D0%BD%D1%82%C4%83%D1%80%D0%B0%D0%BD%D1%81%D0%B5%D0%BD_%D0%B9%D1%8B%D1%88%C4%95%D1%81%D0%B5%D0%BC\" hreflang=\"cv\" lang=\"cv\" title=\"Категори:Ӳсентăрансен йышĕсем – csuvas\">\n",
      "             <span>\n",
      "              Чӑвашла\n",
      "             </span>\n",
      "            </a>\n",
      "           </li>\n",
      "           <li class=\"interlanguage-link interwiki-cy mw-list-item\">\n",
      "            <a class=\"interlanguage-link-target\" href=\"https://cy.wikipedia.org/wiki/Categori:Teuluoedd_planhigion\" hreflang=\"cy\" lang=\"cy\" title=\"Categori:Teuluoedd planhigion – walesi\">\n",
      "             <span>\n",
      "              Cymraeg\n",
      "             </span>\n",
      "            </a>\n",
      "           </li>\n",
      "           <li class=\"interlanguage-link interwiki-da mw-list-item\">\n",
      "            <a class=\"interlanguage-link-target\" href=\"https://da.wikipedia.org/wiki/Kategori:Plantefamilier\" hreflang=\"da\" lang=\"da\" title=\"Kategori:Plantefamilier – dán\">\n",
      "             <span>\n",
      "              Dansk\n",
      "             </span>\n",
      "            </a>\n",
      "           </li>\n",
      "           <li class=\"interlanguage-link interwiki-dsb mw-list-item\">\n",
      "            <a class=\"interlanguage-link-target\" href=\"https://dsb.wikipedia.org/wiki/Kategorija:Sw%C3%B3j%C5%BAby_rostlinow\" hreflang=\"dsb\" lang=\"dsb\" title=\"Kategorija:Swójźby rostlinow – alsó-szorb\">\n",
      "             <span>\n",
      "              Dolnoserbski\n",
      "             </span>\n",
      "            </a>\n",
      "           </li>\n",
      "           <li class=\"interlanguage-link interwiki-el mw-list-item\">\n",
      "            <a class=\"interlanguage-link-target\" href=\"https://el.wikipedia.org/wiki/%CE%9A%CE%B1%CF%84%CE%B7%CE%B3%CE%BF%CF%81%CE%AF%CE%B1:%CE%9F%CE%B9%CE%BA%CE%BF%CE%B3%CE%AD%CE%BD%CE%B5%CE%B9%CE%B5%CF%82_%CF%86%CF%85%CF%84%CF%8E%CE%BD\" hreflang=\"el\" lang=\"el\" title=\"Κατηγορία:Οικογένειες φυτών – görög\">\n",
      "             <span>\n",
      "              Ελληνικά\n",
      "             </span>\n",
      "            </a>\n",
      "           </li>\n",
      "           <li class=\"interlanguage-link interwiki-eo mw-list-item\">\n",
      "            <a class=\"interlanguage-link-target\" href=\"https://eo.wikipedia.org/wiki/Kategorio:Plantofamilioj\" hreflang=\"eo\" lang=\"eo\" title=\"Kategorio:Plantofamilioj – eszperantó\">\n",
      "             <span>\n",
      "              Esperanto\n",
      "             </span>\n",
      "            </a>\n",
      "           </li>\n",
      "           <li class=\"interlanguage-link interwiki-es mw-list-item\">\n",
      "            <a class=\"interlanguage-link-target\" href=\"https://es.wikipedia.org/wiki/Categor%C3%ADa:Familias_de_plantas\" hreflang=\"es\" lang=\"es\" title=\"Categoría:Familias de plantas – spanyol\">\n",
      "             <span>\n",
      "              Español\n",
      "             </span>\n",
      "            </a>\n",
      "           </li>\n",
      "           <li class=\"interlanguage-link interwiki-eu mw-list-item\">\n",
      "            <a class=\"interlanguage-link-target\" href=\"https://eu.wikipedia.org/wiki/Kategoria:Landare_familiak\" hreflang=\"eu\" lang=\"eu\" title=\"Kategoria:Landare familiak – baszk\">\n",
      "             <span>\n",
      "              Euskara\n",
      "             </span>\n",
      "            </a>\n",
      "           </li>\n",
      "           <li class=\"interlanguage-link interwiki-fa mw-list-item\">\n",
      "            <a class=\"interlanguage-link-target\" href=\"https://fa.wikipedia.org/wiki/%D8%B1%D8%AF%D9%87:%D8%AA%DB%8C%D8%B1%D9%87%E2%80%8C%D9%87%D8%A7%DB%8C_%DA%AF%DB%8C%D8%A7%D9%87%DB%8C\" hreflang=\"fa\" lang=\"fa\" title=\"رده:تیره‌های گیاهی – perzsa\">\n",
      "             <span>\n",
      "              فارسی\n",
      "             </span>\n",
      "            </a>\n",
      "           </li>\n",
      "           <li class=\"interlanguage-link interwiki-fi mw-list-item\">\n",
      "            <a class=\"interlanguage-link-target\" href=\"https://fi.wikipedia.org/wiki/Luokka:Kasviheimot\" hreflang=\"fi\" lang=\"fi\" title=\"Luokka:Kasviheimot – finn\">\n",
      "             <span>\n",
      "              Suomi\n",
      "             </span>\n",
      "            </a>\n",
      "           </li>\n",
      "           <li class=\"interlanguage-link interwiki-fr mw-list-item\">\n",
      "            <a class=\"interlanguage-link-target\" href=\"https://fr.wikipedia.org/wiki/Cat%C3%A9gorie:Famille_de_plantes\" hreflang=\"fr\" lang=\"fr\" title=\"Catégorie:Famille de plantes – francia\">\n",
      "             <span>\n",
      "              Français\n",
      "             </span>\n",
      "            </a>\n",
      "           </li>\n",
      "           <li class=\"interlanguage-link interwiki-fy mw-list-item\">\n",
      "            <a class=\"interlanguage-link-target\" href=\"https://fy.wikipedia.org/wiki/Kategory:Plantefamylje\" hreflang=\"fy\" lang=\"fy\" title=\"Kategory:Plantefamylje – nyugati fríz\">\n",
      "             <span>\n",
      "              Frysk\n",
      "             </span>\n",
      "            </a>\n",
      "           </li>\n",
      "           <li class=\"interlanguage-link interwiki-gl mw-list-item\">\n",
      "            <a class=\"interlanguage-link-target\" href=\"https://gl.wikipedia.org/wiki/Categor%C3%ADa:Familias_de_plantas\" hreflang=\"gl\" lang=\"gl\" title=\"Categoría:Familias de plantas – gallego\">\n",
      "             <span>\n",
      "              Galego\n",
      "             </span>\n",
      "            </a>\n",
      "           </li>\n",
      "           <li class=\"interlanguage-link interwiki-he mw-list-item\">\n",
      "            <a class=\"interlanguage-link-target\" href=\"https://he.wikipedia.org/wiki/%D7%A7%D7%98%D7%92%D7%95%D7%A8%D7%99%D7%94:%D7%9E%D7%A9%D7%A4%D7%97%D7%95%D7%AA_%D7%A6%D7%9E%D7%97%D7%99%D7%9D\" hreflang=\"he\" lang=\"he\" title=\"קטגוריה:משפחות צמחים – héber\">\n",
      "             <span>\n",
      "              עברית\n",
      "             </span>\n",
      "            </a>\n",
      "           </li>\n",
      "           <li class=\"interlanguage-link interwiki-hi mw-list-item\">\n",
      "            <a class=\"interlanguage-link-target\" href=\"https://hi.wikipedia.org/wiki/%E0%A4%B6%E0%A5%8D%E0%A4%B0%E0%A5%87%E0%A4%A3%E0%A5%80:%E0%A4%AA%E0%A4%BE%E0%A4%A6%E0%A4%AA_%E0%A4%95%E0%A5%87_%E0%A4%95%E0%A5%81%E0%A4%B2\" hreflang=\"hi\" lang=\"hi\" title=\"श्रेणी:पादप के कुल – hindi\">\n",
      "             <span>\n",
      "              हिन्दी\n",
      "             </span>\n",
      "            </a>\n",
      "           </li>\n",
      "           <li class=\"interlanguage-link interwiki-hr mw-list-item\">\n",
      "            <a class=\"interlanguage-link-target\" href=\"https://hr.wikipedia.org/wiki/Kategorija:Biljne_porodice\" hreflang=\"hr\" lang=\"hr\" title=\"Kategorija:Biljne porodice – horvát\">\n",
      "             <span>\n",
      "              Hrvatski\n",
      "             </span>\n",
      "            </a>\n",
      "           </li>\n",
      "           <li class=\"interlanguage-link interwiki-hy mw-list-item\">\n",
      "            <a class=\"interlanguage-link-target\" href=\"https://hy.wikipedia.org/wiki/%D4%BF%D5%A1%D5%BF%D5%A5%D5%A3%D5%B8%D6%80%D5%AB%D5%A1:%D4%B2%D5%B8%D6%82%D5%B5%D5%BD%D5%A5%D6%80%D5%AB_%D5%A8%D5%B6%D5%BF%D5%A1%D5%B6%D5%AB%D6%84%D5%B6%D5%A5%D6%80\" hreflang=\"hy\" lang=\"hy\" title=\"Կատեգորիա:Բույսերի ընտանիքներ – örmény\">\n",
      "             <span>\n",
      "              Հայերեն\n",
      "             </span>\n",
      "            </a>\n",
      "           </li>\n",
      "           <li class=\"interlanguage-link interwiki-ka mw-list-item\">\n",
      "            <a class=\"interlanguage-link-target\" href=\"https://ka.wikipedia.org/wiki/%E1%83%99%E1%83%90%E1%83%A2%E1%83%94%E1%83%92%E1%83%9D%E1%83%A0%E1%83%98%E1%83%90:%E1%83%9B%E1%83%AA%E1%83%94%E1%83%9C%E1%83%90%E1%83%A0%E1%83%94%E1%83%97%E1%83%90_%E1%83%9D%E1%83%AF%E1%83%90%E1%83%AE%E1%83%94%E1%83%91%E1%83%98\" hreflang=\"ka\" lang=\"ka\" title=\"კატეგორია:მცენარეთა ოჯახები – grúz\">\n",
      "             <span>\n",
      "              ქართული\n",
      "             </span>\n",
      "            </a>\n",
      "           </li>\n",
      "           <li class=\"interlanguage-link interwiki-kab mw-list-item\">\n",
      "            <a class=\"interlanguage-link-target\" href=\"https://kab.wikipedia.org/wiki/Taggayt:Tiwaculin_n_im%C9%A3an\" hreflang=\"kab\" lang=\"kab\" title=\"Taggayt:Tiwaculin n imɣan – kabije\">\n",
      "             <span>\n",
      "              Taqbaylit\n",
      "             </span>\n",
      "            </a>\n",
      "           </li>\n",
      "           <li class=\"interlanguage-link interwiki-ko mw-list-item\">\n",
      "            <a class=\"interlanguage-link-target\" href=\"https://ko.wikipedia.org/wiki/%EB%B6%84%EB%A5%98:%EC%8B%9D%EB%AC%BC%EC%9D%98_%EA%B3%BC\" hreflang=\"ko\" lang=\"ko\" title=\"분류:식물의 과 – koreai\">\n",
      "             <span>\n",
      "              한국어\n",
      "             </span>\n",
      "            </a>\n",
      "           </li>\n",
      "           <li class=\"interlanguage-link interwiki-koi mw-list-item\">\n",
      "            <a class=\"interlanguage-link-target\" href=\"https://koi.wikipedia.org/wiki/%D0%9A%D0%B0%D1%82%D0%B5%D0%B3%D0%BE%D1%80%D0%B8%D1%8F:%D0%91%D1%8B%D0%B4%D0%BC%D0%B0%D1%81_%D0%BA%D0%BE%D1%82%D1%8B%D1%80%D1%80%D0%B5%D0%B7\" hreflang=\"koi\" lang=\"koi\" title=\"Категория:Быдмас котыррез – komi-permják\">\n",
      "             <span>\n",
      "              Перем коми\n",
      "             </span>\n",
      "            </a>\n",
      "           </li>\n",
      "           <li class=\"interlanguage-link interwiki-ku mw-list-item\">\n",
      "            <a class=\"interlanguage-link-target\" href=\"https://ku.wikipedia.org/wiki/Kategor%C3%AE:Fam%C3%AEleya_riwekan\" hreflang=\"ku\" lang=\"ku\" title=\"Kategorî:Famîleya riwekan – kurd\">\n",
      "             <span>\n",
      "              Kurdî\n",
      "             </span>\n",
      "            </a>\n",
      "           </li>\n",
      "           <li class=\"interlanguage-link interwiki-kv mw-list-item\">\n",
      "            <a class=\"interlanguage-link-target\" href=\"https://kv.wikipedia.org/wiki/%D0%9A%D0%B0%D1%82%D0%B5%D0%B3%D0%BE%D1%80%D0%B8%D1%8F:%D0%91%D1%8B%D0%B4%D0%BC%D3%A7%D0%B3_%D0%BA%D0%BE%D1%82%D1%8B%D1%80%D1%8A%D1%8F%D1%81\" hreflang=\"kv\" lang=\"kv\" title=\"Категория:Быдмӧг котыръяс – komi\">\n",
      "             <span>\n",
      "              Коми\n",
      "             </span>\n",
      "            </a>\n",
      "           </li>\n",
      "           <li class=\"interlanguage-link interwiki-la mw-list-item\">\n",
      "            <a class=\"interlanguage-link-target\" href=\"https://la.wikipedia.org/wiki/Categoria:Familiae_plantarum\" hreflang=\"la\" lang=\"la\" title=\"Categoria:Familiae plantarum – latin\">\n",
      "             <span>\n",
      "              Latina\n",
      "             </span>\n",
      "            </a>\n",
      "           </li>\n",
      "           <li class=\"interlanguage-link interwiki-ml mw-list-item\">\n",
      "            <a class=\"interlanguage-link-target\" href=\"https://ml.wikipedia.org/wiki/%E0%B4%B5%E0%B5%BC%E0%B4%97%E0%B5%8D%E0%B4%97%E0%B4%82:%E0%B4%B8%E0%B4%B8%E0%B5%8D%E0%B4%AF%E0%B4%95%E0%B5%81%E0%B4%9F%E0%B5%81%E0%B4%82%E0%B4%AC%E0%B4%99%E0%B5%8D%E0%B4%99%E0%B5%BE\" hreflang=\"ml\" lang=\"ml\" title=\"വർഗ്ഗം:സസ്യകുടുംബങ്ങൾ – malajálam\">\n",
      "             <span>\n",
      "              മലയാളം\n",
      "             </span>\n",
      "            </a>\n",
      "           </li>\n",
      "           <li class=\"interlanguage-link interwiki-my mw-list-item\">\n",
      "            <a class=\"interlanguage-link-target\" href=\"https://my.wikipedia.org/wiki/%E1%80%80%E1%80%8F%E1%80%B9%E1%80%8D:%E1%80%A1%E1%80%95%E1%80%84%E1%80%BA_%E1%80%99%E1%80%BB%E1%80%AD%E1%80%AF%E1%80%B8%E1%80%9B%E1%80%84%E1%80%BA%E1%80%B8%E1%80%99%E1%80%BB%E1%80%AC%E1%80%B8\" hreflang=\"my\" lang=\"my\" title=\"ကဏ္ဍ:အပင် မျိုးရင်းများ – burmai\">\n",
      "             <span>\n",
      "              မြန်မာဘာသာ\n",
      "             </span>\n",
      "            </a>\n",
      "           </li>\n",
      "           <li class=\"interlanguage-link interwiki-nl mw-list-item\">\n",
      "            <a class=\"interlanguage-link-target\" href=\"https://nl.wikipedia.org/wiki/Categorie:Plantenfamilie\" hreflang=\"nl\" lang=\"nl\" title=\"Categorie:Plantenfamilie – holland\">\n",
      "             <span>\n",
      "              Nederlands\n",
      "             </span>\n",
      "            </a>\n",
      "           </li>\n",
      "           <li class=\"interlanguage-link interwiki-nn mw-list-item\">\n",
      "            <a class=\"interlanguage-link-target\" href=\"https://nn.wikipedia.org/wiki/Kategori:Plantefamiliar\" hreflang=\"nn\" lang=\"nn\" title=\"Kategori:Plantefamiliar – norvég (nynorsk)\">\n",
      "             <span>\n",
      "              Norsk nynorsk\n",
      "             </span>\n",
      "            </a>\n",
      "           </li>\n",
      "           <li class=\"interlanguage-link interwiki-oc mw-list-item\">\n",
      "            <a class=\"interlanguage-link-target\" href=\"https://oc.wikipedia.org/wiki/Categoria:Familha_botanica\" hreflang=\"oc\" lang=\"oc\" title=\"Categoria:Familha botanica – okszitán\">\n",
      "             <span>\n",
      "              Occitan\n",
      "             </span>\n",
      "            </a>\n",
      "           </li>\n",
      "           <li class=\"interlanguage-link interwiki-os mw-list-item\">\n",
      "            <a class=\"interlanguage-link-target\" href=\"https://os.wikipedia.org/wiki/%D0%9A%D0%B0%D1%82%D0%B5%D0%B3%D0%BE%D1%80%D0%B8:%D0%97%D0%B0%D0%B9%C3%A6%D0%B3%D0%BE%D0%B9%D1%82%D1%8B_%D0%B1%D0%B8%D0%BD%D0%BE%D0%BD%C3%A6%D0%B4%D1%82%C3%A6\" hreflang=\"os\" lang=\"os\" title=\"Категори:Зайæгойты бинонæдтæ – oszét\">\n",
      "             <span>\n",
      "              Ирон\n",
      "             </span>\n",
      "            </a>\n",
      "           </li>\n",
      "           <li class=\"interlanguage-link interwiki-pt mw-list-item\">\n",
      "            <a class=\"interlanguage-link-target\" href=\"https://pt.wikipedia.org/wiki/Categoria:Fam%C3%ADlias_bot%C3%A2nicas\" hreflang=\"pt\" lang=\"pt\" title=\"Categoria:Famílias botânicas – portugál\">\n",
      "             <span>\n",
      "              Português\n",
      "             </span>\n",
      "            </a>\n",
      "           </li>\n",
      "           <li class=\"interlanguage-link interwiki-ro mw-list-item\">\n",
      "            <a class=\"interlanguage-link-target\" href=\"https://ro.wikipedia.org/wiki/Categorie:Familii_de_plante\" hreflang=\"ro\" lang=\"ro\" title=\"Categorie:Familii de plante – román\">\n",
      "             <span>\n",
      "              Română\n",
      "             </span>\n",
      "            </a>\n",
      "           </li>\n",
      "           <li class=\"interlanguage-link interwiki-ru mw-list-item\">\n",
      "            <a class=\"interlanguage-link-target\" href=\"https://ru.wikipedia.org/wiki/%D0%9A%D0%B0%D1%82%D0%B5%D0%B3%D0%BE%D1%80%D0%B8%D1%8F:%D0%A1%D0%B5%D0%BC%D0%B5%D0%B9%D1%81%D1%82%D0%B2%D0%B0_%D1%80%D0%B0%D1%81%D1%82%D0%B5%D0%BD%D0%B8%D0%B9\" hreflang=\"ru\" lang=\"ru\" title=\"Категория:Семейства растений – orosz\">\n",
      "             <span>\n",
      "              Русский\n",
      "             </span>\n",
      "            </a>\n",
      "           </li>\n",
      "           <li class=\"interlanguage-link interwiki-sco mw-list-item\">\n",
      "            <a class=\"interlanguage-link-target\" href=\"https://sco.wikipedia.org/wiki/Category:Plant_faimilies\" hreflang=\"sco\" lang=\"sco\" title=\"Category:Plant faimilies – skót\">\n",
      "             <span>\n",
      "              Scots\n",
      "             </span>\n",
      "            </a>\n",
      "           </li>\n",
      "           <li class=\"interlanguage-link interwiki-simple mw-list-item\">\n",
      "            <a class=\"interlanguage-link-target\" href=\"https://simple.wikipedia.org/wiki/Category:Plant_families\" hreflang=\"en-simple\" lang=\"en-simple\" title=\"Category:Plant families – Simple English\">\n",
      "             <span>\n",
      "              Simple English\n",
      "             </span>\n",
      "            </a>\n",
      "           </li>\n",
      "           <li class=\"interlanguage-link interwiki-sl mw-list-item\">\n",
      "            <a class=\"interlanguage-link-target\" href=\"https://sl.wikipedia.org/wiki/Kategorija:Botani%C4%8Dne_dru%C5%BEine\" hreflang=\"sl\" lang=\"sl\" title=\"Kategorija:Botanične družine – szlovén\">\n",
      "             <span>\n",
      "              Slovenščina\n",
      "             </span>\n",
      "            </a>\n",
      "           </li>\n",
      "           <li class=\"interlanguage-link interwiki-th mw-list-item\">\n",
      "            <a class=\"interlanguage-link-target\" href=\"https://th.wikipedia.org/wiki/%E0%B8%AB%E0%B8%A1%E0%B8%A7%E0%B8%94%E0%B8%AB%E0%B8%A1%E0%B8%B9%E0%B9%88:%E0%B8%9E%E0%B8%B7%E0%B8%8A%E0%B9%81%E0%B8%9A%E0%B9%88%E0%B8%87%E0%B8%95%E0%B8%B2%E0%B8%A1%E0%B8%A7%E0%B8%87%E0%B8%A8%E0%B9%8C\" hreflang=\"th\" lang=\"th\" title=\"หมวดหมู่:พืชแบ่งตามวงศ์ – thai\">\n",
      "             <span>\n",
      "              ไทย\n",
      "             </span>\n",
      "            </a>\n",
      "           </li>\n",
      "           <li class=\"interlanguage-link interwiki-tl mw-list-item\">\n",
      "            <a class=\"interlanguage-link-target\" href=\"https://tl.wikipedia.org/wiki/Kategorya:Mga_pamilya_ng_halaman\" hreflang=\"tl\" lang=\"tl\" title=\"Kategorya:Mga pamilya ng halaman – tagalog\">\n",
      "             <span>\n",
      "              Tagalog\n",
      "             </span>\n",
      "            </a>\n",
      "           </li>\n",
      "           <li class=\"interlanguage-link interwiki-tr mw-list-item\">\n",
      "            <a class=\"interlanguage-link-target\" href=\"https://tr.wikipedia.org/wiki/Kategori:Bitki_familyalar%C4%B1\" hreflang=\"tr\" lang=\"tr\" title=\"Kategori:Bitki familyaları – török\">\n",
      "             <span>\n",
      "              Türkçe\n",
      "             </span>\n",
      "            </a>\n",
      "           </li>\n",
      "           <li class=\"interlanguage-link interwiki-tt mw-list-item\">\n",
      "            <a class=\"interlanguage-link-target\" href=\"https://tt.wikipedia.org/wiki/%D0%A2%D3%A9%D1%80%D0%BA%D0%B5%D0%BC:%D2%AE%D1%81%D0%B5%D0%BC%D0%BB%D0%B5%D0%BA%D0%BB%D3%99%D1%80_%D0%B3%D0%B0%D0%B8%D0%BB%D3%99%D0%BB%D3%99%D1%80%D0%B5\" hreflang=\"tt\" lang=\"tt\" title=\"Төркем:Үсемлекләр гаиләләре – tatár\">\n",
      "             <span>\n",
      "              Татарча / tatarça\n",
      "             </span>\n",
      "            </a>\n",
      "           </li>\n",
      "           <li class=\"interlanguage-link interwiki-uk mw-list-item\">\n",
      "            <a class=\"interlanguage-link-target\" href=\"https://uk.wikipedia.org/wiki/%D0%9A%D0%B0%D1%82%D0%B5%D0%B3%D0%BE%D1%80%D1%96%D1%8F:%D0%A0%D0%BE%D0%B4%D0%B8%D0%BD%D0%B8_%D1%80%D0%BE%D1%81%D0%BB%D0%B8%D0%BD\" hreflang=\"uk\" lang=\"uk\" title=\"Категорія:Родини рослин – ukrán\">\n",
      "             <span>\n",
      "              Українська\n",
      "             </span>\n",
      "            </a>\n",
      "           </li>\n",
      "           <li class=\"interlanguage-link interwiki-vep mw-list-item\">\n",
      "            <a class=\"interlanguage-link-target\" href=\"https://vep.wikipedia.org/wiki/Kategorii:Kazmusiden_sugukundad\" hreflang=\"vep\" lang=\"vep\" title=\"Kategorii:Kazmusiden sugukundad – Veps\">\n",
      "             <span>\n",
      "              Vepsän kel’\n",
      "             </span>\n",
      "            </a>\n",
      "           </li>\n",
      "           <li class=\"interlanguage-link interwiki-vi mw-list-item\">\n",
      "            <a class=\"interlanguage-link-target\" href=\"https://vi.wikipedia.org/wiki/Th%E1%BB%83_lo%E1%BA%A1i:H%E1%BB%8D_th%E1%BB%B1c_v%E1%BA%ADt\" hreflang=\"vi\" lang=\"vi\" title=\"Thể loại:Họ thực vật – vietnámi\">\n",
      "             <span>\n",
      "              Tiếng Việt\n",
      "             </span>\n",
      "            </a>\n",
      "           </li>\n",
      "           <li class=\"interlanguage-link interwiki-wa mw-list-item\">\n",
      "            <a class=\"interlanguage-link-target\" href=\"https://wa.wikipedia.org/wiki/Categoreye:Familes_des_plantes\" hreflang=\"wa\" lang=\"wa\" title=\"Categoreye:Familes des plantes – vallon\">\n",
      "             <span>\n",
      "              Walon\n",
      "             </span>\n",
      "            </a>\n",
      "           </li>\n",
      "           <li class=\"interlanguage-link interwiki-yi mw-list-item\">\n",
      "            <a class=\"interlanguage-link-target\" href=\"https://yi.wikipedia.org/wiki/%D7%A7%D7%90%D6%B7%D7%98%D7%A2%D7%92%D7%90%D6%B8%D7%A8%D7%99%D7%A2:%D7%A4%D7%9C%D7%90%D7%A0%D7%A6%D7%9F_%D7%9E%D7%A9%D7%A4%D7%97%D7%95%D7%AA\" hreflang=\"yi\" lang=\"yi\" title=\"קאַטעגאָריע:פלאנצן משפחות – jiddis\">\n",
      "             <span>\n",
      "              ייִדיש\n",
      "             </span>\n",
      "            </a>\n",
      "           </li>\n",
      "           <li class=\"interlanguage-link interwiki-zh mw-list-item\">\n",
      "            <a class=\"interlanguage-link-target\" href=\"https://zh.wikipedia.org/wiki/Category:%E6%A4%8D%E7%89%A9%E7%A7%91%E5%90%8D\" hreflang=\"zh\" lang=\"zh\" title=\"Category:植物科名 – kínai\">\n",
      "             <span>\n",
      "              中文\n",
      "             </span>\n",
      "            </a>\n",
      "           </li>\n",
      "           <li class=\"interlanguage-link interwiki-zh-yue mw-list-item\">\n",
      "            <a class=\"interlanguage-link-target\" href=\"https://zh-yue.wikipedia.org/wiki/Category:%E6%A4%8D%E7%89%A9%E7%A7%91%E5%90%8D\" hreflang=\"yue\" lang=\"yue\" title=\"Category:植物科名 – kantoni\">\n",
      "             <span>\n",
      "              粵語\n",
      "             </span>\n",
      "            </a>\n",
      "           </li>\n",
      "          </ul>\n",
      "          <div class=\"after-portlet after-portlet-lang\">\n",
      "           <span class=\"wb-langlinks-edit wb-langlinks-link\">\n",
      "            <a class=\"wbc-editpage\" href=\"https://www.wikidata.org/wiki/Special:EntityPage/Q9079785#sitelinks-wikipedia\" title=\"Nyelvközi hivatkozások szerkesztése\">\n",
      "             Hivatkozások szerkesztése\n",
      "            </a>\n",
      "           </span>\n",
      "          </div>\n",
      "         </div>\n",
      "        </div>\n",
      "       </div>\n",
      "      </header>\n",
      "      <div class=\"vector-page-toolbar\">\n",
      "       <div class=\"vector-page-toolbar-container\">\n",
      "        <div id=\"left-navigation\">\n",
      "         <nav aria-label=\"Névterek\">\n",
      "          <div class=\"vector-menu vector-menu-tabs mw-portlet mw-portlet-associated-pages\" id=\"p-associated-pages\">\n",
      "           <div class=\"vector-menu-content\">\n",
      "            <ul class=\"vector-menu-content-list\">\n",
      "             <li class=\"selected vector-tab-noicon mw-list-item\" id=\"ca-nstab-category\">\n",
      "              <a accesskey=\"c\" href=\"/wiki/Kateg%C3%B3ria:N%C3%B6v%C3%A9nycsal%C3%A1dok\" title=\"A kategória megtekintése [c]\">\n",
      "               <span>\n",
      "                Kategória\n",
      "               </span>\n",
      "              </a>\n",
      "             </li>\n",
      "             <li class=\"vector-tab-noicon mw-list-item\" id=\"ca-talk\">\n",
      "              <a accesskey=\"t\" href=\"/wiki/Kateg%C3%B3riavita:N%C3%B6v%C3%A9nycsal%C3%A1dok\" rel=\"discussion\" title=\"Az oldal tartalmának megvitatása [t]\">\n",
      "               <span>\n",
      "                Vitalap\n",
      "               </span>\n",
      "              </a>\n",
      "             </li>\n",
      "            </ul>\n",
      "           </div>\n",
      "          </div>\n",
      "          <div class=\"vector-dropdown emptyPortlet\" id=\"vector-variants-dropdown\">\n",
      "           <input aria-haspopup=\"true\" aria-label=\"Nyelvvariáns váltása\" class=\"vector-dropdown-checkbox\" data-event-name=\"ui.dropdown-vector-variants-dropdown\" id=\"vector-variants-dropdown-checkbox\" role=\"button\" type=\"checkbox\"/>\n",
      "           <label aria-hidden=\"true\" class=\"vector-dropdown-label cdx-button cdx-button--fake-button cdx-button--fake-button--enabled cdx-button--weight-quiet\" for=\"vector-variants-dropdown-checkbox\" id=\"vector-variants-dropdown-label\">\n",
      "            <span class=\"vector-dropdown-label-text\">\n",
      "             magyar\n",
      "            </span>\n",
      "           </label>\n",
      "           <div class=\"vector-dropdown-content\">\n",
      "            <div class=\"vector-menu mw-portlet mw-portlet-variants emptyPortlet\" id=\"p-variants\">\n",
      "             <div class=\"vector-menu-content\">\n",
      "              <ul class=\"vector-menu-content-list\">\n",
      "              </ul>\n",
      "             </div>\n",
      "            </div>\n",
      "           </div>\n",
      "          </div>\n",
      "         </nav>\n",
      "        </div>\n",
      "        <div class=\"vector-collapsible\" id=\"right-navigation\">\n",
      "         <nav aria-label=\"Nézetek\">\n",
      "          <div class=\"vector-menu vector-menu-tabs mw-portlet mw-portlet-views\" id=\"p-views\">\n",
      "           <div class=\"vector-menu-content\">\n",
      "            <ul class=\"vector-menu-content-list\">\n",
      "             <li class=\"selected vector-tab-noicon mw-list-item\" id=\"ca-view\">\n",
      "              <a href=\"/wiki/Kateg%C3%B3ria:N%C3%B6v%C3%A9nycsal%C3%A1dok\">\n",
      "               <span>\n",
      "                Olvasás\n",
      "               </span>\n",
      "              </a>\n",
      "             </li>\n",
      "             <li class=\"vector-tab-noicon mw-list-item\" id=\"ca-edit\">\n",
      "              <a accesskey=\"e\" href=\"/w/index.php?title=Kateg%C3%B3ria:N%C3%B6v%C3%A9nycsal%C3%A1dok&amp;action=edit\" title=\"Az oldal forráskódjának szerkesztése [e]\">\n",
      "               <span>\n",
      "                Szerkesztés\n",
      "               </span>\n",
      "              </a>\n",
      "             </li>\n",
      "             <li class=\"vector-tab-noicon mw-list-item\" id=\"ca-history\">\n",
      "              <a accesskey=\"h\" href=\"/w/index.php?title=Kateg%C3%B3ria:N%C3%B6v%C3%A9nycsal%C3%A1dok&amp;action=history\" title=\"A lap korábbi változatai [h]\">\n",
      "               <span>\n",
      "                Laptörténet\n",
      "               </span>\n",
      "              </a>\n",
      "             </li>\n",
      "            </ul>\n",
      "           </div>\n",
      "          </div>\n",
      "         </nav>\n",
      "         <nav aria-label=\"Oldal eszközök\" class=\"vector-page-tools-landmark\">\n",
      "          <div class=\"vector-dropdown vector-page-tools-dropdown\" id=\"vector-page-tools-dropdown\">\n",
      "           <input aria-haspopup=\"true\" aria-label=\"Eszközök\" class=\"vector-dropdown-checkbox\" data-event-name=\"ui.dropdown-vector-page-tools-dropdown\" id=\"vector-page-tools-dropdown-checkbox\" role=\"button\" type=\"checkbox\"/>\n",
      "           <label aria-hidden=\"true\" class=\"vector-dropdown-label cdx-button cdx-button--fake-button cdx-button--fake-button--enabled cdx-button--weight-quiet\" for=\"vector-page-tools-dropdown-checkbox\" id=\"vector-page-tools-dropdown-label\">\n",
      "            <span class=\"vector-dropdown-label-text\">\n",
      "             Eszközök\n",
      "            </span>\n",
      "           </label>\n",
      "           <div class=\"vector-dropdown-content\">\n",
      "            <div class=\"vector-unpinned-container\" id=\"vector-page-tools-unpinned-container\">\n",
      "             <div class=\"vector-page-tools vector-pinnable-element\" id=\"vector-page-tools\">\n",
      "              <div class=\"vector-pinnable-header vector-page-tools-pinnable-header vector-pinnable-header-unpinned\" data-feature-name=\"page-tools-pinned\" data-pinnable-element-id=\"vector-page-tools\" data-pinned-container-id=\"vector-page-tools-pinned-container\" data-unpinned-container-id=\"vector-page-tools-unpinned-container\">\n",
      "               <div class=\"vector-pinnable-header-label\">\n",
      "                Eszközök\n",
      "               </div>\n",
      "               <button class=\"vector-pinnable-header-toggle-button vector-pinnable-header-pin-button\" data-event-name=\"pinnable-header.vector-page-tools.pin\">\n",
      "                áthelyezés az oldalsávba\n",
      "               </button>\n",
      "               <button class=\"vector-pinnable-header-toggle-button vector-pinnable-header-unpin-button\" data-event-name=\"pinnable-header.vector-page-tools.unpin\">\n",
      "                elrejtés\n",
      "               </button>\n",
      "              </div>\n",
      "              <div class=\"vector-menu mw-portlet mw-portlet-cactions emptyPortlet vector-has-collapsible-items\" id=\"p-cactions\" title=\"További lehetőségek\">\n",
      "               <div class=\"vector-menu-heading\">\n",
      "                Műveletek\n",
      "               </div>\n",
      "               <div class=\"vector-menu-content\">\n",
      "                <ul class=\"vector-menu-content-list\">\n",
      "                 <li class=\"selected vector-more-collapsible-item mw-list-item\" id=\"ca-more-view\">\n",
      "                  <a href=\"/wiki/Kateg%C3%B3ria:N%C3%B6v%C3%A9nycsal%C3%A1dok\">\n",
      "                   <span>\n",
      "                    Olvasás\n",
      "                   </span>\n",
      "                  </a>\n",
      "                 </li>\n",
      "                 <li class=\"vector-more-collapsible-item mw-list-item\" id=\"ca-more-edit\">\n",
      "                  <a accesskey=\"e\" href=\"/w/index.php?title=Kateg%C3%B3ria:N%C3%B6v%C3%A9nycsal%C3%A1dok&amp;action=edit\" title=\"Az oldal forráskódjának szerkesztése [e]\">\n",
      "                   <span>\n",
      "                    Szerkesztés\n",
      "                   </span>\n",
      "                  </a>\n",
      "                 </li>\n",
      "                 <li class=\"vector-more-collapsible-item mw-list-item\" id=\"ca-more-history\">\n",
      "                  <a href=\"/w/index.php?title=Kateg%C3%B3ria:N%C3%B6v%C3%A9nycsal%C3%A1dok&amp;action=history\">\n",
      "                   <span>\n",
      "                    Laptörténet\n",
      "                   </span>\n",
      "                  </a>\n",
      "                 </li>\n",
      "                </ul>\n",
      "               </div>\n",
      "              </div>\n",
      "              <div class=\"vector-menu mw-portlet mw-portlet-tb\" id=\"p-tb\">\n",
      "               <div class=\"vector-menu-heading\">\n",
      "                Általános\n",
      "               </div>\n",
      "               <div class=\"vector-menu-content\">\n",
      "                <ul class=\"vector-menu-content-list\">\n",
      "                 <li class=\"mw-list-item\" id=\"t-whatlinkshere\">\n",
      "                  <a accesskey=\"j\" href=\"/wiki/Speci%C3%A1lis:Mi_hivatkozik_erre/Kateg%C3%B3ria:N%C3%B6v%C3%A9nycsal%C3%A1dok\" title=\"Az erre a lapra hivatkozó más lapok listája [j]\">\n",
      "                   <span>\n",
      "                    Mi hivatkozik erre?\n",
      "                   </span>\n",
      "                  </a>\n",
      "                 </li>\n",
      "                 <li class=\"mw-list-item\" id=\"t-recentchangeslinked\">\n",
      "                  <a accesskey=\"k\" href=\"/wiki/Speci%C3%A1lis:Kapcsol%C3%B3d%C3%B3_v%C3%A1ltoztat%C3%A1sok/Kateg%C3%B3ria:N%C3%B6v%C3%A9nycsal%C3%A1dok\" rel=\"nofollow\" title=\"Az erről a lapról hivatkozott lapok utolsó változtatásai [k]\">\n",
      "                   <span>\n",
      "                    Kapcsolódó változtatások\n",
      "                   </span>\n",
      "                  </a>\n",
      "                 </li>\n",
      "                 <li class=\"mw-list-item\" id=\"t-specialpages\">\n",
      "                  <a accesskey=\"q\" href=\"/wiki/Speci%C3%A1lis:Speci%C3%A1lis_lapok\" title=\"Az összes speciális lap listája [q]\">\n",
      "                   <span>\n",
      "                    Speciális lapok\n",
      "                   </span>\n",
      "                  </a>\n",
      "                 </li>\n",
      "                 <li class=\"mw-list-item\" id=\"t-permalink\">\n",
      "                  <a href=\"/w/index.php?title=Kateg%C3%B3ria:N%C3%B6v%C3%A9nycsal%C3%A1dok&amp;oldid=14580898\" title=\"Állandó hivatkozás ezen lap ezen változatához\">\n",
      "                   <span>\n",
      "                    Hivatkozás erre a változatra\n",
      "                   </span>\n",
      "                  </a>\n",
      "                 </li>\n",
      "                 <li class=\"mw-list-item\" id=\"t-info\">\n",
      "                  <a href=\"/w/index.php?title=Kateg%C3%B3ria:N%C3%B6v%C3%A9nycsal%C3%A1dok&amp;action=info\" title=\"További információk erről a lapról\">\n",
      "                   <span>\n",
      "                    Lapinformációk\n",
      "                   </span>\n",
      "                  </a>\n",
      "                 </li>\n",
      "                 <li class=\"mw-list-item\" id=\"t-urlshortener\">\n",
      "                  <a href=\"/w/index.php?title=Speci%C3%A1lis:UrlShortener&amp;url=https%3A%2F%2Fhu.wikipedia.org%2Fwiki%2FKateg%25C3%25B3ria%3AN%25C3%25B6v%25C3%25A9nycsal%25C3%25A1dok\">\n",
      "                   <span>\n",
      "                    Rövidített URL készítése\n",
      "                   </span>\n",
      "                  </a>\n",
      "                 </li>\n",
      "                 <li class=\"mw-list-item\" id=\"t-urlshortener-qrcode\">\n",
      "                  <a href=\"/w/index.php?title=Speci%C3%A1lis:QrCode&amp;url=https%3A%2F%2Fhu.wikipedia.org%2Fwiki%2FKateg%25C3%25B3ria%3AN%25C3%25B6v%25C3%25A9nycsal%25C3%25A1dok\">\n",
      "                   <span>\n",
      "                    QR-kód letöltése\n",
      "                   </span>\n",
      "                  </a>\n",
      "                 </li>\n",
      "                 <li class=\"mw-list-item\" id=\"t-wikibase\">\n",
      "                  <a accesskey=\"g\" href=\"https://www.wikidata.org/wiki/Special:EntityPage/Q9079785\" title=\"Kapcsolt adattárelem [g]\">\n",
      "                   <span>\n",
      "                    Wikidata-adatlap\n",
      "                   </span>\n",
      "                  </a>\n",
      "                 </li>\n",
      "                </ul>\n",
      "               </div>\n",
      "              </div>\n",
      "              <div class=\"vector-menu mw-portlet mw-portlet-coll-print_export\" id=\"p-coll-print_export\">\n",
      "               <div class=\"vector-menu-heading\">\n",
      "                Nyomtatás/​exportálás\n",
      "               </div>\n",
      "               <div class=\"vector-menu-content\">\n",
      "                <ul class=\"vector-menu-content-list\">\n",
      "                 <li class=\"mw-list-item\" id=\"coll-create_a_book\">\n",
      "                  <a href=\"/w/index.php?title=Speci%C3%A1lis:K%C3%B6nyv&amp;bookcmd=book_creator&amp;referer=Kateg%C3%B3ria%3AN%C3%B6v%C3%A9nycsal%C3%A1dok\">\n",
      "                   <span>\n",
      "                    Könyv készítése\n",
      "                   </span>\n",
      "                  </a>\n",
      "                 </li>\n",
      "                 <li class=\"mw-list-item\" id=\"coll-download-as-rl\">\n",
      "                  <a href=\"/w/index.php?title=Speci%C3%A1lis:DownloadAsPdf&amp;page=Kateg%C3%B3ria%3AN%C3%B6v%C3%A9nycsal%C3%A1dok&amp;action=show-download-screen\">\n",
      "                   <span>\n",
      "                    Letöltés PDF-ként\n",
      "                   </span>\n",
      "                  </a>\n",
      "                 </li>\n",
      "                 <li class=\"mw-list-item\" id=\"t-print\">\n",
      "                  <a accesskey=\"p\" href=\"/w/index.php?title=Kateg%C3%B3ria:N%C3%B6v%C3%A9nycsal%C3%A1dok&amp;printable=yes\" title=\"A lap nyomtatható változata [p]\">\n",
      "                   <span>\n",
      "                    Nyomtatható változat\n",
      "                   </span>\n",
      "                  </a>\n",
      "                 </li>\n",
      "                </ul>\n",
      "               </div>\n",
      "              </div>\n",
      "              <div class=\"vector-menu mw-portlet mw-portlet-wikibase-otherprojects\" id=\"p-wikibase-otherprojects\">\n",
      "               <div class=\"vector-menu-heading\">\n",
      "                Társprojektek\n",
      "               </div>\n",
      "               <div class=\"vector-menu-content\">\n",
      "                <ul class=\"vector-menu-content-list\">\n",
      "                 <li class=\"wb-otherproject-link wb-otherproject-commons mw-list-item\">\n",
      "                  <a href=\"https://commons.wikimedia.org/wiki/Category:Plantae_by_family\" hreflang=\"en\">\n",
      "                   <span>\n",
      "                    Wikimédia Commons\n",
      "                   </span>\n",
      "                  </a>\n",
      "                 </li>\n",
      "                </ul>\n",
      "               </div>\n",
      "              </div>\n",
      "             </div>\n",
      "            </div>\n",
      "           </div>\n",
      "          </div>\n",
      "         </nav>\n",
      "        </div>\n",
      "       </div>\n",
      "      </div>\n",
      "      <div class=\"vector-column-end\">\n",
      "       <div class=\"vector-sticky-pinned-container\">\n",
      "        <nav aria-label=\"Oldal eszközök\" class=\"vector-page-tools-landmark\">\n",
      "         <div class=\"vector-pinned-container\" id=\"vector-page-tools-pinned-container\">\n",
      "         </div>\n",
      "        </nav>\n",
      "        <nav aria-label=\"Megjelenés\" class=\"vector-appearance-landmark\">\n",
      "        </nav>\n",
      "       </div>\n",
      "      </div>\n",
      "      <div aria-labelledby=\"firstHeading\" class=\"vector-body\" data-mw-ve-target-container=\"\" id=\"bodyContent\">\n",
      "       <div class=\"vector-body-before-content\">\n",
      "        <div class=\"mw-indicators\">\n",
      "         <div class=\"mw-indicator\" id=\"mw-indicator-mw-helplink\">\n",
      "          <a class=\"mw-helplink\" href=\"https://www.mediawiki.org/wiki/Special:MyLanguage/Help:Categories\" target=\"_blank\">\n",
      "           Segítség\n",
      "          </a>\n",
      "         </div>\n",
      "        </div>\n",
      "        <div class=\"noprint\" id=\"siteSub\">\n",
      "         A Wikipédiából, a szabad enciklopédiából\n",
      "        </div>\n",
      "       </div>\n",
      "       <div id=\"contentSub\">\n",
      "        <div id=\"mw-content-subtitle\">\n",
      "         <div class=\"flaggedrevs_short flaggedrevs_stable_synced plainlinks noprint\" id=\"mw-fr-revisiontag\">\n",
      "          <div class=\"flaggedrevs_short_basic\">\n",
      "           <span class=\"flaggedrevs-icon flaggedrevs-icon-eye\" title=\"Ez a lap egy ellenőrzött változata\">\n",
      "           </span>\n",
      "           <span class=\"fr-toggle-arrow flaggedrevs-icon flaggedrevs-icon-expand\" id=\"mw-fr-revisiontoggle\" title=\"részletek megjelenítése/elrejtése\">\n",
      "           </span>\n",
      "          </div>\n",
      "          <div id=\"mw-fr-revisiondetails-wrapper\" style=\"position:relative;\">\n",
      "           <div class=\"flaggedrevs_short_details\" id=\"mw-fr-revisiondetails\" style=\"display:none\">\n",
      "            Ez a\n",
      "            <a href=\"/wiki/Wikip%C3%A9dia:Jel%C3%B6lt_lapv%C3%A1ltozatok\" title=\"Wikipédia:Jelölt lapváltozatok\">\n",
      "             közzétett változat\n",
      "            </a>\n",
      "            ,\n",
      "            <a class=\"external text\" href=\"https://hu.wikipedia.org/w/index.php?title=Speci%C3%A1lis:Rendszernapl%C3%B3k&amp;type=review&amp;page=Kateg%C3%B3ria:N%C3%B6v%C3%A9nycsal%C3%A1dok\">\n",
      "             ellenőrizve\n",
      "            </a>\n",
      "            :\n",
      "            <i>\n",
      "             2014. április 17.\n",
      "            </i>\n",
      "            <p>\n",
      "             <table cellpadding=\"0\" class=\"flaggedrevs-color-1\" id=\"mw-fr-revisionratings-box\" style=\"margin: auto;\">\n",
      "              <tr>\n",
      "               <td class=\"fr-text\" style=\"vertical-align: middle;\">\n",
      "                Pontosság\n",
      "               </td>\n",
      "               <td class=\"fr-value40\" style=\"vertical-align: middle;\">\n",
      "                ellenőrzött\n",
      "               </td>\n",
      "              </tr>\n",
      "             </table>\n",
      "            </p>\n",
      "           </div>\n",
      "          </div>\n",
      "         </div>\n",
      "        </div>\n",
      "       </div>\n",
      "       <div class=\"mw-body-content\" id=\"mw-content-text\">\n",
      "        <div class=\"mw-content-ltr mw-parser-output\" dir=\"ltr\" lang=\"hu\">\n",
      "         <table class=\"metadata plainlinks ambox ambox-notice\" style=\"\">\n",
      "          <tbody>\n",
      "           <tr>\n",
      "            <td class=\"ambox-image mbox-image\">\n",
      "             <div class=\"ambox-image-inner\">\n",
      "              <span typeof=\"mw:File\">\n",
      "               <span>\n",
      "                <img class=\"mw-file-element\" data-file-height=\"620\" data-file-width=\"620\" decoding=\"async\" height=\"40\" src=\"//upload.wikimedia.org/wikipedia/commons/thumb/1/1d/Information_icon4.svg/40px-Information_icon4.svg.png\" srcset=\"//upload.wikimedia.org/wikipedia/commons/thumb/1/1d/Information_icon4.svg/60px-Information_icon4.svg.png 1.5x, //upload.wikimedia.org/wikipedia/commons/thumb/1/1d/Information_icon4.svg/80px-Information_icon4.svg.png 2x\" width=\"40\"/>\n",
      "               </span>\n",
      "              </span>\n",
      "             </div>\n",
      "            </td>\n",
      "            <td class=\"ambox-text\">\n",
      "             Ez a kategória a címének megfelelő, azonos szintű\n",
      "             <a href=\"/wiki/Taxon\" title=\"Taxon\">\n",
      "              taxonok\n",
      "             </a>\n",
      "             <i>\n",
      "              szócikkeit\n",
      "             </i>\n",
      "             hivatott összegyűjteni. A kategória csak a taxonok szócikkeit tartalmazza, ennek értelmében a taxonokhoz tartozó\n",
      "             <i>\n",
      "              kategóriákat\n",
      "             </i>\n",
      "             kérjük ne tedd bele! Egy példa az ilyen típusú kategóriák helyes használatára:\n",
      "             <ul>\n",
      "              <li>\n",
      "               A\n",
      "               <i>\n",
      "                növénycsaládok\n",
      "               </i>\n",
      "               kategóriájába a növények családjairól szóló cikkek kerüljenek, például a\n",
      "               <i>\n",
      "                Kaktuszfélék\n",
      "               </i>\n",
      "               című szócikk.\n",
      "              </li>\n",
      "              <li>\n",
      "               A\n",
      "               <i>\n",
      "                növénycsaládok\n",
      "               </i>\n",
      "               kategóriába a növények családjainak kategóriái NE kerüljenek be. Például a\n",
      "               <i>\n",
      "                kaktuszfélék\n",
      "               </i>\n",
      "               kategóriája NE kerüljön bele.\n",
      "              </li>\n",
      "             </ul>\n",
      "             <p>\n",
      "              Alkategória abban az esetben kerülhet az ilyen típusú a kategóriába, ha az alkategóriák különböző taxonok szerinti további bontásnak felelnek meg, például:\n",
      "             </p>\n",
      "             <ul>\n",
      "              <li>\n",
      "               Az\n",
      "               <i>\n",
      "                állatfajok\n",
      "               </i>\n",
      "               kategóriájába kerüljön bele az\n",
      "               <i>\n",
      "                ízeltlábúfajok\n",
      "               </i>\n",
      "               kategóriája, az\n",
      "               <i>\n",
      "                ízeltlábúfajok\n",
      "               </i>\n",
      "               kategóriájába kerüljön bele a\n",
      "               <i>\n",
      "                rovarfajok\n",
      "               </i>\n",
      "               kategóriája stb.\n",
      "              </li>\n",
      "             </ul>\n",
      "            </td>\n",
      "           </tr>\n",
      "          </tbody>\n",
      "         </table>\n",
      "         <div class=\"tarsprojekt-alap noviewer\">\n",
      "          <style data-mw-deduplicate=\"TemplateStyles:r26730915\">\n",
      "           .mw-parser-output .tarsprojekt-alap{float:right;clear:right;width:272px;display:flex;column-gap:10px;margin:0 0 1em 1em;border:1px solid #a2a9b1;padding:4px;background-color:#f8f9fa;font-size:95%}@media screen and (max-width:719px){.mw-parser-output .tarsprojekt-alap{float:none;width:auto;margin:0 0 1em}}@media print{.mw-parser-output .tarsprojekt-alap{display:none}}\n",
      "          </style>\n",
      "          <div class=\"tarsprojekt-alap-ikon\">\n",
      "           <span typeof=\"mw:File\">\n",
      "            <a href=\"https://commons.wikimedia.org/wiki/Category:Plantae_by_family\" title=\"commons:Category:Plantae by family\">\n",
      "             <img alt=\"Commons:Category:Plantae by family\" class=\"mw-file-element\" data-file-height=\"1376\" data-file-width=\"1024\" decoding=\"async\" height=\"67\" src=\"//upload.wikimedia.org/wikipedia/commons/thumb/4/4a/Commons-logo.svg/50px-Commons-logo.svg.png\" srcset=\"//upload.wikimedia.org/wikipedia/commons/thumb/4/4a/Commons-logo.svg/75px-Commons-logo.svg.png 1.5x, //upload.wikimedia.org/wikipedia/commons/thumb/4/4a/Commons-logo.svg/100px-Commons-logo.svg.png 2x\" width=\"50\"/>\n",
      "            </a>\n",
      "           </span>\n",
      "          </div>\n",
      "          <div class=\"tarsprojekt-alap-szoveg\">\n",
      "           A\n",
      "           <a href=\"/wiki/Wikim%C3%A9dia_Commons\" title=\"Wikimédia Commons\">\n",
      "            Wikimédia Commons\n",
      "           </a>\n",
      "           tartalmaz\n",
      "           <i>\n",
      "            <b>\n",
      "             <a class=\"extiw\" href=\"https://commons.wikimedia.org/wiki/Category:Plantae_by_family\" title=\"commons:Category:Plantae by family\">\n",
      "              Növénycsaládok\n",
      "             </a>\n",
      "            </b>\n",
      "           </i>\n",
      "           témájú médiaállományokat.\n",
      "          </div>\n",
      "         </div>\n",
      "        </div>\n",
      "        <div class=\"mw-category-generated\" dir=\"ltr\" lang=\"hu\">\n",
      "         <div id=\"mw-pages\">\n",
      "          <h2>\n",
      "           A(z) „Növénycsaládok” kategóriába tartozó lapok\n",
      "          </h2>\n",
      "          <p>\n",
      "           A következő 180 lap található a kategóriában, összesen 180 lapból.\n",
      "          </p>\n",
      "          <div class=\"mw-content-ltr\" dir=\"ltr\" lang=\"hu\">\n",
      "           <div class=\"mw-category mw-category-columns\">\n",
      "            <div class=\"mw-category-group\">\n",
      "             <h3>\n",
      "             </h3>\n",
      "             <ul>\n",
      "              <li>\n",
      "               <a href=\"/wiki/N%C3%B6v%C3%A9nycsal%C3%A1dok_list%C3%A1ja\" title=\"Növénycsaládok listája\">\n",
      "                Növénycsaládok listája\n",
      "               </a>\n",
      "              </li>\n",
      "             </ul>\n",
      "            </div>\n",
      "            <div class=\"mw-category-group\">\n",
      "             <h3>\n",
      "              A\n",
      "             </h3>\n",
      "             <ul>\n",
      "              <li>\n",
      "               <a href=\"/wiki/Alk%C3%B6rm%C3%B6sf%C3%A9l%C3%A9k\" title=\"Alkörmösfélék\">\n",
      "                Alkörmösfélék\n",
      "               </a>\n",
      "              </li>\n",
      "              <li>\n",
      "               <a href=\"/wiki/%C3%81ltiszafaf%C3%A9l%C3%A9k\" title=\"Áltiszafafélék\">\n",
      "                Áltiszafafélék\n",
      "               </a>\n",
      "              </li>\n",
      "              <li>\n",
      "               <a href=\"/wiki/Amarilliszf%C3%A9l%C3%A9k\" title=\"Amarilliszfélék\">\n",
      "                Amarilliszfélék\n",
      "               </a>\n",
      "              </li>\n",
      "              <li>\n",
      "               <a href=\"/wiki/Anacampserotaceae\" title=\"Anacampserotaceae\">\n",
      "                Anacampserotaceae\n",
      "               </a>\n",
      "              </li>\n",
      "              <li>\n",
      "               <a href=\"/wiki/Ann%C3%B3naf%C3%A9l%C3%A9k\" title=\"Annónafélék\">\n",
      "                Annónafélék\n",
      "               </a>\n",
      "              </li>\n",
      "              <li>\n",
      "               <a href=\"/wiki/Apodanthaceae\" title=\"Apodanthaceae\">\n",
      "                Apodanthaceae\n",
      "               </a>\n",
      "              </li>\n",
      "              <li>\n",
      "               <a href=\"/wiki/Ar%C3%A1liaf%C3%A9l%C3%A9k\" title=\"Aráliafélék\">\n",
      "                Aráliafélék\n",
      "               </a>\n",
      "              </li>\n",
      "              <li>\n",
      "               <a href=\"/wiki/Arauk%C3%A1riaf%C3%A9l%C3%A9k\" title=\"Araukáriafélék\">\n",
      "                Araukáriafélék\n",
      "               </a>\n",
      "              </li>\n",
      "              <li>\n",
      "               <a href=\"/wiki/%C3%81rvacsal%C3%A1nf%C3%A9l%C3%A9k\" title=\"Árvacsalánfélék\">\n",
      "                Árvacsalánfélék\n",
      "               </a>\n",
      "              </li>\n",
      "             </ul>\n",
      "            </div>\n",
      "            <div class=\"mw-category-group\">\n",
      "             <h3>\n",
      "              B\n",
      "             </h3>\n",
      "             <ul>\n",
      "              <li>\n",
      "               <a href=\"/wiki/Bab%C3%A9rf%C3%A9l%C3%A9k\" title=\"Babérfélék\">\n",
      "                Babérfélék\n",
      "               </a>\n",
      "              </li>\n",
      "              <li>\n",
      "               <a href=\"/wiki/B%C3%A1lv%C3%A1nyfaf%C3%A9l%C3%A9k\" title=\"Bálványfafélék\">\n",
      "                Bálványfafélék\n",
      "               </a>\n",
      "              </li>\n",
      "              <li>\n",
      "               <a href=\"/wiki/Ban%C3%A1nf%C3%A9l%C3%A9k\" title=\"Banánfélék\">\n",
      "                Banánfélék\n",
      "               </a>\n",
      "              </li>\n",
      "              <li>\n",
      "               <a href=\"/wiki/Barkamirtuszf%C3%A9l%C3%A9k\" title=\"Barkamirtuszfélék\">\n",
      "                Barkamirtuszfélék\n",
      "               </a>\n",
      "              </li>\n",
      "              <li>\n",
      "               <a href=\"/wiki/Beg%C3%B3niaf%C3%A9l%C3%A9k\" title=\"Begóniafélék\">\n",
      "                Begóniafélék\n",
      "               </a>\n",
      "              </li>\n",
      "              <li>\n",
      "               <a href=\"/wiki/B%C3%A9kasz%C5%91l%C5%91f%C3%A9l%C3%A9k\" title=\"Békaszőlőfélék\">\n",
      "                Békaszőlőfélék\n",
      "               </a>\n",
      "              </li>\n",
      "              <li>\n",
      "               <a href=\"/wiki/B%C3%A9katutajf%C3%A9l%C3%A9k\" title=\"Békatutajfélék\">\n",
      "                Békatutajfélék\n",
      "               </a>\n",
      "              </li>\n",
      "              <li>\n",
      "               <a href=\"/wiki/Bengef%C3%A9l%C3%A9k\" title=\"Bengefélék\">\n",
      "                Bengefélék\n",
      "               </a>\n",
      "              </li>\n",
      "              <li>\n",
      "               <a href=\"/wiki/Bogl%C3%A1rkaf%C3%A9l%C3%A9k\" title=\"Boglárkafélék\">\n",
      "                Boglárkafélék\n",
      "               </a>\n",
      "              </li>\n",
      "              <li>\n",
      "               <a href=\"/wiki/Bor%C3%A1g%C3%B3f%C3%A9l%C3%A9k\" title=\"Borágófélék\">\n",
      "                Borágófélék\n",
      "               </a>\n",
      "              </li>\n",
      "              <li>\n",
      "               <a href=\"/wiki/Borbolyaf%C3%A9l%C3%A9k\" title=\"Borbolyafélék\">\n",
      "                Borbolyafélék\n",
      "               </a>\n",
      "              </li>\n",
      "              <li>\n",
      "               <a href=\"/wiki/Boroszl%C3%A1nf%C3%A9l%C3%A9k\" title=\"Boroszlánfélék\">\n",
      "                Boroszlánfélék\n",
      "               </a>\n",
      "              </li>\n",
      "              <li>\n",
      "               <a href=\"/wiki/Borsf%C3%A9l%C3%A9k\" title=\"Borsfélék\">\n",
      "                Borsfélék\n",
      "               </a>\n",
      "              </li>\n",
      "              <li>\n",
      "               <a href=\"/wiki/Brom%C3%A9liaf%C3%A9l%C3%A9k\" title=\"Broméliafélék\">\n",
      "                Broméliafélék\n",
      "               </a>\n",
      "              </li>\n",
      "              <li>\n",
      "               <a href=\"/wiki/Bunk%C3%B3sp%C3%A1lmaf%C3%A9l%C3%A9k\" title=\"Bunkóspálmafélék\">\n",
      "                Bunkóspálmafélék\n",
      "               </a>\n",
      "              </li>\n",
      "              <li>\n",
      "               <a href=\"/wiki/Burgonyaf%C3%A9l%C3%A9k\" title=\"Burgonyafélék\">\n",
      "                Burgonyafélék\n",
      "               </a>\n",
      "              </li>\n",
      "              <li>\n",
      "               <a href=\"/wiki/Buz%C3%A9rf%C3%A9l%C3%A9k\" title=\"Buzérfélék\">\n",
      "                Buzérfélék\n",
      "               </a>\n",
      "              </li>\n",
      "              <li>\n",
      "               <a href=\"/wiki/B%C3%BCkkfaf%C3%A9l%C3%A9k\" title=\"Bükkfafélék\">\n",
      "                Bükkfafélék\n",
      "               </a>\n",
      "              </li>\n",
      "             </ul>\n",
      "            </div>\n",
      "            <div class=\"mw-category-group\">\n",
      "             <h3>\n",
      "              C\n",
      "             </h3>\n",
      "             <ul>\n",
      "              <li>\n",
      "               <a href=\"/wiki/Chlamydomonadaceae\" title=\"Chlamydomonadaceae\">\n",
      "                Chlamydomonadaceae\n",
      "               </a>\n",
      "              </li>\n",
      "              <li>\n",
      "               <a href=\"/wiki/Cik%C3%A1szf%C3%A9l%C3%A9k\" title=\"Cikászfélék\">\n",
      "                Cikászfélék\n",
      "               </a>\n",
      "              </li>\n",
      "              <li>\n",
      "               <a href=\"/wiki/Ciprusf%C3%A9l%C3%A9k\" title=\"Ciprusfélék\">\n",
      "                Ciprusfélék\n",
      "               </a>\n",
      "              </li>\n",
      "              <li>\n",
      "               <a href=\"/wiki/Cleomaceae\" title=\"Cleomaceae\">\n",
      "                Cleomaceae\n",
      "               </a>\n",
      "              </li>\n",
      "             </ul>\n",
      "            </div>\n",
      "            <div class=\"mw-category-group\">\n",
      "             <h3>\n",
      "              Cs\n",
      "             </h3>\n",
      "             <ul>\n",
      "              <li>\n",
      "               <a href=\"/wiki/Csal%C3%A1nf%C3%A9l%C3%A9k\" title=\"Csalánfélék\">\n",
      "                Csalánfélék\n",
      "               </a>\n",
      "              </li>\n",
      "              <li>\n",
      "               <a href=\"/wiki/Csatavir%C3%A1gf%C3%A9l%C3%A9k\" title=\"Csatavirágfélék\">\n",
      "                Csatavirágfélék\n",
      "               </a>\n",
      "              </li>\n",
      "              <li>\n",
      "               <a href=\"/wiki/Csavarp%C3%A1lmaf%C3%A9l%C3%A9k\" title=\"Csavarpálmafélék\">\n",
      "                Csavarpálmafélék\n",
      "               </a>\n",
      "              </li>\n",
      "              <li>\n",
      "               <a href=\"/wiki/Csik%C3%B3fark\" title=\"Csikófark\">\n",
      "                Csikófark\n",
      "               </a>\n",
      "              </li>\n",
      "              <li>\n",
      "               <a href=\"/wiki/Csipkeharasztok\" title=\"Csipkeharasztok\">\n",
      "                Csipkeharasztok\n",
      "               </a>\n",
      "              </li>\n",
      "              <li>\n",
      "               <a href=\"/wiki/Csodat%C3%B6lcs%C3%A9rf%C3%A9l%C3%A9k\" title=\"Csodatölcsérfélék\">\n",
      "                Csodatölcsérfélék\n",
      "               </a>\n",
      "              </li>\n",
      "              <li>\n",
      "               <a href=\"/wiki/Csuporkaf%C3%A9l%C3%A9k\" title=\"Csuporkafélék\">\n",
      "                Csuporkafélék\n",
      "               </a>\n",
      "              </li>\n",
      "             </ul>\n",
      "            </div>\n",
      "            <div class=\"mw-category-group\">\n",
      "             <h3>\n",
      "              D\n",
      "             </h3>\n",
      "             <ul>\n",
      "              <li>\n",
      "               <a href=\"/wiki/Dasypogonaceae\" title=\"Dasypogonaceae\">\n",
      "                Dasypogonaceae\n",
      "               </a>\n",
      "              </li>\n",
      "              <li>\n",
      "               <a href=\"/wiki/Dill%C3%A9niaf%C3%A9l%C3%A9k\" title=\"Dilléniafélék\">\n",
      "                Dilléniafélék\n",
      "               </a>\n",
      "              </li>\n",
      "              <li>\n",
      "               <a href=\"/wiki/Dinnyefaf%C3%A9l%C3%A9k\" title=\"Dinnyefafélék\">\n",
      "                Dinnyefafélék\n",
      "               </a>\n",
      "              </li>\n",
      "              <li>\n",
      "               <a href=\"/wiki/Di%C3%B3faf%C3%A9l%C3%A9k\" title=\"Diófafélék\">\n",
      "                Diófafélék\n",
      "               </a>\n",
      "              </li>\n",
      "              <li>\n",
      "               <a href=\"/wiki/Dipentodontaceae\" title=\"Dipentodontaceae\">\n",
      "                Dipentodontaceae\n",
      "               </a>\n",
      "              </li>\n",
      "              <li>\n",
      "               <a href=\"/wiki/Dipterokarpuszf%C3%A9l%C3%A9k\" title=\"Dipterokarpuszfélék\">\n",
      "                Dipterokarpuszfélék\n",
      "               </a>\n",
      "              </li>\n",
      "              <li>\n",
      "               <a href=\"/wiki/D%C3%ADszlev%C3%A9lfaf%C3%A9l%C3%A9k\" title=\"Díszlevélfafélék\">\n",
      "                Díszlevélfafélék\n",
      "               </a>\n",
      "              </li>\n",
      "              <li>\n",
      "               <a href=\"/wiki/Diszn%C3%B3par%C3%A9jf%C3%A9l%C3%A9k\" title=\"Disznóparéjfélék\">\n",
      "                Disznóparéjfélék\n",
      "               </a>\n",
      "              </li>\n",
      "             </ul>\n",
      "            </div>\n",
      "            <div class=\"mw-category-group\">\n",
      "             <h3>\n",
      "              E\n",
      "             </h3>\n",
      "             <ul>\n",
      "              <li>\n",
      "               <a href=\"/wiki/Eperfaf%C3%A9l%C3%A9k\" title=\"Eperfafélék\">\n",
      "                Eperfafélék\n",
      "               </a>\n",
      "              </li>\n",
      "              <li>\n",
      "               <a href=\"/wiki/Escalloniaceae\" title=\"Escalloniaceae\">\n",
      "                Escalloniaceae\n",
      "               </a>\n",
      "              </li>\n",
      "              <li>\n",
      "               <a href=\"/wiki/Ez%C3%BCstfaf%C3%A9l%C3%A9k\" title=\"Ezüstfafélék\">\n",
      "                Ezüstfafélék\n",
      "               </a>\n",
      "              </li>\n",
      "             </ul>\n",
      "            </div>\n",
      "            <div class=\"mw-category-group\">\n",
      "             <h3>\n",
      "              F\n",
      "             </h3>\n",
      "             <ul>\n",
      "              <li>\n",
      "               <a href=\"/wiki/Fak%C3%ADnf%C3%A9l%C3%A9k\" title=\"Fakínfélék\">\n",
      "                Fakínfélék\n",
      "               </a>\n",
      "              </li>\n",
      "              <li>\n",
      "               <a href=\"/wiki/Farkasalmaf%C3%A9l%C3%A9k\" title=\"Farkasalmafélék\">\n",
      "                Farkasalmafélék\n",
      "               </a>\n",
      "              </li>\n",
      "              <li>\n",
      "               <a href=\"/wiki/Feny%C5%91f%C3%A9l%C3%A9k\" title=\"Fenyőfélék\">\n",
      "                Fenyőfélék\n",
      "               </a>\n",
      "              </li>\n",
      "              <li>\n",
      "               <a href=\"/wiki/Fissidentaceae\" title=\"Fissidentaceae\">\n",
      "                Fissidentaceae\n",
      "               </a>\n",
      "              </li>\n",
      "              <li>\n",
      "               <a href=\"/wiki/Fogpiszk%C3%A1l%C3%B3f%C5%B1\" title=\"Fogpiszkálófű\">\n",
      "                Fogpiszkálófű\n",
      "               </a>\n",
      "              </li>\n",
      "              <li>\n",
      "               <a href=\"/wiki/F%C5%B1faf%C3%A9l%C3%A9k\" title=\"Fűfafélék\">\n",
      "                Fűfafélék\n",
      "               </a>\n",
      "              </li>\n",
      "              <li>\n",
      "               <a href=\"/wiki/F%C5%B1szercserjef%C3%A9l%C3%A9k\" title=\"Fűszercserjefélék\">\n",
      "                Fűszercserjefélék\n",
      "               </a>\n",
      "              </li>\n",
      "              <li>\n",
      "               <a href=\"/wiki/F%C3%BCz%C3%A9nyf%C3%A9l%C3%A9k\" title=\"Füzényfélék\">\n",
      "                Füzényfélék\n",
      "               </a>\n",
      "              </li>\n",
      "              <li>\n",
      "               <a href=\"/wiki/F%C5%B1zfaf%C3%A9l%C3%A9k\" title=\"Fűzfafélék\">\n",
      "                Fűzfafélék\n",
      "               </a>\n",
      "              </li>\n",
      "             </ul>\n",
      "            </div>\n",
      "            <div class=\"mw-category-group\">\n",
      "             <h3>\n",
      "              G\n",
      "             </h3>\n",
      "             <ul>\n",
      "              <li>\n",
      "               <a href=\"/wiki/Gn%C3%A9tum\" title=\"Gnétum\">\n",
      "                Gnétum\n",
      "               </a>\n",
      "              </li>\n",
      "              <li>\n",
      "               <a href=\"/wiki/Golgotavir%C3%A1gf%C3%A9l%C3%A9k\" title=\"Golgotavirágfélék\">\n",
      "                Golgotavirágfélék\n",
      "               </a>\n",
      "              </li>\n",
      "              <li>\n",
      "               <a href=\"/wiki/G%C3%B3lyaorrf%C3%A9l%C3%A9k\" title=\"Gólyaorrfélék\">\n",
      "                Gólyaorrfélék\n",
      "               </a>\n",
      "              </li>\n",
      "              <li>\n",
      "               <a href=\"/wiki/G%C3%B6rv%C3%A9lyf%C5%B1f%C3%A9l%C3%A9k\" title=\"Görvélyfűfélék\">\n",
      "                Görvélyfűfélék\n",
      "               </a>\n",
      "              </li>\n",
      "             </ul>\n",
      "            </div>\n",
      "            <div class=\"mw-category-group\">\n",
      "             <h3>\n",
      "              Gy\n",
      "             </h3>\n",
      "             <ul>\n",
      "              <li>\n",
      "               <a href=\"/wiki/Gy%C3%A9k%C3%A9nyf%C3%A9l%C3%A9k\" title=\"Gyékényfélék\">\n",
      "                Gyékényfélék\n",
      "               </a>\n",
      "              </li>\n",
      "              <li>\n",
      "               <a href=\"/wiki/Gyommohaf%C3%A9l%C3%A9k\" title=\"Gyommohafélék\">\n",
      "                Gyommohafélék\n",
      "               </a>\n",
      "              </li>\n",
      "              <li>\n",
      "               <a href=\"/wiki/Gy%C3%B6mb%C3%A9rf%C3%A9l%C3%A9k\" title=\"Gyömbérfélék\">\n",
      "                Gyömbérfélék\n",
      "               </a>\n",
      "              </li>\n",
      "              <li>\n",
      "               <a href=\"/wiki/Gy%C3%B6ngyvir%C3%A1gfaf%C3%A9l%C3%A9k\" title=\"Gyöngyvirágfafélék\">\n",
      "                Gyöngyvirágfafélék\n",
      "               </a>\n",
      "              </li>\n",
      "             </ul>\n",
      "            </div>\n",
      "            <div class=\"mw-category-group\">\n",
      "             <h3>\n",
      "              H\n",
      "             </h3>\n",
      "             <ul>\n",
      "              <li>\n",
      "               <span class=\"redirect-in-category\">\n",
      "                <a class=\"mw-redirect\" href=\"/wiki/Halimedaceae\" title=\"Halimedaceae\">\n",
      "                 Halimedaceae\n",
      "                </a>\n",
      "               </span>\n",
      "              </li>\n",
      "              <li>\n",
      "               <a href=\"/wiki/Hangaf%C3%A9l%C3%A9k\" title=\"Hangafélék\">\n",
      "                Hangafélék\n",
      "               </a>\n",
      "              </li>\n",
      "              <li>\n",
      "               <a href=\"/wiki/Harangvir%C3%A1gf%C3%A9l%C3%A9k\" title=\"Harangvirágfélék\">\n",
      "                Harangvirágfélék\n",
      "               </a>\n",
      "              </li>\n",
      "              <li>\n",
      "               <a href=\"/wiki/Harmatf%C5%B1f%C3%A9l%C3%A9k\" title=\"Harmatfűfélék\">\n",
      "                Harmatfűfélék\n",
      "               </a>\n",
      "              </li>\n",
      "              <li>\n",
      "               <a href=\"/wiki/Hernandiaceae\" title=\"Hernandiaceae\">\n",
      "                Hernandiaceae\n",
      "               </a>\n",
      "              </li>\n",
      "              <li>\n",
      "               <a href=\"/wiki/H%C3%ADd%C5%91rf%C3%A9l%C3%A9k\" title=\"Hídőrfélék\">\n",
      "                Hídőrfélék\n",
      "               </a>\n",
      "              </li>\n",
      "              <li>\n",
      "               <a href=\"/wiki/Hortenziaf%C3%A9l%C3%A9k\" title=\"Hortenziafélék\">\n",
      "                Hortenziafélék\n",
      "               </a>\n",
      "              </li>\n",
      "              <li>\n",
      "               <a href=\"/wiki/Hydatellaceae\" title=\"Hydatellaceae\">\n",
      "                Hydatellaceae\n",
      "               </a>\n",
      "              </li>\n",
      "              <li>\n",
      "               <a href=\"/wiki/Hypoxidaceae\" title=\"Hypoxidaceae\">\n",
      "                Hypoxidaceae\n",
      "               </a>\n",
      "              </li>\n",
      "             </ul>\n",
      "            </div>\n",
      "            <div class=\"mw-category-group\">\n",
      "             <h3>\n",
      "              I\n",
      "             </h3>\n",
      "             <ul>\n",
      "              <li>\n",
      "               <a href=\"/wiki/Ibolyaf%C3%A9l%C3%A9k\" title=\"Ibolyafélék\">\n",
      "                Ibolyafélék\n",
      "               </a>\n",
      "              </li>\n",
      "             </ul>\n",
      "            </div>\n",
      "            <div class=\"mw-category-group\">\n",
      "             <h3>\n",
      "              J\n",
      "             </h3>\n",
      "             <ul>\n",
      "              <li>\n",
      "               <a href=\"/wiki/Jap%C3%A1n_erny%C5%91feny%C5%91\" title=\"Japán ernyőfenyő\">\n",
      "                Japán ernyőfenyő\n",
      "               </a>\n",
      "              </li>\n",
      "             </ul>\n",
      "            </div>\n",
      "            <div class=\"mw-category-group\">\n",
      "             <h3>\n",
      "              K\n",
      "             </h3>\n",
      "             <ul>\n",
      "              <li>\n",
      "               <a href=\"/wiki/Kaktuszf%C3%A9l%C3%A9k\" title=\"Kaktuszfélék\">\n",
      "                Kaktuszfélék\n",
      "               </a>\n",
      "              </li>\n",
      "              <li>\n",
      "               <a href=\"/wiki/K%C3%A1lmosvir%C3%A1g%C3%BAak\" title=\"Kálmosvirágúak\">\n",
      "                Kálmosvirágúak\n",
      "               </a>\n",
      "              </li>\n",
      "              <li>\n",
      "               <a href=\"/wiki/Kankalinf%C3%A9l%C3%A9k\" title=\"Kankalinfélék\">\n",
      "                Kankalinfélék\n",
      "               </a>\n",
      "              </li>\n",
      "              <li>\n",
      "               <a href=\"/wiki/Kannaf%C3%A9l%C3%A9k\" title=\"Kannafélék\">\n",
      "                Kannafélék\n",
      "               </a>\n",
      "              </li>\n",
      "              <li>\n",
      "               <a href=\"/wiki/K%C3%A1posztaf%C3%A9l%C3%A9k\" title=\"Káposztafélék\">\n",
      "                Káposztafélék\n",
      "               </a>\n",
      "              </li>\n",
      "              <li>\n",
      "               <a href=\"/wiki/Kaprif%C3%A9l%C3%A9k\" title=\"Kaprifélék\">\n",
      "                Kaprifélék\n",
      "               </a>\n",
      "              </li>\n",
      "              <li>\n",
      "               <a href=\"/wiki/Kazu%C3%A1rfaf%C3%A9l%C3%A9k\" title=\"Kazuárfafélék\">\n",
      "                Kazuárfafélék\n",
      "               </a>\n",
      "              </li>\n",
      "              <li>\n",
      "               <a href=\"/wiki/Kecsker%C3%A1g%C3%B3f%C3%A9l%C3%A9k\" title=\"Kecskerágófélék\">\n",
      "                Kecskerágófélék\n",
      "               </a>\n",
      "              </li>\n",
      "              <li>\n",
      "               <a href=\"/wiki/K%C3%A9kh%C3%BCvelyf%C3%A9l%C3%A9k\" title=\"Kékhüvelyfélék\">\n",
      "                Kékhüvelyfélék\n",
      "               </a>\n",
      "              </li>\n",
      "              <li>\n",
      "               <a href=\"/wiki/Kenderf%C3%A9l%C3%A9k\" title=\"Kenderfélék\">\n",
      "                Kenderfélék\n",
      "               </a>\n",
      "              </li>\n",
      "              <li>\n",
      "               <a href=\"/wiki/Keser%C5%B1f%C5%B1f%C3%A9l%C3%A9k\" title=\"Keserűfűfélék\">\n",
      "                Keserűfűfélék\n",
      "               </a>\n",
      "              </li>\n",
      "              <li>\n",
      "               <a href=\"/wiki/Kikericsf%C3%A9l%C3%A9k\" title=\"Kikericsfélék\">\n",
      "                Kikericsfélék\n",
      "               </a>\n",
      "              </li>\n",
      "              <li>\n",
      "               <a href=\"/wiki/Kontyvir%C3%A1gf%C3%A9l%C3%A9k\" title=\"Kontyvirágfélék\">\n",
      "                Kontyvirágfélék\n",
      "               </a>\n",
      "              </li>\n",
      "              <li>\n",
      "               <a href=\"/wiki/Kosborf%C3%A9l%C3%A9k\" title=\"Kosborfélék\">\n",
      "                Kosborfélék\n",
      "               </a>\n",
      "              </li>\n",
      "              <li>\n",
      "               <a href=\"/wiki/K%C5%91tiszafaf%C3%A9l%C3%A9k\" title=\"Kőtiszafafélék\">\n",
      "                Kőtiszafafélék\n",
      "               </a>\n",
      "              </li>\n",
      "              <li>\n",
      "               <a href=\"/wiki/K%C5%91t%C3%B6r%C5%91f%C5%B1f%C3%A9l%C3%A9k\" title=\"Kőtörőfűfélék\">\n",
      "                Kőtörőfűfélék\n",
      "               </a>\n",
      "              </li>\n",
      "              <li>\n",
      "               <a href=\"/wiki/Krist%C3%A1lyvir%C3%A1gf%C3%A9l%C3%A9k\" title=\"Kristályvirágfélék\">\n",
      "                Kristályvirágfélék\n",
      "               </a>\n",
      "              </li>\n",
      "              <li>\n",
      "               <a href=\"/wiki/Kutyatejf%C3%A9l%C3%A9k\" title=\"Kutyatejfélék\">\n",
      "                Kutyatejfélék\n",
      "               </a>\n",
      "              </li>\n",
      "              <li>\n",
      "               <a href=\"/wiki/K%C3%BCll%C5%91folyond%C3%A1rf%C3%A9l%C3%A9k\" title=\"Küllőfolyondárfélék\">\n",
      "                Küllőfolyondárfélék\n",
      "               </a>\n",
      "              </li>\n",
      "              <li>\n",
      "               <a href=\"/wiki/K%C3%BCrtvir%C3%A1gf%C3%A9l%C3%A9k\" title=\"Kürtvirágfélék\">\n",
      "                Kürtvirágfélék\n",
      "               </a>\n",
      "              </li>\n",
      "             </ul>\n",
      "            </div>\n",
      "            <div class=\"mw-category-group\">\n",
      "             <h3>\n",
      "              L\n",
      "             </h3>\n",
      "             <ul>\n",
      "              <li>\n",
      "               <a href=\"/wiki/Laxmanniaceae\" title=\"Laxmanniaceae\">\n",
      "                Laxmanniaceae\n",
      "               </a>\n",
      "              </li>\n",
      "              <li>\n",
      "               <a href=\"/wiki/Lenf%C3%A9l%C3%A9k\" title=\"Lenfélék\">\n",
      "                Lenfélék\n",
      "               </a>\n",
      "              </li>\n",
      "              <li>\n",
      "               <a href=\"/wiki/Ligetsz%C3%A9pef%C3%A9l%C3%A9k\" title=\"Ligetszépefélék\">\n",
      "                Ligetszépefélék\n",
      "               </a>\n",
      "              </li>\n",
      "              <li>\n",
      "               <a href=\"/wiki/Liliomfaf%C3%A9l%C3%A9k\" title=\"Liliomfafélék\">\n",
      "                Liliomfafélék\n",
      "               </a>\n",
      "              </li>\n",
      "              <li>\n",
      "               <a href=\"/wiki/Liliomf%C3%A9l%C3%A9k\" title=\"Liliomfélék\">\n",
      "                Liliomfélék\n",
      "               </a>\n",
      "              </li>\n",
      "              <li>\n",
      "               <a href=\"/wiki/Loncf%C3%A9l%C3%A9k\" title=\"Loncfélék\">\n",
      "                Loncfélék\n",
      "               </a>\n",
      "              </li>\n",
      "              <li>\n",
      "               <a href=\"/wiki/L%C3%B3tuszf%C3%A9l%C3%A9k\" title=\"Lótuszfélék\">\n",
      "                Lótuszfélék\n",
      "               </a>\n",
      "              </li>\n",
      "             </ul>\n",
      "            </div>\n",
      "            <div class=\"mw-category-group\">\n",
      "             <h3>\n",
      "              M\n",
      "             </h3>\n",
      "             <ul>\n",
      "              <li>\n",
      "               <a href=\"/wiki/Mad%C3%A1rs%C3%B3skaf%C3%A9l%C3%A9k\" title=\"Madársóskafélék\">\n",
      "                Madársóskafélék\n",
      "               </a>\n",
      "              </li>\n",
      "              <li>\n",
      "               <a href=\"/wiki/Magyal\" title=\"Magyal\">\n",
      "                Magyal\n",
      "               </a>\n",
      "              </li>\n",
      "              <li>\n",
      "               <a href=\"/wiki/M%C3%A1kf%C3%A9l%C3%A9k\" title=\"Mákfélék\">\n",
      "                Mákfélék\n",
      "               </a>\n",
      "              </li>\n",
      "              <li>\n",
      "               <a href=\"/wiki/Malpighicserjef%C3%A9l%C3%A9k\" title=\"Malpighicserjefélék\">\n",
      "                Malpighicserjefélék\n",
      "               </a>\n",
      "              </li>\n",
      "              <li>\n",
      "               <a href=\"/wiki/M%C3%A1lyvaf%C3%A9l%C3%A9k\" title=\"Mályvafélék\">\n",
      "                Mályvafélék\n",
      "               </a>\n",
      "              </li>\n",
      "              <li>\n",
      "               <a href=\"/wiki/Medvek%C3%B6r%C3%B6mf%C3%A9l%C3%A9k\" title=\"Medvekörömfélék\">\n",
      "                Medvekörömfélék\n",
      "               </a>\n",
      "              </li>\n",
      "              <li>\n",
      "               <a href=\"/wiki/Met%C3%A9ngf%C3%A9l%C3%A9k\" title=\"Meténgfélék\">\n",
      "                Meténgfélék\n",
      "               </a>\n",
      "              </li>\n",
      "              <li>\n",
      "               <a href=\"/wiki/Mirtuszf%C3%A9l%C3%A9k\" title=\"Mirtuszfélék\">\n",
      "                Mirtuszfélék\n",
      "               </a>\n",
      "              </li>\n",
      "              <li>\n",
      "               <a href=\"/wiki/Mocs%C3%A1rciprusf%C3%A9l%C3%A9k\" title=\"Mocsárciprusfélék\">\n",
      "                Mocsárciprusfélék\n",
      "               </a>\n",
      "              </li>\n",
      "              <li>\n",
      "               <a href=\"/wiki/Musk%C3%A1tdi%C3%B3f%C3%A9l%C3%A9k\" title=\"Muskátdiófélék\">\n",
      "                Muskátdiófélék\n",
      "               </a>\n",
      "              </li>\n",
      "             </ul>\n",
      "            </div>\n",
      "            <div class=\"mw-category-group\">\n",
      "             <h3>\n",
      "              N\n",
      "             </h3>\n",
      "             <ul>\n",
      "              <li>\n",
      "               <a href=\"/wiki/Neb%C3%A1ncsvir%C3%A1gf%C3%A9l%C3%A9k\" title=\"Nebáncsvirágfélék\">\n",
      "                Nebáncsvirágfélék\n",
      "               </a>\n",
      "              </li>\n",
      "              <li>\n",
      "               <a href=\"/wiki/N%C5%91sziromf%C3%A9l%C3%A9k\" title=\"Nősziromfélék\">\n",
      "                Nősziromfélék\n",
      "               </a>\n",
      "              </li>\n",
      "             </ul>\n",
      "            </div>\n",
      "            <div class=\"mw-category-group\">\n",
      "             <h3>\n",
      "              Ny\n",
      "             </h3>\n",
      "             <ul>\n",
      "              <li>\n",
      "               <a href=\"/wiki/Ny%C3%ADlgy%C3%B6k%C3%A9rf%C3%A9l%C3%A9k\" title=\"Nyílgyökérfélék\">\n",
      "                Nyílgyökérfélék\n",
      "               </a>\n",
      "              </li>\n",
      "              <li>\n",
      "               <a href=\"/wiki/Ny%C3%ADrfaf%C3%A9l%C3%A9k\" title=\"Nyírfafélék\">\n",
      "                Nyírfafélék\n",
      "               </a>\n",
      "              </li>\n",
      "             </ul>\n",
      "            </div>\n",
      "            <div class=\"mw-category-group\">\n",
      "             <h3>\n",
      "              O\n",
      "             </h3>\n",
      "             <ul>\n",
      "              <li>\n",
      "               <a href=\"/wiki/Olajfaf%C3%A9l%C3%A9k\" title=\"Olajfafélék\">\n",
      "                Olajfafélék\n",
      "               </a>\n",
      "              </li>\n",
      "              <li>\n",
      "               <a href=\"/wiki/%C3%93lomgy%C3%B6k%C3%A9rf%C3%A9l%C3%A9k\" title=\"Ólomgyökérfélék\">\n",
      "                Ólomgyökérfélék\n",
      "               </a>\n",
      "              </li>\n",
      "              <li>\n",
      "               <a href=\"/wiki/Orb%C3%A1ncf%C5%B1f%C3%A9l%C3%A9k\" title=\"Orbáncfűfélék\">\n",
      "                Orbáncfűfélék\n",
      "               </a>\n",
      "              </li>\n",
      "              <li>\n",
      "               <a href=\"/wiki/%C3%93ri%C3%A1svir%C3%A1gf%C3%A9l%C3%A9k\" title=\"Óriásvirágfélék\">\n",
      "                Óriásvirágfélék\n",
      "               </a>\n",
      "              </li>\n",
      "             </ul>\n",
      "            </div>\n",
      "            <div class=\"mw-category-group\">\n",
      "             <h3>\n",
      "              Ö\n",
      "             </h3>\n",
      "             <ul>\n",
      "              <li>\n",
      "               <a href=\"/wiki/%C5%90szir%C3%B3zsaf%C3%A9l%C3%A9k\" title=\"Őszirózsafélék\">\n",
      "                Őszirózsafélék\n",
      "               </a>\n",
      "              </li>\n",
      "             </ul>\n",
      "            </div>\n",
      "            <div class=\"mw-category-group\">\n",
      "             <h3>\n",
      "              P\n",
      "             </h3>\n",
      "             <ul>\n",
      "              <li>\n",
      "               <a href=\"/wiki/P%C3%A1fr%C3%A1nyfeny%C5%91f%C3%A9l%C3%A9k\" title=\"Páfrányfenyőfélék\">\n",
      "                Páfrányfenyőfélék\n",
      "               </a>\n",
      "              </li>\n",
      "              <li>\n",
      "               <a href=\"/wiki/Palkaf%C3%A9l%C3%A9k\" title=\"Palkafélék\">\n",
      "                Palkafélék\n",
      "               </a>\n",
      "              </li>\n",
      "              <li>\n",
      "               <a href=\"/wiki/P%C3%A1lmaf%C3%A9l%C3%A9k\" title=\"Pálmafélék\">\n",
      "                Pálmafélék\n",
      "               </a>\n",
      "              </li>\n",
      "              <li>\n",
      "               <a href=\"/wiki/Papag%C3%A1jvir%C3%A1g-f%C3%A9l%C3%A9k\" title=\"Papagájvirág-félék\">\n",
      "                Papagájvirág-félék\n",
      "               </a>\n",
      "              </li>\n",
      "              <li>\n",
      "               <a href=\"/wiki/Paracryphiaceae\" title=\"Paracryphiaceae\">\n",
      "                Paracryphiaceae\n",
      "               </a>\n",
      "              </li>\n",
      "              <li>\n",
      "               <a href=\"/wiki/Perjef%C3%A9l%C3%A9k\" title=\"Perjefélék\">\n",
      "                Perjefélék\n",
      "               </a>\n",
      "              </li>\n",
      "              <li>\n",
      "               <a href=\"/wiki/Petrosaviaceae\" title=\"Petrosaviaceae\">\n",
      "                Petrosaviaceae\n",
      "               </a>\n",
      "              </li>\n",
      "              <li>\n",
      "               <a href=\"/wiki/P%C3%A9zsmabogl%C3%A1rf%C3%A9l%C3%A9k\" title=\"Pézsmaboglárfélék\">\n",
      "                Pézsmaboglárfélék\n",
      "               </a>\n",
      "              </li>\n",
      "              <li>\n",
      "               <a href=\"/wiki/Philesiaceae\" title=\"Philesiaceae\">\n",
      "                Philesiaceae\n",
      "               </a>\n",
      "              </li>\n",
      "              <li>\n",
      "               <a href=\"/wiki/Picramniaceae\" title=\"Picramniaceae\">\n",
      "                Picramniaceae\n",
      "               </a>\n",
      "              </li>\n",
      "              <li>\n",
      "               <a href=\"/wiki/Pillang%C3%B3svir%C3%A1g%C3%BAak\" title=\"Pillangósvirágúak\">\n",
      "                Pillangósvirágúak\n",
      "               </a>\n",
      "              </li>\n",
      "              <li>\n",
      "               <a href=\"/wiki/Plat%C3%A1nf%C3%A9l%C3%A9k\" title=\"Platánfélék\">\n",
      "                Platánfélék\n",
      "               </a>\n",
      "              </li>\n",
      "              <li>\n",
      "               <a href=\"/wiki/Porcsinf%C3%A9l%C3%A9k\" title=\"Porcsinfélék\">\n",
      "                Porcsinfélék\n",
      "               </a>\n",
      "              </li>\n",
      "              <li>\n",
      "               <a href=\"/wiki/Pottiaceae\" title=\"Pottiaceae\">\n",
      "                Pottiaceae\n",
      "               </a>\n",
      "              </li>\n",
      "              <li>\n",
      "               <a href=\"/wiki/Pr%C3%B3teaf%C3%A9l%C3%A9k\" title=\"Próteafélék\">\n",
      "                Próteafélék\n",
      "               </a>\n",
      "              </li>\n",
      "              <li>\n",
      "               <a href=\"/wiki/Puszp%C3%A1ngf%C3%A9l%C3%A9k\" title=\"Puszpángfélék\">\n",
      "                Puszpángfélék\n",
      "               </a>\n",
      "              </li>\n",
      "             </ul>\n",
      "            </div>\n",
      "            <div class=\"mw-category-group\">\n",
      "             <h3>\n",
      "              R\n",
      "             </h3>\n",
      "             <ul>\n",
      "              <li>\n",
      "               <a href=\"/wiki/Rezedaf%C3%A9l%C3%A9k\" title=\"Rezedafélék\">\n",
      "                Rezedafélék\n",
      "               </a>\n",
      "              </li>\n",
      "              <li>\n",
      "               <a href=\"/wiki/R%C3%B3zsaf%C3%A9l%C3%A9k\" title=\"Rózsafélék\">\n",
      "                Rózsafélék\n",
      "               </a>\n",
      "              </li>\n",
      "              <li>\n",
      "               <a href=\"/wiki/Rutaf%C3%A9l%C3%A9k\" title=\"Rutafélék\">\n",
      "                Rutafélék\n",
      "               </a>\n",
      "              </li>\n",
      "             </ul>\n",
      "            </div>\n",
      "            <div class=\"mw-category-group\">\n",
      "             <h3>\n",
      "              S\n",
      "             </h3>\n",
      "             <ul>\n",
      "              <li>\n",
      "               <a href=\"/wiki/Sabiaceae\" title=\"Sabiaceae\">\n",
      "                Sabiaceae\n",
      "               </a>\n",
      "              </li>\n",
      "              <li>\n",
      "               <a href=\"/wiki/Saururaceae\" title=\"Saururaceae\">\n",
      "                Saururaceae\n",
      "               </a>\n",
      "              </li>\n",
      "              <li>\n",
      "               <a href=\"/wiki/Schisandraceae\" title=\"Schisandraceae\">\n",
      "                Schisandraceae\n",
      "               </a>\n",
      "              </li>\n",
      "              <li>\n",
      "               <a href=\"/wiki/Schoepfiaceae\" title=\"Schoepfiaceae\">\n",
      "                Schoepfiaceae\n",
      "               </a>\n",
      "              </li>\n",
      "              <li>\n",
      "               <a href=\"/wiki/Somf%C3%A9l%C3%A9k\" title=\"Somfélék\">\n",
      "                Somfélék\n",
      "               </a>\n",
      "              </li>\n",
      "              <li>\n",
      "               <a href=\"/wiki/Sp%C3%A1rgaf%C3%A9l%C3%A9k\" title=\"Spárgafélék\">\n",
      "                Spárgafélék\n",
      "               </a>\n",
      "              </li>\n",
      "             </ul>\n",
      "            </div>\n",
      "            <div class=\"mw-category-group\">\n",
      "             <h3>\n",
      "              Sz\n",
      "             </h3>\n",
      "             <ul>\n",
      "              <li>\n",
      "               <a href=\"/wiki/Szappanfaf%C3%A9l%C3%A9k\" title=\"Szappanfafélék\">\n",
      "                Szappanfafélék\n",
      "               </a>\n",
      "              </li>\n",
      "              <li>\n",
      "               <a href=\"/wiki/Szegf%C5%B1f%C3%A9l%C3%A9k\" title=\"Szegfűfélék\">\n",
      "                Szegfűfélék\n",
      "               </a>\n",
      "              </li>\n",
      "              <li>\n",
      "               <a href=\"/wiki/Szilfaf%C3%A9l%C3%A9k\" title=\"Szilfafélék\">\n",
      "                Szilfafélék\n",
      "               </a>\n",
      "              </li>\n",
      "              <li>\n",
      "               <a href=\"/wiki/Szitty%C3%B3f%C3%A9l%C3%A9k\" title=\"Szittyófélék\">\n",
      "                Szittyófélék\n",
      "               </a>\n",
      "              </li>\n",
      "              <li>\n",
      "               <a href=\"/wiki/Szivarfaf%C3%A9l%C3%A9k\" title=\"Szivarfafélék\">\n",
      "                Szivarfafélék\n",
      "               </a>\n",
      "              </li>\n",
      "              <li>\n",
      "               <a href=\"/wiki/Sz%C5%91l%C5%91f%C3%A9l%C3%A9k\" title=\"Szőlőfélék\">\n",
      "                Szőlőfélék\n",
      "               </a>\n",
      "              </li>\n",
      "              <li>\n",
      "               <a href=\"/wiki/Sz%C3%B6m%C3%B6rcef%C3%A9l%C3%A9k\" title=\"Szömörcefélék\">\n",
      "                Szömörcefélék\n",
      "               </a>\n",
      "              </li>\n",
      "              <li>\n",
      "               <a href=\"/wiki/Szuharf%C3%A9l%C3%A9k\" title=\"Szuharfélék\">\n",
      "                Szuharfélék\n",
      "               </a>\n",
      "              </li>\n",
      "              <li>\n",
      "               <a href=\"/wiki/Szul%C3%A1kf%C3%A9l%C3%A9k\" title=\"Szulákfélék\">\n",
      "                Szulákfélék\n",
      "               </a>\n",
      "              </li>\n",
      "             </ul>\n",
      "            </div>\n",
      "            <div class=\"mw-category-group\">\n",
      "             <h3>\n",
      "              T\n",
      "             </h3>\n",
      "             <ul>\n",
      "              <li>\n",
      "               <a href=\"/wiki/T%C3%A1rnicsf%C3%A9l%C3%A9k\" title=\"Tárnicsfélék\">\n",
      "                Tárnicsfélék\n",
      "               </a>\n",
      "              </li>\n",
      "              <li>\n",
      "               <a href=\"/wiki/Teaf%C3%A9l%C3%A9k\" title=\"Teafélék\">\n",
      "                Teafélék\n",
      "               </a>\n",
      "              </li>\n",
      "              <li>\n",
      "               <a href=\"/wiki/Tiszafaf%C3%A9l%C3%A9k\" title=\"Tiszafafélék\">\n",
      "                Tiszafafélék\n",
      "               </a>\n",
      "              </li>\n",
      "              <li>\n",
      "               <a href=\"/wiki/T%C3%B6kf%C3%A9l%C3%A9k\" title=\"Tökfélék\">\n",
      "                Tökfélék\n",
      "               </a>\n",
      "              </li>\n",
      "              <li>\n",
      "               <a href=\"/wiki/Trochodendraceae\" title=\"Trochodendraceae\">\n",
      "                Trochodendraceae\n",
      "               </a>\n",
      "              </li>\n",
      "              <li>\n",
      "               <a href=\"/wiki/T%C3%BCnd%C3%A9rh%C3%ADn%C3%A1rf%C3%A9l%C3%A9k\" title=\"Tündérhínárfélék\">\n",
      "                Tündérhínárfélék\n",
      "               </a>\n",
      "              </li>\n",
      "              <li>\n",
      "               <a href=\"/wiki/T%C3%BCnd%C3%A9rr%C3%B3zsaf%C3%A9l%C3%A9k\" title=\"Tündérrózsafélék\">\n",
      "                Tündérrózsafélék\n",
      "               </a>\n",
      "              </li>\n",
      "             </ul>\n",
      "            </div>\n",
      "            <div class=\"mw-category-group\">\n",
      "             <h3>\n",
      "              U\n",
      "             </h3>\n",
      "             <ul>\n",
      "              <li>\n",
      "               <a href=\"/wiki/%C3%9Atif%C5%B1f%C3%A9l%C3%A9k\" title=\"Útifűfélék\">\n",
      "                Útifűfélék\n",
      "               </a>\n",
      "              </li>\n",
      "             </ul>\n",
      "            </div>\n",
      "            <div class=\"mw-category-group\">\n",
      "             <h3>\n",
      "              V\n",
      "             </h3>\n",
      "             <ul>\n",
      "              <li>\n",
      "               <a href=\"/wiki/Vajvir%C3%A1gf%C3%A9l%C3%A9k\" title=\"Vajvirágfélék\">\n",
      "                Vajvirágfélék\n",
      "               </a>\n",
      "              </li>\n",
      "              <li>\n",
      "               <a href=\"/wiki/Varj%C3%BAh%C3%A1jf%C3%A9l%C3%A9k\" title=\"Varjúhájfélék\">\n",
      "                Varjúhájfélék\n",
      "               </a>\n",
      "              </li>\n",
      "              <li>\n",
      "               <a href=\"/wiki/Vasf%C5%B1f%C3%A9l%C3%A9k\" title=\"Vasfűfélék\">\n",
      "                Vasfűfélék\n",
      "               </a>\n",
      "              </li>\n",
      "              <li>\n",
      "               <a href=\"/wiki/Vell%C3%B3ziaf%C3%A9l%C3%A9k\" title=\"Vellóziafélék\">\n",
      "                Vellóziafélék\n",
      "               </a>\n",
      "              </li>\n",
      "              <li>\n",
      "               <a href=\"/wiki/Vidraf%C5%B1f%C3%A9l%C3%A9k\" title=\"Vidrafűfélék\">\n",
      "                Vidrafűfélék\n",
      "               </a>\n",
      "              </li>\n",
      "              <li>\n",
      "               <a href=\"/wiki/Vill%C3%A1sp%C3%A1lmaf%C3%A9l%C3%A9k\" title=\"Villáspálmafélék\">\n",
      "                Villáspálmafélék\n",
      "               </a>\n",
      "              </li>\n",
      "              <li>\n",
      "               <a href=\"/wiki/Vir%C3%A1gk%C3%A1kaf%C3%A9l%C3%A9k\" title=\"Virágkákafélék\">\n",
      "                Virágkákafélék\n",
      "               </a>\n",
      "              </li>\n",
      "              <li>\n",
      "               <a href=\"/wiki/Vir%C3%A1gs%C3%A1sf%C3%A9l%C3%A9k\" title=\"Virágsásfélék\">\n",
      "                Virágsásfélék\n",
      "               </a>\n",
      "              </li>\n",
      "              <li>\n",
      "               <a href=\"/wiki/V%C3%ADzij%C3%A1cintf%C3%A9l%C3%A9k\" title=\"Vízijácintfélék\">\n",
      "                Vízijácintfélék\n",
      "               </a>\n",
      "              </li>\n",
      "              <li>\n",
      "               <a href=\"/wiki/Volvocaceae\" title=\"Volvocaceae\">\n",
      "                Volvocaceae\n",
      "               </a>\n",
      "              </li>\n",
      "             </ul>\n",
      "            </div>\n",
      "            <div class=\"mw-category-group\">\n",
      "             <h3>\n",
      "              Z\n",
      "             </h3>\n",
      "             <ul>\n",
      "              <li>\n",
      "               <a href=\"/wiki/Z%C3%A1szpaf%C3%A9l%C3%A9k\" title=\"Zászpafélék\">\n",
      "                Zászpafélék\n",
      "               </a>\n",
      "              </li>\n",
      "              <li>\n",
      "               <a href=\"/wiki/Zellerf%C3%A9l%C3%A9k\" title=\"Zellerfélék\">\n",
      "                Zellerfélék\n",
      "               </a>\n",
      "              </li>\n",
      "             </ul>\n",
      "            </div>\n",
      "            <div class=\"mw-category-group\">\n",
      "             <h3>\n",
      "              Zs\n",
      "             </h3>\n",
      "             <ul>\n",
      "              <li>\n",
      "               <a href=\"/wiki/Zsurl%C3%B3faf%C3%A9l%C3%A9k\" title=\"Zsurlófafélék\">\n",
      "                Zsurlófafélék\n",
      "               </a>\n",
      "              </li>\n",
      "              <li>\n",
      "               <a href=\"/wiki/Zsurl%C3%B3f%C3%A9l%C3%A9k\" title=\"Zsurlófélék\">\n",
      "                Zsurlófélék\n",
      "               </a>\n",
      "              </li>\n",
      "             </ul>\n",
      "            </div>\n",
      "           </div>\n",
      "          </div>\n",
      "         </div>\n",
      "        </div>\n",
      "        <!--esi <esi:include src=\"/esitest-fa8a495983347898/content\" /> -->\n",
      "        <noscript>\n",
      "         <img alt=\"\" height=\"1\" src=\"https://login.wikimedia.org/wiki/Special:CentralAutoLogin/start?type=1x1\" style=\"border: none; position: absolute;\" width=\"1\"/>\n",
      "        </noscript>\n",
      "        <div class=\"printfooter\" data-nosnippet=\"\">\n",
      "         A lap eredeti címe: „\n",
      "         <a dir=\"ltr\" href=\"https://hu.wikipedia.org/w/index.php?title=Kategória:Növénycsaládok&amp;oldid=14580898\">\n",
      "          https://hu.wikipedia.org/w/index.php?title=Kategória:Növénycsaládok&amp;oldid=14580898\n",
      "         </a>\n",
      "         ”\n",
      "        </div>\n",
      "       </div>\n",
      "       <div class=\"catlinks\" data-mw=\"interface\" id=\"catlinks\">\n",
      "        <div class=\"mw-normal-catlinks\" id=\"mw-normal-catlinks\">\n",
      "         <a href=\"/wiki/Wikip%C3%A9dia:Kateg%C3%B3ri%C3%A1k\" title=\"Wikipédia:Kategóriák\">\n",
      "          Kategória\n",
      "         </a>\n",
      "         :\n",
      "         <ul>\n",
      "          <li>\n",
      "           <a href=\"/wiki/Kateg%C3%B3ria:N%C3%B6v%C3%A9nyrendszertan\" title=\"Kategória:Növényrendszertan\">\n",
      "            Növényrendszertan\n",
      "           </a>\n",
      "          </li>\n",
      "         </ul>\n",
      "        </div>\n",
      "       </div>\n",
      "      </div>\n",
      "     </main>\n",
      "    </div>\n",
      "    <div class=\"mw-footer-container\">\n",
      "     <footer class=\"mw-footer\" id=\"footer\">\n",
      "      <ul id=\"footer-info\">\n",
      "       <li id=\"footer-info-lastmod\">\n",
      "        A lap utolsó módosítása: 2014. április 17., 17:13\n",
      "       </li>\n",
      "       <li id=\"footer-info-copyright\">\n",
      "        A lap szövege\n",
      "        <a href=\"http://creativecommons.org/licenses/by-sa/4.0/deed.hu\">\n",
      "         Creative Commons Nevezd meg! – Így add tovább! 4.0\n",
      "        </a>\n",
      "        licenc alatt van; egyes esetekben más módon is felhasználható. Részletekért lásd a\n",
      "        <a href=\"//hu.wikipedia.org/wiki/Wikip%C3%A9dia:Felhaszn%C3%A1l%C3%A1si_felt%C3%A9telek\">\n",
      "         felhasználási feltételeket\n",
      "        </a>\n",
      "        .\n",
      "       </li>\n",
      "      </ul>\n",
      "      <ul id=\"footer-places\">\n",
      "       <li id=\"footer-places-privacy\">\n",
      "        <a href=\"https://foundation.wikimedia.org/wiki/Special:MyLanguage/Policy:Privacy_policy\">\n",
      "         Adatvédelmi irányelvek\n",
      "        </a>\n",
      "       </li>\n",
      "       <li id=\"footer-places-about\">\n",
      "        <a href=\"/wiki/Wikip%C3%A9dia:R%C3%B3lunk\">\n",
      "         A Wikipédiáról\n",
      "        </a>\n",
      "       </li>\n",
      "       <li id=\"footer-places-disclaimers\">\n",
      "        <a href=\"/wiki/Wikip%C3%A9dia:Jogi_nyilatkozat\">\n",
      "         Jogi nyilatkozat\n",
      "        </a>\n",
      "       </li>\n",
      "       <li id=\"footer-places-wm-codeofconduct\">\n",
      "        <a href=\"https://foundation.wikimedia.org/wiki/Special:MyLanguage/Policy:Universal_Code_of_Conduct\">\n",
      "         Code of Conduct\n",
      "        </a>\n",
      "       </li>\n",
      "       <li id=\"footer-places-developers\">\n",
      "        <a href=\"https://developer.wikimedia.org\">\n",
      "         Fejlesztők\n",
      "        </a>\n",
      "       </li>\n",
      "       <li id=\"footer-places-statslink\">\n",
      "        <a href=\"https://stats.wikimedia.org/#/hu.wikipedia.org\">\n",
      "         Statisztikák\n",
      "        </a>\n",
      "       </li>\n",
      "       <li id=\"footer-places-cookiestatement\">\n",
      "        <a href=\"https://foundation.wikimedia.org/wiki/Special:MyLanguage/Policy:Cookie_statement\">\n",
      "         Sütinyilatkozat\n",
      "        </a>\n",
      "       </li>\n",
      "       <li id=\"footer-places-mobileview\">\n",
      "        <a class=\"noprint stopMobileRedirectToggle\" href=\"//hu.m.wikipedia.org/w/index.php?title=Kateg%C3%B3ria:N%C3%B6v%C3%A9nycsal%C3%A1dok&amp;mobileaction=toggle_view_mobile\">\n",
      "         Mobil nézet\n",
      "        </a>\n",
      "       </li>\n",
      "      </ul>\n",
      "      <ul class=\"noprint\" id=\"footer-icons\">\n",
      "       <li id=\"footer-copyrightico\">\n",
      "        <a href=\"https://wikimediafoundation.org/\">\n",
      "         <img alt=\"Wikimedia Foundation\" height=\"31\" loading=\"lazy\" src=\"/static/images/footer/wikimedia-button.png\" srcset=\"/static/images/footer/wikimedia-button-1.5x.png 1.5x, /static/images/footer/wikimedia-button-2x.png 2x\" width=\"88\"/>\n",
      "        </a>\n",
      "       </li>\n",
      "       <li id=\"footer-poweredbyico\">\n",
      "        <a href=\"https://www.mediawiki.org/\">\n",
      "         <img alt=\"Powered by MediaWiki\" height=\"31\" loading=\"lazy\" src=\"/static/images/footer/poweredby_mediawiki_88x31.png\" srcset=\"/static/images/footer/poweredby_mediawiki_132x47.png 1.5x, /static/images/footer/poweredby_mediawiki_176x62.png 2x\" width=\"88\"/>\n",
      "        </a>\n",
      "       </li>\n",
      "      </ul>\n",
      "     </footer>\n",
      "    </div>\n",
      "   </div>\n",
      "  </div>\n",
      "  <div class=\"vector-settings\" id=\"p-dock-bottom\">\n",
      "   <ul>\n",
      "    <li>\n",
      "     <button class=\"cdx-button cdx-button--icon-only vector-limited-width-toggle\">\n",
      "      <span class=\"vector-icon mw-ui-icon-fullScreen mw-ui-icon-wikimedia-fullScreen\">\n",
      "      </span>\n",
      "      <span>\n",
      "       Korlátozott tartalomszélesség ki/be\n",
      "      </span>\n",
      "     </button>\n",
      "    </li>\n",
      "   </ul>\n",
      "  </div>\n",
      "  <script>\n",
      "   (RLQ=window.RLQ||[]).push(function(){mw.config.set({\"wgHostname\":\"mw-web.eqiad.main-bd6bfc586-bxgfs\",\"wgBackendResponseTime\":196,\"wgPageParseReport\":{\"limitreport\":{\"cputime\":\"0.019\",\"walltime\":\"0.029\",\"ppvisitednodes\":{\"value\":95,\"limit\":1000000},\"postexpandincludesize\":{\"value\":3501,\"limit\":2097152},\"templateargumentsize\":{\"value\":1312,\"limit\":2097152},\"expansiondepth\":{\"value\":6,\"limit\":100},\"expensivefunctioncount\":{\"value\":0,\"limit\":500},\"unstrip-depth\":{\"value\":0,\"limit\":20},\"unstrip-size\":{\"value\":473,\"limit\":5000000},\"entityaccesscount\":{\"value\":0,\"limit\":400},\"timingprofile\":[\"100.00%   17.813      1 -total\",\" 69.08%   12.305      1 Sablon:Commonskat\",\" 57.31%   10.209      1 Sablon:Társprojekt_alap\",\" 30.44%    5.422      1 Sablon:Rendszertani_egység_szerinti_kategória\",\" 15.51%    2.763      1 Sablon:Ambox\"]},\"cachereport\":{\"origin\":\"mw-web.eqiad.main-7768bf78c7-lp22v\",\"timestamp\":\"20240607090509\",\"ttl\":2592000,\"transientcontent\":false}}});});\n",
      "  </script>\n",
      " </body>\n",
      "</html>\n",
      "\n"
     ]
    }
   ],
   "source": [
    "print(soup.prettify())"
   ]
  },
  {
   "cell_type": "markdown",
   "id": "e2e5303a",
   "metadata": {},
   "source": [
    "### Bizonyos HTML tag keresése\n",
    "\n",
    "<code>prettify()</code> itt is működik"
   ]
  },
  {
   "cell_type": "code",
   "execution_count": 7,
   "id": "7ad00358",
   "metadata": {
    "tags": [
     "scroll-output"
    ]
   },
   "outputs": [
    {
     "name": "stdout",
     "output_type": "stream",
     "text": [
      "<div class=\"vector-header-container\">\n",
      "<header class=\"vector-header mw-header\">\n",
      "<div class=\"vector-header-start\">\n",
      "<nav aria-label=\"Wiki\" class=\"vector-main-menu-landmark\">\n",
      "<div class=\"vector-dropdown vector-main-menu-dropdown vector-button-flush-left vector-button-flush-right\" id=\"vector-main-menu-dropdown\">\n",
      "<input aria-haspopup=\"true\" aria-label=\"Főmenü\" class=\"vector-dropdown-checkbox\" data-event-name=\"ui.dropdown-vector-main-menu-dropdown\" id=\"vector-main-menu-dropdown-checkbox\" role=\"button\" type=\"checkbox\"/>\n",
      "<label aria-hidden=\"true\" class=\"vector-dropdown-label cdx-button cdx-button--fake-button cdx-button--fake-button--enabled cdx-button--weight-quiet cdx-button--icon-only\" for=\"vector-main-menu-dropdown-checkbox\" id=\"vector-main-menu-dropdown-label\"><span class=\"vector-icon mw-ui-icon-menu mw-ui-icon-wikimedia-menu\"></span>\n",
      "<span class=\"vector-dropdown-label-text\">Főmenü</span>\n",
      "</label>\n",
      "<div class=\"vector-dropdown-content\">\n",
      "<div class=\"vector-unpinned-container\" id=\"vector-main-menu-unpinned-container\">\n",
      "<div class=\"vector-main-menu vector-pinnable-element\" id=\"vector-main-menu\">\n",
      "<div class=\"vector-pinnable-header vector-main-menu-pinnable-header vector-pinnable-header-unpinned\" data-feature-name=\"main-menu-pinned\" data-pinnable-element-id=\"vector-main-menu\" data-pinned-container-id=\"vector-main-menu-pinned-container\" data-unpinned-container-id=\"vector-main-menu-unpinned-container\">\n",
      "<div class=\"vector-pinnable-header-label\">Főmenü</div>\n",
      "<button class=\"vector-pinnable-header-toggle-button vector-pinnable-header-pin-button\" data-event-name=\"pinnable-header.vector-main-menu.pin\">áthelyezés az oldalsávba</button>\n",
      "<button class=\"vector-pinnable-header-toggle-button vector-pinnable-header-unpin-button\" data-event-name=\"pinnable-header.vector-main-menu.unpin\">elrejtés</button>\n",
      "</div>\n",
      "<div class=\"vector-menu mw-portlet mw-portlet-navigation\" id=\"p-navigation\">\n",
      "<div class=\"vector-menu-heading\">\n",
      "\t\tNavigáció\n",
      "\t</div>\n",
      "<div class=\"vector-menu-content\">\n",
      "<ul class=\"vector-menu-content-list\">\n",
      "<li class=\"mw-list-item\" id=\"n-mainpage-description\"><a accesskey=\"z\" href=\"/wiki/Kezd%C5%91lap\" title=\"A kezdőlap megtekintése [z]\"><span>Kezdőlap</span></a></li><li class=\"mw-list-item\" id=\"n-sidebar-contents\"><a href=\"/wiki/Wikip%C3%A9dia:Tartalom\"><span>Tartalom</span></a></li><li class=\"mw-list-item\" id=\"n-sidebar-featured\"><a href=\"/wiki/Wikip%C3%A9dia:Kiemelt_sz%C3%B3cikkek_list%C3%A1ja\"><span>Kiemelt szócikkek</span></a></li><li class=\"mw-list-item\" id=\"n-recentchanges\"><a accesskey=\"r\" href=\"/wiki/Speci%C3%A1lis:Friss_v%C3%A1ltoztat%C3%A1sok\" title=\"A wikiben történt legutóbbi változtatások listája [r]\"><span>Friss változtatások</span></a></li><li class=\"mw-list-item\" id=\"n-randompage\"><a accesskey=\"x\" href=\"/wiki/Speci%C3%A1lis:Lap_tal%C3%A1lomra\" title=\"Egy véletlenszerűen kiválasztott lap betöltése [x]\"><span>Lap találomra</span></a></li><li class=\"mw-list-item\" id=\"n-sidebar-enquiries\"><a href=\"/wiki/Wikip%C3%A9dia:Tudakoz%C3%B3\"><span>Tudakozó</span></a></li>\n",
      "</ul>\n",
      "</div>\n",
      "</div>\n",
      "<div class=\"vector-menu mw-portlet mw-portlet-sidebar-participate\" id=\"p-sidebar-participate\">\n",
      "<div class=\"vector-menu-heading\">\n",
      "\t\tRészvétel\n",
      "\t</div>\n",
      "<div class=\"vector-menu-content\">\n",
      "<ul class=\"vector-menu-content-list\">\n",
      "<li class=\"mw-list-item\" id=\"n-sidebar-basics\"><a href=\"/wiki/Wikip%C3%A9dia:%C3%9Aj_szerkeszt%C5%91knek\"><span>Kezdőknek</span></a></li><li class=\"mw-list-item\" id=\"n-sidebar-help\"><a href=\"/wiki/Wikip%C3%A9dia:Seg%C3%ADts%C3%A9g\"><span>Segítség</span></a></li><li class=\"mw-list-item\" id=\"n-portal\"><a href=\"/wiki/Port%C3%A1l:K%C3%B6z%C3%B6ss%C3%A9g\" title=\"A projektről, miben segíthetsz, mit hol találsz meg\"><span>Közösségi portál</span></a></li><li class=\"mw-list-item\" id=\"n-sidebar-contact\"><a href=\"/wiki/Wikip%C3%A9dia:Kapcsolatfelv%C3%A9tel\"><span>Kapcsolatfelvétel</span></a></li><li class=\"mw-list-item\" id=\"n-sitesupport\"><a href=\"//donate.wikimedia.org/wiki/Special:FundraiserRedirector?utm_source=donate&amp;utm_medium=sidebar&amp;utm_campaign=C13_hu.wikipedia.org&amp;uselang=hu\" title=\"Támogatás\"><span>Adományok</span></a></li>\n",
      "</ul>\n",
      "</div>\n",
      "</div>\n",
      "</div>\n",
      "</div>\n",
      "</div>\n",
      "</div>\n",
      "</nav>\n",
      "<a class=\"mw-logo\" href=\"/wiki/Kezd%C5%91lap\">\n",
      "<img alt=\"\" aria-hidden=\"true\" class=\"mw-logo-icon\" height=\"50\" src=\"/static/images/icons/wikipedia.png\" width=\"50\"/>\n",
      "<span class=\"mw-logo-container skin-invert\">\n",
      "<img alt=\"Wikipédia\" class=\"mw-logo-wordmark\" src=\"/static/images/mobile/copyright/wikipedia-wordmark-fr.svg\" style=\"width: 7.4375em; height: 1.125em;\"/>\n",
      "<img alt=\"\" class=\"mw-logo-tagline\" height=\"13\" src=\"/static/images/mobile/copyright/wikipedia-tagline-hu.svg\" style=\"width: 7.5em; height: 0.8125em;\" width=\"120\"/>\n",
      "</span>\n",
      "</a>\n",
      "</div>\n",
      "<div class=\"vector-header-end\">\n",
      "<div class=\"vector-search-box-vue vector-search-box-collapses vector-search-box-show-thumbnail vector-search-box-auto-expand-width vector-search-box\" id=\"p-search\" role=\"search\">\n",
      "<a accesskey=\"f\" class=\"cdx-button cdx-button--fake-button cdx-button--fake-button--enabled cdx-button--weight-quiet cdx-button--icon-only search-toggle\" href=\"/wiki/Speci%C3%A1lis:Keres%C3%A9s\" title=\"Keresés a Wikipédián [f]\"><span class=\"vector-icon mw-ui-icon-search mw-ui-icon-wikimedia-search\"></span>\n",
      "<span>Keresés</span>\n",
      "</a>\n",
      "<div class=\"vector-typeahead-search-container\">\n",
      "<div class=\"cdx-typeahead-search cdx-typeahead-search--show-thumbnail cdx-typeahead-search--auto-expand-width\">\n",
      "<form action=\"/w/index.php\" class=\"cdx-search-input cdx-search-input--has-end-button\" id=\"searchform\">\n",
      "<div class=\"cdx-search-input__input-wrapper\" data-search-loc=\"header-moved\" id=\"simpleSearch\">\n",
      "<div class=\"cdx-text-input cdx-text-input--has-start-icon\">\n",
      "<input accesskey=\"f\" aria-label=\"Keresés a Wikipédián\" autocapitalize=\"sentences\" class=\"cdx-text-input__input\" id=\"searchInput\" name=\"search\" placeholder=\"Keresés a Wikipédián\" title=\"Keresés a Wikipédián [f]\" type=\"search\"/>\n",
      "<span class=\"cdx-text-input__icon cdx-text-input__start-icon\"></span>\n",
      "</div>\n",
      "<input name=\"title\" type=\"hidden\" value=\"Speciális:Keresés\"/>\n",
      "</div>\n",
      "<button class=\"cdx-button cdx-search-input__end-button\">Keresés</button>\n",
      "</form>\n",
      "</div>\n",
      "</div>\n",
      "</div>\n",
      "<nav aria-label=\"Személyes eszközök\" class=\"vector-user-links vector-user-links-wide\">\n",
      "<div class=\"vector-user-links-main\">\n",
      "<div class=\"vector-menu mw-portlet emptyPortlet\" id=\"p-vector-user-menu-preferences\">\n",
      "<div class=\"vector-menu-content\">\n",
      "<ul class=\"vector-menu-content-list\">\n",
      "</ul>\n",
      "</div>\n",
      "</div>\n",
      "<div class=\"vector-menu mw-portlet emptyPortlet\" id=\"p-vector-user-menu-userpage\">\n",
      "<div class=\"vector-menu-content\">\n",
      "<ul class=\"vector-menu-content-list\">\n",
      "</ul>\n",
      "</div>\n",
      "</div>\n",
      "<nav aria-label=\"Megjelenés\" class=\"vector-appearance-landmark\">\n",
      "</nav>\n",
      "<div class=\"vector-menu mw-portlet emptyPortlet\" id=\"p-vector-user-menu-notifications\">\n",
      "<div class=\"vector-menu-content\">\n",
      "<ul class=\"vector-menu-content-list\">\n",
      "</ul>\n",
      "</div>\n",
      "</div>\n",
      "<div class=\"vector-menu mw-portlet\" id=\"p-vector-user-menu-overflow\">\n",
      "<div class=\"vector-menu-content\">\n",
      "<ul class=\"vector-menu-content-list\">\n",
      "<li class=\"user-links-collapsible-item mw-list-item user-links-collapsible-item\" id=\"pt-createaccount-2\"><a class=\"\" data-mw=\"interface\" href=\"/w/index.php?title=Speci%C3%A1lis:Szerkeszt%C5%91i_fi%C3%B3k_l%C3%A9trehoz%C3%A1sa&amp;returnto=Kateg%C3%B3ria%3AN%C3%B6v%C3%A9nycsal%C3%A1dok\" title=\"Arra bíztatunk, hogy hozz létre egy fiókot, és jelentkezz be, azonban ez nem kötelező\"><span>Fiók létrehozása</span></a>\n",
      "</li>\n",
      "<li class=\"user-links-collapsible-item mw-list-item user-links-collapsible-item\" id=\"pt-login-2\"><a accesskey=\"o\" class=\"\" data-mw=\"interface\" href=\"/w/index.php?title=Speci%C3%A1lis:Bel%C3%A9p%C3%A9s&amp;returnto=Kateg%C3%B3ria%3AN%C3%B6v%C3%A9nycsal%C3%A1dok\" title=\"Bejelentkezni javasolt, de nem kötelező [o]\"><span>Bejelentkezés</span></a>\n",
      "</li>\n",
      "</ul>\n",
      "</div>\n",
      "</div>\n",
      "</div>\n",
      "<div class=\"vector-dropdown vector-user-menu vector-button-flush-right vector-user-menu-logged-out\" id=\"vector-user-links-dropdown\" title=\"További lehetőségek\">\n",
      "<input aria-haspopup=\"true\" aria-label=\"Személyes eszközök\" class=\"vector-dropdown-checkbox\" data-event-name=\"ui.dropdown-vector-user-links-dropdown\" id=\"vector-user-links-dropdown-checkbox\" role=\"button\" type=\"checkbox\"/>\n",
      "<label aria-hidden=\"true\" class=\"vector-dropdown-label cdx-button cdx-button--fake-button cdx-button--fake-button--enabled cdx-button--weight-quiet cdx-button--icon-only\" for=\"vector-user-links-dropdown-checkbox\" id=\"vector-user-links-dropdown-label\"><span class=\"vector-icon mw-ui-icon-ellipsis mw-ui-icon-wikimedia-ellipsis\"></span>\n",
      "<span class=\"vector-dropdown-label-text\">Személyes eszközök</span>\n",
      "</label>\n",
      "<div class=\"vector-dropdown-content\">\n",
      "<div class=\"vector-menu mw-portlet mw-portlet-personal user-links-collapsible-item\" id=\"p-personal\" title=\"Felhasználói menü\">\n",
      "<div class=\"vector-menu-content\">\n",
      "<ul class=\"vector-menu-content-list\">\n",
      "<li class=\"user-links-collapsible-item mw-list-item\" id=\"pt-createaccount\"><a href=\"/w/index.php?title=Speci%C3%A1lis:Szerkeszt%C5%91i_fi%C3%B3k_l%C3%A9trehoz%C3%A1sa&amp;returnto=Kateg%C3%B3ria%3AN%C3%B6v%C3%A9nycsal%C3%A1dok\" title=\"Arra bíztatunk, hogy hozz létre egy fiókot, és jelentkezz be, azonban ez nem kötelező\"><span class=\"vector-icon mw-ui-icon-userAdd mw-ui-icon-wikimedia-userAdd\"></span> <span>Fiók létrehozása</span></a></li><li class=\"user-links-collapsible-item mw-list-item\" id=\"pt-login\"><a accesskey=\"o\" href=\"/w/index.php?title=Speci%C3%A1lis:Bel%C3%A9p%C3%A9s&amp;returnto=Kateg%C3%B3ria%3AN%C3%B6v%C3%A9nycsal%C3%A1dok\" title=\"Bejelentkezni javasolt, de nem kötelező [o]\"><span class=\"vector-icon mw-ui-icon-logIn mw-ui-icon-wikimedia-logIn\"></span> <span>Bejelentkezés</span></a></li>\n",
      "</ul>\n",
      "</div>\n",
      "</div>\n",
      "<div class=\"vector-menu mw-portlet mw-portlet-user-menu-anon-editor\" id=\"p-user-menu-anon-editor\">\n",
      "<div class=\"vector-menu-heading\">\n",
      "\t\tLapok kijelentkezett szerkesztőknek <a aria-label=\"Tudj meg többet a szerkesztésről\" href=\"/wiki/Seg%C3%ADts%C3%A9g:Bevezet%C3%A9s\"><span>további információk</span></a>\n",
      "</div>\n",
      "<div class=\"vector-menu-content\">\n",
      "<ul class=\"vector-menu-content-list\">\n",
      "<li class=\"mw-list-item\" id=\"pt-anoncontribs\"><a accesskey=\"y\" href=\"/wiki/Speci%C3%A1lis:K%C3%B6zrem%C5%B1k%C3%B6d%C3%A9seim\" title=\"Erről az IP-címről végrehajtott szerkesztések listája [y]\"><span>Közreműködések</span></a></li><li class=\"mw-list-item\" id=\"pt-anontalk\"><a accesskey=\"n\" href=\"/wiki/Speci%C3%A1lis:Vit%C3%A1m\" title=\"Az általad használt IP-címről végrehajtott szerkesztések megvitatása [n]\"><span>Vitalap</span></a></li>\n",
      "</ul>\n",
      "</div>\n",
      "</div>\n",
      "</div>\n",
      "</div>\n",
      "</nav>\n",
      "</div>\n",
      "</header>\n",
      "</div>\n"
     ]
    }
   ],
   "source": [
    "articles = soup.find(\"div\")\n",
    "print(articles)"
   ]
  },
  {
   "cell_type": "markdown",
   "id": "4a576fd0",
   "metadata": {},
   "source": [
    "A választott weboldalon jobb kattintás után <code>Vizsgálat</code> (<code>Inspect</code>) funkció sok hasznos információt árul el a weboldal felépítéséről.\n",
    "\n",
    "![web_scraping_1](figures/web_scraping_1.png)"
   ]
  },
  {
   "cell_type": "code",
   "execution_count": 8,
   "id": "db7720e6-4c73-4a6a-ae92-95bfc26505c3",
   "metadata": {
    "tags": [
     "scroll-output"
    ]
   },
   "outputs": [
    {
     "name": "stdout",
     "output_type": "stream",
     "text": [
      "<div class=\"mw-category mw-category-columns\"><div class=\"mw-category-group\"><h3> </h3>\n",
      "<ul><li><a href=\"/wiki/N%C3%B6v%C3%A9nycsal%C3%A1dok_list%C3%A1ja\" title=\"Növénycsaládok listája\">Növénycsaládok listája</a></li></ul></div><div class=\"mw-category-group\"><h3>A</h3>\n",
      "<ul><li><a href=\"/wiki/Alk%C3%B6rm%C3%B6sf%C3%A9l%C3%A9k\" title=\"Alkörmösfélék\">Alkörmösfélék</a></li>\n",
      "<li><a href=\"/wiki/%C3%81ltiszafaf%C3%A9l%C3%A9k\" title=\"Áltiszafafélék\">Áltiszafafélék</a></li>\n",
      "<li><a href=\"/wiki/Amarilliszf%C3%A9l%C3%A9k\" title=\"Amarilliszfélék\">Amarilliszfélék</a></li>\n",
      "<li><a href=\"/wiki/Anacampserotaceae\" title=\"Anacampserotaceae\">Anacampserotaceae</a></li>\n",
      "<li><a href=\"/wiki/Ann%C3%B3naf%C3%A9l%C3%A9k\" title=\"Annónafélék\">Annónafélék</a></li>\n",
      "<li><a href=\"/wiki/Apodanthaceae\" title=\"Apodanthaceae\">Apodanthaceae</a></li>\n",
      "<li><a href=\"/wiki/Ar%C3%A1liaf%C3%A9l%C3%A9k\" title=\"Aráliafélék\">Aráliafélék</a></li>\n",
      "<li><a href=\"/wiki/Arauk%C3%A1riaf%C3%A9l%C3%A9k\" title=\"Araukáriafélék\">Araukáriafélék</a></li>\n",
      "<li><a href=\"/wiki/%C3%81rvacsal%C3%A1nf%C3%A9l%C3%A9k\" title=\"Árvacsalánfélék\">Árvacsalánfélék</a></li></ul></div><div class=\"mw-category-group\"><h3>B</h3>\n",
      "<ul><li><a href=\"/wiki/Bab%C3%A9rf%C3%A9l%C3%A9k\" title=\"Babérfélék\">Babérfélék</a></li>\n",
      "<li><a href=\"/wiki/B%C3%A1lv%C3%A1nyfaf%C3%A9l%C3%A9k\" title=\"Bálványfafélék\">Bálványfafélék</a></li>\n",
      "<li><a href=\"/wiki/Ban%C3%A1nf%C3%A9l%C3%A9k\" title=\"Banánfélék\">Banánfélék</a></li>\n",
      "<li><a href=\"/wiki/Barkamirtuszf%C3%A9l%C3%A9k\" title=\"Barkamirtuszfélék\">Barkamirtuszfélék</a></li>\n",
      "<li><a href=\"/wiki/Beg%C3%B3niaf%C3%A9l%C3%A9k\" title=\"Begóniafélék\">Begóniafélék</a></li>\n",
      "<li><a href=\"/wiki/B%C3%A9kasz%C5%91l%C5%91f%C3%A9l%C3%A9k\" title=\"Békaszőlőfélék\">Békaszőlőfélék</a></li>\n",
      "<li><a href=\"/wiki/B%C3%A9katutajf%C3%A9l%C3%A9k\" title=\"Békatutajfélék\">Békatutajfélék</a></li>\n",
      "<li><a href=\"/wiki/Bengef%C3%A9l%C3%A9k\" title=\"Bengefélék\">Bengefélék</a></li>\n",
      "<li><a href=\"/wiki/Bogl%C3%A1rkaf%C3%A9l%C3%A9k\" title=\"Boglárkafélék\">Boglárkafélék</a></li>\n",
      "<li><a href=\"/wiki/Bor%C3%A1g%C3%B3f%C3%A9l%C3%A9k\" title=\"Borágófélék\">Borágófélék</a></li>\n",
      "<li><a href=\"/wiki/Borbolyaf%C3%A9l%C3%A9k\" title=\"Borbolyafélék\">Borbolyafélék</a></li>\n",
      "<li><a href=\"/wiki/Boroszl%C3%A1nf%C3%A9l%C3%A9k\" title=\"Boroszlánfélék\">Boroszlánfélék</a></li>\n",
      "<li><a href=\"/wiki/Borsf%C3%A9l%C3%A9k\" title=\"Borsfélék\">Borsfélék</a></li>\n",
      "<li><a href=\"/wiki/Brom%C3%A9liaf%C3%A9l%C3%A9k\" title=\"Broméliafélék\">Broméliafélék</a></li>\n",
      "<li><a href=\"/wiki/Bunk%C3%B3sp%C3%A1lmaf%C3%A9l%C3%A9k\" title=\"Bunkóspálmafélék\">Bunkóspálmafélék</a></li>\n",
      "<li><a href=\"/wiki/Burgonyaf%C3%A9l%C3%A9k\" title=\"Burgonyafélék\">Burgonyafélék</a></li>\n",
      "<li><a href=\"/wiki/Buz%C3%A9rf%C3%A9l%C3%A9k\" title=\"Buzérfélék\">Buzérfélék</a></li>\n",
      "<li><a href=\"/wiki/B%C3%BCkkfaf%C3%A9l%C3%A9k\" title=\"Bükkfafélék\">Bükkfafélék</a></li></ul></div><div class=\"mw-category-group\"><h3>C</h3>\n",
      "<ul><li><a href=\"/wiki/Chlamydomonadaceae\" title=\"Chlamydomonadaceae\">Chlamydomonadaceae</a></li>\n",
      "<li><a href=\"/wiki/Cik%C3%A1szf%C3%A9l%C3%A9k\" title=\"Cikászfélék\">Cikászfélék</a></li>\n",
      "<li><a href=\"/wiki/Ciprusf%C3%A9l%C3%A9k\" title=\"Ciprusfélék\">Ciprusfélék</a></li>\n",
      "<li><a href=\"/wiki/Cleomaceae\" title=\"Cleomaceae\">Cleomaceae</a></li></ul></div><div class=\"mw-category-group\"><h3>Cs</h3>\n",
      "<ul><li><a href=\"/wiki/Csal%C3%A1nf%C3%A9l%C3%A9k\" title=\"Csalánfélék\">Csalánfélék</a></li>\n",
      "<li><a href=\"/wiki/Csatavir%C3%A1gf%C3%A9l%C3%A9k\" title=\"Csatavirágfélék\">Csatavirágfélék</a></li>\n",
      "<li><a href=\"/wiki/Csavarp%C3%A1lmaf%C3%A9l%C3%A9k\" title=\"Csavarpálmafélék\">Csavarpálmafélék</a></li>\n",
      "<li><a href=\"/wiki/Csik%C3%B3fark\" title=\"Csikófark\">Csikófark</a></li>\n",
      "<li><a href=\"/wiki/Csipkeharasztok\" title=\"Csipkeharasztok\">Csipkeharasztok</a></li>\n",
      "<li><a href=\"/wiki/Csodat%C3%B6lcs%C3%A9rf%C3%A9l%C3%A9k\" title=\"Csodatölcsérfélék\">Csodatölcsérfélék</a></li>\n",
      "<li><a href=\"/wiki/Csuporkaf%C3%A9l%C3%A9k\" title=\"Csuporkafélék\">Csuporkafélék</a></li></ul></div><div class=\"mw-category-group\"><h3>D</h3>\n",
      "<ul><li><a href=\"/wiki/Dasypogonaceae\" title=\"Dasypogonaceae\">Dasypogonaceae</a></li>\n",
      "<li><a href=\"/wiki/Dill%C3%A9niaf%C3%A9l%C3%A9k\" title=\"Dilléniafélék\">Dilléniafélék</a></li>\n",
      "<li><a href=\"/wiki/Dinnyefaf%C3%A9l%C3%A9k\" title=\"Dinnyefafélék\">Dinnyefafélék</a></li>\n",
      "<li><a href=\"/wiki/Di%C3%B3faf%C3%A9l%C3%A9k\" title=\"Diófafélék\">Diófafélék</a></li>\n",
      "<li><a href=\"/wiki/Dipentodontaceae\" title=\"Dipentodontaceae\">Dipentodontaceae</a></li>\n",
      "<li><a href=\"/wiki/Dipterokarpuszf%C3%A9l%C3%A9k\" title=\"Dipterokarpuszfélék\">Dipterokarpuszfélék</a></li>\n",
      "<li><a href=\"/wiki/D%C3%ADszlev%C3%A9lfaf%C3%A9l%C3%A9k\" title=\"Díszlevélfafélék\">Díszlevélfafélék</a></li>\n",
      "<li><a href=\"/wiki/Diszn%C3%B3par%C3%A9jf%C3%A9l%C3%A9k\" title=\"Disznóparéjfélék\">Disznóparéjfélék</a></li></ul></div><div class=\"mw-category-group\"><h3>E</h3>\n",
      "<ul><li><a href=\"/wiki/Eperfaf%C3%A9l%C3%A9k\" title=\"Eperfafélék\">Eperfafélék</a></li>\n",
      "<li><a href=\"/wiki/Escalloniaceae\" title=\"Escalloniaceae\">Escalloniaceae</a></li>\n",
      "<li><a href=\"/wiki/Ez%C3%BCstfaf%C3%A9l%C3%A9k\" title=\"Ezüstfafélék\">Ezüstfafélék</a></li></ul></div><div class=\"mw-category-group\"><h3>F</h3>\n",
      "<ul><li><a href=\"/wiki/Fak%C3%ADnf%C3%A9l%C3%A9k\" title=\"Fakínfélék\">Fakínfélék</a></li>\n",
      "<li><a href=\"/wiki/Farkasalmaf%C3%A9l%C3%A9k\" title=\"Farkasalmafélék\">Farkasalmafélék</a></li>\n",
      "<li><a href=\"/wiki/Feny%C5%91f%C3%A9l%C3%A9k\" title=\"Fenyőfélék\">Fenyőfélék</a></li>\n",
      "<li><a href=\"/wiki/Fissidentaceae\" title=\"Fissidentaceae\">Fissidentaceae</a></li>\n",
      "<li><a href=\"/wiki/Fogpiszk%C3%A1l%C3%B3f%C5%B1\" title=\"Fogpiszkálófű\">Fogpiszkálófű</a></li>\n",
      "<li><a href=\"/wiki/F%C5%B1faf%C3%A9l%C3%A9k\" title=\"Fűfafélék\">Fűfafélék</a></li>\n",
      "<li><a href=\"/wiki/F%C5%B1szercserjef%C3%A9l%C3%A9k\" title=\"Fűszercserjefélék\">Fűszercserjefélék</a></li>\n",
      "<li><a href=\"/wiki/F%C3%BCz%C3%A9nyf%C3%A9l%C3%A9k\" title=\"Füzényfélék\">Füzényfélék</a></li>\n",
      "<li><a href=\"/wiki/F%C5%B1zfaf%C3%A9l%C3%A9k\" title=\"Fűzfafélék\">Fűzfafélék</a></li></ul></div><div class=\"mw-category-group\"><h3>G</h3>\n",
      "<ul><li><a href=\"/wiki/Gn%C3%A9tum\" title=\"Gnétum\">Gnétum</a></li>\n",
      "<li><a href=\"/wiki/Golgotavir%C3%A1gf%C3%A9l%C3%A9k\" title=\"Golgotavirágfélék\">Golgotavirágfélék</a></li>\n",
      "<li><a href=\"/wiki/G%C3%B3lyaorrf%C3%A9l%C3%A9k\" title=\"Gólyaorrfélék\">Gólyaorrfélék</a></li>\n",
      "<li><a href=\"/wiki/G%C3%B6rv%C3%A9lyf%C5%B1f%C3%A9l%C3%A9k\" title=\"Görvélyfűfélék\">Görvélyfűfélék</a></li></ul></div><div class=\"mw-category-group\"><h3>Gy</h3>\n",
      "<ul><li><a href=\"/wiki/Gy%C3%A9k%C3%A9nyf%C3%A9l%C3%A9k\" title=\"Gyékényfélék\">Gyékényfélék</a></li>\n",
      "<li><a href=\"/wiki/Gyommohaf%C3%A9l%C3%A9k\" title=\"Gyommohafélék\">Gyommohafélék</a></li>\n",
      "<li><a href=\"/wiki/Gy%C3%B6mb%C3%A9rf%C3%A9l%C3%A9k\" title=\"Gyömbérfélék\">Gyömbérfélék</a></li>\n",
      "<li><a href=\"/wiki/Gy%C3%B6ngyvir%C3%A1gfaf%C3%A9l%C3%A9k\" title=\"Gyöngyvirágfafélék\">Gyöngyvirágfafélék</a></li></ul></div><div class=\"mw-category-group\"><h3>H</h3>\n",
      "<ul><li><span class=\"redirect-in-category\"><a class=\"mw-redirect\" href=\"/wiki/Halimedaceae\" title=\"Halimedaceae\">Halimedaceae</a></span></li>\n",
      "<li><a href=\"/wiki/Hangaf%C3%A9l%C3%A9k\" title=\"Hangafélék\">Hangafélék</a></li>\n",
      "<li><a href=\"/wiki/Harangvir%C3%A1gf%C3%A9l%C3%A9k\" title=\"Harangvirágfélék\">Harangvirágfélék</a></li>\n",
      "<li><a href=\"/wiki/Harmatf%C5%B1f%C3%A9l%C3%A9k\" title=\"Harmatfűfélék\">Harmatfűfélék</a></li>\n",
      "<li><a href=\"/wiki/Hernandiaceae\" title=\"Hernandiaceae\">Hernandiaceae</a></li>\n",
      "<li><a href=\"/wiki/H%C3%ADd%C5%91rf%C3%A9l%C3%A9k\" title=\"Hídőrfélék\">Hídőrfélék</a></li>\n",
      "<li><a href=\"/wiki/Hortenziaf%C3%A9l%C3%A9k\" title=\"Hortenziafélék\">Hortenziafélék</a></li>\n",
      "<li><a href=\"/wiki/Hydatellaceae\" title=\"Hydatellaceae\">Hydatellaceae</a></li>\n",
      "<li><a href=\"/wiki/Hypoxidaceae\" title=\"Hypoxidaceae\">Hypoxidaceae</a></li></ul></div><div class=\"mw-category-group\"><h3>I</h3>\n",
      "<ul><li><a href=\"/wiki/Ibolyaf%C3%A9l%C3%A9k\" title=\"Ibolyafélék\">Ibolyafélék</a></li></ul></div><div class=\"mw-category-group\"><h3>J</h3>\n",
      "<ul><li><a href=\"/wiki/Jap%C3%A1n_erny%C5%91feny%C5%91\" title=\"Japán ernyőfenyő\">Japán ernyőfenyő</a></li></ul></div><div class=\"mw-category-group\"><h3>K</h3>\n",
      "<ul><li><a href=\"/wiki/Kaktuszf%C3%A9l%C3%A9k\" title=\"Kaktuszfélék\">Kaktuszfélék</a></li>\n",
      "<li><a href=\"/wiki/K%C3%A1lmosvir%C3%A1g%C3%BAak\" title=\"Kálmosvirágúak\">Kálmosvirágúak</a></li>\n",
      "<li><a href=\"/wiki/Kankalinf%C3%A9l%C3%A9k\" title=\"Kankalinfélék\">Kankalinfélék</a></li>\n",
      "<li><a href=\"/wiki/Kannaf%C3%A9l%C3%A9k\" title=\"Kannafélék\">Kannafélék</a></li>\n",
      "<li><a href=\"/wiki/K%C3%A1posztaf%C3%A9l%C3%A9k\" title=\"Káposztafélék\">Káposztafélék</a></li>\n",
      "<li><a href=\"/wiki/Kaprif%C3%A9l%C3%A9k\" title=\"Kaprifélék\">Kaprifélék</a></li>\n",
      "<li><a href=\"/wiki/Kazu%C3%A1rfaf%C3%A9l%C3%A9k\" title=\"Kazuárfafélék\">Kazuárfafélék</a></li>\n",
      "<li><a href=\"/wiki/Kecsker%C3%A1g%C3%B3f%C3%A9l%C3%A9k\" title=\"Kecskerágófélék\">Kecskerágófélék</a></li>\n",
      "<li><a href=\"/wiki/K%C3%A9kh%C3%BCvelyf%C3%A9l%C3%A9k\" title=\"Kékhüvelyfélék\">Kékhüvelyfélék</a></li>\n",
      "<li><a href=\"/wiki/Kenderf%C3%A9l%C3%A9k\" title=\"Kenderfélék\">Kenderfélék</a></li>\n",
      "<li><a href=\"/wiki/Keser%C5%B1f%C5%B1f%C3%A9l%C3%A9k\" title=\"Keserűfűfélék\">Keserűfűfélék</a></li>\n",
      "<li><a href=\"/wiki/Kikericsf%C3%A9l%C3%A9k\" title=\"Kikericsfélék\">Kikericsfélék</a></li>\n",
      "<li><a href=\"/wiki/Kontyvir%C3%A1gf%C3%A9l%C3%A9k\" title=\"Kontyvirágfélék\">Kontyvirágfélék</a></li>\n",
      "<li><a href=\"/wiki/Kosborf%C3%A9l%C3%A9k\" title=\"Kosborfélék\">Kosborfélék</a></li>\n",
      "<li><a href=\"/wiki/K%C5%91tiszafaf%C3%A9l%C3%A9k\" title=\"Kőtiszafafélék\">Kőtiszafafélék</a></li>\n",
      "<li><a href=\"/wiki/K%C5%91t%C3%B6r%C5%91f%C5%B1f%C3%A9l%C3%A9k\" title=\"Kőtörőfűfélék\">Kőtörőfűfélék</a></li>\n",
      "<li><a href=\"/wiki/Krist%C3%A1lyvir%C3%A1gf%C3%A9l%C3%A9k\" title=\"Kristályvirágfélék\">Kristályvirágfélék</a></li>\n",
      "<li><a href=\"/wiki/Kutyatejf%C3%A9l%C3%A9k\" title=\"Kutyatejfélék\">Kutyatejfélék</a></li>\n",
      "<li><a href=\"/wiki/K%C3%BCll%C5%91folyond%C3%A1rf%C3%A9l%C3%A9k\" title=\"Küllőfolyondárfélék\">Küllőfolyondárfélék</a></li>\n",
      "<li><a href=\"/wiki/K%C3%BCrtvir%C3%A1gf%C3%A9l%C3%A9k\" title=\"Kürtvirágfélék\">Kürtvirágfélék</a></li></ul></div><div class=\"mw-category-group\"><h3>L</h3>\n",
      "<ul><li><a href=\"/wiki/Laxmanniaceae\" title=\"Laxmanniaceae\">Laxmanniaceae</a></li>\n",
      "<li><a href=\"/wiki/Lenf%C3%A9l%C3%A9k\" title=\"Lenfélék\">Lenfélék</a></li>\n",
      "<li><a href=\"/wiki/Ligetsz%C3%A9pef%C3%A9l%C3%A9k\" title=\"Ligetszépefélék\">Ligetszépefélék</a></li>\n",
      "<li><a href=\"/wiki/Liliomfaf%C3%A9l%C3%A9k\" title=\"Liliomfafélék\">Liliomfafélék</a></li>\n",
      "<li><a href=\"/wiki/Liliomf%C3%A9l%C3%A9k\" title=\"Liliomfélék\">Liliomfélék</a></li>\n",
      "<li><a href=\"/wiki/Loncf%C3%A9l%C3%A9k\" title=\"Loncfélék\">Loncfélék</a></li>\n",
      "<li><a href=\"/wiki/L%C3%B3tuszf%C3%A9l%C3%A9k\" title=\"Lótuszfélék\">Lótuszfélék</a></li></ul></div><div class=\"mw-category-group\"><h3>M</h3>\n",
      "<ul><li><a href=\"/wiki/Mad%C3%A1rs%C3%B3skaf%C3%A9l%C3%A9k\" title=\"Madársóskafélék\">Madársóskafélék</a></li>\n",
      "<li><a href=\"/wiki/Magyal\" title=\"Magyal\">Magyal</a></li>\n",
      "<li><a href=\"/wiki/M%C3%A1kf%C3%A9l%C3%A9k\" title=\"Mákfélék\">Mákfélék</a></li>\n",
      "<li><a href=\"/wiki/Malpighicserjef%C3%A9l%C3%A9k\" title=\"Malpighicserjefélék\">Malpighicserjefélék</a></li>\n",
      "<li><a href=\"/wiki/M%C3%A1lyvaf%C3%A9l%C3%A9k\" title=\"Mályvafélék\">Mályvafélék</a></li>\n",
      "<li><a href=\"/wiki/Medvek%C3%B6r%C3%B6mf%C3%A9l%C3%A9k\" title=\"Medvekörömfélék\">Medvekörömfélék</a></li>\n",
      "<li><a href=\"/wiki/Met%C3%A9ngf%C3%A9l%C3%A9k\" title=\"Meténgfélék\">Meténgfélék</a></li>\n",
      "<li><a href=\"/wiki/Mirtuszf%C3%A9l%C3%A9k\" title=\"Mirtuszfélék\">Mirtuszfélék</a></li>\n",
      "<li><a href=\"/wiki/Mocs%C3%A1rciprusf%C3%A9l%C3%A9k\" title=\"Mocsárciprusfélék\">Mocsárciprusfélék</a></li>\n",
      "<li><a href=\"/wiki/Musk%C3%A1tdi%C3%B3f%C3%A9l%C3%A9k\" title=\"Muskátdiófélék\">Muskátdiófélék</a></li></ul></div><div class=\"mw-category-group\"><h3>N</h3>\n",
      "<ul><li><a href=\"/wiki/Neb%C3%A1ncsvir%C3%A1gf%C3%A9l%C3%A9k\" title=\"Nebáncsvirágfélék\">Nebáncsvirágfélék</a></li>\n",
      "<li><a href=\"/wiki/N%C5%91sziromf%C3%A9l%C3%A9k\" title=\"Nősziromfélék\">Nősziromfélék</a></li></ul></div><div class=\"mw-category-group\"><h3>Ny</h3>\n",
      "<ul><li><a href=\"/wiki/Ny%C3%ADlgy%C3%B6k%C3%A9rf%C3%A9l%C3%A9k\" title=\"Nyílgyökérfélék\">Nyílgyökérfélék</a></li>\n",
      "<li><a href=\"/wiki/Ny%C3%ADrfaf%C3%A9l%C3%A9k\" title=\"Nyírfafélék\">Nyírfafélék</a></li></ul></div><div class=\"mw-category-group\"><h3>O</h3>\n",
      "<ul><li><a href=\"/wiki/Olajfaf%C3%A9l%C3%A9k\" title=\"Olajfafélék\">Olajfafélék</a></li>\n",
      "<li><a href=\"/wiki/%C3%93lomgy%C3%B6k%C3%A9rf%C3%A9l%C3%A9k\" title=\"Ólomgyökérfélék\">Ólomgyökérfélék</a></li>\n",
      "<li><a href=\"/wiki/Orb%C3%A1ncf%C5%B1f%C3%A9l%C3%A9k\" title=\"Orbáncfűfélék\">Orbáncfűfélék</a></li>\n",
      "<li><a href=\"/wiki/%C3%93ri%C3%A1svir%C3%A1gf%C3%A9l%C3%A9k\" title=\"Óriásvirágfélék\">Óriásvirágfélék</a></li></ul></div><div class=\"mw-category-group\"><h3>Ö</h3>\n",
      "<ul><li><a href=\"/wiki/%C5%90szir%C3%B3zsaf%C3%A9l%C3%A9k\" title=\"Őszirózsafélék\">Őszirózsafélék</a></li></ul></div><div class=\"mw-category-group\"><h3>P</h3>\n",
      "<ul><li><a href=\"/wiki/P%C3%A1fr%C3%A1nyfeny%C5%91f%C3%A9l%C3%A9k\" title=\"Páfrányfenyőfélék\">Páfrányfenyőfélék</a></li>\n",
      "<li><a href=\"/wiki/Palkaf%C3%A9l%C3%A9k\" title=\"Palkafélék\">Palkafélék</a></li>\n",
      "<li><a href=\"/wiki/P%C3%A1lmaf%C3%A9l%C3%A9k\" title=\"Pálmafélék\">Pálmafélék</a></li>\n",
      "<li><a href=\"/wiki/Papag%C3%A1jvir%C3%A1g-f%C3%A9l%C3%A9k\" title=\"Papagájvirág-félék\">Papagájvirág-félék</a></li>\n",
      "<li><a href=\"/wiki/Paracryphiaceae\" title=\"Paracryphiaceae\">Paracryphiaceae</a></li>\n",
      "<li><a href=\"/wiki/Perjef%C3%A9l%C3%A9k\" title=\"Perjefélék\">Perjefélék</a></li>\n",
      "<li><a href=\"/wiki/Petrosaviaceae\" title=\"Petrosaviaceae\">Petrosaviaceae</a></li>\n",
      "<li><a href=\"/wiki/P%C3%A9zsmabogl%C3%A1rf%C3%A9l%C3%A9k\" title=\"Pézsmaboglárfélék\">Pézsmaboglárfélék</a></li>\n",
      "<li><a href=\"/wiki/Philesiaceae\" title=\"Philesiaceae\">Philesiaceae</a></li>\n",
      "<li><a href=\"/wiki/Picramniaceae\" title=\"Picramniaceae\">Picramniaceae</a></li>\n",
      "<li><a href=\"/wiki/Pillang%C3%B3svir%C3%A1g%C3%BAak\" title=\"Pillangósvirágúak\">Pillangósvirágúak</a></li>\n",
      "<li><a href=\"/wiki/Plat%C3%A1nf%C3%A9l%C3%A9k\" title=\"Platánfélék\">Platánfélék</a></li>\n",
      "<li><a href=\"/wiki/Porcsinf%C3%A9l%C3%A9k\" title=\"Porcsinfélék\">Porcsinfélék</a></li>\n",
      "<li><a href=\"/wiki/Pottiaceae\" title=\"Pottiaceae\">Pottiaceae</a></li>\n",
      "<li><a href=\"/wiki/Pr%C3%B3teaf%C3%A9l%C3%A9k\" title=\"Próteafélék\">Próteafélék</a></li>\n",
      "<li><a href=\"/wiki/Puszp%C3%A1ngf%C3%A9l%C3%A9k\" title=\"Puszpángfélék\">Puszpángfélék</a></li></ul></div><div class=\"mw-category-group\"><h3>R</h3>\n",
      "<ul><li><a href=\"/wiki/Rezedaf%C3%A9l%C3%A9k\" title=\"Rezedafélék\">Rezedafélék</a></li>\n",
      "<li><a href=\"/wiki/R%C3%B3zsaf%C3%A9l%C3%A9k\" title=\"Rózsafélék\">Rózsafélék</a></li>\n",
      "<li><a href=\"/wiki/Rutaf%C3%A9l%C3%A9k\" title=\"Rutafélék\">Rutafélék</a></li></ul></div><div class=\"mw-category-group\"><h3>S</h3>\n",
      "<ul><li><a href=\"/wiki/Sabiaceae\" title=\"Sabiaceae\">Sabiaceae</a></li>\n",
      "<li><a href=\"/wiki/Saururaceae\" title=\"Saururaceae\">Saururaceae</a></li>\n",
      "<li><a href=\"/wiki/Schisandraceae\" title=\"Schisandraceae\">Schisandraceae</a></li>\n",
      "<li><a href=\"/wiki/Schoepfiaceae\" title=\"Schoepfiaceae\">Schoepfiaceae</a></li>\n",
      "<li><a href=\"/wiki/Somf%C3%A9l%C3%A9k\" title=\"Somfélék\">Somfélék</a></li>\n",
      "<li><a href=\"/wiki/Sp%C3%A1rgaf%C3%A9l%C3%A9k\" title=\"Spárgafélék\">Spárgafélék</a></li></ul></div><div class=\"mw-category-group\"><h3>Sz</h3>\n",
      "<ul><li><a href=\"/wiki/Szappanfaf%C3%A9l%C3%A9k\" title=\"Szappanfafélék\">Szappanfafélék</a></li>\n",
      "<li><a href=\"/wiki/Szegf%C5%B1f%C3%A9l%C3%A9k\" title=\"Szegfűfélék\">Szegfűfélék</a></li>\n",
      "<li><a href=\"/wiki/Szilfaf%C3%A9l%C3%A9k\" title=\"Szilfafélék\">Szilfafélék</a></li>\n",
      "<li><a href=\"/wiki/Szitty%C3%B3f%C3%A9l%C3%A9k\" title=\"Szittyófélék\">Szittyófélék</a></li>\n",
      "<li><a href=\"/wiki/Szivarfaf%C3%A9l%C3%A9k\" title=\"Szivarfafélék\">Szivarfafélék</a></li>\n",
      "<li><a href=\"/wiki/Sz%C5%91l%C5%91f%C3%A9l%C3%A9k\" title=\"Szőlőfélék\">Szőlőfélék</a></li>\n",
      "<li><a href=\"/wiki/Sz%C3%B6m%C3%B6rcef%C3%A9l%C3%A9k\" title=\"Szömörcefélék\">Szömörcefélék</a></li>\n",
      "<li><a href=\"/wiki/Szuharf%C3%A9l%C3%A9k\" title=\"Szuharfélék\">Szuharfélék</a></li>\n",
      "<li><a href=\"/wiki/Szul%C3%A1kf%C3%A9l%C3%A9k\" title=\"Szulákfélék\">Szulákfélék</a></li></ul></div><div class=\"mw-category-group\"><h3>T</h3>\n",
      "<ul><li><a href=\"/wiki/T%C3%A1rnicsf%C3%A9l%C3%A9k\" title=\"Tárnicsfélék\">Tárnicsfélék</a></li>\n",
      "<li><a href=\"/wiki/Teaf%C3%A9l%C3%A9k\" title=\"Teafélék\">Teafélék</a></li>\n",
      "<li><a href=\"/wiki/Tiszafaf%C3%A9l%C3%A9k\" title=\"Tiszafafélék\">Tiszafafélék</a></li>\n",
      "<li><a href=\"/wiki/T%C3%B6kf%C3%A9l%C3%A9k\" title=\"Tökfélék\">Tökfélék</a></li>\n",
      "<li><a href=\"/wiki/Trochodendraceae\" title=\"Trochodendraceae\">Trochodendraceae</a></li>\n",
      "<li><a href=\"/wiki/T%C3%BCnd%C3%A9rh%C3%ADn%C3%A1rf%C3%A9l%C3%A9k\" title=\"Tündérhínárfélék\">Tündérhínárfélék</a></li>\n",
      "<li><a href=\"/wiki/T%C3%BCnd%C3%A9rr%C3%B3zsaf%C3%A9l%C3%A9k\" title=\"Tündérrózsafélék\">Tündérrózsafélék</a></li></ul></div><div class=\"mw-category-group\"><h3>U</h3>\n",
      "<ul><li><a href=\"/wiki/%C3%9Atif%C5%B1f%C3%A9l%C3%A9k\" title=\"Útifűfélék\">Útifűfélék</a></li></ul></div><div class=\"mw-category-group\"><h3>V</h3>\n",
      "<ul><li><a href=\"/wiki/Vajvir%C3%A1gf%C3%A9l%C3%A9k\" title=\"Vajvirágfélék\">Vajvirágfélék</a></li>\n",
      "<li><a href=\"/wiki/Varj%C3%BAh%C3%A1jf%C3%A9l%C3%A9k\" title=\"Varjúhájfélék\">Varjúhájfélék</a></li>\n",
      "<li><a href=\"/wiki/Vasf%C5%B1f%C3%A9l%C3%A9k\" title=\"Vasfűfélék\">Vasfűfélék</a></li>\n",
      "<li><a href=\"/wiki/Vell%C3%B3ziaf%C3%A9l%C3%A9k\" title=\"Vellóziafélék\">Vellóziafélék</a></li>\n",
      "<li><a href=\"/wiki/Vidraf%C5%B1f%C3%A9l%C3%A9k\" title=\"Vidrafűfélék\">Vidrafűfélék</a></li>\n",
      "<li><a href=\"/wiki/Vill%C3%A1sp%C3%A1lmaf%C3%A9l%C3%A9k\" title=\"Villáspálmafélék\">Villáspálmafélék</a></li>\n",
      "<li><a href=\"/wiki/Vir%C3%A1gk%C3%A1kaf%C3%A9l%C3%A9k\" title=\"Virágkákafélék\">Virágkákafélék</a></li>\n",
      "<li><a href=\"/wiki/Vir%C3%A1gs%C3%A1sf%C3%A9l%C3%A9k\" title=\"Virágsásfélék\">Virágsásfélék</a></li>\n",
      "<li><a href=\"/wiki/V%C3%ADzij%C3%A1cintf%C3%A9l%C3%A9k\" title=\"Vízijácintfélék\">Vízijácintfélék</a></li>\n",
      "<li><a href=\"/wiki/Volvocaceae\" title=\"Volvocaceae\">Volvocaceae</a></li></ul></div><div class=\"mw-category-group\"><h3>Z</h3>\n",
      "<ul><li><a href=\"/wiki/Z%C3%A1szpaf%C3%A9l%C3%A9k\" title=\"Zászpafélék\">Zászpafélék</a></li>\n",
      "<li><a href=\"/wiki/Zellerf%C3%A9l%C3%A9k\" title=\"Zellerfélék\">Zellerfélék</a></li></ul></div><div class=\"mw-category-group\"><h3>Zs</h3>\n",
      "<ul><li><a href=\"/wiki/Zsurl%C3%B3faf%C3%A9l%C3%A9k\" title=\"Zsurlófafélék\">Zsurlófafélék</a></li>\n",
      "<li><a href=\"/wiki/Zsurl%C3%B3f%C3%A9l%C3%A9k\" title=\"Zsurlófélék\">Zsurlófélék</a></li></ul></div></div>\n"
     ]
    }
   ],
   "source": [
    "# mw-category mw-category-columns\n",
    "\n",
    "articles = soup.find(\"div\", class_=\"mw-category mw-category-columns\")\n",
    "print(articles)"
   ]
  },
  {
   "cell_type": "code",
   "execution_count": 9,
   "id": "f5b8706d-0294-4ae7-9500-9ce4cee09cb2",
   "metadata": {
    "tags": [
     "scroll-output"
    ]
   },
   "outputs": [
    {
     "name": "stdout",
     "output_type": "stream",
     "text": [
      "https://hu.wikipedia.org/wiki/N%C3%B6v%C3%A9nycsal%C3%A1dok_list%C3%A1ja\n",
      "https://hu.wikipedia.org/wiki/Alk%C3%B6rm%C3%B6sf%C3%A9l%C3%A9k\n",
      "https://hu.wikipedia.org/wiki/%C3%81ltiszafaf%C3%A9l%C3%A9k\n",
      "https://hu.wikipedia.org/wiki/Amarilliszf%C3%A9l%C3%A9k\n",
      "https://hu.wikipedia.org/wiki/Anacampserotaceae\n",
      "https://hu.wikipedia.org/wiki/Ann%C3%B3naf%C3%A9l%C3%A9k\n",
      "https://hu.wikipedia.org/wiki/Apodanthaceae\n",
      "https://hu.wikipedia.org/wiki/Ar%C3%A1liaf%C3%A9l%C3%A9k\n",
      "https://hu.wikipedia.org/wiki/Arauk%C3%A1riaf%C3%A9l%C3%A9k\n",
      "https://hu.wikipedia.org/wiki/%C3%81rvacsal%C3%A1nf%C3%A9l%C3%A9k\n",
      "https://hu.wikipedia.org/wiki/Bab%C3%A9rf%C3%A9l%C3%A9k\n",
      "https://hu.wikipedia.org/wiki/B%C3%A1lv%C3%A1nyfaf%C3%A9l%C3%A9k\n",
      "https://hu.wikipedia.org/wiki/Ban%C3%A1nf%C3%A9l%C3%A9k\n",
      "https://hu.wikipedia.org/wiki/Barkamirtuszf%C3%A9l%C3%A9k\n",
      "https://hu.wikipedia.org/wiki/Beg%C3%B3niaf%C3%A9l%C3%A9k\n",
      "https://hu.wikipedia.org/wiki/B%C3%A9kasz%C5%91l%C5%91f%C3%A9l%C3%A9k\n",
      "https://hu.wikipedia.org/wiki/B%C3%A9katutajf%C3%A9l%C3%A9k\n",
      "https://hu.wikipedia.org/wiki/Bengef%C3%A9l%C3%A9k\n",
      "https://hu.wikipedia.org/wiki/Bogl%C3%A1rkaf%C3%A9l%C3%A9k\n",
      "https://hu.wikipedia.org/wiki/Bor%C3%A1g%C3%B3f%C3%A9l%C3%A9k\n",
      "https://hu.wikipedia.org/wiki/Borbolyaf%C3%A9l%C3%A9k\n",
      "https://hu.wikipedia.org/wiki/Boroszl%C3%A1nf%C3%A9l%C3%A9k\n",
      "https://hu.wikipedia.org/wiki/Borsf%C3%A9l%C3%A9k\n",
      "https://hu.wikipedia.org/wiki/Brom%C3%A9liaf%C3%A9l%C3%A9k\n",
      "https://hu.wikipedia.org/wiki/Bunk%C3%B3sp%C3%A1lmaf%C3%A9l%C3%A9k\n",
      "https://hu.wikipedia.org/wiki/Burgonyaf%C3%A9l%C3%A9k\n",
      "https://hu.wikipedia.org/wiki/Buz%C3%A9rf%C3%A9l%C3%A9k\n",
      "https://hu.wikipedia.org/wiki/B%C3%BCkkfaf%C3%A9l%C3%A9k\n",
      "https://hu.wikipedia.org/wiki/Chlamydomonadaceae\n",
      "https://hu.wikipedia.org/wiki/Cik%C3%A1szf%C3%A9l%C3%A9k\n",
      "https://hu.wikipedia.org/wiki/Ciprusf%C3%A9l%C3%A9k\n",
      "https://hu.wikipedia.org/wiki/Cleomaceae\n",
      "https://hu.wikipedia.org/wiki/Csal%C3%A1nf%C3%A9l%C3%A9k\n",
      "https://hu.wikipedia.org/wiki/Csatavir%C3%A1gf%C3%A9l%C3%A9k\n",
      "https://hu.wikipedia.org/wiki/Csavarp%C3%A1lmaf%C3%A9l%C3%A9k\n",
      "https://hu.wikipedia.org/wiki/Csik%C3%B3fark\n",
      "https://hu.wikipedia.org/wiki/Csipkeharasztok\n",
      "https://hu.wikipedia.org/wiki/Csodat%C3%B6lcs%C3%A9rf%C3%A9l%C3%A9k\n",
      "https://hu.wikipedia.org/wiki/Csuporkaf%C3%A9l%C3%A9k\n",
      "https://hu.wikipedia.org/wiki/Dasypogonaceae\n",
      "https://hu.wikipedia.org/wiki/Dill%C3%A9niaf%C3%A9l%C3%A9k\n",
      "https://hu.wikipedia.org/wiki/Dinnyefaf%C3%A9l%C3%A9k\n",
      "https://hu.wikipedia.org/wiki/Di%C3%B3faf%C3%A9l%C3%A9k\n",
      "https://hu.wikipedia.org/wiki/Dipentodontaceae\n",
      "https://hu.wikipedia.org/wiki/Dipterokarpuszf%C3%A9l%C3%A9k\n",
      "https://hu.wikipedia.org/wiki/D%C3%ADszlev%C3%A9lfaf%C3%A9l%C3%A9k\n",
      "https://hu.wikipedia.org/wiki/Diszn%C3%B3par%C3%A9jf%C3%A9l%C3%A9k\n",
      "https://hu.wikipedia.org/wiki/Eperfaf%C3%A9l%C3%A9k\n",
      "https://hu.wikipedia.org/wiki/Escalloniaceae\n",
      "https://hu.wikipedia.org/wiki/Ez%C3%BCstfaf%C3%A9l%C3%A9k\n",
      "https://hu.wikipedia.org/wiki/Fak%C3%ADnf%C3%A9l%C3%A9k\n",
      "https://hu.wikipedia.org/wiki/Farkasalmaf%C3%A9l%C3%A9k\n",
      "https://hu.wikipedia.org/wiki/Feny%C5%91f%C3%A9l%C3%A9k\n",
      "https://hu.wikipedia.org/wiki/Fissidentaceae\n",
      "https://hu.wikipedia.org/wiki/Fogpiszk%C3%A1l%C3%B3f%C5%B1\n",
      "https://hu.wikipedia.org/wiki/F%C5%B1faf%C3%A9l%C3%A9k\n",
      "https://hu.wikipedia.org/wiki/F%C5%B1szercserjef%C3%A9l%C3%A9k\n",
      "https://hu.wikipedia.org/wiki/F%C3%BCz%C3%A9nyf%C3%A9l%C3%A9k\n",
      "https://hu.wikipedia.org/wiki/F%C5%B1zfaf%C3%A9l%C3%A9k\n",
      "https://hu.wikipedia.org/wiki/Gn%C3%A9tum\n",
      "https://hu.wikipedia.org/wiki/Golgotavir%C3%A1gf%C3%A9l%C3%A9k\n",
      "https://hu.wikipedia.org/wiki/G%C3%B3lyaorrf%C3%A9l%C3%A9k\n",
      "https://hu.wikipedia.org/wiki/G%C3%B6rv%C3%A9lyf%C5%B1f%C3%A9l%C3%A9k\n",
      "https://hu.wikipedia.org/wiki/Gy%C3%A9k%C3%A9nyf%C3%A9l%C3%A9k\n",
      "https://hu.wikipedia.org/wiki/Gyommohaf%C3%A9l%C3%A9k\n",
      "https://hu.wikipedia.org/wiki/Gy%C3%B6mb%C3%A9rf%C3%A9l%C3%A9k\n",
      "https://hu.wikipedia.org/wiki/Gy%C3%B6ngyvir%C3%A1gfaf%C3%A9l%C3%A9k\n",
      "https://hu.wikipedia.org/wiki/Halimedaceae\n",
      "https://hu.wikipedia.org/wiki/Hangaf%C3%A9l%C3%A9k\n",
      "https://hu.wikipedia.org/wiki/Harangvir%C3%A1gf%C3%A9l%C3%A9k\n",
      "https://hu.wikipedia.org/wiki/Harmatf%C5%B1f%C3%A9l%C3%A9k\n",
      "https://hu.wikipedia.org/wiki/Hernandiaceae\n",
      "https://hu.wikipedia.org/wiki/H%C3%ADd%C5%91rf%C3%A9l%C3%A9k\n",
      "https://hu.wikipedia.org/wiki/Hortenziaf%C3%A9l%C3%A9k\n",
      "https://hu.wikipedia.org/wiki/Hydatellaceae\n",
      "https://hu.wikipedia.org/wiki/Hypoxidaceae\n",
      "https://hu.wikipedia.org/wiki/Ibolyaf%C3%A9l%C3%A9k\n",
      "https://hu.wikipedia.org/wiki/Jap%C3%A1n_erny%C5%91feny%C5%91\n",
      "https://hu.wikipedia.org/wiki/Kaktuszf%C3%A9l%C3%A9k\n",
      "https://hu.wikipedia.org/wiki/K%C3%A1lmosvir%C3%A1g%C3%BAak\n",
      "https://hu.wikipedia.org/wiki/Kankalinf%C3%A9l%C3%A9k\n",
      "https://hu.wikipedia.org/wiki/Kannaf%C3%A9l%C3%A9k\n",
      "https://hu.wikipedia.org/wiki/K%C3%A1posztaf%C3%A9l%C3%A9k\n",
      "https://hu.wikipedia.org/wiki/Kaprif%C3%A9l%C3%A9k\n",
      "https://hu.wikipedia.org/wiki/Kazu%C3%A1rfaf%C3%A9l%C3%A9k\n",
      "https://hu.wikipedia.org/wiki/Kecsker%C3%A1g%C3%B3f%C3%A9l%C3%A9k\n",
      "https://hu.wikipedia.org/wiki/K%C3%A9kh%C3%BCvelyf%C3%A9l%C3%A9k\n",
      "https://hu.wikipedia.org/wiki/Kenderf%C3%A9l%C3%A9k\n",
      "https://hu.wikipedia.org/wiki/Keser%C5%B1f%C5%B1f%C3%A9l%C3%A9k\n",
      "https://hu.wikipedia.org/wiki/Kikericsf%C3%A9l%C3%A9k\n",
      "https://hu.wikipedia.org/wiki/Kontyvir%C3%A1gf%C3%A9l%C3%A9k\n",
      "https://hu.wikipedia.org/wiki/Kosborf%C3%A9l%C3%A9k\n",
      "https://hu.wikipedia.org/wiki/K%C5%91tiszafaf%C3%A9l%C3%A9k\n",
      "https://hu.wikipedia.org/wiki/K%C5%91t%C3%B6r%C5%91f%C5%B1f%C3%A9l%C3%A9k\n",
      "https://hu.wikipedia.org/wiki/Krist%C3%A1lyvir%C3%A1gf%C3%A9l%C3%A9k\n",
      "https://hu.wikipedia.org/wiki/Kutyatejf%C3%A9l%C3%A9k\n",
      "https://hu.wikipedia.org/wiki/K%C3%BCll%C5%91folyond%C3%A1rf%C3%A9l%C3%A9k\n",
      "https://hu.wikipedia.org/wiki/K%C3%BCrtvir%C3%A1gf%C3%A9l%C3%A9k\n",
      "https://hu.wikipedia.org/wiki/Laxmanniaceae\n",
      "https://hu.wikipedia.org/wiki/Lenf%C3%A9l%C3%A9k\n",
      "https://hu.wikipedia.org/wiki/Ligetsz%C3%A9pef%C3%A9l%C3%A9k\n",
      "https://hu.wikipedia.org/wiki/Liliomfaf%C3%A9l%C3%A9k\n",
      "https://hu.wikipedia.org/wiki/Liliomf%C3%A9l%C3%A9k\n",
      "https://hu.wikipedia.org/wiki/Loncf%C3%A9l%C3%A9k\n",
      "https://hu.wikipedia.org/wiki/L%C3%B3tuszf%C3%A9l%C3%A9k\n",
      "https://hu.wikipedia.org/wiki/Mad%C3%A1rs%C3%B3skaf%C3%A9l%C3%A9k\n",
      "https://hu.wikipedia.org/wiki/Magyal\n",
      "https://hu.wikipedia.org/wiki/M%C3%A1kf%C3%A9l%C3%A9k\n",
      "https://hu.wikipedia.org/wiki/Malpighicserjef%C3%A9l%C3%A9k\n",
      "https://hu.wikipedia.org/wiki/M%C3%A1lyvaf%C3%A9l%C3%A9k\n",
      "https://hu.wikipedia.org/wiki/Medvek%C3%B6r%C3%B6mf%C3%A9l%C3%A9k\n",
      "https://hu.wikipedia.org/wiki/Met%C3%A9ngf%C3%A9l%C3%A9k\n",
      "https://hu.wikipedia.org/wiki/Mirtuszf%C3%A9l%C3%A9k\n",
      "https://hu.wikipedia.org/wiki/Mocs%C3%A1rciprusf%C3%A9l%C3%A9k\n",
      "https://hu.wikipedia.org/wiki/Musk%C3%A1tdi%C3%B3f%C3%A9l%C3%A9k\n",
      "https://hu.wikipedia.org/wiki/Neb%C3%A1ncsvir%C3%A1gf%C3%A9l%C3%A9k\n",
      "https://hu.wikipedia.org/wiki/N%C5%91sziromf%C3%A9l%C3%A9k\n",
      "https://hu.wikipedia.org/wiki/Ny%C3%ADlgy%C3%B6k%C3%A9rf%C3%A9l%C3%A9k\n",
      "https://hu.wikipedia.org/wiki/Ny%C3%ADrfaf%C3%A9l%C3%A9k\n",
      "https://hu.wikipedia.org/wiki/Olajfaf%C3%A9l%C3%A9k\n",
      "https://hu.wikipedia.org/wiki/%C3%93lomgy%C3%B6k%C3%A9rf%C3%A9l%C3%A9k\n",
      "https://hu.wikipedia.org/wiki/Orb%C3%A1ncf%C5%B1f%C3%A9l%C3%A9k\n",
      "https://hu.wikipedia.org/wiki/%C3%93ri%C3%A1svir%C3%A1gf%C3%A9l%C3%A9k\n",
      "https://hu.wikipedia.org/wiki/%C5%90szir%C3%B3zsaf%C3%A9l%C3%A9k\n",
      "https://hu.wikipedia.org/wiki/P%C3%A1fr%C3%A1nyfeny%C5%91f%C3%A9l%C3%A9k\n",
      "https://hu.wikipedia.org/wiki/Palkaf%C3%A9l%C3%A9k\n",
      "https://hu.wikipedia.org/wiki/P%C3%A1lmaf%C3%A9l%C3%A9k\n",
      "https://hu.wikipedia.org/wiki/Papag%C3%A1jvir%C3%A1g-f%C3%A9l%C3%A9k\n",
      "https://hu.wikipedia.org/wiki/Paracryphiaceae\n",
      "https://hu.wikipedia.org/wiki/Perjef%C3%A9l%C3%A9k\n",
      "https://hu.wikipedia.org/wiki/Petrosaviaceae\n",
      "https://hu.wikipedia.org/wiki/P%C3%A9zsmabogl%C3%A1rf%C3%A9l%C3%A9k\n",
      "https://hu.wikipedia.org/wiki/Philesiaceae\n",
      "https://hu.wikipedia.org/wiki/Picramniaceae\n",
      "https://hu.wikipedia.org/wiki/Pillang%C3%B3svir%C3%A1g%C3%BAak\n",
      "https://hu.wikipedia.org/wiki/Plat%C3%A1nf%C3%A9l%C3%A9k\n",
      "https://hu.wikipedia.org/wiki/Porcsinf%C3%A9l%C3%A9k\n",
      "https://hu.wikipedia.org/wiki/Pottiaceae\n",
      "https://hu.wikipedia.org/wiki/Pr%C3%B3teaf%C3%A9l%C3%A9k\n",
      "https://hu.wikipedia.org/wiki/Puszp%C3%A1ngf%C3%A9l%C3%A9k\n",
      "https://hu.wikipedia.org/wiki/Rezedaf%C3%A9l%C3%A9k\n",
      "https://hu.wikipedia.org/wiki/R%C3%B3zsaf%C3%A9l%C3%A9k\n",
      "https://hu.wikipedia.org/wiki/Rutaf%C3%A9l%C3%A9k\n",
      "https://hu.wikipedia.org/wiki/Sabiaceae\n",
      "https://hu.wikipedia.org/wiki/Saururaceae\n",
      "https://hu.wikipedia.org/wiki/Schisandraceae\n",
      "https://hu.wikipedia.org/wiki/Schoepfiaceae\n",
      "https://hu.wikipedia.org/wiki/Somf%C3%A9l%C3%A9k\n",
      "https://hu.wikipedia.org/wiki/Sp%C3%A1rgaf%C3%A9l%C3%A9k\n",
      "https://hu.wikipedia.org/wiki/Szappanfaf%C3%A9l%C3%A9k\n",
      "https://hu.wikipedia.org/wiki/Szegf%C5%B1f%C3%A9l%C3%A9k\n",
      "https://hu.wikipedia.org/wiki/Szilfaf%C3%A9l%C3%A9k\n",
      "https://hu.wikipedia.org/wiki/Szitty%C3%B3f%C3%A9l%C3%A9k\n",
      "https://hu.wikipedia.org/wiki/Szivarfaf%C3%A9l%C3%A9k\n",
      "https://hu.wikipedia.org/wiki/Sz%C5%91l%C5%91f%C3%A9l%C3%A9k\n",
      "https://hu.wikipedia.org/wiki/Sz%C3%B6m%C3%B6rcef%C3%A9l%C3%A9k\n",
      "https://hu.wikipedia.org/wiki/Szuharf%C3%A9l%C3%A9k\n",
      "https://hu.wikipedia.org/wiki/Szul%C3%A1kf%C3%A9l%C3%A9k\n",
      "https://hu.wikipedia.org/wiki/T%C3%A1rnicsf%C3%A9l%C3%A9k\n",
      "https://hu.wikipedia.org/wiki/Teaf%C3%A9l%C3%A9k\n",
      "https://hu.wikipedia.org/wiki/Tiszafaf%C3%A9l%C3%A9k\n",
      "https://hu.wikipedia.org/wiki/T%C3%B6kf%C3%A9l%C3%A9k\n",
      "https://hu.wikipedia.org/wiki/Trochodendraceae\n",
      "https://hu.wikipedia.org/wiki/T%C3%BCnd%C3%A9rh%C3%ADn%C3%A1rf%C3%A9l%C3%A9k\n",
      "https://hu.wikipedia.org/wiki/T%C3%BCnd%C3%A9rr%C3%B3zsaf%C3%A9l%C3%A9k\n",
      "https://hu.wikipedia.org/wiki/%C3%9Atif%C5%B1f%C3%A9l%C3%A9k\n",
      "https://hu.wikipedia.org/wiki/Vajvir%C3%A1gf%C3%A9l%C3%A9k\n",
      "https://hu.wikipedia.org/wiki/Varj%C3%BAh%C3%A1jf%C3%A9l%C3%A9k\n",
      "https://hu.wikipedia.org/wiki/Vasf%C5%B1f%C3%A9l%C3%A9k\n",
      "https://hu.wikipedia.org/wiki/Vell%C3%B3ziaf%C3%A9l%C3%A9k\n",
      "https://hu.wikipedia.org/wiki/Vidraf%C5%B1f%C3%A9l%C3%A9k\n",
      "https://hu.wikipedia.org/wiki/Vill%C3%A1sp%C3%A1lmaf%C3%A9l%C3%A9k\n",
      "https://hu.wikipedia.org/wiki/Vir%C3%A1gk%C3%A1kaf%C3%A9l%C3%A9k\n",
      "https://hu.wikipedia.org/wiki/Vir%C3%A1gs%C3%A1sf%C3%A9l%C3%A9k\n",
      "https://hu.wikipedia.org/wiki/V%C3%ADzij%C3%A1cintf%C3%A9l%C3%A9k\n",
      "https://hu.wikipedia.org/wiki/Volvocaceae\n",
      "https://hu.wikipedia.org/wiki/Z%C3%A1szpaf%C3%A9l%C3%A9k\n",
      "https://hu.wikipedia.org/wiki/Zellerf%C3%A9l%C3%A9k\n",
      "https://hu.wikipedia.org/wiki/Zsurl%C3%B3faf%C3%A9l%C3%A9k\n",
      "https://hu.wikipedia.org/wiki/Zsurl%C3%B3f%C3%A9l%C3%A9k\n"
     ]
    }
   ],
   "source": [
    "links = []\n",
    "for link in articles.find_all(\"a\"):\n",
    "    links.append(\"https://hu.wikipedia.org\" + link.get(\"href\"))\n",
    "\n",
    "for item in links:\n",
    "    print(item)"
   ]
  },
  {
   "cell_type": "markdown",
   "id": "32cc499b",
   "metadata": {},
   "source": [
    "## Egy weblap adatainak kigyűjtése\n",
    "\n",
    "![web_scraping_2](figures/web_scraping_2.png)"
   ]
  },
  {
   "cell_type": "code",
   "execution_count": 10,
   "id": "0e283624-2703-4aa5-951e-c9772d23c546",
   "metadata": {},
   "outputs": [
    {
     "name": "stdout",
     "output_type": "stream",
     "text": [
      "Zászpafélék\n",
      "Gyöktörzses vagy hagymás évelő növények. A legtöbb faj rizómás és leveles szárú. Virágaik végállóak, sugarasan szimmetrikusak, lepelleveleik pedig szabadok. Termésük egységesen toktermés. Sok génusz levelei örvösen állnak, tenyeresen erezettek, kivéve éppen a névadó zászpa (Veratrum) nemzetséget. Fontos jellegzetességük, hogy a csucsorokhoz hasonlóan erősen mérgező és rákkeltő szteroid alkaloidokat tartalmaznak. Amikor a történelmi Magyarország hegyvidékein a tárnics (Gentiana) gyökerét gyűjtötték szeszfőzéshez, gyakran összetévesztették a zászpával, és ez súlyos mérgezésekhez vezetett.\n",
      "\n"
     ]
    }
   ],
   "source": [
    "# mw-content-text > div.mw-content-ltr.mw-parser-output > p:nth-of-type(2)\n",
    "# firstHeading > span.mw-page-title-main\n",
    "\n",
    "url = \"https://hu.wikipedia.org/wiki/Z%C3%A1szpaf%C3%A9l%C3%A9k\"\n",
    "response = re.get(url)\n",
    "soup = BeautifulSoup(response.text, \"html.parser\")\n",
    "\n",
    "x = soup.select(\n",
    "    \"#mw-content-text > div.mw-content-ltr.mw-parser-output > p:nth-of-type(2)\"\n",
    ")\n",
    "title = soup.select(\"#firstHeading > span.mw-page-title-main\")\n",
    "print(title[0].text)\n",
    "print(x[0].text)"
   ]
  },
  {
   "cell_type": "markdown",
   "id": "77dfe342",
   "metadata": {},
   "source": [
    "## Összes weblap adatainak kigyűjtése fájlba"
   ]
  },
  {
   "cell_type": "code",
   "execution_count": 11,
   "id": "239098d1",
   "metadata": {
    "execution": {
     "timeout": 1200
    },
    "tags": [
     "scroll-output"
    ]
   },
   "outputs": [
    {
     "name": "stdout",
     "output_type": "stream",
     "text": [
      "Növénycsaládok listája, A táblázatokban alfabetikus sorrendben latin név szerint vannak felsorolva a családok.\n",
      "\n"
     ]
    },
    {
     "name": "stdout",
     "output_type": "stream",
     "text": [
      "Alkörmösfélék, Az alkörmösfélék (Phytolaccaceae) a szegfűvirágúak (Caryophyllales) rendjének egyik családja. 16 nemzetségébe mintegy 120 faj tartozik.\n",
      "\n"
     ]
    },
    {
     "name": "stdout",
     "output_type": "stream",
     "text": [
      "Áltiszafafélék, Az áltiszafafélék és a tiszafák hasonlóságát régebben konvergens sajátosságoknak hitték, és ez ki is fejeződött a rendszerekben. Soó Rezső az áltiszafaféléket a valódi tűlevelűek rendjébe (Coniferales) helyezi, a ciprusfélék (Cupressaceae) és az araukáriafélék (Araucariaceae) közé, míg a tiszafáknak külön rendet nyit. Hortobágyi Tibor már külön osztályt nyit a tiszafáknak (Taxopsida), az áltiszafák viszont a tűlevelűek osztályában maradnak (Coniferopsida). A legújabb genetikai, sejttani, kemotaxonómiai vizsgálatok azonban egyértelműen tanúsítják, hogy az áltiszafák a tiszafák testvércsoportja, és a hasonló sajátosságok (törzsszerkezet, levelek egy síkban helyezkednek el az ágvégeken, egy magkezdemény alakul maggá stb.) nem konvergens tulajdonságok, hanem valóban a monofiletikus eredetet bizonyítják. Fontos viszont azt tudni, hogy az áltiszafafélék arillusa nem homológ képlet a tiszafákéval. Ugyanis a tiszafa magköpenye egy valódi makrosporofillum, míg az áltiszafák magvának külső rétege (mely teljesen burkolja a magot), nem más mint a mag külső burkának elhúsosodása (mely tele van gyantajáratokkal), ez alatt található a fás integumentum. Az áltiszafaféléket egyes korábbi rendszerek (pl. Jarmolenno) már morfológiai sajátosságaik alapján a tiszafák közé helyezték, nem sejtve a genetikai vizsgálatok későbbi eredményét.\n",
      "\n"
     ]
    },
    {
     "name": "stdout",
     "output_type": "stream",
     "text": [
      "Amarilliszfélék, Az amarilliszfélék (Amaryllidaceae) a spárgavirágúak (Asparagales) rendjébe tartozó növénycsalád. Gyakran mutatós virágú, évelő, lágyszárú, hagymás növények tartoznak ide. Murvás, ernyőszerű bogas virágzatuk (az „ernyő” egyvirágú is lehet), hosszú tőkocsányuk van.\n",
      "\n"
     ]
    },
    {
     "name": "stdout",
     "output_type": "stream",
     "text": [
      "Anacampserotaceae, Az Anacampserotaceae a szegfűvirágúak (Caryophyllales) rendjének egy családja. Leírása a Taxon tudományos szaklap 2010. februári számában jelent meg. Urs Eggli és Reto Nyffeler írta le, miután feltárták a szegfűvirágúak Portulacineae alrendjének polifiletikusságát. Az új család leírását molekuláris genetikai és morfológiai adatokra alapozták. A család három nemzetségét – Anacampseros, Grahamia és Talinopsis – azelőtt a porcsinfélék (Portulacaceae) közé sorolták.[1][2] A családot a 2009-ben megjelent APG III-rendszer is elfogadta.[3]\n",
      "\n"
     ]
    },
    {
     "name": "stdout",
     "output_type": "stream",
     "text": [
      "Annónafélék, Az annónafélék (Annonaceae) a liliomfa-virágúak (Magnoliales) rendjének egyik családja, bár egyes szerzők külön rendet, az annónavirágúakét (Annonales) alkotnák meg nekik.\n",
      "\n"
     ]
    },
    {
     "name": "stdout",
     "output_type": "stream",
     "text": [
      "Apodanthaceae, Az Apodanthaceae a tökvirágúak (Cucurbitales) rendjének egyik családja.\n",
      "\n"
     ]
    },
    {
     "name": "stdout",
     "output_type": "stream",
     "text": [
      "Aráliafélék, Az aráliafélék vagy borostyánfélék (Araliaceae) az ernyősvirágzatúak (Apiales) rendjének egy családja.\n",
      "\n"
     ]
    },
    {
     "name": "stdout",
     "output_type": "stream",
     "text": [
      "Araukáriafélék, Az araukáriafélék (Araucariaceae) a tűlevelűek (Pinopsida) osztályába tartozó fenyőalakúak (Pinales) rendjének egyik, ősi családja.\n",
      "\n"
     ]
    },
    {
     "name": "stdout",
     "output_type": "stream",
     "text": [
      "Árvacsalánfélék, Az árvacsalánfélék vagy ajakosok[1] [2] családjába (Lamiaceae) mintegy 180 nemzetség és 3500 faj tartozik. Többnyire lágyszárúak vagy félcserjék, de fák (pl. tíkfa) is vannak közöttük. Jellemző rájuk a keresztben átellenes vagy örvös levélállás, a négyoldalú szár, a pálhák hiánya, a kétajkú csésze és párta, kétfőporzósak. Leveleik gyakran csipkés vagy fogas szélűek, virágaik sokszor levélhónalji örvökben állnak. A bibeszál gyakran besüllyedt, a magház alapjából ered, a bibe nem túl jelentős. A pollen exinéje a nyílásoknál nincs megvastagodva. Termésük hasadó makkocska, mely a két, egyenként két magkezdeményes termőlevélből fejlődik ki. Jellegzetes aromatikus illatuk van, több ide tartozó fajt gyógynövényként vagy fűszernövényként használnak fel.\n",
      "\n"
     ]
    },
    {
     "name": "stdout",
     "output_type": "stream",
     "text": [
      "Babérfélék, A babérfélék (Lauraceae) a babérvirágúak (Laurales) rendjének egyik családja. Ötven nemzetség mintegy 2500 faja tartozik ide.\n",
      "\n"
     ]
    },
    {
     "name": "stdout",
     "output_type": "stream",
     "text": [
      "Bálványfafélék, A bálványfafélék (Simaroubaceae) a szappanfavirágúak (Sapindales) rendjének egyik családja. Az elmúlt évtizedekben rendszertani viták célkeresztjébe került, több kisebb családot választottak le róla.\n",
      "\n"
     ]
    },
    {
     "name": "stdout",
     "output_type": "stream",
     "text": [
      "Banánfélék, A banánfélék (Musaceae) a gyömbérvirágúak (Zingiberales) rendjének egyik családja. Korábbi rendszerekben (pl. Urania Pflanzenwelt) a rend névadója volt (banánvirágúak), de hasonlóan a többi családdal (kannafélék, nyílgyökérfélék, gyömbérfélék stb.) alkotott egy rendet. A banánféléket korábban két alcsaládra osztották: a valódi banánfélékre (Musoideae) és a papagájvirágfélékre (Strelitzioidea). A kladisztika legújabb eredményei alapján azonban a papagájvirág-félék külön családot alkotnak a Zingiberales renden belül, Strelitziaceae néven. A banánfélék morfológiai sajátosságait itt röviden összegezzük.\n",
      "\n"
     ]
    },
    {
     "name": "stdout",
     "output_type": "stream",
     "text": [
      "Barkamirtuszfélék, A barkamirtuszfélék (Garryaceae) a zárvatermő növények (Magnoliophyta) Garryales rendjének névadó családja, mindössze két nemzetséggel. Fajai a Csendes-óceán körül, a Nyugat-USA-tól Közép-Amerikán át a Karib-térségig, illetve Kelet-Ázsiában nőnek. Leveleik épek, örökzöldek.\n",
      "A családot két, egyes szerzők[1] három nemzetségre tagolják:[2]\n",
      "\n"
     ]
    },
    {
     "name": "stdout",
     "output_type": "stream",
     "text": [
      "Begóniafélék, A begóniafélék (Begoniaceae) a tökvirágúak (Cucurbitales) rendjének egyik családja.\n",
      "\n"
     ]
    },
    {
     "name": "stdout",
     "output_type": "stream",
     "text": [
      "Békaszőlőfélék, A békaszőlőfélék (Potamogetonaceae) a hídőrvirágúak rendjének (Arismatales) egyik családja. Kivétel nélkül vízi növények, a testük egésze a víz alá merül, esetleg csak virágaik emelkednek a víz színe fölé. Az aljzaton gyökereznek, száruk igen erős, sok tartalék tápanyagot is raktároz. Leveleik sokszor alapjuknál hüvelyszerűen összenőnek, és a hüvelyben pikkelyszerű mirigyszőrök találhatók. A levél felületén, a kutikula alatt vízfelvevő sejtek találhatók. Egyes fajoknál fellép a heterofillia (különböző levelűség); a szár alján hosszúkás levelek, fentebb tojásdadok találhatók. A virágzat jelentősen egyszerűsödik, füzérszerűen csoportosulnak virágzatba. Virágtakaró nincs, a virág általában a víz színe fölé emelkedik, de néhol még az is a víz színe alatt marad. A portokok csatlóján egyes fajoknál sziromlevélszerű képlet fejlődik. A virágok hímnősek (kevés az egyivarú virág, néhány kétlaki faj is akad), a termő belső felszínén 1 vagy 2 magkezdemény képződik, a kialakuló magban nincs magfehérje (secunder endospermium).\n",
      "\n"
     ]
    },
    {
     "name": "stdout",
     "output_type": "stream",
     "text": [
      "Békatutajfélék, A békatutajfélék (Hydrocharitaceae) a hídőrvirágúak rendjének (Alismatales) egyik családja.\n",
      "\n"
     ]
    },
    {
     "name": "stdout",
     "output_type": "stream",
     "text": [
      "Bengefélék, A bengefélék (Rhamnaceae) a rózsavirágúak (Rosales) rendjének egy családja. A családba 50-60 nemzetség és 870-900 faj tartozik. Világszerte elterjedt, de főleg a trópusokon és szubtrópusokon élő fák, cserjék. Vannak köztük gyümölcstermők pl. a jujuba (Ziziphus jujuba), gyógynövények pl. a közönséges kutyabenge (Frangula alnus), és dísznövények pl. a krisztustövis (Paliurus spina-cristi).\n",
      "\n"
     ]
    },
    {
     "name": "stdout",
     "output_type": "stream",
     "text": [
      "Boglárkafélék, Isopyroideae alcsalád:\n",
      "\n"
     ]
    },
    {
     "name": "stdout",
     "output_type": "stream",
     "text": [
      "Borágófélék, A borágófélék vagy érdeslevelűek (Boraginaceae) a valódi kétszikűek (eudicots) asterids kládjának euasterids I csoportjába tartozó, a pontos rendszertani viszonyok tisztázásáig saját rendbe sorolt család. Körülbelül 100 nemzetség 2000 faja tartozik ide. Magyarországon kicsit több mint 40 faj őshonos.\n",
      "\n"
     ]
    },
    {
     "name": "stdout",
     "output_type": "stream",
     "text": [
      "Borbolyafélék, A borbolyafélék (Berberidaceae) a boglárkavirágúak (Ranunculales) rendjének növénycsaládja. Mintegy 570 faj tartozik ide, melyek többsége (450) a Berberis-ben található. A családban fák, cserjék és lágy szárú évelő növények is találhatók.\n",
      "\n"
     ]
    },
    {
     "name": "stdout",
     "output_type": "stream",
     "text": [
      "Boroszlánfélék, A boroszlánfélék (Thymelaeaceae) a valódi kétszikűek (Eudicots) eurosid II kládjában a mályvavirágúak (Malvales) rendjének egyik családja több mint ötszáz fajjal. Korábban a mirtuszvirágúak rendjébe sorolták.\n",
      "\n"
     ]
    },
    {
     "name": "stdout",
     "output_type": "stream",
     "text": [
      "Borsfélék, A borsfélék (Piperaceae) a borsvirágúak (Piperales) rendjének egyik, főleg trópusi és szubtrópusi vidékeken elterjedt családja, melybe az APG osztályozása alapján 5 (besorolástól függően 8) nemzetség 2015 faja tartozik.\n",
      "\n"
     ]
    },
    {
     "name": "stdout",
     "output_type": "stream",
     "text": [
      "Broméliafélék, A broméliafélék (Bromeliaceae) a perjevirágúak rendjének (Poales) egyik családja. Korábbi rendszerekben teljesen más volt a megítélésük. A Soó- és Hortobágyi-rendszerben külön rendként szerepel lisztesmagvúak (Bromeliales, Farinosae) néven. A Borhidi-rendszerben a Zingiberidae alosztály (gyömbérvirágúak) Bromelianae főrendjébe tartozik az ananászvirágúak rendje (Bromeliales).\n",
      "\n"
     ]
    },
    {
     "name": "stdout",
     "output_type": "stream",
     "text": [
      "Bunkóspálmafélék, A bunkóspálmák (Zamiaceae) megtévesztő nevük dacára nem a pálmák, hanem a cikászok (Cycadophyta) egyik családja mintegy 35 fajjal.\n",
      "\n"
     ]
    },
    {
     "name": "stdout",
     "output_type": "stream",
     "text": [
      "Burgonyafélék, A burgonyafélék (Solanaceae) a valódi kétszikűek egyik családja, amelybe lágyszárúak és cserjék is tartoznak. Régebbi nevük csucsorfélék vagy ebszőlőfélék. (A „csucsor” szó a nyelvújítás terméke; a csúcs főnév -r képzős származéka. A jelölt növények dudoros gumójuk vagy termésük alapján kaphatták a nevet.)\n",
      "\n"
     ]
    },
    {
     "name": "stdout",
     "output_type": "stream",
     "text": [
      "Buzérfélék, A buzérfélék (Rubiaceae) az APG III osztályozás alapján az eudicots csoportjának euasterid I elnevezésű kládjába tartozó tárnicsvirágúak (Gentiales) rend egyik családja.\n",
      "\n"
     ]
    },
    {
     "name": "stdout",
     "output_type": "stream",
     "text": [
      "Bükkfafélék, A bükkfafélék (Fagaceae) a bükkfavirágúak (Fagales) rendjének egyik, főleg az északi féltekén elterjedt növénycsaládja. Nyolc élő nemzetségükbe mintegy ezer fajt sorolnak; a Fagopsis nemzetséget csak maradványokból ismerjük.\n",
      "\n"
     ]
    },
    {
     "name": "stdout",
     "output_type": "stream",
     "text": [
      "Chlamydomonadaceae, A Chlamydomonadaceae a valódi zöldmoszatok törzsének egy családja, mely a Chlorophyceae osztályba és a Volvocales (Chlamydomonadales) rendbe tartozik.\n",
      "\n"
     ]
    },
    {
     "name": "stdout",
     "output_type": "stream",
     "text": [
      "Cikászfélék, A cikászfélék (Cycadaceae) a cikászok (Cycadales) rend névadó családja, amelybe egyetlen nemzetség, a cikász (Cycas) tartozik, körülbelül 185 fajjal. Az európai kultúrkörben a 9. században ismerték meg, amikor arab utazók beszámoltak néhány cikászról, amikből Indiában lisztet készítettek. Tudományos nevüket Linné adta, aki a cikászokat a Theophrasztosz által xuxas néven leírt növénnyel azonosította; a Cycas szó a xuxas latinosításának eredménye.\n",
      "\n"
     ]
    },
    {
     "name": "stdout",
     "output_type": "stream",
     "text": [
      "Ciprusfélék, A szűkebb értelemben vett ciprusfélék (Cupressaceae) a fenyőalakúak rendjének egyik családja 27–30 nemzetséggel (közülük 17 monotipikus) és 130–140 fajjal. „Testvércsaládjuk” a tiszafaféléké (Taxodiacae). A rendszertanászok e két családot (Cupressaceae s. str. és Taxodiaceae) elsősorban a leveleik különbözősége miatt különítették el (átellenes és pikkelyszerű vagy örvös és tű alakú a klasszikus ciprusféléké, néhány kivétellel váltakozó és tűszerű a tiszafaféléké). A z immunológiai és kladisztikai elemzések szerint a szűkebb értelemben vett ciprusfélék (Cupressaceae s. str.) fajai valóban monofiletikus kláddá állnak össze, a többiek azonban több ágon evolváltak. Így a hagyományos értelemben vett tiszafafélék családja parafiletikus, és önálló rendszertani kategóriaként nem tartható fenn. A két család egyesítésének eredménye a tágabb értelemben vett ciprusfélék (Cupressaceae sensu lato) kládja (családja).\n",
      "\n"
     ]
    },
    {
     "name": "stdout",
     "output_type": "stream",
     "text": [
      "Cleomaceae, A Wikimédia Commons tartalmaz Cleomaceae témájú kategóriát.\n",
      "\n"
     ]
    },
    {
     "name": "stdout",
     "output_type": "stream",
     "text": [
      "Csalánfélék, A Wikimédia Commons tartalmaz Csalánfélék témájú kategóriát.\n",
      "\n"
     ]
    },
    {
     "name": "stdout",
     "output_type": "stream",
     "text": [
      "Csatavirágfélék, A Wikimédia Commons tartalmaz Csatavirágfélék témájú kategóriát.\n",
      "\n"
     ]
    },
    {
     "name": "stdout",
     "output_type": "stream",
     "text": [
      "Csavarpálmafélék, A csavarpálmafélék vagy pandanuszfélék (Pandanaceae) az egyszikűek osztályának (Liliopsida), a csavarpálma-virágúak rendjének (Pandanales) egyik és egyben névadó családja. Korábbi rendszerekben teljesen más volt a csoport leszármazásának és szisztematikai hovatartozásának megítélése.\n",
      "\n"
     ]
    },
    {
     "name": "stdout",
     "output_type": "stream",
     "text": [
      "Csikófark, A csikófark a leplesmagvúak (Gnetophyta) törzsébe tartozó csikófarkfélék (Ephedraceae) családjának egyetlen és névadó nemzetsége.\n",
      "\n"
     ]
    },
    {
     "name": "stdout",
     "output_type": "stream",
     "text": [
      "Csipkeharasztok, A csipkeharasztok (Selaginellales) a korpafüvek törzsének (Lycopodiophyta) Isoetopsida osztályába tartozó növényrend.\n",
      "\n"
     ]
    },
    {
     "name": "stdout",
     "output_type": "stream",
     "text": [
      "Csodatölcsérfélék, A csodatölcsérfélék (éjjelnyílók, Nyctaginaceae) a szegfűvirágúak (Caryophyllales) rendjének egyik családja, amit az álkörmösfélék közeli rokonának tekintenek. Közel ötven nemzetségébe mintegy 3000 faj tartozik.\n",
      "\n"
     ]
    },
    {
     "name": "stdout",
     "output_type": "stream",
     "text": [
      "Csuporkafélék, A csuporkafélék vagy bársonylevélfélék (Gesneriaceae) az ajakosvirágúak (Lamiales) rendjébe tartozó növénycsalád. 147 vagy 148[2] növénynemzetség mintegy 3200 növényfaja tartozik ide, melyek többsége trópusi, illetve szubtrópusi lágy szárú növény vagy félcserje. Számos dísznövény található közöttük, mint például az afrikaiibolyák (Saintpaulia spp.) és a csuporkák (Sinningia spp.).[3]\n",
      "\n"
     ]
    },
    {
     "name": "stdout",
     "output_type": "stream",
     "text": [
      "Dasypogonaceae, A Wikimédia Commons tartalmaz Dasypogonaceae témájú kategóriát.\n",
      "\n"
     ]
    },
    {
     "name": "stdout",
     "output_type": "stream",
     "text": [
      "Dilléniafélék, A dilléniafélék (Dilleniaceae) ősi jellegű család; az APG III-rendszer rendbe nem sorolja, a valódi kétszikűeken belül a core eudicots kládhoz sorolja.\n",
      "\n"
     ]
    },
    {
     "name": "stdout",
     "output_type": "stream",
     "text": [
      "Dinnyefafélék, A Wikimédia Commons tartalmaz Dinnyefafélék témájú kategóriát.\n",
      "\n"
     ]
    },
    {
     "name": "stdout",
     "output_type": "stream",
     "text": [
      "Diófafélék, A diófafélék vagy diófélék (Juglandaceae) a kupacsostermésűek vagy bükkfavirágúak rendjének (Fagales) egyik családja, az APG II-rendszer szerint az eurosid I kládban. Korábbi rendszerekben a barkás fák alosztályában (varázsdió-virágúak – Hamamilidae) külön rendet alkottak a diófavirágúak vagy diótermésűek (Juglandales). Az APG II-rendszerben még opcionálisan leválasztható, monotipikus Rhoipteleaceae-t az APG III-rendszerben véglegesen a Juglandaceae-be olvasztották. A családba így jelenleg 9 nemzetség tartozik mintegy 50 fajjal.\n",
      "\n"
     ]
    },
    {
     "name": "stdout",
     "output_type": "stream",
     "text": [
      "Dipentodontaceae, A Dipentodontaceae a Huerteales rendbe tartozó növénycsalád.\n",
      "\n"
     ]
    },
    {
     "name": "stdout",
     "output_type": "stream",
     "text": [
      "Dipterokarpuszfélék, A dipterokarpuszfélék (Dipterocarpaceae) a mályvavirágúak (Malvales) rendjének egyik családja.[1]\n",
      "\n"
     ]
    },
    {
     "name": "stdout",
     "output_type": "stream",
     "text": [
      "Díszlevélfafélék, A Wikimédia Commons tartalmaz Díszlevélfafélék témájú kategóriát.\n",
      "\n"
     ]
    },
    {
     "name": "stdout",
     "output_type": "stream",
     "text": [
      "Disznóparéjfélék, A Wikimédia Commons tartalmaz Disznóparéjfélék témájú kategóriát.\n",
      "\n"
     ]
    },
    {
     "name": "stdout",
     "output_type": "stream",
     "text": [
      "Eperfafélék, Az eperfafélék (Moraceae) a rózsavirágúak (Rosales) rendjének egy családja.\n",
      "\n"
     ]
    },
    {
     "name": "stdout",
     "output_type": "stream",
     "text": [
      "Escalloniaceae, A Wikimédia Commons tartalmaz Escalloniaceae témájú kategóriát.\n",
      "\n"
     ]
    },
    {
     "name": "stdout",
     "output_type": "stream",
     "text": [
      "Ezüstfafélék, Az ezüstfafélék vagy olajfűzfélék (Elaeagnaceae) a rózsavirágúak (Rosales) rendjének egy családja.\n",
      "\n"
     ]
    },
    {
     "name": "stdout",
     "output_type": "stream",
     "text": [
      "Fakínfélék, A fakínfélék (Loranthaceae) a szantálfavirágúak rendjébe tartozó növénycsalád. 75 nemzetség tartozik a családba, a fajok száma kb. 1000. Sok faj ezek közül hemiparazita.\n",
      "\n"
     ]
    },
    {
     "name": "stdout",
     "output_type": "stream",
     "text": [
      "Farkasalmafélék, A farkasalmafélék (Aristolochiaceae) családja a hagyományos rendszertanok szerint a farkasalmák (Aristolochiales) rendjének egyetlen családja körülbelül 700 fajjal. Az APG-rendszer a borsvirágúak (Piperales) rendjébe helyezi a családot.\n",
      "Lágyszárúak és fásodó szárú kúszónövények. Leveleik osztatlanok, ép szélűek; levélállásuk szórt.\n",
      "\n"
     ]
    },
    {
     "name": "stdout",
     "output_type": "stream",
     "text": [
      "Fenyőfélék, A fenyőfélék (ikermagvas fenyőfélék, egyes művekben erdeifenyő-félék; Pinaceae) a fenyőalakúak (Pinales) rendjének, sőt a tűlevelűek (Pinopsida) teljes osztályának legismertebb és legelterjedtebb, névadó családja mintegy 250, 10 nemzetségbe sorolt fajjal. A család monofiletikus jellegét a molekuláris elemzések egyértelműen bizonyították. Ugyancsak erre utal a visszafordult magkezdemény, a szinte mindig szárnyas mag, a proteint tartalmazó plasztidok a rostasejtekben és a többi fenyőben meglévő bioflavonoidok hiánya is.\n",
      "\n"
     ]
    },
    {
     "name": "stdout",
     "output_type": "stream",
     "text": [
      "Fissidentaceae, A Wikimédia Commons tartalmaz Fissidens témájú kategóriát.\n",
      "\n"
     ]
    },
    {
     "name": "stdout",
     "output_type": "stream",
     "text": [
      "Fogpiszkálófű, A fogpiszkálófű (Ammi visnaga), a zárvatermők (Magnoliophyta) törzsébe, az ernyősvirágzatúak (Apiales) rendjébe, a zellerfélék (Apiaceae) családjába tartozó növényfaj.\n",
      "\n"
     ]
    },
    {
     "name": "stdout",
     "output_type": "stream",
     "text": [
      "Fűfafélék, A fűfafélék (Asphodelaceae) az egyszikűek osztályának (Liliopsida), a spárgavirágúak rendjének (Asparagales) egyik családja. Korábbi rendszerekben a liliomok rendjébe (Liliales, Liliflorae) tartozott, már akkor is mint különálló család. A molekuláris kladisztika eredményei szerint a spárgavirágú családok közül a sásliliomfélékkel (Hemerocallidaceae) és az aszfodéloszfélékkel (Asphodelaceae) állnak szorosabb rokonságban.\n",
      "\n"
     ]
    },
    {
     "name": "stdout",
     "output_type": "stream",
     "text": [
      "Fűszercserjefélék, A fűszercserjefélék (Calycanthaceae) a babérvirágúak rendjébe tartozó, 1 kivétellel lombhullató cserjék 3 nemzetségben 9-10 fajt számláló családja. Magyarországon legjobban az illatos fűszercserje ismert, mely megtalálható botanikus kertekben és kerti dísznövényként is árusítják.\n",
      "\n"
     ]
    },
    {
     "name": "stdout",
     "output_type": "stream",
     "text": [
      "Füzényfélék, A füzényfélék (Lythraceae) a zárvatermők (Magnoliophyta) közé tartozó mirtuszvirágúak (Myrtales) egyik családja 33 nemzetséggel és mintegy ötszáz fajjal.\n",
      "\n"
     ]
    },
    {
     "name": "stdout",
     "output_type": "stream",
     "text": [
      "Fűzfafélék, A Wikimédia Commons tartalmaz Fűzfafélék témájú kategóriát.\n",
      "\n"
     ]
    },
    {
     "name": "stdout",
     "output_type": "stream",
     "text": [
      "Gnétum, A gnétum (Gnetum gnemon) a  leplesmagvúak (Gnetophyta) közé tartozó gnétumok (Gnetopsida) osztályának névadó nemzetsége, a  Gnetaceae család egyetlen nemzetsége mintegy 40 fajjal.\n",
      "\n"
     ]
    },
    {
     "name": "stdout",
     "output_type": "stream",
     "text": [
      "Golgotavirágfélék, A golgotavirágfélék (Passifloraceae) családja az APG rendszerezése szerint a Malpighiales rendbe tartozik. 18 nemzetség mintegy 530 faját sorolják ide. Az APG III-rendszer hozzácsatolta az addig különálló Malesherbiaceae és Turneraceae családokat.\n",
      "\n"
     ]
    },
    {
     "name": "stdout",
     "output_type": "stream",
     "text": [
      "Gólyaorrfélék, A gólyaorrfélék (Geraniaceae) a gólyaorrvirágúak (Geraniales) rendjébe tartozó növénycsalád. A család nevét a Geranium (gólyaorr) nemzetségről kapta. A gólyaorrok mellett a családba tartoznak a muskátlik, amiket megtévesztő módon gerániumoknak is neveznek; a modern botanika ezeket a Pelargonium nemzetségbe sorolja.\n",
      "\n"
     ]
    },
    {
     "name": "stdout",
     "output_type": "stream",
     "text": [
      "Görvélyfűfélék, A Wikimédia Commons tartalmaz Görvélyfűfélék témájú kategóriát.\n",
      "\n"
     ]
    },
    {
     "name": "stdout",
     "output_type": "stream",
     "text": [
      "Gyékényfélék, A gyékényfélék (Typhaceae) a perjevirágúak rendjének (Poales) egyik családja. Egyes leírásokban egyetlen nemzetség, a gyékény vagy buzogánysás (Typha) tartozik ide, mintegy 15 igen specializált, évelő, vízi vagy vízparti fajjal; az APG III-rendszer a már önálló családként nem kezelt békabuzogányfélék (Sparganiaceae) monogenerikus családját is ide sorolta, egyetlen nemzetséggel – Sparganium. A gyékény virága a buga.\n",
      "\n"
     ]
    },
    {
     "name": "stdout",
     "output_type": "stream",
     "text": [
      "Gyommohafélék, A gyommohafélék (Funariaceae) egy lombosmoha család, amibe körülbelül 250 mohafaj tartozik világszerte. A legtöbb faj a Funaria és Physcomitrium nemzetségbe tartozik. \n",
      "\n"
     ]
    },
    {
     "name": "stdout",
     "output_type": "stream",
     "text": [
      "Gyömbérfélék, A gyömbérfélék (Zingiberaceae) a gyömbérvirágúak (Zingiberales) rendjének névadó családja. Korábbi rendszerekben (pl. Urania Pflanzenwelt, Hortobágyi-rendszer) a családot két alcsaládra osztották: Zingiberoideae és Costoideae. Ez utóbbi már külön család rangon szerepel a rendszerekben Costaceae néven.\n",
      "\n"
     ]
    },
    {
     "name": "stdout",
     "output_type": "stream",
     "text": [
      "Gyöngyvirágfafélék, A gyöngyvirágfafélék (Clethraceae) az hangavirágúak rendjének (Ericales) egyik családja. A családba két nemzetség kb. 50 faja tartozik, tehát a rend egy kisebb családja. A gyöngyvirágfák trópusi és szubtrópusi elterjedésű fák vagy cserjék. Leveleik szórt állásúak. Viráguk sugaras szimmetriájú, a csészék – melyek száma 5 – általában összenőttek, a szirmok szabadok, ezek száma is 5. A porzótájban 10 vagy 12 porzó található 2 körben. A termőtáj 3 termőlevélből nőtt össze, és alsó állású. A termőből toktermés fejlődik. Madeirán él a Madeira-gyöngyvirágfa (Clethra arborea).\n",
      "\n"
     ]
    },
    {
     "name": "stdout",
     "output_type": "stream",
     "text": [
      "Halimeda, A Halimeda a valódi zöldmoszatok (Chlorophyta) törzsébe és a Bryopsidophyceae osztályába tartozó nemzetség. A Halimedaceae növénycsalád egyetlen nemzetsége.\n",
      "\n"
     ]
    },
    {
     "name": "stdout",
     "output_type": "stream",
     "text": [
      "Hangafélék, A hangafélék (erikafélék, csarabfélék) családja (Ericaceae) a virágos növények nyolc alcsaládját – 124, rendkívül változatos megjelenésű és életmódú nemzetség mintegy háromezer faját – foglalja magába. Jellemzően örökzöld cserjék, félcserjék vagy fák.\n",
      "\n"
     ]
    },
    {
     "name": "stdout",
     "output_type": "stream",
     "text": [
      "Harangvirágfélék, A harangvirágfélék (Campanulaceae) családja az egyre elfogadottabb APG osztályozás szerint a fészkesvirágzatúak (Asterales), más szerzők szerint a harangvirágúak (Campanulales) rendjébe tartozik. Főleg a mérsékelt és szubtrópusi övekben terjedt el, a trópusokon inkább a hegyvidékeken fordul elő.\n",
      "\n"
     ]
    },
    {
     "name": "stdout",
     "output_type": "stream",
     "text": [
      "Harmatfűfélék, A harmatfűfélék (Droseraceae) a szegfűvirágúak (Caryophyllales) rendbe tartozó, mocsaras, lápos élőhelyeket kedvelő, rovarfogó növénycsalád. A három ide tartozó nemzetség 115 fajának nagy része Ausztráliában honos. Magyarországon két faj él, a Kárpát-medencében négy.\n",
      "\n"
     ]
    },
    {
     "name": "stdout",
     "output_type": "stream",
     "text": [
      "Hernandiaceae, A Hernandiaceae a babérvirágúak (Laurales) rendjének egyik családja.\n",
      "\n"
     ]
    },
    {
     "name": "stdout",
     "output_type": "stream",
     "text": [
      "Hídőrfélék, A hídőrfélék vagy vízi liliomok (Alismataceae) a hídőrvirágúak (Alismatales) rendjének névadó családja.\n",
      "\n"
     ]
    },
    {
     "name": "stdout",
     "output_type": "stream",
     "text": [
      "Hortenziafélék, A hortenziafélék (Hydrangeaceae) a somvirágúak (Cornales) rendjének egyik családja, tizenegy nemzetségben mintegy száznyolcvan fajjal. A nemzetségek besorolása rendkívül bizonytalan; a különböző rendszertanokban az itt megadottól jelentősen eltérő beosztások is előfordulnak. Korábban egyesek magát a családot is máshova: a kőtörőfű-virágúak (Saxifragales) rendjébe helyezték.\n",
      "\n"
     ]
    },
    {
     "name": "stdout",
     "output_type": "stream",
     "text": [
      "Hydatellaceae, A növények a víz alatti szubsztrátumban gyökerező, elmerült és feltörekvő vízinövények. Apró növények, mindössze néhány cm magasak. A legtöbb faj tünékeny vízi élőlény, amely tavaszi medencékben virágzik, amikor a víz leszáll, de számos faj víz alatti évelő a sekély tavakban. Az egyszerű levelek alapvetően egy rövid szár körül koncentrálódnak. \n",
      "\n"
     ]
    },
    {
     "name": "stdout",
     "output_type": "stream",
     "text": [
      "Hypoxidaceae, A Wikimédia Commons tartalmaz Hypoxidaceae témájú kategóriát.\n",
      "\n"
     ]
    },
    {
     "name": "stdout",
     "output_type": "stream",
     "text": [
      "Ibolyafélék, Az ibolyafélék (Violaceae) a legújabb rendszerezések szerint a Malpighiales rendbe tartozó növénycsalád 23 nemzetséggel, közel ezer fajjal. A korábbi rendszerezések az ibolyavirágúak (Violales) rendjébe sorolták, annak névadó családjaként.\n",
      "\n"
     ]
    },
    {
     "name": "stdout",
     "output_type": "stream",
     "text": [
      "Japán ernyőfenyő, A  fenyőalakúak (Pinales) közé tartozó ernyőfenyőfélék (Sciadopityaceae) monotipikus (egyfajú) családja egyedül Japánban, Sikoku és Kjúsú szigeten, valamint Honsú szigetének Kii-félszigetén maradt fenn. Japán neve 高野槙 (kójamaki). A család egyetlen nemzetségének egyetlen faját (Sciadopitys verticillata) magyarul japán ernyőfenyőnek nevezzük. \n",
      "\n"
     ]
    },
    {
     "name": "stdout",
     "output_type": "stream",
     "text": [
      "Kaktuszfélék, A kaktuszfélék (Cactaceae) családja mintegy 2000 fajt foglal magába. Fajai Amerika trópusi, szubtrópusi sivatagos vagy száraz hegyvidéki területről származnak. Pozsgás (törzsszukkulens) növények. A magkezdemény és a mag szerveződése, valamint a betalain vegyületek előfordulása alapján a Phytolaccaceae családdal állnak közelebbi rokonságban.\n",
      "\n"
     ]
    },
    {
     "name": "stdout",
     "output_type": "stream",
     "text": [
      "Kálmosvirágúak, A kálmosvirágúak (Acorales) az egyszikűek osztályának (Liliopsida) egyik rendje. Egyetlen család, a kálmosfélék (Acoraceae) és egyetlen nemzetség, az Acorus nemzetség tartozik a rendbe.\n",
      "A kladogramról leghamarabb levált egyszikű-csoport, a többi testvércsoportja. Korábban torzsavirágzata miatt a kontyvirágfélék (Araceae) közé sorolták. A genetikai és molekuláris biológiai elemzések azonban bizonyítják: nincs közelebbi rokonságuk a kontyvirágokkal, a torzsavirágzat csak konvergens jelleg.\n",
      "\n"
     ]
    },
    {
     "name": "stdout",
     "output_type": "stream",
     "text": [
      "Kankalinfélék, A kankalinfélék családja (Primulaceae) a virágos növények 24, tőlevélrózsás nemzetségét foglalja magába, köztük kedvelt kerti- és vadnövényeket is.\n",
      "\n"
     ]
    },
    {
     "name": "stdout",
     "output_type": "stream",
     "text": [
      "Kannafélék, A kannafélék vagy rózsanádfélék (Cannaceae) a gyömbérvirágúak (Zingiberales) rendjének egyik monogenerikus családja. A kladogramon az egyszikűek (Liliopsida) kládját zárják, monofiletikus csoportot alkotva a nyílgyökérfélék (Marantaceae) családjával. A korábbi rendszerekben is hasonlóan a gyömbérvirágúak között szerepelt, a csoportot a kladisztikus taxonómia kora előtt is monofiletikusan kezelték, és hasonlóan rendszerezték. A kannafélék morfológiája eléggé egységes, melyet az alábbi pontokban tömören összegzünk.\n",
      "\n"
     ]
    },
    {
     "name": "stdout",
     "output_type": "stream",
     "text": [
      "Káposztafélék, A káposztafélék (Brassicaceae) a keresztesvirágúak (Brassicales) rendjének egy családja.\n",
      "\n"
     ]
    },
    {
     "name": "stdout",
     "output_type": "stream",
     "text": [
      "Kaprifélék, A kaprifélék (Capparaceae) a keresztesvirágúak (Brassicales) rendjének egy családja.\n",
      "\n"
     ]
    },
    {
     "name": "stdout",
     "output_type": "stream",
     "text": [
      "Kazuárfafélék, A kazuárfafélék (Casuarinaceae) a valódi kétszikűek csoportjába és a bükkfavirágúak (Fagales) rendjébe tartozó család.\n",
      "\n"
     ]
    },
    {
     "name": "stdout",
     "output_type": "stream",
     "text": [
      "Kecskerágófélék, A Wikimédia Commons tartalmaz Kecskerágófélék témájú kategóriát.\n",
      "\n"
     ]
    },
    {
     "name": "stdout",
     "output_type": "stream",
     "text": [
      "Kékhüvelyfélék, A kékhüvelyfélék (Lardizabalaceae) a boglárkavirágúak (Ranunculales) rendjének egyik családja két alcsaláddal, több mint 40 fajjal.\n",
      "\n"
     ]
    },
    {
     "name": "stdout",
     "output_type": "stream",
     "text": [
      "Kenderfélék, A kenderfélék (Cannabaceae, Cannabinaceae vagy Cannabidaceae) a rózsavirágúak (Rosales) rendjének egyik viszonylag kis családja, mindössze 8 nemzetséggel, amelyek közt fák és lágyszárúak egyaránt előfordulnak.\n",
      "\n"
     ]
    },
    {
     "name": "stdout",
     "output_type": "stream",
     "text": [
      "Keserűfűfélék, A keserűfűfélék, régebben sóskafélék[1] (Polygonaceae) a szegfűvirágúak (Caryophyllales) rendjének Polygonineae alrendjébe tartozó növénycsalád. Névadó nemzetsége a Polygonum (keserűfű). Ismertebb nemzetségei még a Fagopyrum (hajdina), Rumex (sóska) és Rheum (rebarbara). A család neve a fajok megduzzadt szárcsomóiból származik („poly” = sok, „goni” = térd vagy ízület), bár egyes értelmezések szerint itt a „goni” magot jelent, és így a csoport neve arra utal, hogy sok magot termő növények tartoznak ide. Az előbbi változattal összhangban régi, illetve népies magyar nevei is a tagolt szárra utalnak: szárbütykűfű, göcsfű, sok térdű fű, száz bötköjű fű.\n",
      "\n"
     ]
    },
    {
     "name": "stdout",
     "output_type": "stream",
     "text": [
      "Kikericsfélék, A kikericsfélék (Colchicaceae) az egyszikűek (Liliopsida) osztályában a liliomvirágúak (Liliales) rendjének egyik családja. Az APG III-rendszerben a korábban ide tartozó, ám morfológiailag jól megkülönböztethető monotipikus Petermannia génuszt külön családdá emelték ki, Petermanniaceae néven.\n",
      "\n"
     ]
    },
    {
     "name": "stdout",
     "output_type": "stream",
     "text": [
      "Kontyvirágfélék, A kontyvirágfélék (Araceae) a hídőrvirágúak (Alismatales) egyik családja. A hídőrvirágúak közül ez az egyetlen szárazföldi csoport.\n",
      "\n"
     ]
    },
    {
     "name": "stdout",
     "output_type": "stream",
     "text": [
      "Kosborfélék, Orchidales\n",
      "Borhidi három családra bontja az orchideákat:\n",
      "\n"
     ]
    },
    {
     "name": "stdout",
     "output_type": "stream",
     "text": [
      "Kőtiszafafélék, A kőtiszafafélék vagy podokarpuszfélék (Podocarpaceae) a fenyőalakúak rendjének egy családja.\n",
      "\n"
     ]
    },
    {
     "name": "stdout",
     "output_type": "stream",
     "text": [
      "Kőtörőfűfélék, A kőtörőfűfélék (Saxifragaceae) a zárvatermők (Magnoliophyta) közé tartozó kőtörőfű-virágúak (Saxifragales) rendjének névadó családja mintegy hatszáz fajjal.\n",
      "\n"
     ]
    },
    {
     "name": "stdout",
     "output_type": "stream",
     "text": [
      "Kristályvirágfélék, A kristályvirágfélék (Aizoaceae) a szegfűvirágúak (Caryophyllales) rendjének egyik családja.\n",
      "\n"
     ]
    },
    {
     "name": "stdout",
     "output_type": "stream",
     "text": [
      "Kutyatejfélék, A kutyatejfélék (Euphorbiaceae) a Malpighiales rendbe tartozó növénycsalád. 300 nemzetségével, mintegy 5000 fajával a növényvilág egyik legnagyobb családja; csak névadó génusza, az Euphorbia több mint 2000 fajt számlál.\n",
      "\n"
     ]
    },
    {
     "name": "stdout",
     "output_type": "stream",
     "text": [
      "Küllőfolyondárfélék, A küllőfolyondárfélék vagy aktinídiafélék (Actinidiaceae) a hangavirágúak rendjébe tartozó viszonylag kis fajszámú növénycsalád. 3 nemzetség tartozik bele kb. 360 fajjal.[1]\n",
      "\n"
     ]
    },
    {
     "name": "stdout",
     "output_type": "stream",
     "text": [
      "Kürtvirágfélék, A kürtvirágfélék (Sarraceniaceae) családja az hangavirágúak (Ericales) rendjének egyik növénycsaládja három nemzetséggel, összesen 23 fajjal.\n",
      "\n"
     ]
    },
    {
     "name": "stdout",
     "output_type": "stream",
     "text": [
      "Laxmanniaceae, A Laxmanniaceae a spárgavirágúak rendjébe (Asparagales) tartozó család, melynek rendszertani helye vitatott a taxonómusok körében, sokak szerint nem alkotnak különálló családot, hanem a spárgafélék családjába (Asparagaceae) helyezhetők. Az APG III-rendszer nem is ismeri el a családot, nemzetségeit a spárgafélékhez sorolja. A családba 15 nemzetség mintegy 180 faja sorolható, melyek között igen nagy termetű faalkatú növények is akadnak. A Laxmanniák különféle nemzetségei és fajai Ausztráliában, Délkelet-Ázsiában, a csendes-óceáni szigeteken és Amerikában őshonosak.\n",
      "\n"
     ]
    },
    {
     "name": "stdout",
     "output_type": "stream",
     "text": [
      "Lenfélék, A lenfélék (Linaceae) a kétszikű növények Malpighiales rendjének egyik családja. A családhoz 14 nemzetségben mintegy 250 faj tartozik, amelyek az egész világon megtalálhatóak. Két alcsaládot különböztetnek meg: a Linoideae és Hugonioideae csoportot (utóbbit egyes szerzők Hugoniaceae külön családként ismerik el).\n",
      "\n"
     ]
    },
    {
     "name": "stdout",
     "output_type": "stream",
     "text": [
      "Ligetszépefélék, A ligetszépefélék a mirtuszvirágúak (Myrtales) rendjének egy családja.\n",
      "\n"
     ]
    },
    {
     "name": "stdout",
     "output_type": "stream",
     "text": [
      "Liliomfafélék, A liliomfafélék (Magnoliaceae) a liliomfa-virágúak (Magnoliales) rendjének legősibb és legismertebb, névadó családja.\n",
      "\n"
     ]
    },
    {
     "name": "stdout",
     "output_type": "stream",
     "text": [
      "Liliomfélék, A liliomfélék (Liliaceae) az egyszikűek (Liliopsida) osztályában a liliomvirágúak (Liliales) rendjének egyik családja.\n",
      "\n"
     ]
    },
    {
     "name": "stdout",
     "output_type": "stream",
     "text": [
      "Loncfélék, A loncfélék (Caprifoliaceae) a mácsonyavirágúak (Dipsacales) rendjének egy növénycsaládja.\n",
      "\n"
     ]
    },
    {
     "name": "stdout",
     "output_type": "stream",
     "text": [
      "Lótuszfélék, A lótuszfélék (Nelumbonaceae) a valódi kétszikűek (Eudicotyledonopsida, Eudicotyledonae) próteavirágúak rendjének (Proteales) egyik családja. A családba csak egyetlen nemzetség tartozik, a lótusz (Nelumbo), amelynek két faja ismert: az indiai lótusz (Nelumbo nucifera Gaertn.) és az amerikai lótusz (Nelumbo lutea Willd.). A családot főképp virágszerkezetük alapján korábban a tündérrózsafélékkel (Nymphaeaceae) hozták rokonságba: vagy a tündérrózsafélék egyik alcsaládja volt Nelumboideae néven, vagy külön családi rangot kapott, de akkor is a tündérrózsák közelében helyezték el őket.\n",
      "\n"
     ]
    },
    {
     "name": "stdout",
     "output_type": "stream",
     "text": [
      "Madársóskafélék, A madársóskafélék (Oxalidaceae) a  valódi kétszikűek (eudicots) közé tartozó madársóska-virágúak (Oxalidales) rendjének névadó családja; a család öt nemzetsége mintegy 950 fajt fog össze.\n",
      "\n"
     ]
    },
    {
     "name": "stdout",
     "output_type": "stream",
     "text": [
      "Magyal, A magyal (Ilex) az APG III-rendszerben létrehozott Aquifoliales rendben a magyalfélék (Aquifoliaceae) családjának egyetlen nemzetsége. Korábban a Cronquist-rendszer a családot a kecskerágó-virágúak (Celastrales) rendjébe sorolta. Az egykori Nemopanthus nemzetség, amely a magyalfélék családjába tartozott, beolvadt az Ilex nemzetségbe. A  Phelline és Sphenostemon nemzetség szintén felbukkant ebben a családban, de előbbi jelenleg a Phellicaceae, utóbbi pedig a Paracryphiaceae családban van.[1]\n",
      "\n"
     ]
    },
    {
     "name": "stdout",
     "output_type": "stream",
     "text": [
      "Mákfélék, A mákfélék (Papaveraceae) a boglárkavirágúak (Ranunculales) rendjébe tartozó, a taxonómusok által univerzálisan elismert növénycsalád. Kozmopolita elterjedésű, mérsékelt és szubtrópusi éghajlat alatt. Legtöbb faja lágyszárú, de vannak köztük cserjék és fák is.\n",
      "\n"
     ]
    },
    {
     "name": "stdout",
     "output_type": "stream",
     "text": [
      "Malpighicserjefélék, A malpighicserjefélék (Malpighiaceae) a Malpighiales rend egyik családja.\n",
      "\n"
     ]
    },
    {
     "name": "stdout",
     "output_type": "stream",
     "text": [
      "Mályvafélék, A mályvafélék (Malvaceae) a mályvavirágúak (Malvales) rendjének egyik növénycsaládja. A mályva szó elő-vagy utótagként a család több nemzetségének magyar nevében is szerepel.\n",
      "\n"
     ]
    },
    {
     "name": "stdout",
     "output_type": "stream",
     "text": [
      "Medvekörömfélék, A medvekörömfélék vagy akantuszfélék (Acanthaceae) az ajakosvirágúak (Lamiales) rendjébe tartozó növénycsalád mintegy 346 nemzetség nagyjából 4300 fajával. A család szoros rokonságban áll a görvélyfűfélékkel (Scrophulariaceae).\n",
      "\n"
     ]
    },
    {
     "name": "stdout",
     "output_type": "stream",
     "text": [
      "Meténgfélék, A meténgfélék vagy télizöldfélék (Apocynaceae) a zárvatermők (angiosperms) közé tartozó tárnicsvirágúak (Gentianales) rendjének egyik családja.\n",
      "\n"
     ]
    },
    {
     "name": "stdout",
     "output_type": "stream",
     "text": [
      "Mirtuszfélék, A Wikimédia Commons tartalmaz Mirtuszfélék (Myrtaceae) témájú kategóriát.\n",
      "\n"
     ]
    },
    {
     "name": "stdout",
     "output_type": "stream",
     "text": [
      "Mocsárciprusfélék, A korábban a Taxodiaceae családba sorolt nemzetségek:\n",
      "\n"
     ]
    },
    {
     "name": "stdout",
     "output_type": "stream",
     "text": [
      "Muskátdiófélék, A muskátdiófélék (Myristicaceae) a liliomfa-virágúak (Magnoliales) rendjének egyik családja.\n",
      "\n"
     ]
    },
    {
     "name": "stdout",
     "output_type": "stream",
     "text": [
      "Nebáncsvirágfélék, A nebáncsvirágfélék (Balsaminaceae) a hangavirágúak (Ericales) rendjének egy családja.\n",
      "\n"
     ]
    },
    {
     "name": "stdout",
     "output_type": "stream",
     "text": [
      "Nősziromfélék, A nősziromfélék (Iridaceae) a spárgavirágúak rendjének egy családja. 80 nemzetség, 1500 faj tartozik ide. Ezek többsége Dél-Afrikában (afrotropikus ökozóna) vagy Amerika trópusi-szubtrópusi területein honos, bőségesen előfordulnak azonban a mérsékelt égövben is képviselőik. Közéjük tartozik a sáfrány fűszernövény is.\n",
      "\n"
     ]
    },
    {
     "name": "stdout",
     "output_type": "stream",
     "text": [
      "Nyílgyökérfélék, A nyílgyökérfélék vagy marantafélék (Marantaceae) a gyömbérvirágúak rendjének (Zingiberales) egyik családja. Taxonómiai helyzete a korábbi rendszerekben is hasonló volt. Kládot alkotnak a kannafélék családjával (Cannaceae), így azokat gyakran egy családba egyesítik, és két alcsaládra osztják: Cannoideae és Marantoideae. A nyílgyökér név nem utal semmilyen morfológiai sajátosságra, hanem a növény eredeti indián nevének angolosítása révén jött létre. A család morfológiai sajátosságait az alábbi pontokban összegezve találhatók. Ebbe a családba tartoznak a zebralevélfélék is.\n",
      "\n"
     ]
    },
    {
     "name": "stdout",
     "output_type": "stream",
     "text": [
      "Nyírfafélék, A Wikifajok tartalmaz Nyírfafélék témájú rendszertani információt.\n",
      "\n"
     ]
    },
    {
     "name": "stdout",
     "output_type": "stream",
     "text": [
      "Olajfafélék, Az olajfafélék (Oleaceae) az ajakosvirágúak (Lamiales) rendjébe tartozó növénycsalád. 24 nemzetség kb. 600 faja, közepes vízigényű (mezofita) fás szárú növények; cserjék, fák, néha liánok tartoznak ide. A rend alapi helyzetű családja. Virágaik sugarasak, gyakran hímnősek, általában négytagú csészével és pártával, két, pártára nőtt porzóval. Termésük lehet lependék, tok vagy bogyó, leveleik épek vagy páratlanul szárnyaltak.\n",
      "\n"
     ]
    },
    {
     "name": "stdout",
     "output_type": "stream",
     "text": [
      "Ólomgyökérfélék, Az ólomgyökérfélék vagy kékgyökérfélék (Plumbaginaceae) a kétszikűek (Magnoliopsida) osztályában  a szegfűvirágúak (Caryophyllales) rendjének egyik családja huszonöt nemzetség mintegy mintegy 350 fajával. Egyesek önálló, egyetlen családból álló rendként (ólomgyökérvirágúak, Plumbaginales) különítik el őket.\n",
      "\n"
     ]
    },
    {
     "name": "stdout",
     "output_type": "stream",
     "text": [
      "Orbáncfűfélék, Az orbáncfűfélék (Hypericaceae) családja az APG rendszerezése szerint a Malpighiales rendbe tartozik. A családot a trópusokon főleg fák, a mérsékelt öv felé haladva előbb cserjék, majd lágyszárú növények képviselik, a Kárpát-medencében egyetlen nemzetség, a Hypericum honos. Jellemző a levelekben található sok olaj-, a fatestben gyanta- vagy balzsamjárat.\n",
      "\n"
     ]
    },
    {
     "name": "stdout",
     "output_type": "stream",
     "text": [
      "Óriásvirágfélék, Az óriásvirágfélék (rafléziavirágúak, Rafflesiaceae) a  zárvatermők (Magnoliophyta) közé tartozó valódi kétszikűek (eudicots) Malpighiales rendjének egyik  családja. A családot és annak típusnemzetségét is az egykori brit gyarmat, Szingapúr alapítójáról nevezték el. Sir Stamford Rafflest Délkelet-Ázsiába elkísérte a botanikus Joseph Arnoldi. Kettejük családnevét egyesíti a Föld legnagyobb ismert virágának tudományos fajneve: Rafflesia arnoldii.\n",
      "\n"
     ]
    },
    {
     "name": "stdout",
     "output_type": "stream",
     "text": [
      "Őszirózsafélék, Az őszirózsafélék vagy fészkesek (Asteraceae) a fészkesvirágzatúak (Asterales) rendjének névadó családja. A régebbi rendszertanokban a rendbe ezt az egyetlen családot sorolták, a 2009-ben megjelent APG III rendszertanban további 10 családot is mellé rendeltek. Az orchideafélék után a növények legtöbb fajt és a legtöbb nemzetséget számláló családja. Viszonylag fiatal család, az Antarktisz kivételével az egész Földön elterjedt, főleg a mérsékelt övben. Legtöbbjük lágy szárú, csak néhány cserje és fa tartozik ide. A család legfőbb jellemzője a speciális virágzat, a fészek. Mintegy másfél millió éve, a Duna-glaciális idejéből származnak első biztos leleteik.\n",
      "\n"
     ]
    },
    {
     "name": "stdout",
     "output_type": "stream",
     "text": [
      "Páfrányfenyőfélék, A Ginkgoaceae vagy páfrányfenyőfélék a Ginkgopsida rend egyetlen ma élő családja, amely a mezozoikum idején terjedt el. A családba egyetlen ma élő nemzetség tartozik, a Ginkgo, ezen belül egyetlen ma élő faj, a Ginkgo biloba, amelyet gyakran élő kövületnek tekintenek. A földtörténet korábbi korszakaiban több más nemzetség is elterjedt volt.\n",
      "\n"
     ]
    },
    {
     "name": "stdout",
     "output_type": "stream",
     "text": [
      "Palkafélék, A palkafélék vagy sásfélék (Cyperaceae) a perjevirágúak rendjének (Poales) egy családja (3200 fajjal). Legközelebbi rokonaik egyrészt a szittyófélék (Juncaceae), másrészt a gyékényfélék (Typhaceae). Korábbi rendszerekben önálló rendként szerepel (Cyperales), és a liliomvirágúak (Liliales, Liliflorae) egyik erősen módosult vonalának tekintették, a virágzatukat a liliomok virágszerkezetére vezették vissza. Ehrendorfer már felveti a rokonsági kapcsolatot a gyékényfélékkel (Typhaceae), de ezt még a Borhidi-rendszer (1998) is elveti. Az APG II rendszerben már a commelinids kládban szerepel a Poales rendben. A pázsitfű-vonalról a bromélia- és gyékényfélékkel együtt hamar leváltak, önálló evolúciós útra tértek. A palkafélék közös tulajdonságai:\n",
      "\n"
     ]
    },
    {
     "name": "stdout",
     "output_type": "stream",
     "text": [
      "Pálmafélék, A pálmafélék (Arecaceae) az egyszikűek osztályának (Liliopsida, újabban Monocots) a pálmavirágúak (Arecales, Palmales, Palmae) rendjébe sorolt családja 212 nemzetség mintegy 2800 fajával. A nemzetségek közül feltűnően sok monotipikus (egyfajú). A csoportot korábbi rendszerekben vagy önálló rendnek tekintették (pl. Urania Pflanzenwelt), vagy a torzsavirágzatúak rendjének (Spadiciflorae) egyik családjaként (Arecaceae, Palmaceae) szerepelt. A kladisztikai vizsgálatok egyértelműen bizonyítják egységes, monofiletikus, a többi egyszikűtől elszigetelt jellegét – éppen ezért a pálmafélék tagjainak morfológiai sajátosságai eléggé egységesek. A köznyelvben pálmáknak nevezzük őket.\n",
      "\n"
     ]
    },
    {
     "name": "stdout",
     "output_type": "stream",
     "text": [
      "Papagájvirág-félék, A papagájvirág-félék (Strelitziaceae) az egyszikűek (Liliopsida) osztályába és a gyömbérvirágúak (Zingiberales) rendjébe tartozó család.\n",
      "\n"
     ]
    },
    {
     "name": "stdout",
     "output_type": "stream",
     "text": [
      "Paracryphiaceae, A Paracryphiaceae a valódi kétszikűek egy növénycsaládja, melyet Ausztráliában, Délkelet-Ázsiában és Új-Kaledóniában élő cserjék és fák alkotnak.\n",
      "\n"
     ]
    },
    {
     "name": "stdout",
     "output_type": "stream",
     "text": [
      "Perjefélék, A perjefélék vagy pázsitfűfélék (Poaceae) az egyszikűek (Liliopsida) osztályának perjevirágúak (Poales) rendjébe tartozó, rendkívül változatos család.\n",
      "\n"
     ]
    },
    {
     "name": "stdout",
     "output_type": "stream",
     "text": [
      "Petrosaviaceae, A Petrosaviaceae egy egyszikű növénycsalád neve. A rendszerezők kis része ismerte el ezt a családot, az ide tartozó növényeket leggyakrabban a Liliaceae családba sorolták.\n",
      "\n"
     ]
    },
    {
     "name": "stdout",
     "output_type": "stream",
     "text": [
      "Pézsmaboglárfélék, A pézsmaboglárfélék (Adoxaceae) a mácsonyavirágúak (Dipsacales) rendjének egyik családja az APG rendszertanban. A legtöbb hagyományos rendszertan a bodza és a bangita nemzetségeket a bodzafélék (Sambucaceae) családjába sorolta (MNL); a pézsmaboglárfélék taxon összevonás eredménye. Nemzetségei közül a Moschatellina létjogosultsága kétséges — lehet, hogy a teljes nemzetség a pézsmaboglár (Adoxa moschatella) faj némely változatainak felel meg.[1] Ez a korábban ugyancsak elkülönített Tetradoxa nemzetségről már bebizonyosodott.\n",
      "\n"
     ]
    },
    {
     "name": "stdout",
     "output_type": "stream",
     "text": [
      "Philesiaceae, A Philesiaceae az egyszikűek (Liliopsida) osztályának és a liliomvirágúak (Liliales) rendjének egyik családja.[1]\n",
      "\n"
     ]
    },
    {
     "name": "stdout",
     "output_type": "stream",
     "text": [
      "Picramniaceae, A Picramniales az APG III-rendszerben újonnan leírt,[1] a valódi kétszikűek rosids, azon belül malvids csoportjába tartozó növényrend. Egyetlen család, a Picramniaceae, és két nemzetség, a Picramnia és az Alvaradoa tartoznak ide. Az APG II-rendszerben a család még a rosids klád rendbe nem sorolt családjai közé tartozott.\n",
      "\n"
     ]
    },
    {
     "name": "stdout",
     "output_type": "stream",
     "text": [
      "Pillangósvirágúak, A pillangósvirágúak (Fabaceae vagy Leguminosae) a hüvelyesek (Fabales) névadó családja mintegy 17 000 fajjal. Nevét a lóbabot tartalmazó Faba nemzetségről kapta, melynek fajait a modern leírások a Vicia nemzetséghez sorolták át. A 'Leguminosae' a család régebbi elnevezése, ami az ICBN Art. 18.5 (Vienna Code) szerint még mindig érvényes; az ide tartozó növények tipikus termésére, azaz a hüvelytermésre utal.\n",
      "\n"
     ]
    },
    {
     "name": "stdout",
     "output_type": "stream",
     "text": [
      "Platánfélék, A platánfélék (Platanaceae) a próteavirágúak (Proteales) rendjébe tartozó növénycsalád. Rendszertani helyük erősen vitatott, az idők folyamán több családba is beosztották már őket. Egyes rendszerekben a rózsavirágúak (Rosales) között (pl. Urania Növényvilág), megint máshol a csalánvirágúakkal (Urticales) szerepelnek. A tradicionális taxonómia a barkás fák (Hamamelididae) alosztályába sorolta őket, ahol a varázsdiófélékkel (más néven csodamogyorófélék) (Hamamelidaceae) együtt alkották a varázsdió-virágúak (csodamogyoró-virágúak) rendjét. Mindemellett abban biztosak lehetünk, hogy a platánok a zárvatermőknek (Magnoliophyta) nagyon ősi csoportja, már a kréta időszakban megjelentek, és a harmadkorban az egész északi féltekén elterjedtek voltak. Hatalmas kort képesek megélni, több száz évet élhetnek, és közben óriásivá nőhetnek (a nyugati platán a holarktikus flórabirodalom legnagyobb lombhullató fája).\n",
      "\n"
     ]
    },
    {
     "name": "stdout",
     "output_type": "stream",
     "text": [
      "Porcsinfélék, A Wikimédia Commons tartalmaz Porcsinfélék témájú kategóriát.\n",
      "\n"
     ]
    },
    {
     "name": "stdout",
     "output_type": "stream",
     "text": [
      "Pottiaceae, A Pottiaceae család a Pottiales lombosmoha rend névadója.\n",
      "\n"
     ]
    },
    {
     "name": "stdout",
     "output_type": "stream",
     "text": [
      "Próteafélék, A Wikimédia Commons tartalmaz Próteafélék témájú kategóriát.\n",
      "\n"
     ]
    },
    {
     "name": "stdout",
     "output_type": "stream",
     "text": [
      "Puszpángfélék, A puszpángfélék vagy buxusfélék (Buxaceae) a puszpángvirágúak (Buxales) rendjébe tartozó növénycsalád.\n",
      "\n"
     ]
    },
    {
     "name": "stdout",
     "output_type": "stream",
     "text": [
      "Rezedafélék, A rezedafélék (Resedaceae) a keresztesvirágúak (Brassicales) rendjének egy családja.\n",
      "\n"
     ]
    },
    {
     "name": "stdout",
     "output_type": "stream",
     "text": [
      "Rózsafélék, A Wikimédia Commons tartalmaz Rózsafélék témájú kategóriát.\n",
      "\n"
     ]
    },
    {
     "name": "stdout",
     "output_type": "stream",
     "text": [
      "Rutafélék, A rutafélék (Rutaceae) az APG III osztályozása szerint a valódi kétszikűek rosids kládjának eurosid II csoportjában a szappanfavirágúak (Sapindales) rendjének egyik családja mintegy 150 nemzetséggel és 1600 fajjal.\n",
      "\n"
     ]
    },
    {
     "name": "stdout",
     "output_type": "stream",
     "text": [
      "Sabiaceae, A Wikimédia Commons tartalmaz Sabiaceae témájú kategóriát.\n",
      "\n"
     ]
    },
    {
     "name": "stdout",
     "output_type": "stream",
     "text": [
      "Saururaceae, A Saururaceae a borsvirágúak (Piperales) rendjének egyik családja.\n",
      "\n"
     ]
    },
    {
     "name": "stdout",
     "output_type": "stream",
     "text": [
      "Schisandraceae, A Schisandraceae a zárvatermők ősi jellegű Austrobaileyales rendjének egyik családja. Az elmúlt néhány évtized legtöbb taxonómusa elismeri a családot; korábban az ide tartozó növényeket a Magnoliaceae családba sorolták. Fás szárú, illóolajakat tartalmazó növények vannak a családban.\n",
      "\n"
     ]
    },
    {
     "name": "stdout",
     "output_type": "stream",
     "text": [
      "Schoepfiaceae, A Schoepfiaceae a valódi kétszikűek közé sorolt szantálfavirágúak (Santalales) rendjének egy már 1850-ben leírt családja. Sem a Cronquist-rendszer, sem az eredeti APG vagy az APG II-rendszer nem ismeri el a családot, az Olacaceae alá sorolva az ide tartozó nemzetségeket.\n",
      "\n"
     ]
    },
    {
     "name": "stdout",
     "output_type": "stream",
     "text": [
      "Somfélék, A Wikifajok tartalmaz Somfélék témájú rendszertani információt.\n",
      "\n"
     ]
    },
    {
     "name": "stdout",
     "output_type": "stream",
     "text": [
      "Spárgafélék, A spárgafélék (Asparagaceae) a spárgavirágúak (Asparagales) növényrendjének egy családja. A család névadó nemzetsége az Asparagus.\n",
      "\n"
     ]
    },
    {
     "name": "stdout",
     "output_type": "stream",
     "text": [
      "Szappanfafélék, A Wikimédia Commons tartalmaz Szappanfafélék témájú kategóriát.\n",
      "\n"
     ]
    },
    {
     "name": "stdout",
     "output_type": "stream",
     "text": [
      "Szegfűfélék, A Wikimédia Commons tartalmaz Szegfűfélék témájú kategóriát.\n",
      "\n"
     ]
    },
    {
     "name": "stdout",
     "output_type": "stream",
     "text": [
      "Szilfafélék, A szilfafélék (Ulmaceae) a rózsavirágúak (Rosales) rendjének egyik családja az eurosids I kládban (APG III-rendszer). Monofiletikus csoportot, azaz kládot képeznek az eperfafélékkel (Moraceae), kenderfélékkel (Cannabaceae) és a csalánfélékkel (Urticaceae). A négy család éppen ezért közös, monofiletikus taxonba vonható csalánvirágúak (Urticae) néven, és ezek a rózsavirágúak kladogramján eléggé külön állnak. A Borhidi-rendszerben a csalánvirágúak főrendje (Urticanae) közös alosztályban szerepelt a bükkfavirágúakkal (Faganae) és egyéb barkás fákkal, a Hamamelididae alosztályban (varázsdió-virágúak vagy barkás fák).\n",
      "\n"
     ]
    },
    {
     "name": "stdout",
     "output_type": "stream",
     "text": [
      "Szittyófélék, A szittyófélék (Juncaceae) a perjevirágúak (Poales) rendjébe tartozó növénycsalád. Nyolc nemzetség kb. 400 faja tartozik ide.\n",
      "\n"
     ]
    },
    {
     "name": "stdout",
     "output_type": "stream",
     "text": [
      "Szivarfafélék, A szivarfafélék (Bignoniaceae) az ajakosvirágúak (Lamiales) rendjének egyik családja az euasterid I (lamiid) kládban. Az Urania Növényvilág rendszerében a csövesvirágúak rendjének (Tubiflorae) egyik családja, a Borhidi-rendszerben a tátogatóvirágúak főrendjének (Scrophularianae) tátikafélék rendjébe (Scrophulariales) tartozik. A család fajait a 2000-es években 107 nemzetségbe sorolták, és ezeket 7, illetve nyolc nemzetségcsoportba vonják össze. Mintegy 900 fajuk ismert, de még rendszeresen fedeznek fel újakat.\n",
      "\n"
     ]
    },
    {
     "name": "stdout",
     "output_type": "stream",
     "text": [
      "Szőlőfélék, A szőlőfélék (Vitaceae) családja a szőlővirágúak (Vitales) rendjébe tartozó egyetlen növénycsalád. A családba tartozó nemzetségek és fajok számáról az egyes szerzők véleménye megoszlik.[2] Rokonsági viszonyai még nem tisztázottak, úgy tűnik, nincs egészen közeli rokona.[3]\n",
      "\n"
     ]
    },
    {
     "name": "stdout",
     "output_type": "stream",
     "text": [
      "Szömörcefélék, A szömörcefélék (Anacardiaceae) a kétszikűek osztályába tartozó szappanfavirágúak egyik családja. Mintegy hatszáz fajuk van: alig tucatnyi kivételével a trópusokon és szubtrópusokon. Magyarországon legismertebb képviselőik a sárga cserszömörce (parókafa, Cotinus coggygria) és az ecetfa (torzsás szömörce, Rhus typhina L.).\n",
      "\n"
     ]
    },
    {
     "name": "stdout",
     "output_type": "stream",
     "text": [
      "Szuharfélék, A szuharfélék (Cistaceae) a mályvavirágúak (Malvales) rendjébe tartozó növénycsalád. Fő elterjedési területük Észak-Amerika keleti és középső része, valamint Európa, Észak-Afrika és a Közel-Kelet. Európában a Földközi-tenger száraz vidékein a kemény lombú cserjések (macchia) növénytársulásaiban jelentős. Általában napos, száraz élőhelyeken előforduló, sivárabb, köves talajokat is elviselő lágyszárúak, vagy cserjék.\n",
      "\n"
     ]
    },
    {
     "name": "stdout",
     "output_type": "stream",
     "text": [
      "Szulákfélék, A szulákfélék (Convolvulaceae) a burgonyavirágúak (Solanales) rendjének egy családja.\n",
      "\n"
     ]
    },
    {
     "name": "stdout",
     "output_type": "stream",
     "text": [
      "Tárnicsfélék, A tárnicsfélék (Gentianaceae) a tárnicsvirágúak (Gentianales) rendjének névadó családja. 87 nemzetség több mint 1500 faja tartozik ide.[1] Kozmopolita elterjedésű család. Tagjai elsősorban lágy szárúak, de (főleg a trópusokon) cserjék és fák is megtalálhatók köztük, gyakran rizómásak. Színeik és virágformáik nagy változatosságot mutatnak. Legnagyobb nemzetségei a leginkább magashegységi tárnics (Gentiana), a tárnicska (Gentianella) és az ezerjófű (Centaurium).\n",
      "\n"
     ]
    },
    {
     "name": "stdout",
     "output_type": "stream",
     "text": [
      "Teafélék, A teafélék (Theaceae) a virágos növények közé tartozó hangavirágúak (Ericales) rendjének egyik családja a különböző források szerint mintegy 600–1100 fajjal.\n",
      "\n"
     ]
    },
    {
     "name": "stdout",
     "output_type": "stream",
     "text": [
      "Tiszafafélék, A tiszafafélék (Taxaceae) a tűlevelűek (Pinopsida) osztályába tartozó fenyőalakúak (Pinales) rendjének egy családja.\n",
      "\n"
     ]
    },
    {
     "name": "stdout",
     "output_type": "stream",
     "text": [
      "Tökfélék, A tökfélék vagy kabakosok (Cucurbitaceae) a tökvirágúak (Cucurbitales) rendjének névadó családja. Ebbe a családba tartozik számos termesztett haszonnövény, mint például a görögdinnye, a sárgadinnye, az uborka, a termesztett tök és különféle fajtái (a cukkini, a csillagtök vagy patisszon, a spagettitök, az olajtök), az óriástök vagy sütőtök és ennek fajtái, a laskatök, a pézsmatök, illetve a lopótök.\n",
      "\n"
     ]
    },
    {
     "name": "stdout",
     "output_type": "stream",
     "text": [
      "Trochodendraceae, A Trochodendraceae a valódi kétszikűek (eudicots) közé tartozó növénycsalád, két recens nemzetsége délkelet-ázsiai elterjedésű. Az ezekbe tartozó két recens faj jellemzője, hogy másodlagos xilémükben hiányoznak a tracheák (egyfajta vízszállító elemek), ami a zárvatermők esetében nagyon ritka jelenség. Mivel a tracheák hiánya a taxon ősi jellegét valószínűsíti, a két faj igencsak felkeltette a rendszertannal foglalkozók érdeklődését.\n",
      "\n"
     ]
    },
    {
     "name": "stdout",
     "output_type": "stream",
     "text": [
      "Tündérhínárfélék, A tündérhínárfélék vagy kabombafélék (Cabombaceae) a növények egy családja, melyhez két nemzetség tartozik, a Brasenia és a Cabomba. Vízinövények.\n",
      "\n"
     ]
    },
    {
     "name": "stdout",
     "output_type": "stream",
     "text": [
      "Tündérrózsafélék, A tündérrózsafélék (Nymphaeaceae) a tündérrózsa-virágúak rendjének egy családja, melybe 5, főleg a trópusokon elterjedt nemzetség tartozik. Vitatott helyzetű csoport, ősi kétszikűekre jellemző vonásokat mutat.\n",
      "\n"
     ]
    },
    {
     "name": "stdout",
     "output_type": "stream",
     "text": [
      "Útifűfélék, Az útifűfélék (Plantaginaceae) az ajakosvirágúak (Lamiales) rendjébe tartozó igen heterogén, kozmopolita növénycsalád. Főként mérsékelt égövi lágy szárú növények, cserjék és vízinövények tartoznak ide. A korábbi osztályozás szerint csak 3 nemzetség, az újabb, kibővített leírás alapján 90 nemzetség mintegy 1700 faja sorolható a családba.\n",
      "\n"
     ]
    },
    {
     "name": "stdout",
     "output_type": "stream",
     "text": [
      "Vajvirágfélék, A vajvirágfélék, néha szádorfélék vagy szádorgók (Orobanchaceae) az ajakosvirágúak (Lamiales) rendjébe tartozó növénycsalád. 90 nemzetség több mint 2000 faja tartozik ide. Több génusz korábban a polifiletikusnak bizonyult Scrophulariaceae sensu lato (tágabb értelemben vett görvélyfűfélék) részét alkotta. Jól megalapozott, monofiletikus családot alkot. Kozmopolita család, képviselői előfordulnak Eurázsia mérsékelt éghajlatú részein, Észak-Amerikában, Dél-Amerikában, Ausztrália, Új-Zéland és a trópusi Afrika egyes részein.\n",
      "\n"
     ]
    },
    {
     "name": "stdout",
     "output_type": "stream",
     "text": [
      "Varjúhájfélék, A varjúhájfélék (Crassulaceae) a kőtörőfű-virágúak (Saxifragales) rendjének egyik családja.\n",
      "\n"
     ]
    },
    {
     "name": "stdout",
     "output_type": "stream",
     "text": [
      "Vasfűfélék, A Wikimédia Commons tartalmaz Vasfűfélék témájú kategóriát.\n",
      "\n"
     ]
    },
    {
     "name": "stdout",
     "output_type": "stream",
     "text": [
      "Vellóziafélék, A vellóziafélék (Velloziaceae) a csavarpálma-virágúak (Pandanales) egyik családja. Ezt a családot már sok más egyszikű-csoporttal kapcsolatba hozták. Így pl. szerepelt már a liliomok (Liliales) között, de hozták már kapcsolatba a broméliafélékkel (Bromeliaceae) is.\n",
      "\n"
     ]
    },
    {
     "name": "stdout",
     "output_type": "stream",
     "text": [
      "Vidrafűfélék, A vidrafűfélék (Menyanthaceae) a fészkesvirágzatúak (Asterales) rendjébe tartozó növénycsalád. Az egész világon elterjedt öt nemzetség – a Menyanthes és a Nephrophyllidium az északi félgömbön, a Liparophyllum és a Villarsia a déli félgömbön található meg, míg a Nymphoides kozmopolita faj – mintegy 60-70 faja tartozik ide. Magyarországon a Menyanthes és a Nymphoides fordul elő. Vízinövények, illetve vizes élőhelyen élő növények. A vízi életmódhoz való alkalmazkodás jelei láthatóak a kúszó rizómából növő, egyszerű vagy tenyeresen osztott leveleiken (pl. a tündérrózsáknál is megfigyelhető szórt nyalábok).[1] Az Asterales többi családjától megkülönbözteti a felső állású magház, valamint az, hogy nem fordul elő a megnyúlt bibeszálról a megporzó rovarok számára elérhető ún. másodlagos pollenkínálat jelensége – inulint viszont tartalmaznak.[1]\n",
      "\n"
     ]
    },
    {
     "name": "stdout",
     "output_type": "stream",
     "text": [
      "Villáspálmafélék, A villáspálmafélék (Cyclanthaceae) a csavarpálma-virágúak (Pandanales) rendjének egyik családja, 12 nemzetséggel. A neotropikus flórabirodalomban találhatók meg képviselői. Korábbi rendszerekben a pálmavirágúak (Palmales, Arecales) utolsó alcsaládjaként szerepeltek Cyclanthoideae néven. Soó Rezső átmeneti csoportnak tekintette a pálmafélék (Palmae, Arecaceae) és a kontyvirágfélék (Araceae) között a hasonló felépítésű torzsavirágzat miatt. A Cyclanthus nemzetségeben ugyanis a csavarszerű torzsavirágzatot 4 húsos buroklevél övezi, melyet homológnak tartottak a kontyvirágfélék buroklevelével, a spátával, valamint a gyékényfélék (Typhaceae) torzsavirágzatát eleinte védő zöld buroklevéllel.\n",
      "\n"
     ]
    },
    {
     "name": "stdout",
     "output_type": "stream",
     "text": [
      "Virágkákafélék, A virágkáka (Butomus umbellatus) a virágkákafélék (Butomaceae) családjának egyetlen faja.\n",
      "\n"
     ]
    },
    {
     "name": "stdout",
     "output_type": "stream",
     "text": [
      "Virágsásfélék, A virágsásfélék (Xyridaceae) a perjevirágúak (Poales) egyik családja. Korábbi rendszerekben (pl. Urania Pflanzenwelt) a kommelína-virágúak rendjében (Commelinales) szerepeltek, hasonlóan család szinten. A virágsásfélék morfológiai sajátosságai:\n",
      "\n"
     ]
    },
    {
     "name": "stdout",
     "output_type": "stream",
     "text": [
      "Vízijácintfélék, A vízijácintfélék (Pontederiaceae) az egyszikűek osztályának (Liliopsida), a kommelínavirágúak rendjének (Commelinales) egyik családja. Korábbi rendszerekben igen eltérő volt a csoport rokonsági kapcsolatainak és taxonómiai elhelyezésének megítélése. Eleinte a liliomok rendjének (Liliales) rokonsági körébe helyezték, majd később még a gyékényvirágzatúakkal (Typhales) és az ananászvirágúakkal (broméliák, Bromeliales) is kapcsolatba hozták őket, sőt igen nagy jelentőséget tulajdonítottak nekik, hisz mintegy összekötő kapocsnak tartották őket az ananászvirágúak és a gyömbérvirágúak (Zingiberales) illetve a gyékényvirágzatúak között (pl. Borhidi-rendszer).\n",
      "\n"
     ]
    },
    {
     "name": "stdout",
     "output_type": "stream",
     "text": [
      "Volvocaceae, A Volvocaceae a valódi zöldmoszatok (Chlorophyta) egy családja, melybe egysejtű és kolóniás biflagellata (kétostoros) szervezetek is tartoznak. Tipikus képviselője a Volvox nemzetség. A családot Christian Gottfried Ehrenberg nevezte el 1834-ben, az akkori osztályozás szerint Volvocidae néven.\n",
      "\n"
     ]
    },
    {
     "name": "stdout",
     "output_type": "stream",
     "text": [
      "Zászpafélék, A zászpafélék (Melanthiaceae) a liliomvirágúak rendjének (Liliales) egyik családja. Korábbi rendszerekben (pl. Urania Pflanzenwelt) a valódi liliomok (Liliaceae) egyik alcsaládja volt.\n",
      "\n"
     ]
    },
    {
     "name": "stdout",
     "output_type": "stream",
     "text": [
      "Zellerfélék, A zellerfélék (Apiaceae) az ernyősvirágzatúak (Apiales) rendjének egy családja.\n",
      "\n"
     ]
    },
    {
     "name": "stdout",
     "output_type": "stream",
     "text": [
      "Zsurlófafélék, A zsurlófafélék (Calamitaceae) a zsurlók (Equisetopsida) osztályába és a fosszilis zsurlófák (Calamitales) rendjébe tartozó család.\n",
      "\n"
     ]
    },
    {
     "name": "stdout",
     "output_type": "stream",
     "text": [
      "Zsurlófélék, A zsurlófélék (Equisetaceae) a harasztok (Pteridophyta) törzsébe tartozó zsurlók (Equisetopsida) osztályának egyetlen recens családja.\n",
      "\n"
     ]
    }
   ],
   "source": [
    "f = open(\"data_plant.csv\", \"a\", encoding=\"utf-8\")\n",
    "\n",
    "for item in range(0, len(links)):\n",
    "    response = re.get(links[item])\n",
    "    soup = BeautifulSoup(response.text, \"html.parser\")\n",
    "    title = soup.select(\"#firstHeading > span.mw-page-title-main\")[0].text\n",
    "    description = (\n",
    "        soup.find(\"div\", {\"class\": \"mw-content-ltr mw-parser-output\"})\n",
    "        .find_all(\"p\")[2]\n",
    "        .text\n",
    "    )\n",
    "\n",
    "    f.write(str(title) + \",\" + str(description))\n",
    "    print(str(title) + \", \" + str(description))\n",
    "    time.sleep(0.5)\n",
    "\n",
    "f.close()"
   ]
  },
  {
   "cell_type": "markdown",
   "id": "8ea554b9",
   "metadata": {},
   "source": [
    "## Adatok alapján új HTML fájl generálása"
   ]
  },
  {
   "cell_type": "code",
   "execution_count": 12,
   "id": "6c7e831f",
   "metadata": {
    "tags": [
     "scroll-output"
    ]
   },
   "outputs": [
    {
     "name": "stdout",
     "output_type": "stream",
     "text": [
      "0. weboldal feldolgozva: Növénycsaládok listája\n"
     ]
    },
    {
     "name": "stdout",
     "output_type": "stream",
     "text": [
      "1. weboldal feldolgozva: Alkörmösfélék\n"
     ]
    },
    {
     "name": "stdout",
     "output_type": "stream",
     "text": [
      "2. weboldal feldolgozva: Áltiszafafélék\n"
     ]
    },
    {
     "name": "stdout",
     "output_type": "stream",
     "text": [
      "3. weboldal feldolgozva: Amarilliszfélék\n"
     ]
    },
    {
     "name": "stdout",
     "output_type": "stream",
     "text": [
      "4. weboldal feldolgozva: Anacampserotaceae\n"
     ]
    },
    {
     "name": "stdout",
     "output_type": "stream",
     "text": [
      "5. weboldal feldolgozva: Annónafélék\n"
     ]
    },
    {
     "name": "stdout",
     "output_type": "stream",
     "text": [
      "6. weboldal feldolgozva: Apodanthaceae\n"
     ]
    },
    {
     "name": "stdout",
     "output_type": "stream",
     "text": [
      "7. weboldal feldolgozva: Aráliafélék\n"
     ]
    },
    {
     "name": "stdout",
     "output_type": "stream",
     "text": [
      "8. weboldal feldolgozva: Araukáriafélék\n"
     ]
    },
    {
     "name": "stdout",
     "output_type": "stream",
     "text": [
      "9. weboldal feldolgozva: Árvacsalánfélék\n"
     ]
    },
    {
     "name": "stdout",
     "output_type": "stream",
     "text": [
      "10. weboldal feldolgozva: Babérfélék\n"
     ]
    },
    {
     "name": "stdout",
     "output_type": "stream",
     "text": [
      "11. weboldal feldolgozva: Bálványfafélék\n"
     ]
    },
    {
     "name": "stdout",
     "output_type": "stream",
     "text": [
      "12. weboldal feldolgozva: Banánfélék\n"
     ]
    },
    {
     "name": "stdout",
     "output_type": "stream",
     "text": [
      "13. weboldal feldolgozva: Barkamirtuszfélék\n"
     ]
    },
    {
     "name": "stdout",
     "output_type": "stream",
     "text": [
      "14. weboldal feldolgozva: Begóniafélék\n"
     ]
    },
    {
     "name": "stdout",
     "output_type": "stream",
     "text": [
      "15. weboldal feldolgozva: Békaszőlőfélék\n"
     ]
    },
    {
     "name": "stdout",
     "output_type": "stream",
     "text": [
      "16. weboldal feldolgozva: Békatutajfélék\n"
     ]
    },
    {
     "name": "stdout",
     "output_type": "stream",
     "text": [
      "17. weboldal feldolgozva: Bengefélék\n"
     ]
    },
    {
     "name": "stdout",
     "output_type": "stream",
     "text": [
      "18. weboldal feldolgozva: Boglárkafélék\n"
     ]
    },
    {
     "name": "stdout",
     "output_type": "stream",
     "text": [
      "19. weboldal feldolgozva: Borágófélék\n"
     ]
    },
    {
     "name": "stdout",
     "output_type": "stream",
     "text": [
      "20. weboldal feldolgozva: Borbolyafélék\n"
     ]
    },
    {
     "name": "stdout",
     "output_type": "stream",
     "text": [
      "21. weboldal feldolgozva: Boroszlánfélék\n"
     ]
    },
    {
     "name": "stdout",
     "output_type": "stream",
     "text": [
      "22. weboldal feldolgozva: Borsfélék\n"
     ]
    },
    {
     "name": "stdout",
     "output_type": "stream",
     "text": [
      "23. weboldal feldolgozva: Broméliafélék\n"
     ]
    },
    {
     "name": "stdout",
     "output_type": "stream",
     "text": [
      "24. weboldal feldolgozva: Bunkóspálmafélék\n"
     ]
    },
    {
     "name": "stdout",
     "output_type": "stream",
     "text": [
      "25. weboldal feldolgozva: Burgonyafélék\n"
     ]
    },
    {
     "name": "stdout",
     "output_type": "stream",
     "text": [
      "26. weboldal feldolgozva: Buzérfélék\n"
     ]
    },
    {
     "name": "stdout",
     "output_type": "stream",
     "text": [
      "27. weboldal feldolgozva: Bükkfafélék\n"
     ]
    },
    {
     "name": "stdout",
     "output_type": "stream",
     "text": [
      "28. weboldal feldolgozva: Chlamydomonadaceae\n"
     ]
    },
    {
     "name": "stdout",
     "output_type": "stream",
     "text": [
      "29. weboldal feldolgozva: Cikászfélék\n"
     ]
    },
    {
     "name": "stdout",
     "output_type": "stream",
     "text": [
      "30. weboldal feldolgozva: Ciprusfélék\n"
     ]
    },
    {
     "name": "stdout",
     "output_type": "stream",
     "text": [
      "31. weboldal feldolgozva: Cleomaceae\n"
     ]
    },
    {
     "name": "stdout",
     "output_type": "stream",
     "text": [
      "32. weboldal feldolgozva: Csalánfélék\n"
     ]
    },
    {
     "name": "stdout",
     "output_type": "stream",
     "text": [
      "33. weboldal feldolgozva: Csatavirágfélék\n"
     ]
    },
    {
     "name": "stdout",
     "output_type": "stream",
     "text": [
      "34. weboldal feldolgozva: Csavarpálmafélék\n"
     ]
    },
    {
     "name": "stdout",
     "output_type": "stream",
     "text": [
      "35. weboldal feldolgozva: Csikófark\n"
     ]
    },
    {
     "name": "stdout",
     "output_type": "stream",
     "text": [
      "36. weboldal feldolgozva: Csipkeharasztok\n"
     ]
    },
    {
     "name": "stdout",
     "output_type": "stream",
     "text": [
      "37. weboldal feldolgozva: Csodatölcsérfélék\n"
     ]
    },
    {
     "name": "stdout",
     "output_type": "stream",
     "text": [
      "38. weboldal feldolgozva: Csuporkafélék\n"
     ]
    },
    {
     "name": "stdout",
     "output_type": "stream",
     "text": [
      "39. weboldal feldolgozva: Dasypogonaceae\n"
     ]
    },
    {
     "name": "stdout",
     "output_type": "stream",
     "text": [
      "40. weboldal feldolgozva: Dilléniafélék\n"
     ]
    },
    {
     "name": "stdout",
     "output_type": "stream",
     "text": [
      "41. weboldal feldolgozva: Dinnyefafélék\n"
     ]
    },
    {
     "name": "stdout",
     "output_type": "stream",
     "text": [
      "42. weboldal feldolgozva: Diófafélék\n"
     ]
    },
    {
     "name": "stdout",
     "output_type": "stream",
     "text": [
      "43. weboldal feldolgozva: Dipentodontaceae\n"
     ]
    },
    {
     "name": "stdout",
     "output_type": "stream",
     "text": [
      "44. weboldal feldolgozva: Dipterokarpuszfélék\n"
     ]
    },
    {
     "name": "stdout",
     "output_type": "stream",
     "text": [
      "45. weboldal feldolgozva: Díszlevélfafélék\n"
     ]
    },
    {
     "name": "stdout",
     "output_type": "stream",
     "text": [
      "46. weboldal feldolgozva: Disznóparéjfélék\n"
     ]
    },
    {
     "name": "stdout",
     "output_type": "stream",
     "text": [
      "47. weboldal feldolgozva: Eperfafélék\n"
     ]
    },
    {
     "name": "stdout",
     "output_type": "stream",
     "text": [
      "48. weboldal feldolgozva: Escalloniaceae\n"
     ]
    },
    {
     "name": "stdout",
     "output_type": "stream",
     "text": [
      "49. weboldal feldolgozva: Ezüstfafélék\n"
     ]
    },
    {
     "name": "stdout",
     "output_type": "stream",
     "text": [
      "50. weboldal feldolgozva: Fakínfélék\n"
     ]
    },
    {
     "name": "stdout",
     "output_type": "stream",
     "text": [
      "51. weboldal feldolgozva: Farkasalmafélék\n"
     ]
    },
    {
     "name": "stdout",
     "output_type": "stream",
     "text": [
      "52. weboldal feldolgozva: Fenyőfélék\n"
     ]
    },
    {
     "name": "stdout",
     "output_type": "stream",
     "text": [
      "53. weboldal feldolgozva: Fissidentaceae\n"
     ]
    },
    {
     "name": "stdout",
     "output_type": "stream",
     "text": [
      "54. weboldal feldolgozva: Fogpiszkálófű\n"
     ]
    },
    {
     "name": "stdout",
     "output_type": "stream",
     "text": [
      "55. weboldal feldolgozva: Fűfafélék\n"
     ]
    },
    {
     "name": "stdout",
     "output_type": "stream",
     "text": [
      "56. weboldal feldolgozva: Fűszercserjefélék\n"
     ]
    },
    {
     "name": "stdout",
     "output_type": "stream",
     "text": [
      "57. weboldal feldolgozva: Füzényfélék\n"
     ]
    },
    {
     "name": "stdout",
     "output_type": "stream",
     "text": [
      "58. weboldal feldolgozva: Fűzfafélék\n"
     ]
    },
    {
     "name": "stdout",
     "output_type": "stream",
     "text": [
      "59. weboldal feldolgozva: Gnétum\n"
     ]
    },
    {
     "name": "stdout",
     "output_type": "stream",
     "text": [
      "60. weboldal feldolgozva: Golgotavirágfélék\n"
     ]
    },
    {
     "name": "stdout",
     "output_type": "stream",
     "text": [
      "61. weboldal feldolgozva: Gólyaorrfélék\n"
     ]
    },
    {
     "name": "stdout",
     "output_type": "stream",
     "text": [
      "62. weboldal feldolgozva: Görvélyfűfélék\n"
     ]
    },
    {
     "name": "stdout",
     "output_type": "stream",
     "text": [
      "63. weboldal feldolgozva: Gyékényfélék\n"
     ]
    },
    {
     "name": "stdout",
     "output_type": "stream",
     "text": [
      "64. weboldal feldolgozva: Gyommohafélék\n"
     ]
    },
    {
     "name": "stdout",
     "output_type": "stream",
     "text": [
      "65. weboldal feldolgozva: Gyömbérfélék\n"
     ]
    },
    {
     "name": "stdout",
     "output_type": "stream",
     "text": [
      "66. weboldal feldolgozva: Gyöngyvirágfafélék\n"
     ]
    },
    {
     "name": "stdout",
     "output_type": "stream",
     "text": [
      "67. weboldal feldolgozva: Halimeda\n"
     ]
    },
    {
     "name": "stdout",
     "output_type": "stream",
     "text": [
      "68. weboldal feldolgozva: Hangafélék\n"
     ]
    },
    {
     "name": "stdout",
     "output_type": "stream",
     "text": [
      "69. weboldal feldolgozva: Harangvirágfélék\n"
     ]
    },
    {
     "name": "stdout",
     "output_type": "stream",
     "text": [
      "70. weboldal feldolgozva: Harmatfűfélék\n"
     ]
    },
    {
     "name": "stdout",
     "output_type": "stream",
     "text": [
      "71. weboldal feldolgozva: Hernandiaceae\n"
     ]
    },
    {
     "name": "stdout",
     "output_type": "stream",
     "text": [
      "72. weboldal feldolgozva: Hídőrfélék\n"
     ]
    },
    {
     "name": "stdout",
     "output_type": "stream",
     "text": [
      "73. weboldal feldolgozva: Hortenziafélék\n"
     ]
    },
    {
     "name": "stdout",
     "output_type": "stream",
     "text": [
      "74. weboldal feldolgozva: Hydatellaceae\n"
     ]
    },
    {
     "name": "stdout",
     "output_type": "stream",
     "text": [
      "75. weboldal feldolgozva: Hypoxidaceae\n"
     ]
    },
    {
     "name": "stdout",
     "output_type": "stream",
     "text": [
      "76. weboldal feldolgozva: Ibolyafélék\n"
     ]
    },
    {
     "name": "stdout",
     "output_type": "stream",
     "text": [
      "77. weboldal feldolgozva: Japán ernyőfenyő\n"
     ]
    },
    {
     "name": "stdout",
     "output_type": "stream",
     "text": [
      "78. weboldal feldolgozva: Kaktuszfélék\n"
     ]
    },
    {
     "name": "stdout",
     "output_type": "stream",
     "text": [
      "79. weboldal feldolgozva: Kálmosvirágúak\n"
     ]
    },
    {
     "name": "stdout",
     "output_type": "stream",
     "text": [
      "80. weboldal feldolgozva: Kankalinfélék\n"
     ]
    },
    {
     "name": "stdout",
     "output_type": "stream",
     "text": [
      "81. weboldal feldolgozva: Kannafélék\n"
     ]
    },
    {
     "name": "stdout",
     "output_type": "stream",
     "text": [
      "82. weboldal feldolgozva: Káposztafélék\n"
     ]
    },
    {
     "name": "stdout",
     "output_type": "stream",
     "text": [
      "83. weboldal feldolgozva: Kaprifélék\n"
     ]
    },
    {
     "name": "stdout",
     "output_type": "stream",
     "text": [
      "84. weboldal feldolgozva: Kazuárfafélék\n"
     ]
    },
    {
     "name": "stdout",
     "output_type": "stream",
     "text": [
      "85. weboldal feldolgozva: Kecskerágófélék\n"
     ]
    },
    {
     "name": "stdout",
     "output_type": "stream",
     "text": [
      "86. weboldal feldolgozva: Kékhüvelyfélék\n"
     ]
    },
    {
     "name": "stdout",
     "output_type": "stream",
     "text": [
      "87. weboldal feldolgozva: Kenderfélék\n"
     ]
    },
    {
     "name": "stdout",
     "output_type": "stream",
     "text": [
      "88. weboldal feldolgozva: Keserűfűfélék\n"
     ]
    },
    {
     "name": "stdout",
     "output_type": "stream",
     "text": [
      "89. weboldal feldolgozva: Kikericsfélék\n"
     ]
    },
    {
     "name": "stdout",
     "output_type": "stream",
     "text": [
      "90. weboldal feldolgozva: Kontyvirágfélék\n"
     ]
    },
    {
     "name": "stdout",
     "output_type": "stream",
     "text": [
      "91. weboldal feldolgozva: Kosborfélék\n"
     ]
    },
    {
     "name": "stdout",
     "output_type": "stream",
     "text": [
      "92. weboldal feldolgozva: Kőtiszafafélék\n"
     ]
    },
    {
     "name": "stdout",
     "output_type": "stream",
     "text": [
      "93. weboldal feldolgozva: Kőtörőfűfélék\n"
     ]
    },
    {
     "name": "stdout",
     "output_type": "stream",
     "text": [
      "94. weboldal feldolgozva: Kristályvirágfélék\n"
     ]
    },
    {
     "name": "stdout",
     "output_type": "stream",
     "text": [
      "95. weboldal feldolgozva: Kutyatejfélék\n"
     ]
    },
    {
     "name": "stdout",
     "output_type": "stream",
     "text": [
      "96. weboldal feldolgozva: Küllőfolyondárfélék\n"
     ]
    },
    {
     "name": "stdout",
     "output_type": "stream",
     "text": [
      "97. weboldal feldolgozva: Kürtvirágfélék\n"
     ]
    },
    {
     "name": "stdout",
     "output_type": "stream",
     "text": [
      "98. weboldal feldolgozva: Laxmanniaceae\n"
     ]
    },
    {
     "name": "stdout",
     "output_type": "stream",
     "text": [
      "99. weboldal feldolgozva: Lenfélék\n"
     ]
    },
    {
     "name": "stdout",
     "output_type": "stream",
     "text": [
      "100. weboldal feldolgozva: Ligetszépefélék\n"
     ]
    },
    {
     "name": "stdout",
     "output_type": "stream",
     "text": [
      "101. weboldal feldolgozva: Liliomfafélék\n"
     ]
    },
    {
     "name": "stdout",
     "output_type": "stream",
     "text": [
      "102. weboldal feldolgozva: Liliomfélék\n"
     ]
    },
    {
     "name": "stdout",
     "output_type": "stream",
     "text": [
      "103. weboldal feldolgozva: Loncfélék\n"
     ]
    },
    {
     "name": "stdout",
     "output_type": "stream",
     "text": [
      "104. weboldal feldolgozva: Lótuszfélék\n"
     ]
    },
    {
     "name": "stdout",
     "output_type": "stream",
     "text": [
      "105. weboldal feldolgozva: Madársóskafélék\n"
     ]
    },
    {
     "name": "stdout",
     "output_type": "stream",
     "text": [
      "106. weboldal feldolgozva: Magyal\n"
     ]
    },
    {
     "name": "stdout",
     "output_type": "stream",
     "text": [
      "107. weboldal feldolgozva: Mákfélék\n"
     ]
    },
    {
     "name": "stdout",
     "output_type": "stream",
     "text": [
      "108. weboldal feldolgozva: Malpighicserjefélék\n"
     ]
    },
    {
     "name": "stdout",
     "output_type": "stream",
     "text": [
      "109. weboldal feldolgozva: Mályvafélék\n"
     ]
    },
    {
     "name": "stdout",
     "output_type": "stream",
     "text": [
      "110. weboldal feldolgozva: Medvekörömfélék\n"
     ]
    },
    {
     "name": "stdout",
     "output_type": "stream",
     "text": [
      "111. weboldal feldolgozva: Meténgfélék\n"
     ]
    },
    {
     "name": "stdout",
     "output_type": "stream",
     "text": [
      "112. weboldal feldolgozva: Mirtuszfélék\n"
     ]
    },
    {
     "name": "stdout",
     "output_type": "stream",
     "text": [
      "113. weboldal feldolgozva: Mocsárciprusfélék\n"
     ]
    },
    {
     "name": "stdout",
     "output_type": "stream",
     "text": [
      "114. weboldal feldolgozva: Muskátdiófélék\n"
     ]
    },
    {
     "name": "stdout",
     "output_type": "stream",
     "text": [
      "115. weboldal feldolgozva: Nebáncsvirágfélék\n"
     ]
    },
    {
     "name": "stdout",
     "output_type": "stream",
     "text": [
      "116. weboldal feldolgozva: Nősziromfélék\n"
     ]
    },
    {
     "name": "stdout",
     "output_type": "stream",
     "text": [
      "117. weboldal feldolgozva: Nyílgyökérfélék\n"
     ]
    },
    {
     "name": "stdout",
     "output_type": "stream",
     "text": [
      "118. weboldal feldolgozva: Nyírfafélék\n"
     ]
    },
    {
     "name": "stdout",
     "output_type": "stream",
     "text": [
      "119. weboldal feldolgozva: Olajfafélék\n"
     ]
    },
    {
     "name": "stdout",
     "output_type": "stream",
     "text": [
      "120. weboldal feldolgozva: Ólomgyökérfélék\n"
     ]
    },
    {
     "name": "stdout",
     "output_type": "stream",
     "text": [
      "121. weboldal feldolgozva: Orbáncfűfélék\n"
     ]
    },
    {
     "name": "stdout",
     "output_type": "stream",
     "text": [
      "122. weboldal feldolgozva: Óriásvirágfélék\n"
     ]
    },
    {
     "name": "stdout",
     "output_type": "stream",
     "text": [
      "123. weboldal feldolgozva: Őszirózsafélék\n"
     ]
    },
    {
     "name": "stdout",
     "output_type": "stream",
     "text": [
      "124. weboldal feldolgozva: Páfrányfenyőfélék\n"
     ]
    },
    {
     "name": "stdout",
     "output_type": "stream",
     "text": [
      "125. weboldal feldolgozva: Palkafélék\n"
     ]
    },
    {
     "name": "stdout",
     "output_type": "stream",
     "text": [
      "126. weboldal feldolgozva: Pálmafélék\n"
     ]
    },
    {
     "name": "stdout",
     "output_type": "stream",
     "text": [
      "127. weboldal feldolgozva: Papagájvirág-félék\n"
     ]
    },
    {
     "name": "stdout",
     "output_type": "stream",
     "text": [
      "128. weboldal feldolgozva: Paracryphiaceae\n"
     ]
    },
    {
     "name": "stdout",
     "output_type": "stream",
     "text": [
      "129. weboldal feldolgozva: Perjefélék\n"
     ]
    },
    {
     "name": "stdout",
     "output_type": "stream",
     "text": [
      "130. weboldal feldolgozva: Petrosaviaceae\n"
     ]
    },
    {
     "name": "stdout",
     "output_type": "stream",
     "text": [
      "131. weboldal feldolgozva: Pézsmaboglárfélék\n"
     ]
    },
    {
     "name": "stdout",
     "output_type": "stream",
     "text": [
      "132. weboldal feldolgozva: Philesiaceae\n"
     ]
    },
    {
     "name": "stdout",
     "output_type": "stream",
     "text": [
      "133. weboldal feldolgozva: Picramniaceae\n"
     ]
    },
    {
     "name": "stdout",
     "output_type": "stream",
     "text": [
      "134. weboldal feldolgozva: Pillangósvirágúak\n"
     ]
    },
    {
     "name": "stdout",
     "output_type": "stream",
     "text": [
      "135. weboldal feldolgozva: Platánfélék\n"
     ]
    },
    {
     "name": "stdout",
     "output_type": "stream",
     "text": [
      "136. weboldal feldolgozva: Porcsinfélék\n"
     ]
    },
    {
     "name": "stdout",
     "output_type": "stream",
     "text": [
      "137. weboldal feldolgozva: Pottiaceae\n"
     ]
    },
    {
     "name": "stdout",
     "output_type": "stream",
     "text": [
      "138. weboldal feldolgozva: Próteafélék\n"
     ]
    },
    {
     "name": "stdout",
     "output_type": "stream",
     "text": [
      "139. weboldal feldolgozva: Puszpángfélék\n"
     ]
    },
    {
     "name": "stdout",
     "output_type": "stream",
     "text": [
      "140. weboldal feldolgozva: Rezedafélék\n"
     ]
    },
    {
     "name": "stdout",
     "output_type": "stream",
     "text": [
      "141. weboldal feldolgozva: Rózsafélék\n"
     ]
    },
    {
     "name": "stdout",
     "output_type": "stream",
     "text": [
      "142. weboldal feldolgozva: Rutafélék\n"
     ]
    },
    {
     "name": "stdout",
     "output_type": "stream",
     "text": [
      "143. weboldal feldolgozva: Sabiaceae\n"
     ]
    },
    {
     "name": "stdout",
     "output_type": "stream",
     "text": [
      "144. weboldal feldolgozva: Saururaceae\n"
     ]
    },
    {
     "name": "stdout",
     "output_type": "stream",
     "text": [
      "145. weboldal feldolgozva: Schisandraceae\n"
     ]
    },
    {
     "name": "stdout",
     "output_type": "stream",
     "text": [
      "146. weboldal feldolgozva: Schoepfiaceae\n"
     ]
    },
    {
     "name": "stdout",
     "output_type": "stream",
     "text": [
      "147. weboldal feldolgozva: Somfélék\n"
     ]
    },
    {
     "name": "stdout",
     "output_type": "stream",
     "text": [
      "148. weboldal feldolgozva: Spárgafélék\n"
     ]
    },
    {
     "name": "stdout",
     "output_type": "stream",
     "text": [
      "149. weboldal feldolgozva: Szappanfafélék\n"
     ]
    },
    {
     "name": "stdout",
     "output_type": "stream",
     "text": [
      "150. weboldal feldolgozva: Szegfűfélék\n"
     ]
    },
    {
     "name": "stdout",
     "output_type": "stream",
     "text": [
      "151. weboldal feldolgozva: Szilfafélék\n"
     ]
    },
    {
     "name": "stdout",
     "output_type": "stream",
     "text": [
      "152. weboldal feldolgozva: Szittyófélék\n"
     ]
    },
    {
     "name": "stdout",
     "output_type": "stream",
     "text": [
      "153. weboldal feldolgozva: Szivarfafélék\n"
     ]
    },
    {
     "name": "stdout",
     "output_type": "stream",
     "text": [
      "154. weboldal feldolgozva: Szőlőfélék\n"
     ]
    },
    {
     "name": "stdout",
     "output_type": "stream",
     "text": [
      "155. weboldal feldolgozva: Szömörcefélék\n"
     ]
    },
    {
     "name": "stdout",
     "output_type": "stream",
     "text": [
      "156. weboldal feldolgozva: Szuharfélék\n"
     ]
    },
    {
     "name": "stdout",
     "output_type": "stream",
     "text": [
      "157. weboldal feldolgozva: Szulákfélék\n"
     ]
    },
    {
     "name": "stdout",
     "output_type": "stream",
     "text": [
      "158. weboldal feldolgozva: Tárnicsfélék\n"
     ]
    },
    {
     "name": "stdout",
     "output_type": "stream",
     "text": [
      "159. weboldal feldolgozva: Teafélék\n"
     ]
    },
    {
     "name": "stdout",
     "output_type": "stream",
     "text": [
      "160. weboldal feldolgozva: Tiszafafélék\n"
     ]
    },
    {
     "name": "stdout",
     "output_type": "stream",
     "text": [
      "161. weboldal feldolgozva: Tökfélék\n"
     ]
    },
    {
     "name": "stdout",
     "output_type": "stream",
     "text": [
      "162. weboldal feldolgozva: Trochodendraceae\n"
     ]
    },
    {
     "name": "stdout",
     "output_type": "stream",
     "text": [
      "163. weboldal feldolgozva: Tündérhínárfélék\n"
     ]
    },
    {
     "name": "stdout",
     "output_type": "stream",
     "text": [
      "164. weboldal feldolgozva: Tündérrózsafélék\n"
     ]
    },
    {
     "name": "stdout",
     "output_type": "stream",
     "text": [
      "165. weboldal feldolgozva: Útifűfélék\n"
     ]
    },
    {
     "name": "stdout",
     "output_type": "stream",
     "text": [
      "166. weboldal feldolgozva: Vajvirágfélék\n"
     ]
    },
    {
     "name": "stdout",
     "output_type": "stream",
     "text": [
      "167. weboldal feldolgozva: Varjúhájfélék\n"
     ]
    },
    {
     "name": "stdout",
     "output_type": "stream",
     "text": [
      "168. weboldal feldolgozva: Vasfűfélék\n"
     ]
    },
    {
     "name": "stdout",
     "output_type": "stream",
     "text": [
      "169. weboldal feldolgozva: Vellóziafélék\n"
     ]
    },
    {
     "name": "stdout",
     "output_type": "stream",
     "text": [
      "170. weboldal feldolgozva: Vidrafűfélék\n"
     ]
    },
    {
     "name": "stdout",
     "output_type": "stream",
     "text": [
      "171. weboldal feldolgozva: Villáspálmafélék\n"
     ]
    },
    {
     "name": "stdout",
     "output_type": "stream",
     "text": [
      "172. weboldal feldolgozva: Virágkákafélék\n"
     ]
    },
    {
     "name": "stdout",
     "output_type": "stream",
     "text": [
      "173. weboldal feldolgozva: Virágsásfélék\n"
     ]
    },
    {
     "name": "stdout",
     "output_type": "stream",
     "text": [
      "174. weboldal feldolgozva: Vízijácintfélék\n"
     ]
    },
    {
     "name": "stdout",
     "output_type": "stream",
     "text": [
      "175. weboldal feldolgozva: Volvocaceae\n"
     ]
    },
    {
     "name": "stdout",
     "output_type": "stream",
     "text": [
      "176. weboldal feldolgozva: Zászpafélék\n"
     ]
    },
    {
     "name": "stdout",
     "output_type": "stream",
     "text": [
      "177. weboldal feldolgozva: Zellerfélék\n"
     ]
    },
    {
     "name": "stdout",
     "output_type": "stream",
     "text": [
      "178. weboldal feldolgozva: Zsurlófafélék\n"
     ]
    },
    {
     "name": "stdout",
     "output_type": "stream",
     "text": [
      "179. weboldal feldolgozva: Zsurlófélék\n"
     ]
    }
   ],
   "source": [
    "data = []\n",
    "\n",
    "for i in range(0, len(links)):\n",
    "    response = re.get(links[i])\n",
    "    soup = BeautifulSoup(response.text, \"html.parser\")\n",
    "    title = soup.select(\"#firstHeading > span.mw-page-title-main\")[0].text\n",
    "    description = (\n",
    "        soup.find(\"div\", {\"class\": \"mw-content-ltr mw-parser-output\"})\n",
    "        .find_all(\"p\")[2]\n",
    "        .text\n",
    "    )\n",
    "    data.append([title, description])\n",
    "\n",
    "    print(str(i) + \". weboldal feldolgozva: \" + data[i][0])\n",
    "    time.sleep(1)"
   ]
  },
  {
   "cell_type": "code",
   "execution_count": 13,
   "id": "9d8f71e9",
   "metadata": {},
   "outputs": [
    {
     "name": "stdout",
     "output_type": "stream",
     "text": [
      "['Alkörmösfélék', 'Az alkörmösfélék (Phytolaccaceae) a szegfűvirágúak (Caryophyllales) rendjének egyik családja. 16 nemzetségébe mintegy 120 faj tartozik.\\n']\n"
     ]
    }
   ],
   "source": [
    "print(data[1])"
   ]
  },
  {
   "cell_type": "code",
   "execution_count": 14,
   "id": "600eb9e5",
   "metadata": {},
   "outputs": [],
   "source": [
    "with open(\"plants_index.html\", \"w\", encoding=\"utf-8\") as f:\n",
    "    f.write(\"<!DOCTYPE html>\\n\")\n",
    "    f.write(\"<html>\\n\")\n",
    "    f.write(\"<head>\\n\")\n",
    "    f.write(\"<title>Title and Description</title>\\n\")\n",
    "    f.write(\"</head>\\n\")\n",
    "    f.write(\"<body>\\n\")\n",
    "\n",
    "    for title, description in data:\n",
    "        f.write(f\"<h1>{title}</h1>\\n\")\n",
    "        f.write(f\"<p>{description}</p>\\n\")\n",
    "        f.write(\"<hr>\\n\")\n",
    "\n",
    "    f.write(\"</body>\\n\")\n",
    "    f.write(\"</html>\\n\")"
   ]
  },
  {
   "cell_type": "markdown",
   "id": "026250aa",
   "metadata": {},
   "source": [
    "A ()-ben található részeket emeljük ki."
   ]
  },
  {
   "cell_type": "code",
   "execution_count": 15,
   "id": "be0c71c5",
   "metadata": {},
   "outputs": [],
   "source": [
    "description = description.replace(\"(\", \"<i>(\")\n",
    "description = description.replace(\")\", \")</i>\")"
   ]
  }
 ],
 "metadata": {
  "kernelspec": {
   "display_name": "Python 3 (ipykernel)",
   "language": "python",
   "name": "python3"
  },
  "language_info": {
   "codemirror_mode": {
    "name": "ipython",
    "version": 3
   },
   "file_extension": ".py",
   "mimetype": "text/x-python",
   "name": "python",
   "nbconvert_exporter": "python",
   "pygments_lexer": "ipython3",
   "version": "3.12.0"
  }
 },
 "nbformat": 4,
 "nbformat_minor": 5
}