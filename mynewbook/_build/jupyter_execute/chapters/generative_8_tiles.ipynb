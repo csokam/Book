{
 "cells": [
  {
   "cell_type": "markdown",
   "metadata": {},
   "source": [
    "# Csempék"
   ]
  },
  {
   "cell_type": "markdown",
   "metadata": {},
   "source": [
    "![generative_5](figures/generative_5.png)\n",
    "\n",
    "<b>Forrás: </b>{cite:p}`igo_rs`"
   ]
  },
  {
   "cell_type": "code",
   "execution_count": 1,
   "metadata": {},
   "outputs": [],
   "source": [
    "from PIL import Image, ImageDraw\n",
    "import random"
   ]
  },
  {
   "cell_type": "markdown",
   "metadata": {},
   "source": [
    "![generative_7](figures/generative_7.png)"
   ]
  },
  {
   "cell_type": "code",
   "execution_count": 2,
   "metadata": {},
   "outputs": [],
   "source": [
    "def resetImage(width, height, bg):\n",
    "    draw.rectangle([0,0,width,height],fill=bg)"
   ]
  },
  {
   "cell_type": "code",
   "execution_count": 3,
   "metadata": {},
   "outputs": [],
   "source": [
    "def randomColors():\n",
    "    colors = ((243,164,107),(232,116,88),(235,198,119),(238,140,97),(143,181,134),(46,118,115),(40,73,82),(50,166,154))\n",
    "    color1, color2 = random.sample(colors,k=2)\n",
    "    \n",
    "    return color1, color2"
   ]
  },
  {
   "cell_type": "code",
   "execution_count": 4,
   "metadata": {},
   "outputs": [],
   "source": [
    "image_width = 1000\n",
    "image_height = 600\n",
    "tile = 100\n",
    "\n",
    "image = Image.new(\"RGB\", (image_width, image_height))\n",
    "draw = ImageDraw.Draw(image)"
   ]
  },
  {
   "cell_type": "markdown",
   "metadata": {},
   "source": [
    "![generative_10](figures/generative_10.png)"
   ]
  },
  {
   "cell_type": "code",
   "execution_count": 5,
   "metadata": {},
   "outputs": [
    {
     "data": {
      "image/png": "[encoded data removed]",
      "text/plain": [
       "<PIL.Image.Image image mode=RGB size=1000x600>"
      ]
     },
     "metadata": {},
     "output_type": "display_data"
    }
   ],
   "source": [
    "resetImage(image_width, image_height,\"white\")\n",
    "\n",
    "for i in range (0,image_width,tile):\n",
    "    for j in range (0, image_height, tile):\n",
    "        colorE,colorR =randomColors()       \n",
    "        draw.rectangle([i,j,i+tile,j+tile],fill=colorR)\n",
    "        \n",
    "        segment = random.randint(0,3)         \n",
    "        if segment==0:            \n",
    "            draw.pieslice([i,j+50,i+tile,j+tile+50], start = 180, end = 360, fill=colorE)\n",
    "        elif segment==1:\n",
    "            draw.pieslice([i-50,j,i+tile-50,j+tile], start = 270, end = 90, fill=colorE)\n",
    "        elif segment==2:             \n",
    "            draw.pieslice([i,j-50,i+tile,j+tile-50], start = 360, end = 180, fill=colorE)\n",
    "        elif segment==3:                      \n",
    "            draw.pieslice([i+50,j,i+tile+50,j+tile], start = 90, end = 270, fill=colorE)\n",
    "\n",
    "display(image)"
   ]
  }
 ],
 "metadata": {
  "kernelspec": {
   "display_name": "Python 3",
   "language": "python",
   "name": "python3"
  },
  "language_info": {
   "codemirror_mode": {
    "name": "ipython",
    "version": 3
   },
   "file_extension": ".py",
   "mimetype": "text/x-python",
   "name": "python",
   "nbconvert_exporter": "python",
   "pygments_lexer": "ipython3",
   "version": "3.10.6"
  }
 },
 "nbformat": 4,
 "nbformat_minor": 2
}