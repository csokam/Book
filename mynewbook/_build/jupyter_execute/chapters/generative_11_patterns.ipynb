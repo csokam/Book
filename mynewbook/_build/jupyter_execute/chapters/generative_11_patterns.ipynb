{
 "cells": [
  {
   "cell_type": "markdown",
   "metadata": {},
   "source": [
    "# Minták létrehozása"
   ]
  },
  {
   "cell_type": "code",
   "execution_count": 1,
   "metadata": {},
   "outputs": [],
   "source": [
    "from PIL import Image, ImageDraw\n",
    "import random"
   ]
  },
  {
   "cell_type": "code",
   "execution_count": 2,
   "metadata": {},
   "outputs": [],
   "source": [
    "image_width = 500\n",
    "image_height = 500\n",
    "cell_size = 100\n",
    "\n",
    "image = Image.new(\"RGB\", (image_width, image_height), color=\"white\")\n",
    "draw = ImageDraw.Draw(image)"
   ]
  },
  {
   "cell_type": "code",
   "execution_count": 3,
   "metadata": {},
   "outputs": [],
   "source": [
    "def resetImage(width, height, bg):\n",
    "    draw.rectangle([0,0,width,height],fill=bg)"
   ]
  },
  {
   "cell_type": "code",
   "execution_count": 4,
   "metadata": {},
   "outputs": [],
   "source": [
    "def randomColor():    \n",
    "    r = random.randint(0,255)\n",
    "    g = random.randint(0,255)\n",
    "    b = random.randint(0,255)    \n",
    "    return r,g,b"
   ]
  },
  {
   "cell_type": "markdown",
   "metadata": {},
   "source": [
    "0. függőleges vonalak\n",
    "1. vízszintes vonalak\n",
    "2. átló\n",
    "3. átló másik\n",
    "4. pontok\n",
    "5. függőleges és víszintes vonalak"
   ]
  },
  {
   "cell_type": "code",
   "execution_count": 5,
   "metadata": {},
   "outputs": [],
   "source": [
    "def addPattern(area):\n",
    "    x0,y0,x1,y1 = area\n",
    "    lines = [2,4,5,10,20,25]    \n",
    "    choice = random.randint(0,5)\n",
    "       \n",
    "    if choice == 0:\n",
    "        for i in range(int(cell_size/10)):\n",
    "            draw.line([x0+i*10,y0,x0+i*10,y1], fill = \"black\")\n",
    "    elif choice == 1:\n",
    "        for i in range(int(cell_size/10)):\n",
    "            draw.line([x0,y0+i*10,x1,y0+i*10], fill = \"black\")\n",
    "    elif choice == 2:        \n",
    "        d = random.choice(lines)\n",
    "        for i in range(d,cell_size,d):\n",
    "            draw.line([x0+i,y0,x0,y0+i], fill = \"red\", width=1) \n",
    "            draw.line([x1-i,y1,x1,y1-i], fill = \"red\", width=1)        \n",
    "        draw.line([x0,y1,x1,y0], fill = \"red\", width=1)\n",
    "    elif choice == 3:        \n",
    "        d = random.choice(lines)\n",
    "        for i in range(d,cell_size,d):\n",
    "            draw.line([x0+i,y0,x1,y1-i], fill = \"green\", width=1) \n",
    "            draw.line([x0,y0+i,x1-i,y1], fill = \"green\", width=1)\n",
    "        draw.line([x0,y0,x1,y1], fill = \"green\", width=1)\n",
    "    elif choice == 4:\n",
    "        density = random.randint(2,10)\n",
    "        for i in range(0,cell_size,density):\n",
    "            for j in range(0,cell_size,density):\n",
    "                draw.point([x0+i,y0+j], fill = \"blue\") \n",
    "    elif choice == 5:\n",
    "        for i in range(int(cell_size/10)):\n",
    "            draw.line([x0+i*10,y0,x0+i*10,y1], fill = \"black\")   \n",
    "            draw.line([x0,y0+i*10,x1,y0+i*10], fill = \"black\")         \n",
    "\n"
   ]
  },
  {
   "cell_type": "code",
   "execution_count": 6,
   "metadata": {},
   "outputs": [
    {
     "name": "stdout",
     "output_type": "stream",
     "text": [
      "25\n"
     ]
    },
    {
     "data": {
      "image/png": "[encoded data removed]",
      "text/plain": [
       "<PIL.Image.Image image mode=RGB size=500x500>"
      ]
     },
     "metadata": {},
     "output_type": "display_data"
    }
   ],
   "source": [
    "sectors = []\n",
    "resetImage(image_width, image_height, \"white\")\n",
    "\n",
    "for i in range(0,int(image_width/cell_size)):\n",
    "    for j in range(0,int(image_height/cell_size)):\n",
    "        x0 =i*cell_size\n",
    "        y0 =j*cell_size\n",
    "        x1 =i*cell_size+cell_size\n",
    "        y1 =j*cell_size+cell_size\n",
    "        draw.rectangle([x0,y0,x1,y1], outline = \"black\", fill=\"white\")\n",
    "        sectors.append((x0,y0,x1,y1))\n",
    "\n",
    "print(len(sectors))\n",
    "for sector in sectors:\n",
    "    addPattern(sector)\n",
    "\n",
    "display(image)\n"
   ]
  }
 ],
 "metadata": {
  "kernelspec": {
   "display_name": "Python 3",
   "language": "python",
   "name": "python3"
  },
  "language_info": {
   "codemirror_mode": {
    "name": "ipython",
    "version": 3
   },
   "file_extension": ".py",
   "mimetype": "text/x-python",
   "name": "python",
   "nbconvert_exporter": "python",
   "pygments_lexer": "ipython3",
   "version": "3.10.6"
  }
 },
 "nbformat": 4,
 "nbformat_minor": 2
}