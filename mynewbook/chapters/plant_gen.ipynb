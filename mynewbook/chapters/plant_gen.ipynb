{
 "cells": [
  {
   "cell_type": "markdown",
   "metadata": {},
   "source": [
    "# Növény generálása rekurzióval\n",
    "\n",
    "<b>Forrás: </b>{cite:p}`cassowary`"
   ]
  },
  {
   "cell_type": "markdown",
   "metadata": {},
   "source": [
    "## Szükséges könyvtárak letöltése, importálása"
   ]
  },
  {
   "cell_type": "code",
   "execution_count": 1,
   "metadata": {},
   "outputs": [],
   "source": [
    "# %pip install "
   ]
  },
  {
   "cell_type": "code",
   "execution_count": 2,
   "metadata": {},
   "outputs": [],
   "source": [
    "import turtle\n",
    "import importlib\n",
    "import time\n",
    "import random"
   ]
  },
  {
   "cell_type": "markdown",
   "metadata": {},
   "source": [
    "## Alapok\n",
    "\n",
    "A kód alapvetően a turtle könyvtárat használja és formális nyelvek bevonása helyett egy egyszerűbb rekurzív megoldást alkalmaz. A készülő kód rekurzív és egyetlen függvény implementálása elegendő. Ezt később véletlen hozzáadásával lehetséges bőívteni."
   ]
  },
  {
   "cell_type": "markdown",
   "metadata": {},
   "source": [
    "## Rajzfelület létrehozása\n",
    "\n",
    "A teknőc többszöri futtatása problémákat okozhat, ezért érdemes a <code>reload</code> paranccsal újraindítani a könyvtárat. A <code>setup</code> segítségével megadhatjuk a szükséges felület méretét."
   ]
  },
  {
   "cell_type": "code",
   "execution_count": 15,
   "metadata": {},
   "outputs": [
    {
     "ename": "",
     "evalue": "",
     "output_type": "error",
     "traceback": [
      "\u001b[1;31mThe Kernel crashed while executing code in the current cell or a previous cell. \n",
      "\u001b[1;31mPlease review the code in the cell(s) to identify a possible cause of the failure. \n",
      "\u001b[1;31mClick <a href='https://aka.ms/vscodeJupyterKernelCrash'>here</a> for more info. \n",
      "\u001b[1;31mView Jupyter <a href='command:jupyter.viewOutput'>log</a> for further details."
     ]
    }
   ],
   "source": [
    "importlib.reload(turtle)\n",
    "turtle.setup(800,800)\n",
    "turtle.exitonclick()"
   ]
  },
  {
   "cell_type": "markdown",
   "metadata": {},
   "source": [
    "## Ágak rajzolása - hogyan juthatunk vissza a csomóponthoz?"
   ]
  },
  {
   "cell_type": "code",
   "execution_count": 4,
   "metadata": {},
   "outputs": [],
   "source": [
    "importlib.reload(turtle)\n",
    "\n",
    "turtle.penup()\n",
    "turtle.goto(0,0)\n",
    "turtle.pendown()\n",
    "\n",
    "turtle.color(\"red\")\n",
    "turtle.forward(50)\n",
    "turtle.left(90)\n",
    "turtle.forward(100)\n",
    "\n",
    "turtle.exitonclick()"
   ]
  },
  {
   "cell_type": "markdown",
   "metadata": {},
   "source": [
    "![plant_1](figures/plant_1.png)"
   ]
  },
  {
   "cell_type": "markdown",
   "metadata": {},
   "source": [
    "Ha az előbb használt utasítások ellentétét használjuk, akkor könnyen visszajutunk a kiindulási pontra.\n",
    "\n",
    "<code>forward()</code> -> <code>backward()</code> \n",
    "\n",
    "<code>left()</code> -> <code>right()</code> \n",
    "\n",
    "<code>right()</code> -> <code>left()</code> "
   ]
  },
  {
   "cell_type": "code",
   "execution_count": 5,
   "metadata": {},
   "outputs": [],
   "source": [
    "importlib.reload(turtle)\n",
    "\n",
    "turtle.tracer(1)\n",
    "\n",
    "turtle.penup()\n",
    "turtle.goto(0,0)\n",
    "turtle.pendown()\n",
    "\n",
    "turtle.color(\"red\")\n",
    "turtle.forward(50)\n",
    "turtle.left(90)\n",
    "turtle.forward(100)\n",
    "time.sleep(1)\n",
    "turtle.color(\"green\")\n",
    "turtle.back(100)\n",
    "turtle.right(90)\n",
    "turtle.back(50)\n",
    "\n",
    "turtle.exitonclick()"
   ]
  },
  {
   "cell_type": "markdown",
   "metadata": {},
   "source": [
    "![plant_2](figures/plant_2.png)"
   ]
  },
  {
   "cell_type": "markdown",
   "metadata": {},
   "source": [
    "## Rekurzió\n",
    "\n",
    "Oldjuk meg rekurzívan - érdemes megfigyelni, hogy utasítások vannak a függvény önmeghívása előtt és után\n",
    "\n",
    "<code>step</code> - iterációk számát limitáljuk"
   ]
  },
  {
   "cell_type": "code",
   "execution_count": 6,
   "metadata": {},
   "outputs": [],
   "source": [
    "importlib.reload(turtle)\n",
    "\n",
    "turtle.tracer(1)\n",
    "turtle.penup()\n",
    "turtle.goto(0,0)\n",
    "turtle.pendown()\n",
    "\n",
    "def move(length, angle, step):\n",
    "    step =  step-1\n",
    "    if  step >= 0:\n",
    "        turtle.forward(length)\n",
    "        turtle.left(angle)\n",
    "        move(100,0, step)\n",
    "        turtle.right(angle)\n",
    "        turtle.back(length)\n",
    "\n",
    "move(50,90,2)\n",
    "turtle.exitonclick()"
   ]
  },
  {
   "cell_type": "markdown",
   "metadata": {},
   "source": [
    "![plant_3](figures/plant_3.png)"
   ]
  },
  {
   "cell_type": "markdown",
   "metadata": {},
   "source": [
    "## Alap megvalósítás\n",
    "\n",
    "A rekurzív függvény itt kerül megvalósításra, innentől csak extra funkciókkal bővítve lesz."
   ]
  },
  {
   "cell_type": "code",
   "execution_count": 7,
   "metadata": {},
   "outputs": [],
   "source": [
    "def grow_basic(length,step,angle):\n",
    "    if length >=10:        \n",
    "        turtle.forward(length)\n",
    "        new_length = length-10     \n",
    "               \n",
    "        turtle.left(angle)\n",
    "        grow_basic(new_length,step, angle)\n",
    "        turtle.right(angle)\n",
    "\n",
    "        turtle.right(angle)\n",
    "        grow_basic(new_length,step, angle)\n",
    "        turtle.left(angle)\n",
    "\n",
    "        turtle.backward(length)        "
   ]
  },
  {
   "cell_type": "code",
   "execution_count": 8,
   "metadata": {},
   "outputs": [],
   "source": [
    "importlib.reload(turtle)\n",
    "turtle.setup(800,800)\n",
    "turtle.tracer(False)\n",
    "turtle.hideturtle()\n",
    "\n",
    "turtle.penup()\n",
    "turtle.goto(0, -250)\n",
    "turtle.pendown()\n",
    "turtle.left(90)\n",
    "\n",
    "grow_basic(100,5,15)\n",
    "turtle.exitonclick()"
   ]
  },
  {
   "cell_type": "markdown",
   "metadata": {},
   "source": [
    "![plant_4](figures/plant_4.png)"
   ]
  },
  {
   "cell_type": "markdown",
   "metadata": {},
   "source": [
    "## Fa vastagsága és ágak fokozatos csökkentése\n",
    "\n",
    "Az ágak hosszáért a <code>length</code> változó a felelős és mindig 10 egységgel csökkentettük a hosszát. Ebben az esetben határozzuk meg egy kicsit precízebb képlettel. Ehhez hasonlóan állítsunk be fokozatos vonalvastagságot."
   ]
  },
  {
   "cell_type": "code",
   "execution_count": 9,
   "metadata": {},
   "outputs": [],
   "source": [
    "def grow_advanced(length,angle,coef):\n",
    "    if length >=10:        \n",
    "        turtle.width(length/10)\n",
    "        turtle.forward(length)\n",
    "        new_length = length*coef     \n",
    "               \n",
    "        turtle.left(angle)\n",
    "        grow_advanced(new_length, angle,coef)\n",
    "        turtle.right(angle)\n",
    "\n",
    "        turtle.right(angle)\n",
    "        grow_advanced(new_length, angle,coef)\n",
    "        turtle.left(angle)\n",
    "\n",
    "        turtle.backward(length)   "
   ]
  },
  {
   "cell_type": "code",
   "execution_count": 10,
   "metadata": {},
   "outputs": [],
   "source": [
    "importlib.reload(turtle)\n",
    "turtle.setup(800,800)\n",
    "turtle.tracer(False)\n",
    "turtle.hideturtle()\n",
    "\n",
    "turtle.penup()\n",
    "turtle.goto(0, -250)\n",
    "turtle.pendown()\n",
    "turtle.left(90)\n",
    "\n",
    "grow_advanced(100,15,0.8)\n",
    "turtle.exitonclick()"
   ]
  },
  {
   "cell_type": "markdown",
   "metadata": {},
   "source": [
    "![plant_5](figures/plant_5.png)"
   ]
  },
  {
   "cell_type": "markdown",
   "metadata": {},
   "source": [
    "## Véletlen implementálása\n",
    "\n",
    "Véletlen számokkal természetesebb hatást érhetünk el. Ezért ennek segítségével fogjuk manipulálni az egyes ágak irányát és hosszát. Ezen kívül a váaszon létrehozását is megadjuk függvényként."
   ]
  },
  {
   "cell_type": "code",
   "execution_count": 11,
   "metadata": {},
   "outputs": [],
   "source": [
    "def reset_turtle():\n",
    "    importlib.reload(turtle)\n",
    "    turtle.setup(800,800)\n",
    "    turtle.tracer(False)\n",
    "    turtle.hideturtle()\n",
    "\n",
    "    turtle.penup()\n",
    "    turtle.goto(0, -250)\n",
    "    turtle.pendown()\n",
    "    turtle.left(90)"
   ]
  },
  {
   "cell_type": "code",
   "execution_count": 12,
   "metadata": {},
   "outputs": [],
   "source": [
    "def grow_expert(length,angle,len_coef,angle_coef):\n",
    "    if length >=10:        \n",
    "        turtle.width(length/10)\n",
    "        turtle.forward(length)\n",
    "        new_length = length*len_coef     \n",
    "\n",
    "        angle_l = angle + random.randint(0,angle_coef)  \n",
    "        angle_r = angle + random.randint(0,angle_coef)      \n",
    "        turtle.left(angle_l)\n",
    "        grow_expert(new_length,angle,len_coef,angle_coef)\n",
    "        turtle.right(angle_l)\n",
    "\n",
    "        turtle.right(angle_r)\n",
    "        grow_expert(new_length,angle,len_coef,angle_coef)\n",
    "        turtle.left(angle_r)\n",
    "\n",
    "        turtle.backward(length) "
   ]
  },
  {
   "cell_type": "code",
   "execution_count": 13,
   "metadata": {},
   "outputs": [],
   "source": [
    "reset_turtle()\n",
    "grow_expert(100,15,0.8,20)\n",
    "turtle.exitonclick()"
   ]
  },
  {
   "cell_type": "markdown",
   "metadata": {},
   "source": [
    "![plant_6](figures/plant_6.png)"
   ]
  },
  {
   "cell_type": "markdown",
   "metadata": {},
   "source": [
    "## A teljes kód"
   ]
  },
  {
   "cell_type": "code",
   "execution_count": 14,
   "metadata": {},
   "outputs": [],
   "source": [
    "import turtle\n",
    "import random\n",
    "\n",
    "bg_color = \"#E0695A\"\n",
    "fg_color = \"#5AE09D\"\n",
    "\n",
    "importlib.reload(turtle)\n",
    "turtle.setup(800,600)\n",
    "turtle.tracer(False)\n",
    "turtle.color(fg_color)\n",
    "turtle.bgcolor(bg_color)\n",
    "turtle.hideturtle()\n",
    "\n",
    "def grow(length, decrease, angle, noise=0):\n",
    "    if length > 10:\n",
    "        turtle.width(length/10)\n",
    "        turtle.forward(length)\n",
    "        new_length = length * decrease\n",
    "        if noise > 0:\n",
    "            new_length *=random.uniform(0.9,1.1)\n",
    "        angle_l = angle + random.gauss(0, noise)\n",
    "        angle_r = angle + random.gauss(0, noise)\n",
    "\n",
    "        turtle.left(angle_l)\n",
    "        grow(new_length, decrease, angle, noise)\n",
    "        turtle.right(angle_l)\n",
    "\n",
    "        turtle.right(angle_r)\n",
    "        grow(new_length, decrease, angle, noise)\n",
    "        turtle.left(angle_r)\n",
    "\n",
    "        turtle.backward(length)\n",
    "\n",
    "turtle.penup()\n",
    "turtle.goto(0, -400)\n",
    "turtle.pendown()\n",
    "turtle.left(90)\n",
    "grow(125, 0.8, 12, 10)\n",
    "\n",
    "turtle.exitonclick()"
   ]
  },
  {
   "cell_type": "markdown",
   "metadata": {},
   "source": [
    "![plant_7](figures/plant_7.png)"
   ]
  }
 ],
 "metadata": {
  "kernelspec": {
   "display_name": "Python 3",
   "language": "python",
   "name": "python3"
  },
  "language_info": {
   "codemirror_mode": {
    "name": "ipython",
    "version": 3
   },
   "file_extension": ".py",
   "mimetype": "text/x-python",
   "name": "python",
   "nbconvert_exporter": "python",
   "pygments_lexer": "ipython3",
   "version": "3.10.6"
  }
 },
 "nbformat": 4,
 "nbformat_minor": 2
}
