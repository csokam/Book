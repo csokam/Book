{
 "cells": [
  {
   "cell_type": "markdown",
   "id": "28f3543e-d824-4839-ba94-09f4c23e7164",
   "metadata": {},
   "source": [
    "# Adatbányászat - Web scraping\n",
    "\n",
    "Adatok és információk weboldalakról kinyerésével foglalkozik."
   ]
  },
  {
   "cell_type": "markdown",
   "id": "3b5c95f1-e07f-4efd-bc70-3e72512d577c",
   "metadata": {},
   "source": [
    "### Szükséges könyvtárak telepítése, importálása"
   ]
  },
  {
   "cell_type": "code",
   "execution_count": 1,
   "id": "b23c12fd",
   "metadata": {},
   "outputs": [],
   "source": [
    "#%pip install bs4\n",
    "#%pip install requests"
   ]
  },
  {
   "cell_type": "code",
   "execution_count": 2,
   "id": "7d56258b-f94e-4e85-ad45-d4f20d84805a",
   "metadata": {},
   "outputs": [],
   "source": [
    "from bs4 import BeautifulSoup\n",
    "import requests as re\n",
    "import time"
   ]
  },
  {
   "cell_type": "markdown",
   "id": "c0d6ed2a",
   "metadata": {},
   "source": [
    "## 1. Mintafeladat\n",
    "\n",
    "https://www.scrapethissite.com/pages/simple/ weboldalról gyűjtsük ki az adatokat.\n",
    "\n",
    "<b>Megoldáshoz vezető lépések:</b>\n",
    "1. weboldal felmérése\n",
    "2. kérdés(ek) megfogalmazása\n",
    "3. adatgyűjtés\n",
    "4. küzdelem a begyűjtött adatokkal\n",
    "5. kérdés(ek) megválaszolása\n",
    "6. megoldás bemutatása mások számára is érthető módon"
   ]
  },
  {
   "cell_type": "markdown",
   "id": "1806e671",
   "metadata": {},
   "source": [
    "### Weboldal elérése"
   ]
  },
  {
   "cell_type": "code",
   "execution_count": 3,
   "id": "cba16cf7",
   "metadata": {},
   "outputs": [
    {
     "name": "stdout",
     "output_type": "stream",
     "text": [
      "<Response [200]>\n"
     ]
    }
   ],
   "source": [
    "url = \"https://www.scrapethissite.com/pages/simple/\"\n",
    "\n",
    "response = re.get(url)\n",
    "print(response)"
   ]
  },
  {
   "cell_type": "markdown",
   "id": "4e14cd0a",
   "metadata": {},
   "source": [
    "## <code>print()</code> limitálása\n",
    "\n",
    "Az adatbányászat témakörnél előfordul, hogy egy egyszerű <code>print()</code> utasítás kimenete terjedelmes és rontja a jegyzet olvashatóságát. Az alábbi függvény segítségével limitáljuk a kimenetet. Általában 1000 karakterből el tudjuk dönteni a kimenet helyességét, de szükség esetén könnyen növelhető, csökkenthető.\n",
    "\n",
    "<code>obj</code> - mit szeretnénk kiíratni?\n",
    "\n",
    "<code>length</code> - hány karakternyit szeretnék kiíratni?"
   ]
  },
  {
   "cell_type": "code",
   "execution_count": 4,
   "id": "1daff4bd",
   "metadata": {},
   "outputs": [],
   "source": [
    "def printLimited(obj, length):\n",
    "    print(str(obj)[:length])"
   ]
  },
  {
   "cell_type": "markdown",
   "id": "00f352e0",
   "metadata": {},
   "source": [
    "### Weboldal tartalmának kinyerése"
   ]
  },
  {
   "cell_type": "code",
   "execution_count": 5,
   "id": "f1a8b8ae",
   "metadata": {},
   "outputs": [
    {
     "name": "stdout",
     "output_type": "stream",
     "text": [
      "<!DOCTYPE html>\n",
      "\n",
      "<html lang=\"en\">\n",
      "<head>\n",
      "<meta charset=\"utf-8\"/>\n",
      "<title>Countries of the World: A Simple Example | Scrape This Site | A public sandbox for learning web scraping</title>\n",
      "<link href=\"/static/images/scraper-icon.png\" rel=\"icon\" type=\"image/png\"/>\n",
      "<meta content=\"width=device-width, initial-scale=1.0\" name=\"viewport\"/>\n",
      "<meta content=\"A single page that lists information about all the countries in the world. Good for those just get started with web scraping.\" name=\"description\"/>\n",
      "<link crossorigin=\"anonymous\" href=\"https://maxcdn.bootstrapcdn.com/bootstrap/3.3.5/css/bootstrap.min.css\" integrity=\"sha256-MfvZlkHCEqatNoGiOXveE8FIwMzZg4W85qfrfIFBfYc= sha512-dTfge/zgoMYpP7QbHy4gWMEGsbsdZeCXz7irItjcC3sPUFtf0kuFbDz/ixG7ArTxmDjLXDmezHubeNikyKGVyQ==\" rel=\"stylesheet\"/>\n",
      "<link href=\"https://fonts.googleapis.com/css?family=Lato:400,700\" rel=\"stylesheet\" type=\"text/css\"/>\n",
      "<link href=\"/static/css/styles.css\" rel=\"stylesheet\" type=\"text/css\"/>\n",
      "<meta content=\"noindex\" name=\"robots\"/>\n",
      "<link h\n"
     ]
    }
   ],
   "source": [
    "soup = BeautifulSoup(response.text, \"html.parser\")\n",
    "\n",
    "printLimited(soup, 1000)"
   ]
  },
  {
   "cell_type": "markdown",
   "id": "2bd1009c",
   "metadata": {},
   "source": [
    "### Cím kiíratása - <code>title</code>"
   ]
  },
  {
   "cell_type": "code",
   "execution_count": 6,
   "id": "1f231266",
   "metadata": {},
   "outputs": [
    {
     "name": "stdout",
     "output_type": "stream",
     "text": [
      "<title>Countries of the World: A Simple Example | Scrape This Site | A public sandbox for learning web scraping</title>\n",
      "Countries of the World: A Simple Example | Scrape This Site | A public sandbox for learning web scraping\n"
     ]
    }
   ],
   "source": [
    "print(soup.title)\n",
    "print(soup.title.string)"
   ]
  },
  {
   "cell_type": "markdown",
   "id": "7a2cf2fe",
   "metadata": {},
   "source": [
    "### Ország(ok) nevei - <code>find</code> és <code>find_all</code>"
   ]
  },
  {
   "cell_type": "code",
   "execution_count": 7,
   "id": "e04b5273",
   "metadata": {},
   "outputs": [
    {
     "name": "stdout",
     "output_type": "stream",
     "text": [
      "<html lang=\"en\">\n",
      "<head>\n",
      "<meta charset=\"utf-8\"/>\n",
      "<title>Countries of the World: A Simple Example | Scrape This Site | A public sandbox for learning web scraping</title>\n",
      "<link href=\"/static/images/scraper-icon.png\" rel=\"icon\" type=\"image/png\"/>\n",
      "<meta content=\"width=device-width, initial-scale=1.0\" name=\"viewport\"/>\n",
      "<meta content=\"A single page that lists information about all the countries in the world. Good for those just get started with web scraping.\" name=\"description\"/>\n",
      "<link crossorigin=\"ano\n"
     ]
    }
   ],
   "source": [
    "#h3\n",
    "countries = soup.find()\n",
    "\n",
    "printLimited(countries, 500)"
   ]
  },
  {
   "cell_type": "markdown",
   "id": "a00419b6",
   "metadata": {},
   "source": [
    "### Ország(ok) adatai\n",
    "\n",
    "Milyen tag tartalmazza a kívánt adatot? Van azonosítója?"
   ]
  },
  {
   "cell_type": "code",
   "execution_count": 8,
   "id": "0d930d10",
   "metadata": {},
   "outputs": [
    {
     "name": "stdout",
     "output_type": "stream",
     "text": [
      "Andorra la Vella\n"
     ]
    }
   ],
   "source": [
    "print(soup.find(\"span\", class_=\"country-capital\").text)"
   ]
  },
  {
   "cell_type": "markdown",
   "id": "b3d02abf",
   "metadata": {},
   "source": [
    "### Leg... országok\n",
    "\n",
    "- Mennyi a legnagyobb ország népessége?\n",
    "- Milyen lenne az \"átlagos\" ország?\n",
    "- Hány ország adatait gyűjtöttük ki?"
   ]
  },
  {
   "cell_type": "code",
   "execution_count": 9,
   "id": "c6398e57",
   "metadata": {},
   "outputs": [],
   "source": [
    "population = soup.find_all(\"span\", class_=\"country-population\")\n",
    "\n",
    "population_numbers = []\n",
    "\n",
    "for item in population:\n",
    "    population_numbers.append(int(item.text))"
   ]
  },
  {
   "cell_type": "markdown",
   "id": "b816469d",
   "metadata": {},
   "source": [
    "## 2. Kiválasztott weboldal elérése\n",
    "\n",
    "200-as kód sikeres lekérést jelöl"
   ]
  },
  {
   "cell_type": "code",
   "execution_count": 10,
   "id": "771b0874-9bb7-42c9-a30a-b6b3e2b48c7e",
   "metadata": {},
   "outputs": [
    {
     "name": "stdout",
     "output_type": "stream",
     "text": [
      "200\n",
      "Siker!\n"
     ]
    }
   ],
   "source": [
    "url = \"https://hu.wikipedia.org/wiki/Kateg%C3%B3ria:N%C3%B6v%C3%A9nycsal%C3%A1dok\"\n",
    "\n",
    "response = re.get(url)\n",
    "print(response.status_code)\n",
    "\n",
    "if response.status_code == 200:\n",
    "    print(\"Siker!\")"
   ]
  },
  {
   "cell_type": "markdown",
   "id": "b928b97a",
   "metadata": {},
   "source": [
    "## BeautifulSoup könyvtár alapok"
   ]
  },
  {
   "cell_type": "markdown",
   "id": "f4155ce1",
   "metadata": {},
   "source": [
    "Weboldal struktúrájának kinyerése"
   ]
  },
  {
   "cell_type": "code",
   "execution_count": 11,
   "id": "b85d19d5-c496-4376-8e69-ae36105e3acf",
   "metadata": {},
   "outputs": [],
   "source": [
    "soup = BeautifulSoup(response.text, \"html.parser\")"
   ]
  },
  {
   "cell_type": "markdown",
   "id": "b30f7f9d",
   "metadata": {},
   "source": [
    "### Feladat - ellenőrizd le a <code>soup</code> változó tartalmát!"
   ]
  },
  {
   "cell_type": "code",
   "execution_count": 12,
   "id": "6bfdc894",
   "metadata": {},
   "outputs": [
    {
     "name": "stdout",
     "output_type": "stream",
     "text": [
      "<!DOCTYPE html>\n",
      "\n",
      "<html class=\"client-nojs vector-feature-language-in-header-enabled vector-feature-language-in-main-page-header-disabled vector-feature-sticky-header-disabled vector-feature-page-tools-pinned-disabled vector-feature-toc-pinned-clientpref-1 vector-feature-main-menu-pinned-disabled vector-feature-limited-width-clientpref-1 vector-feature-limited-width-content-disabled vector-feature-custom-font-size-clientpref-0 vector-feature-appearance-disabled vector-feature-appearance-pinned-cl\n"
     ]
    }
   ],
   "source": [
    "printLimited(soup, 500)"
   ]
  },
  {
   "cell_type": "markdown",
   "id": "1df7d823",
   "metadata": {},
   "source": [
    "A kiíratást meg lehet csinálni szebben is a <code>prettify()</code> paranccsal, viszont az eredménye a <code>printLimited()<code> függvény miatt nem fog látszódni."
   ]
  },
  {
   "cell_type": "code",
   "execution_count": 13,
   "id": "ab5a3ed9",
   "metadata": {},
   "outputs": [
    {
     "name": "stdout",
     "output_type": "stream",
     "text": [
      "<!DOCTYPE html>\n",
      "<html class=\"client-nojs vector-feature-language-in-header-enabled vector-feature-language-in-main-page-header-disabled vector-feature-sticky-header-disabled vector-feature-page-tools-pinned-disabled vector-feature-toc-pinned-clientpref-1 vector-feature-main-menu-pinned-disabled vector-feature-limited-width-clientpref-1 vector-feature-limited-width-content-disabled vector-feature-custom-font-size-clientpref-0 vector-feature-appearance-disabled vector-feature-appearance-pinned-cli\n"
     ]
    }
   ],
   "source": [
    "printLimited(soup.prettify(), 500)"
   ]
  },
  {
   "cell_type": "markdown",
   "id": "e2e5303a",
   "metadata": {},
   "source": [
    "### Bizonyos HTML tag keresése\n",
    "\n",
    "<code>prettify()</code> itt is működik"
   ]
  },
  {
   "cell_type": "code",
   "execution_count": 14,
   "id": "7ad00358",
   "metadata": {},
   "outputs": [
    {
     "name": "stdout",
     "output_type": "stream",
     "text": [
      "<div class=\"vector-header-container\">\n",
      "<header class=\"vector-header mw-header\">\n",
      "<div class=\"vector-header-start\">\n",
      "<nav aria-label=\"Wiki\" class=\"vector-main-menu-landmark\" role=\"navigation\">\n",
      "<div class=\"vector-dropdown vector-main-menu-dropdown vector-button-flush-left vector-button-flush-right\" id=\"vector-main-menu-dropdown\">\n",
      "<input aria-haspopup=\"true\" aria-label=\"Főmenü\" class=\"vector-dropdown-checkbox\" data-event-name=\"ui.dropdown-vector-main-menu-dropdown\" id=\"vector-main-menu-dropdown-checkb\n"
     ]
    }
   ],
   "source": [
    "articles = soup.find(\"div\")\n",
    "printLimited(articles, 500)"
   ]
  },
  {
   "cell_type": "markdown",
   "id": "4a576fd0",
   "metadata": {},
   "source": [
    "A választott weboldalon jobb kattintás után <code>Vizsgálat</code> (<code>Inspect</code>) funkció sok hasznos információt árul el a weboldal felépítéséről.\n",
    "\n",
    "![web_scraping_1](figures/web_scraping_1.png)"
   ]
  },
  {
   "cell_type": "code",
   "execution_count": 15,
   "id": "db7720e6-4c73-4a6a-ae92-95bfc26505c3",
   "metadata": {},
   "outputs": [
    {
     "name": "stdout",
     "output_type": "stream",
     "text": [
      "<div class=\"mw-category mw-category-columns\"><div class=\"mw-category-group\"><h3> </h3>\n",
      "<ul><li><a href=\"/wiki/N%C3%B6v%C3%A9nycsal%C3%A1dok_list%C3%A1ja\" title=\"Növénycsaládok listája\">Növénycsaládok listája</a></li></ul></div><div class=\"mw-category-group\"><h3>A</h3>\n",
      "<ul><li><a href=\"/wiki/Alk%C3%B6rm%C3%B6sf%C3%A9l%C3%A9k\" title=\"Alkörmösfélék\">Alkörmösfélék</a></li>\n",
      "<li><a href=\"/wiki/%C3%81ltiszafaf%C3%A9l%C3%A9k\" title=\"Áltiszafafélék\">Áltiszafafélék</a></li>\n",
      "<li><a href=\"/wiki/Amarilliszf%\n"
     ]
    }
   ],
   "source": [
    "#mw-category mw-category-columns\n",
    "\n",
    "articles = soup.find(\"div\", class_=\"mw-category mw-category-columns\")\n",
    "printLimited(articles, 500)"
   ]
  },
  {
   "cell_type": "code",
   "execution_count": 16,
   "id": "f5b8706d-0294-4ae7-9500-9ce4cee09cb2",
   "metadata": {},
   "outputs": [
    {
     "name": "stdout",
     "output_type": "stream",
     "text": [
      "https://hu.wikipedia.org/wiki/N%C3%B6v%C3%A9nycsal%C3%A1dok_list%C3%A1ja\n",
      "https://hu.wikipedia.org/wiki/Alk%C3%B6rm%C3%B6sf%C3%A9l%C3%A9k\n",
      "https://hu.wikipedia.org/wiki/%C3%81ltiszafaf%C3%A9l%C3%A9k\n",
      "https://hu.wikipedia.org/wiki/Amarilliszf%C3%A9l%C3%A9k\n",
      "https://hu.wikipedia.org/wiki/Anacampserotaceae\n",
      "https://hu.wikipedia.org/wiki/Ann%C3%B3naf%C3%A9l%C3%A9k\n",
      "https://hu.wikipedia.org/wiki/Apodanthaceae\n",
      "https://hu.wikipedia.org/wiki/Ar%C3%A1liaf%C3%A9l%C3%A9k\n",
      "https://hu.wikipedia.org/wiki/Arauk%C3%A1riaf%C3%A9l%C3%A9k\n",
      "https://hu.wikipedia.org/wiki/%C3%81rvacsal%C3%A1nf%C3%A9l%C3%A9k\n",
      "https://hu.wikipedia.org/wiki/Bab%C3%A9rf%C3%A9l%C3%A9k\n",
      "https://hu.wikipedia.org/wiki/B%C3%A1lv%C3%A1nyfaf%C3%A9l%C3%A9k\n",
      "https://hu.wikipedia.org/wiki/Ban%C3%A1nf%C3%A9l%C3%A9k\n",
      "https://hu.wikipedia.org/wiki/Barkamirtuszf%C3%A9l%C3%A9k\n",
      "https://hu.wikipedia.org/wiki/Beg%C3%B3niaf%C3%A9l%C3%A9k\n",
      "https://hu.wikipedia.org/wiki/B%C3%A9kasz%C5%91l%C5%91f%C3%A9l%C3%A9k\n",
      "https://hu.wikipedia.org/wiki/B%C3%A9katutajf%C3%A9l%C3%A9k\n",
      "https://hu.wikipedia.org/wiki/Bengef%C3%A9l%C3%A9k\n",
      "https://hu.wikipedia.org/wiki/Bogl%C3%A1rkaf%C3%A9l%C3%A9k\n",
      "https://hu.wikipedia.org/wiki/Bor%C3%A1g%C3%B3f%C3%A9l%C3%A9k\n",
      "https://hu.wikipedia.org/wiki/Borbolyaf%C3%A9l%C3%A9k\n",
      "https://hu.wikipedia.org/wiki/Boroszl%C3%A1nf%C3%A9l%C3%A9k\n",
      "https://hu.wikipedia.org/wiki/Borsf%C3%A9l%C3%A9k\n",
      "https://hu.wikipedia.org/wiki/Brom%C3%A9liaf%C3%A9l%C3%A9k\n",
      "https://hu.wikipedia.org/wiki/Bunk%C3%B3sp%C3%A1lmaf%C3%A9l%C3%A9k\n",
      "https://hu.wikipedia.org/wiki/Burgonyaf%C3%A9l%C3%A9k\n",
      "https://hu.wikipedia.org/wiki/Buz%C3%A9rf%C3%A9l%C3%A9k\n",
      "https://hu.wikipedia.org/wiki/B%C3%BCkkfaf%C3%A9l%C3%A9k\n",
      "https://hu.wikipedia.org/wiki/Chlamydomonadaceae\n",
      "https://hu.wikipedia.org/wiki/Cik%C3%A1szf%C3%A9l%C3%A9k\n",
      "https://hu.wikipedia.org/wiki/Ciprusf%C3%A9l%C3%A9k\n",
      "https://hu.wikipedia.org/wiki/Cleomaceae\n",
      "https://hu.wikipedia.org/wiki/Csal%C3%A1nf%C3%A9l%C3%A9k\n",
      "https://hu.wikipedia.org/wiki/Csatavir%C3%A1gf%C3%A9l%C3%A9k\n",
      "https://hu.wikipedia.org/wiki/Csavarp%C3%A1lmaf%C3%A9l%C3%A9k\n",
      "https://hu.wikipedia.org/wiki/Csik%C3%B3fark\n",
      "https://hu.wikipedia.org/wiki/Csipkeharasztok\n",
      "https://hu.wikipedia.org/wiki/Csodat%C3%B6lcs%C3%A9rf%C3%A9l%C3%A9k\n",
      "https://hu.wikipedia.org/wiki/Csuporkaf%C3%A9l%C3%A9k\n",
      "https://hu.wikipedia.org/wiki/Dasypogonaceae\n",
      "https://hu.wikipedia.org/wiki/Dill%C3%A9niaf%C3%A9l%C3%A9k\n",
      "https://hu.wikipedia.org/wiki/Dinnyefaf%C3%A9l%C3%A9k\n",
      "https://hu.wikipedia.org/wiki/Di%C3%B3faf%C3%A9l%C3%A9k\n",
      "https://hu.wikipedia.org/wiki/Dipentodontaceae\n",
      "https://hu.wikipedia.org/wiki/Dipterokarpuszf%C3%A9l%C3%A9k\n",
      "https://hu.wikipedia.org/wiki/D%C3%ADszlev%C3%A9lfaf%C3%A9l%C3%A9k\n",
      "https://hu.wikipedia.org/wiki/Diszn%C3%B3par%C3%A9jf%C3%A9l%C3%A9k\n",
      "https://hu.wikipedia.org/wiki/Eperfaf%C3%A9l%C3%A9k\n",
      "https://hu.wikipedia.org/wiki/Escalloniaceae\n",
      "https://hu.wikipedia.org/wiki/Ez%C3%BCstfaf%C3%A9l%C3%A9k\n",
      "https://hu.wikipedia.org/wiki/Fak%C3%ADnf%C3%A9l%C3%A9k\n",
      "https://hu.wikipedia.org/wiki/Farkasalmaf%C3%A9l%C3%A9k\n",
      "https://hu.wikipedia.org/wiki/Feny%C5%91f%C3%A9l%C3%A9k\n",
      "https://hu.wikipedia.org/wiki/Fissidentaceae\n",
      "https://hu.wikipedia.org/wiki/Fogpiszk%C3%A1l%C3%B3f%C5%B1\n",
      "https://hu.wikipedia.org/wiki/F%C5%B1faf%C3%A9l%C3%A9k\n",
      "https://hu.wikipedia.org/wiki/F%C5%B1szercserjef%C3%A9l%C3%A9k\n",
      "https://hu.wikipedia.org/wiki/F%C3%BCz%C3%A9nyf%C3%A9l%C3%A9k\n",
      "https://hu.wikipedia.org/wiki/F%C5%B1zfaf%C3%A9l%C3%A9k\n",
      "https://hu.wikipedia.org/wiki/Gn%C3%A9tum\n",
      "https://hu.wikipedia.org/wiki/Golgotavir%C3%A1gf%C3%A9l%C3%A9k\n",
      "https://hu.wikipedia.org/wiki/G%C3%B3lyaorrf%C3%A9l%C3%A9k\n",
      "https://hu.wikipedia.org/wiki/G%C3%B6rv%C3%A9lyf%C5%B1f%C3%A9l%C3%A9k\n",
      "https://hu.wikipedia.org/wiki/Gy%C3%A9k%C3%A9nyf%C3%A9l%C3%A9k\n",
      "https://hu.wikipedia.org/wiki/Gyommohaf%C3%A9l%C3%A9k\n",
      "https://hu.wikipedia.org/wiki/Gy%C3%B6mb%C3%A9rf%C3%A9l%C3%A9k\n",
      "https://hu.wikipedia.org/wiki/Gy%C3%B6ngyvir%C3%A1gfaf%C3%A9l%C3%A9k\n",
      "https://hu.wikipedia.org/wiki/Halimedaceae\n",
      "https://hu.wikipedia.org/wiki/Hangaf%C3%A9l%C3%A9k\n",
      "https://hu.wikipedia.org/wiki/Harangvir%C3%A1gf%C3%A9l%C3%A9k\n",
      "https://hu.wikipedia.org/wiki/Harmatf%C5%B1f%C3%A9l%C3%A9k\n",
      "https://hu.wikipedia.org/wiki/Hernandiaceae\n",
      "https://hu.wikipedia.org/wiki/H%C3%ADd%C5%91rf%C3%A9l%C3%A9k\n",
      "https://hu.wikipedia.org/wiki/Hortenziaf%C3%A9l%C3%A9k\n",
      "https://hu.wikipedia.org/wiki/Hydatellaceae\n",
      "https://hu.wikipedia.org/wiki/Hypoxidaceae\n",
      "https://hu.wikipedia.org/wiki/Ibolyaf%C3%A9l%C3%A9k\n",
      "https://hu.wikipedia.org/wiki/Jap%C3%A1n_erny%C5%91feny%C5%91\n",
      "https://hu.wikipedia.org/wiki/Kaktuszf%C3%A9l%C3%A9k\n",
      "https://hu.wikipedia.org/wiki/K%C3%A1lmosvir%C3%A1g%C3%BAak\n",
      "https://hu.wikipedia.org/wiki/Kankalinf%C3%A9l%C3%A9k\n",
      "https://hu.wikipedia.org/wiki/Kannaf%C3%A9l%C3%A9k\n",
      "https://hu.wikipedia.org/wiki/K%C3%A1posztaf%C3%A9l%C3%A9k\n",
      "https://hu.wikipedia.org/wiki/Kaprif%C3%A9l%C3%A9k\n",
      "https://hu.wikipedia.org/wiki/Kazu%C3%A1rfaf%C3%A9l%C3%A9k\n",
      "https://hu.wikipedia.org/wiki/Kecsker%C3%A1g%C3%B3f%C3%A9l%C3%A9k\n",
      "https://hu.wikipedia.org/wiki/K%C3%A9kh%C3%BCvelyf%C3%A9l%C3%A9k\n",
      "https://hu.wikipedia.org/wiki/Kenderf%C3%A9l%C3%A9k\n",
      "https://hu.wikipedia.org/wiki/Keser%C5%B1f%C5%B1f%C3%A9l%C3%A9k\n",
      "https://hu.wikipedia.org/wiki/Kikericsf%C3%A9l%C3%A9k\n",
      "https://hu.wikipedia.org/wiki/Kontyvir%C3%A1gf%C3%A9l%C3%A9k\n",
      "https://hu.wikipedia.org/wiki/Kosborf%C3%A9l%C3%A9k\n",
      "https://hu.wikipedia.org/wiki/K%C5%91tiszafaf%C3%A9l%C3%A9k\n",
      "https://hu.wikipedia.org/wiki/K%C5%91t%C3%B6r%C5%91f%C5%B1f%C3%A9l%C3%A9k\n",
      "https://hu.wikipedia.org/wiki/Krist%C3%A1lyvir%C3%A1gf%C3%A9l%C3%A9k\n",
      "https://hu.wikipedia.org/wiki/Kutyatejf%C3%A9l%C3%A9k\n",
      "https://hu.wikipedia.org/wiki/K%C3%BCll%C5%91folyond%C3%A1rf%C3%A9l%C3%A9k\n",
      "https://hu.wikipedia.org/wiki/K%C3%BCrtvir%C3%A1gf%C3%A9l%C3%A9k\n",
      "https://hu.wikipedia.org/wiki/Laxmanniaceae\n",
      "https://hu.wikipedia.org/wiki/Lenf%C3%A9l%C3%A9k\n",
      "https://hu.wikipedia.org/wiki/Ligetsz%C3%A9pef%C3%A9l%C3%A9k\n",
      "https://hu.wikipedia.org/wiki/Liliomfaf%C3%A9l%C3%A9k\n",
      "https://hu.wikipedia.org/wiki/Liliomf%C3%A9l%C3%A9k\n",
      "https://hu.wikipedia.org/wiki/Loncf%C3%A9l%C3%A9k\n",
      "https://hu.wikipedia.org/wiki/L%C3%B3tuszf%C3%A9l%C3%A9k\n",
      "https://hu.wikipedia.org/wiki/Mad%C3%A1rs%C3%B3skaf%C3%A9l%C3%A9k\n",
      "https://hu.wikipedia.org/wiki/Magyal\n",
      "https://hu.wikipedia.org/wiki/M%C3%A1kf%C3%A9l%C3%A9k\n",
      "https://hu.wikipedia.org/wiki/Malpighicserjef%C3%A9l%C3%A9k\n",
      "https://hu.wikipedia.org/wiki/M%C3%A1lyvaf%C3%A9l%C3%A9k\n",
      "https://hu.wikipedia.org/wiki/Medvek%C3%B6r%C3%B6mf%C3%A9l%C3%A9k\n",
      "https://hu.wikipedia.org/wiki/Met%C3%A9ngf%C3%A9l%C3%A9k\n",
      "https://hu.wikipedia.org/wiki/Mirtuszf%C3%A9l%C3%A9k\n",
      "https://hu.wikipedia.org/wiki/Mocs%C3%A1rciprusf%C3%A9l%C3%A9k\n",
      "https://hu.wikipedia.org/wiki/Musk%C3%A1tdi%C3%B3f%C3%A9l%C3%A9k\n",
      "https://hu.wikipedia.org/wiki/Neb%C3%A1ncsvir%C3%A1gf%C3%A9l%C3%A9k\n",
      "https://hu.wikipedia.org/wiki/N%C5%91sziromf%C3%A9l%C3%A9k\n",
      "https://hu.wikipedia.org/wiki/Ny%C3%ADlgy%C3%B6k%C3%A9rf%C3%A9l%C3%A9k\n",
      "https://hu.wikipedia.org/wiki/Ny%C3%ADrfaf%C3%A9l%C3%A9k\n",
      "https://hu.wikipedia.org/wiki/Olajfaf%C3%A9l%C3%A9k\n",
      "https://hu.wikipedia.org/wiki/%C3%93lomgy%C3%B6k%C3%A9rf%C3%A9l%C3%A9k\n",
      "https://hu.wikipedia.org/wiki/Orb%C3%A1ncf%C5%B1f%C3%A9l%C3%A9k\n",
      "https://hu.wikipedia.org/wiki/%C3%93ri%C3%A1svir%C3%A1gf%C3%A9l%C3%A9k\n",
      "https://hu.wikipedia.org/wiki/%C5%90szir%C3%B3zsaf%C3%A9l%C3%A9k\n",
      "https://hu.wikipedia.org/wiki/P%C3%A1fr%C3%A1nyfeny%C5%91f%C3%A9l%C3%A9k\n",
      "https://hu.wikipedia.org/wiki/Palkaf%C3%A9l%C3%A9k\n",
      "https://hu.wikipedia.org/wiki/P%C3%A1lmaf%C3%A9l%C3%A9k\n",
      "https://hu.wikipedia.org/wiki/Papag%C3%A1jvir%C3%A1g-f%C3%A9l%C3%A9k\n",
      "https://hu.wikipedia.org/wiki/Paracryphiaceae\n",
      "https://hu.wikipedia.org/wiki/Perjef%C3%A9l%C3%A9k\n",
      "https://hu.wikipedia.org/wiki/Petrosaviaceae\n",
      "https://hu.wikipedia.org/wiki/P%C3%A9zsmabogl%C3%A1rf%C3%A9l%C3%A9k\n",
      "https://hu.wikipedia.org/wiki/Philesiaceae\n",
      "https://hu.wikipedia.org/wiki/Picramniaceae\n",
      "https://hu.wikipedia.org/wiki/Pillang%C3%B3svir%C3%A1g%C3%BAak\n",
      "https://hu.wikipedia.org/wiki/Plat%C3%A1nf%C3%A9l%C3%A9k\n",
      "https://hu.wikipedia.org/wiki/Porcsinf%C3%A9l%C3%A9k\n",
      "https://hu.wikipedia.org/wiki/Pottiaceae\n",
      "https://hu.wikipedia.org/wiki/Pr%C3%B3teaf%C3%A9l%C3%A9k\n",
      "https://hu.wikipedia.org/wiki/Puszp%C3%A1ngf%C3%A9l%C3%A9k\n",
      "https://hu.wikipedia.org/wiki/Rezedaf%C3%A9l%C3%A9k\n",
      "https://hu.wikipedia.org/wiki/R%C3%B3zsaf%C3%A9l%C3%A9k\n",
      "https://hu.wikipedia.org/wiki/Rutaf%C3%A9l%C3%A9k\n",
      "https://hu.wikipedia.org/wiki/Sabiaceae\n",
      "https://hu.wikipedia.org/wiki/Saururaceae\n",
      "https://hu.wikipedia.org/wiki/Schisandraceae\n",
      "https://hu.wikipedia.org/wiki/Schoepfiaceae\n",
      "https://hu.wikipedia.org/wiki/Somf%C3%A9l%C3%A9k\n",
      "https://hu.wikipedia.org/wiki/Sp%C3%A1rgaf%C3%A9l%C3%A9k\n",
      "https://hu.wikipedia.org/wiki/Szappanfaf%C3%A9l%C3%A9k\n",
      "https://hu.wikipedia.org/wiki/Szegf%C5%B1f%C3%A9l%C3%A9k\n",
      "https://hu.wikipedia.org/wiki/Szilfaf%C3%A9l%C3%A9k\n",
      "https://hu.wikipedia.org/wiki/Szitty%C3%B3f%C3%A9l%C3%A9k\n",
      "https://hu.wikipedia.org/wiki/Szivarfaf%C3%A9l%C3%A9k\n",
      "https://hu.wikipedia.org/wiki/Sz%C5%91l%C5%91f%C3%A9l%C3%A9k\n",
      "https://hu.wikipedia.org/wiki/Sz%C3%B6m%C3%B6rcef%C3%A9l%C3%A9k\n",
      "https://hu.wikipedia.org/wiki/Szuharf%C3%A9l%C3%A9k\n",
      "https://hu.wikipedia.org/wiki/Szul%C3%A1kf%C3%A9l%C3%A9k\n",
      "https://hu.wikipedia.org/wiki/T%C3%A1rnicsf%C3%A9l%C3%A9k\n",
      "https://hu.wikipedia.org/wiki/Teaf%C3%A9l%C3%A9k\n",
      "https://hu.wikipedia.org/wiki/Tiszafaf%C3%A9l%C3%A9k\n",
      "https://hu.wikipedia.org/wiki/T%C3%B6kf%C3%A9l%C3%A9k\n",
      "https://hu.wikipedia.org/wiki/Trochodendraceae\n",
      "https://hu.wikipedia.org/wiki/T%C3%BCnd%C3%A9rh%C3%ADn%C3%A1rf%C3%A9l%C3%A9k\n",
      "https://hu.wikipedia.org/wiki/T%C3%BCnd%C3%A9rr%C3%B3zsaf%C3%A9l%C3%A9k\n",
      "https://hu.wikipedia.org/wiki/%C3%9Atif%C5%B1f%C3%A9l%C3%A9k\n",
      "https://hu.wikipedia.org/wiki/Vajvir%C3%A1gf%C3%A9l%C3%A9k\n",
      "https://hu.wikipedia.org/wiki/Varj%C3%BAh%C3%A1jf%C3%A9l%C3%A9k\n",
      "https://hu.wikipedia.org/wiki/Vasf%C5%B1f%C3%A9l%C3%A9k\n",
      "https://hu.wikipedia.org/wiki/Vell%C3%B3ziaf%C3%A9l%C3%A9k\n",
      "https://hu.wikipedia.org/wiki/Vidraf%C5%B1f%C3%A9l%C3%A9k\n",
      "https://hu.wikipedia.org/wiki/Vill%C3%A1sp%C3%A1lmaf%C3%A9l%C3%A9k\n",
      "https://hu.wikipedia.org/wiki/Vir%C3%A1gk%C3%A1kaf%C3%A9l%C3%A9k\n",
      "https://hu.wikipedia.org/wiki/Vir%C3%A1gs%C3%A1sf%C3%A9l%C3%A9k\n",
      "https://hu.wikipedia.org/wiki/V%C3%ADzij%C3%A1cintf%C3%A9l%C3%A9k\n",
      "https://hu.wikipedia.org/wiki/Volvocaceae\n",
      "https://hu.wikipedia.org/wiki/Z%C3%A1szpaf%C3%A9l%C3%A9k\n",
      "https://hu.wikipedia.org/wiki/Zellerf%C3%A9l%C3%A9k\n",
      "https://hu.wikipedia.org/wiki/Zsurl%C3%B3faf%C3%A9l%C3%A9k\n",
      "https://hu.wikipedia.org/wiki/Zsurl%C3%B3f%C3%A9l%C3%A9k\n"
     ]
    }
   ],
   "source": [
    "links = []\n",
    "for link in articles.find_all('a'):\n",
    "    links.append(\"https://hu.wikipedia.org\"+link.get('href'))\n",
    "\n",
    "for item in links:\n",
    "    print(item)"
   ]
  },
  {
   "cell_type": "markdown",
   "id": "32cc499b",
   "metadata": {},
   "source": [
    "## Egy weblap adatainak kigyűjtése\n",
    "\n",
    "![web_scraping_2](figures/web_scraping_2.png)"
   ]
  },
  {
   "cell_type": "code",
   "execution_count": 17,
   "id": "0e283624-2703-4aa5-951e-c9772d23c546",
   "metadata": {},
   "outputs": [
    {
     "name": "stdout",
     "output_type": "stream",
     "text": [
      "Zászpafélék\n",
      "Gyöktörzses vagy hagymás évelő növények. A legtöbb faj rizómás és leveles szárú. Virágaik végállóak, sugarasan szimmetrikusak, lepelleveleik pedig szabadok. Termésük egységesen toktermés. Sok génusz levelei örvösen állnak, tenyeresen erezettek, kivéve éppen a névadó zászpa (Veratrum) nemzetséget. Fontos jellegzetességük, hogy a csucsorokhoz hasonlóan erősen mérgező és rákkeltő szteroid alkaloidokat tartalmaznak. Amikor a történelmi Magyarország hegyvidékein a tárnics (Gentiana) gyökerét gyűjtötték szeszfőzéshez, gyakran összetévesztették a zászpával, és ez súlyos mérgezésekhez vezetett.\n",
      "\n"
     ]
    }
   ],
   "source": [
    "#mw-content-text > div.mw-content-ltr.mw-parser-output > p:nth-of-type(2)\n",
    "#firstHeading > span.mw-page-title-main\n",
    "\n",
    "url = \"https://hu.wikipedia.org/wiki/Z%C3%A1szpaf%C3%A9l%C3%A9k\"\n",
    "response = re.get(url)\n",
    "soup = BeautifulSoup(response.text, \"html.parser\")\n",
    "\n",
    "x = soup.select(\"#mw-content-text > div.mw-content-ltr.mw-parser-output > p:nth-of-type(2)\")\n",
    "title = soup.select(\"#firstHeading > span.mw-page-title-main\")\n",
    "print(title[0].text)\n",
    "print(x[0].text)"
   ]
  },
  {
   "cell_type": "markdown",
   "id": "77dfe342",
   "metadata": {},
   "source": [
    "## Összes weblap adatainak kigyűjtése fájlba"
   ]
  },
  {
   "cell_type": "code",
   "execution_count": 18,
   "id": "239098d1",
   "metadata": {},
   "outputs": [
    {
     "name": "stdout",
     "output_type": "stream",
     "text": [
      "||||||||||||||||||||||||||||||||||||||||||||||||||||||||||||||||||||||||||||||||||||||||||||||||||||||||||||||||||||||||||||||||||||||||||||||||||||||||||||||||||||||||||||||||||||"
     ]
    }
   ],
   "source": [
    "f = open(\"data_plant.csv\", \"a\", encoding = \"utf-8\")\n",
    "\n",
    "for item in range(0,len(links)):    \n",
    "    response = re.get(links[item])\n",
    "    soup = BeautifulSoup(response.text, \"html.parser\")\n",
    "    title = soup.select(\"#firstHeading > span.mw-page-title-main\")[0].text\n",
    "    description = soup.find(\"div\", {\"class\": \"mw-content-ltr mw-parser-output\"}).find_all(\"p\")[2].text\n",
    "      \n",
    "    f.write(str(title) + ',' + str(description))    \n",
    "    print(\"|\", end=\"\")\n",
    "    time.sleep(1)\n",
    "\n",
    "f.close()"
   ]
  },
  {
   "cell_type": "markdown",
   "id": "8ea554b9",
   "metadata": {},
   "source": [
    "## Adatok alapján új HTML fájl generálása"
   ]
  },
  {
   "cell_type": "code",
   "execution_count": 19,
   "id": "6c7e831f",
   "metadata": {},
   "outputs": [
    {
     "name": "stdout",
     "output_type": "stream",
     "text": [
      "\n",
      "\n",
      "||||||||||||||||||||||||||||||||||||||||||||||||||\n",
      "\n",
      "||||||||||||||||||||||||||||||||||||||||||||||||||\n",
      "\n",
      "||||||||||||||||||||||||||||||||||||||||||||||||||\n",
      "\n",
      "||||||||||||||||||||||||||||||\n",
      "['Annónafélék', 'Az annónafélék (Annonaceae) a liliomfa-virágúak (Magnoliales) rendjének egyik családja, bár egyes szerzők külön rendet, az annónavirágúakét (Annonales) alkotnák meg nekik.\\n']\n"
     ]
    }
   ],
   "source": [
    "data = []\n",
    "\n",
    "for item in range(0,len(links)):    \n",
    "    response = re.get(links[item])\n",
    "    soup = BeautifulSoup(response.text, \"html.parser\")\n",
    "    title = soup.select(\"#firstHeading > span.mw-page-title-main\")[0].text\n",
    "    description = soup.find(\"div\", {\"class\": \"mw-content-ltr mw-parser-output\"}).find_all(\"p\")[2].text\n",
    "    #print(str(item) + \". weboldal feldolgozva:\")    \n",
    "    data.append([title, description])\n",
    "    if item%50 != 0:\n",
    "        print(\"|\", end=\"\")\n",
    "    else:\n",
    "        print(\"\\n\")\n",
    "        print(\"|\", end=\"\")\n",
    "    time.sleep(1)\n",
    "\n",
    "print(\"\\n\" + str(data[5]))"
   ]
  },
  {
   "cell_type": "code",
   "execution_count": 20,
   "id": "9d8f71e9",
   "metadata": {},
   "outputs": [
    {
     "name": "stdout",
     "output_type": "stream",
     "text": [
      "['Alkörmösfélék', 'Az alkörmösfélék (Phytolaccaceae) a szegfűvirágúak (Caryophyllales) rendjének egyik családja. 16 nemzetségébe mintegy 120 faj tartozik.\\n']\n"
     ]
    }
   ],
   "source": [
    "print(data[1])"
   ]
  },
  {
   "cell_type": "code",
   "execution_count": 21,
   "id": "600eb9e5",
   "metadata": {},
   "outputs": [],
   "source": [
    "with open(\"plants_index.html\", \"w\", encoding = \"utf-8\") as f:\n",
    "    f.write(\"<!DOCTYPE html>\\n\")\n",
    "    f.write(\"<html>\\n\")\n",
    "    f.write(\"<head>\\n\")\n",
    "    f.write(\"<title>Title and Description</title>\\n\")\n",
    "    f.write(\"</head>\\n\")\n",
    "    f.write(\"<body>\\n\")\n",
    "\n",
    "    for title, description in data:\n",
    "        f.write(f\"<h1>{title}</h1>\\n\")        \n",
    "        f.write(f\"<p>{description}</p>\\n\")\n",
    "        f.write(\"<hr>\\n\") \n",
    "            \n",
    "    f.write(\"</body>\\n\")\n",
    "    f.write(\"</html>\\n\")"
   ]
  },
  {
   "cell_type": "markdown",
   "id": "026250aa",
   "metadata": {},
   "source": [
    "A ()-ben található részeket emeljük ki."
   ]
  },
  {
   "cell_type": "code",
   "execution_count": 22,
   "id": "be0c71c5",
   "metadata": {},
   "outputs": [],
   "source": [
    "description = description.replace(\"(\", \"<i>(\")\n",
    "description = description.replace(\")\", \")</i>\")"
   ]
  },
  {
   "cell_type": "markdown",
   "id": "23bbeab3",
   "metadata": {},
   "source": [
    "# 3. Marvel karakterek"
   ]
  },
  {
   "cell_type": "code",
   "execution_count": 23,
   "id": "c6686763",
   "metadata": {},
   "outputs": [
    {
     "name": "stdout",
     "output_type": "stream",
     "text": [
      "200\n",
      "Siker!\n"
     ]
    }
   ],
   "source": [
    "url = \"https://en.wikipedia.org/wiki/List_of_Ultimate_Marvel_characters\"\n",
    "\n",
    "response = re.get(url)\n",
    "print(response.status_code)\n",
    "\n",
    "if response.status_code == 200:\n",
    "    print(\"Siker!\")\n",
    "\n",
    "soup = BeautifulSoup(response.text, \"html.parser\")"
   ]
  },
  {
   "cell_type": "code",
   "execution_count": 24,
   "id": "3f4dc067",
   "metadata": {},
   "outputs": [
    {
     "name": "stdout",
     "output_type": "stream",
     "text": [
      "<!DOCTYPE html>\n",
      "\n",
      "<html class=\"client-nojs vector-feature-language-in-header-enabled vector-feature-language-in-main-page-header-disabled vector-feature-sticky-header-disabled vector-feature-page-tools-pinned-disabled vector-feature-toc-pinned-clientpref-1 vector-feature-main-menu-pinned-disabled vector-feature-limited-width-clientpref-1 vector-feature-limited-width-content-enabled vector-feature-custom-font-size-clientpref-0 vector-feature-client-preferences-disabled vector-feature-client-prefs-pinned-clientpref-0 vector-feature-night-mode-disabled skin-theme-clientpref-day vector-toc-not-available\" dir=\"ltr\" lang=\"en\">\n",
      "<head>\n",
      "<meta charset=\"utf-8\"/>\n",
      "<title>List of Ultimate Marvel characters - Wikipedia</title>\n",
      "<script>(function(){var className=\"client-js vector-feature-language-in-header-enabled vector-feature-language-in-main-page-header-disabled vector-feature-sticky-header-disabled vector-feature-page-tools-pinned-disabled vector-feature-toc-pinned-clientpref-1 vector-feature-main-\n"
     ]
    }
   ],
   "source": [
    "printLimited(soup, 1000)"
   ]
  },
  {
   "cell_type": "markdown",
   "id": "c33c1304",
   "metadata": {},
   "source": [
    "## Linkek elkészítése"
   ]
  },
  {
   "cell_type": "code",
   "execution_count": 25,
   "id": "cca9be8d",
   "metadata": {},
   "outputs": [
    {
     "name": "stdout",
     "output_type": "stream",
     "text": [
      "https://en.wikipedia.org/wiki/Ant-Man\n",
      "https://en.wikipedia.org/wiki/Abomination_(comics)#Ultimate\n",
      "https://en.wikipedia.org/wiki/Abraham_Cornelius#Ultimate_Marvel\n",
      "https://en.wikipedia.org/wiki/Abraham_Erskine\n",
      "https://en.wikipedia.org/wiki/Absorbing_Man\n",
      "https://en.wikipedia.org/wiki/Vulture_(Marvel_Comics)#Ultimate_Marvel\n",
      "https://en.wikipedia.org/wiki/Agatha_Harkness#Other_versions\n",
      "https://en.wikipedia.org/wiki/Advanced_Idea_Mechanics#Ultimate_Marvel\n",
      "https://en.wikipedia.org/wiki/Salem%27s_Seven\n",
      "https://en.wikipedia.org/wiki/Amphibian_(comics)\n"
     ]
    }
   ],
   "source": [
    "#mw-content-text > div.mw-content-ltr.mw-parser-output > ul:nth-child(5) > li:nth-child(3) > a\n",
    "\n",
    "characters = soup.select(\"#mw-content-text > div.mw-content-ltr.mw-parser-output > ul > li > a\")\n",
    "#print(characters)\n",
    "\n",
    "links = []\n",
    "for link in characters:\n",
    "    links.append(\"https://en.wikipedia.org\"+link.get('href'))\n",
    "\n",
    "for i in range(0,10):    \n",
    "    print(links[i])"
   ]
  },
  {
   "cell_type": "markdown",
   "id": "31a0832a",
   "metadata": {},
   "source": [
    "## Linkek szűrése és adatgyűjtés\n",
    "\n",
    "Amelyik linkben \"#\" szerepel, az egy gyűjtőlap. Azokat a karaktereket kihagyjuk."
   ]
  },
  {
   "cell_type": "code",
   "execution_count": 26,
   "id": "ff0398e4",
   "metadata": {},
   "outputs": [
    {
     "name": "stdout",
     "output_type": "stream",
     "text": [
      "0. weboldal feldolgozva:\n",
      "Ant-Man\n",
      "Created by Stan Lee, Larry Lieber and Jack Kirby, his first appearance was in Tales to Astonish #27 (January 1962) as Dr. Henry Pym; however, he first appeared in costume as Ant-Man in Tales to Astonish #35 (September 1962). The persona was originated by  the brilliant scientist Hank Pym's superhero alias after inventing a substance that can change size (Pym Particles), but reformed thieves Scott Lang and Eric O'Grady also took on the Ant-Man mantle after the original changed his superhero identity to various other aliases, such as Giant-Man, Goliath, and Yellowjacket. Pym's Ant-Man is also a founding member of the super hero team known as the Avengers. The character has appeared in several films based on the Marvel character, such as Ant-Man (2015), Captain America: Civil War (2016), Ant-Man and the Wasp (2018), Avengers: Endgame (2019), and Ant-Man and the Wasp: Quantumania (2023).\n",
      "\n",
      "1. weboldal feldolgozva:\n",
      "Abomination (character)\n",
      "Debuting in the Silver Age of Comic Books, the character has been featured in other Marvel-endorsed products such as arcade and video games, television series, and merchandise such as action figures and trading cards. Tim Roth portrays Emil Blonsky / Abomination in the live-action Marvel Cinematic Universe (MCU) films The Incredible Hulk (2008) and Shang-Chi and the Legend of the Ten Rings (2021), as well as the Disney+ series She-Hulk: Attorney at Law (2022).\n",
      "\n",
      "2. weboldal feldolgozva:\n",
      "Abraham Cornelius\n",
      "Dr. Abraham Cornelius, one of the senior scientists for Weapon X, is employed by the mysterious Professor Andre Thorton and partnered with a young Dr. Carol Hines. Sometime after World War II, Wolverine is taken in by the project and Cornelius is assigned with the task of perfecting and using a technique that would bond the indestructible alloy adamantium to human bone cells. This adamantium-bonding process was first created by Lord Dark Wind (Lady Deathstrike's father), but is only put into use after being perfected by Cornelius when he succeeds in bonding Logan's skeleton with adamantium, after which Logan is indoctrinated into the Weapon X assassin program.[1]\n",
      "\n",
      "3. weboldal feldolgozva:\n",
      "List of Marvel Comics characters: E\n",
      "When John and his father Bill were investigating a UFO crash site, they discovered a Kree space probe. Upon nearing the ship, the automated defenses activated, and a robotic sentry was released. Bill activated a distress signal which was picked up by Mainframe and the rest of A-Next.\n",
      "\n",
      "4. weboldal feldolgozva:\n",
      "Absorbing Man\n",
      "The Absorbing Man debuted in Journey into Mystery #114 (March 1965), created by Stan Lee and Jack Kirby.[10] He appeared in the 2017 Black Bolt series, by Saladin Ahmed.[11][12]\n",
      "\n",
      "5. weboldal feldolgozva:\n",
      "Vulture (Marvel Comics)\n",
      "The first incarnation of the character, Isidoro Scarlotti, is an Italian scientist and an enemy of the original Human Torch and Toro. The second and most prominent incarnation of the character, Adrian Toomes, is an inventive but maniacal genius who designed his suit and turned to a life of crime, becoming an enemy of Spider-Man and a founding member of the Sinister Six, with later characters to assume the mantle including Blackie Drago, a former cellmate of Toomes, and Clifton Shallot and Jimmy Natale, human/bird hybrids of independent origins. Toomes is later revealed to be the grandfather of the superhero Starling.\n",
      "\n",
      "6. weboldal feldolgozva:\n",
      "Agatha Harkness\n",
      "Agatha Harkness debuted in Fantastic Four #94 (October 1969), created by Stan Lee and Jack Kirby.[7] She appeared in the Avengers Disassembled storyline,[8] in the 2022 Midnight Suns series,[9] and in the 2023 Scarlet Witch Annual series.[10]\n",
      "\n",
      "7. weboldal feldolgozva:\n",
      "Advanced Idea Mechanics\n",
      "Since its original introduction in comics, A.I.M. has been featured in various other Marvel-licensed products including video games and television series. The organization made its live action debut in the Marvel Cinematic Universe film Iron Man 3 (2013), in which it was headed by Aldrich Killian.\n",
      "\n",
      "8. weboldal feldolgozva:\n",
      "Salem's Seven\n",
      "Salem's Seven originated in New Salem, Colorado, a hidden town in an unsettled part of the Rocky Mountains, populated entirely by magic users who mostly lived in fear of normal humanity due to the persecution they faced during the Salem witch trials. Salem's Seven were fathered by Nicholas Scratch with different mothers. Scratch's own mother Agatha Harkness was the most powerful of the town's inhabitants, but she chose to live among humanity. In time, she becomes the governess for Franklin Richards (son of Invisible Woman and Mister Fantastic of the Fantastic Four). Scratch has Salem's Seven abduct Agatha purportedly for betraying the New Salem community. They bring Franklin back with them to give to Scratch a new host-body, which forces the Fantastic Four to pursue. Although initially overcome and imprisoned, the Four defeat their captors, banish Scratch from this dimension, and save Harkness. When Salem's Seven try to retaliate against Harkness later, she removes their ability to change forms.[3]\n",
      "\n",
      "9. weboldal feldolgozva:\n",
      "List of Marvel Comics characters: A\n",
      "Abyss is the name of different characters appearing in American comic books published by Marvel Comics.\n",
      "\n",
      "10. weboldal feldolgozva:\n",
      "Anaconda (character)\n",
      "Anaconda was created by Mark Gruenwald and Ralph Macchio and first appeared in Marvel Two-in-One #64 in June 1980.[2]\n",
      "\n",
      "11. weboldal feldolgozva:\n",
      "Ancient One\n",
      "The Ancient One was created by Stan Lee and Steve Ditko and first appeared in Strange Tales #110 (cover-dated July 1963),[citation needed].[1]\n",
      "\n",
      "12. weboldal feldolgozva:\n",
      "Apocalypse (character)\n",
      "While writing the first five issues of X-Factor, Bob Layton dropped hints of a villain operating behind the scenes and leading the Alliance of Evil (mentioned in X-Factor #4, May 1986). Layton intended to reveal this character to be the Daredevil villain the Owl on the final page of X-Factor #5.[4] However, Layton left the book after writing this issue and was replaced by writer Louise Simonson. Editor Bob Harras said that the character arose because of storytelling needs: \"All I had communicated to Louise was my desire that an A-level, first class character be introduced. I wanted a Magneto-level villain who would up the stakes and give the X-Factor team reason to exist.\"[5]\n",
      "\n",
      "13. weboldal feldolgozva:\n",
      "Arcade (Marvel Comics)\n",
      "Arcade has appeared in a number of other Marvel properties outside of comic books, in X-Men: Evolution voiced by Gabe Khouth, and in the Ultimate Spider-Man animated series voiced by Eric Bauza. The character made his live-action debut in the 20th Century Fox film Deadpool 2 (2018) portrayed by co-writer Paul Wernick. He has also appeared as one of the main villains in a number of video games, including X-Men: Madness in Murderworld, Spider-Man/X-Men: Arcade's Revenge, Marvel: Ultimate Alliance, Spider-Man: Edge of Time and Marvel: Avengers Alliance.\n",
      "\n",
      "14. weboldal feldolgozva:\n",
      "List of Marvel Comics characters: A\n",
      "Abyss is the name of different characters appearing in American comic books published by Marvel Comics.\n",
      "\n"
     ]
    }
   ],
   "source": [
    "for item in range(0,15):        \n",
    "    response = re.get(links[item])\n",
    "    if \"#\" or \"(\" not in response:\n",
    "        soup = BeautifulSoup(response.text, \"html.parser\")\n",
    "        title = soup.select(\"#firstHeading > span.mw-page-title-main\")[0].text\n",
    "        description = soup.find(\"div\", {\"class\": \"mw-content-ltr mw-parser-output\"}).find_all(\"p\")[2].text\n",
    "        print(str(item) + \". weboldal feldolgozva:\")\n",
    "        print(title)\n",
    "        print(description)  \n",
    "        open(\"data_marvel.csv\", \"a\", encoding = \"utf-8\").write(str(title) + ',' + str(description))    \n",
    "    else:\n",
    "        time.sleep(1)"
   ]
  },
  {
   "cell_type": "markdown",
   "id": "a3731cf7",
   "metadata": {},
   "source": []
  }
 ],
 "metadata": {
  "kernelspec": {
   "display_name": "Python 3 (ipykernel)",
   "language": "python",
   "name": "python3"
  },
  "language_info": {
   "codemirror_mode": {
    "name": "ipython",
    "version": 3
   },
   "file_extension": ".py",
   "mimetype": "text/x-python",
   "name": "python",
   "nbconvert_exporter": "python",
   "pygments_lexer": "ipython3",
   "version": "3.12.0"
  }
 },
 "nbformat": 4,
 "nbformat_minor": 5
}
