{
 "cells": [
  {
   "cell_type": "markdown",
   "metadata": {},
   "source": [
    "# Jelmagyarázat\n",
    "\n",
    "\n",
    "```{admonition} Tippek\n",
    ":class: tip\n",
    "Tippek, javaslatok kiemelésére használt.\n",
    "```\n",
    "\n",
    "```{admonition} Tippek, lenyíló\n",
    ":class: tip, dropdown\n",
    "Tippek, javaslatok kiemelésére használt.\n",
    "```\n",
    "\n",
    "```{admonition} Figyelmeztetés megjelenítése\n",
    ":class: warning\n",
    "Figyelmeztetéseket, kiemelten fontos információkat tárol.\n",
    "```\n",
    "\n",
    "```{admonition} Figyelmeztetés, lenyíló\n",
    ":class: warning, dropdown\n",
    "Figyelmeztetéseket, kiemelten fontos információkat tárol.\n",
    "```\n",
    "\n",
    "```{admonition} Megjegyzés megjelenítése\n",
    ":class: note\n",
    "Általános megjegyzések kiemelésére használt.\n",
    "```\n",
    "\n",
    "```{admonition} Megjegyzés megjelenítése, lenyíló\n",
    ":class: note, dropdown\n",
    "Általános megjegyzések kiemelésére használt.\n",
    "```"
   ]
  },
  {
   "cell_type": "markdown",
   "metadata": {
    "vscode": {
     "languageId": "plaintext"
    }
   },
   "source": [
    "## Forráskód elrejtése:\n",
    "\n",
    "```\n",
    "{\n",
    "    \"tags\": [\n",
    "        \"hide-input\",\n",
    "    ]\n",
    "}\n",
    "```"
   ]
  },
  {
   "cell_type": "code",
   "execution_count": 3,
   "metadata": {
    "tags": [
     "hide-input"
    ]
   },
   "outputs": [
    {
     "name": "stdout",
     "output_type": "stream",
     "text": [
      "Itt el van rejtve a forráskód\n"
     ]
    }
   ],
   "source": [
    "print(\"Itt el van rejtve a forráskód.\")"
   ]
  },
  {
   "cell_type": "markdown",
   "metadata": {},
   "source": [
    "## Kimenet elrejtése\n",
    "\n",
    "```\n",
    "{\n",
    "    \"tags\": [\n",
    "        \"hide-output\"\n",
    "    ]\n",
    "}\n",
    "```"
   ]
  },
  {
   "cell_type": "code",
   "execution_count": 4,
   "metadata": {
    "tags": [
     "hide-output"
    ]
   },
   "outputs": [
    {
     "name": "stdout",
     "output_type": "stream",
     "text": [
      "Itt el van rejtve a kimenet.\n"
     ]
    }
   ],
   "source": [
    "print(\"Itt el van rejtve a kimenet.\")"
   ]
  },
  {
   "cell_type": "markdown",
   "metadata": {},
   "source": [
    "## Forráskód és kimenet elrejtése\n",
    "\n",
    "```\n",
    "{\n",
    "    \"tags\": [\n",
    "        \"hide-cell\"\n",
    "    ]\n",
    "}\n",
    "```"
   ]
  },
  {
   "cell_type": "code",
   "execution_count": null,
   "metadata": {
    "tags": [
     "hide-cell"
    ]
   },
   "outputs": [],
   "source": [
    "print(\"Itt el van rejtve a bemenet és kimenet egyaránt.\")"
   ]
  }
 ],
 "metadata": {
  "kernelspec": {
   "display_name": "Python 3",
   "language": "python",
   "name": "python3"
  },
  "language_info": {
   "codemirror_mode": {
    "name": "ipython",
    "version": 3
   },
   "file_extension": ".py",
   "mimetype": "text/x-python",
   "name": "python",
   "nbconvert_exporter": "python",
   "pygments_lexer": "ipython3",
   "version": "3.12.0"
  }
 },
 "nbformat": 4,
 "nbformat_minor": 2
}
